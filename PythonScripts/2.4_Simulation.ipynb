{
 "cells": [
  {
   "cell_type": "code",
   "execution_count": 1,
   "id": "5aa6a643-411f-4e53-a65e-9a4a61f11ace",
   "metadata": {
    "tags": []
   },
   "outputs": [],
   "source": [
    "import copy\n",
    "import random\n",
    "from collections import defaultdict\n",
    "import pandas as pd\n",
    "from src import SRC_DIR"
   ]
  },
  {
   "cell_type": "code",
   "execution_count": 177,
   "id": "52a08b5d-6a88-4125-a95c-5586c2b4c93c",
   "metadata": {
    "tags": []
   },
   "outputs": [],
   "source": [
    "class Resource:\n",
    "    def __init__(self, name: str, capacity: int):\n",
    "        self.name = name\n",
    "        self.capacity = capacity\n",
    "        self.available = capacity\n",
    "        self.free_up_resources = defaultdict(int)\n",
    "\n",
    "\n",
    "\n",
    "class Activity:\n",
    "    def __init__(self, name: str, duration: float, resources: dict):\n",
    "        self.name = name\n",
    "        self.duration = duration\n",
    "        self.resources = resources\n",
    "\n",
    "\n",
    "\n",
    "class Variant:\n",
    "    def __init__(self, name: str, activities: list):\n",
    "        self.name = name\n",
    "        self.activities = activities\n",
    "\n",
    "\n",
    "\n",
    "class Trace:\n",
    "    def __init__(self, variant: Variant, entry_time=0):\n",
    "        self.variant_name = variant.name\n",
    "        self.activities = variant.activities\n",
    "        self.entry_time = entry_time\n",
    "\n",
    "        self.todo_activities = copy.deepcopy(variant.activities)\n",
    "        self.doing_activities = []  # {<activity>, <start_time>, <end_time>}\n",
    "        self.done_activities = [] # {<activity>, <start_time>, <end_time>}\n",
    "        self.start_time = None\n",
    "        self.end_time = None\n",
    "\n",
    "\n",
    "\n",
    "class Simulator:\n",
    "    def __init__(self, traces, resources):\n",
    "        self.current_time = 0\n",
    "        self.traces = [Trace(variant, details['Entry_Time'])\n",
    "                       for variant, details in traces\n",
    "                       for ind in range(details['Count'])]\n",
    "        self.resources = {resource.name: resource for resource in resources}\n",
    "\n",
    "\n",
    "    def update_trace_doing_activities_state(self, trace):\n",
    "        # Update the state of activities being done in the trace\n",
    "        for ind, doing_item in enumerate(trace.doing_activities):\n",
    "            if doing_item['end_time'] == self.current_time:\n",
    "                done_activity = trace.doing_activities.pop(ind)\n",
    "                trace.done_activities.append(done_activity)\n",
    "                if len(trace.todo_activities) == 0 and len(trace.doing_activities) == 0:\n",
    "                    trace.end_time = self.current_time\n",
    "\n",
    "\n",
    "    def free_up_resources(self):\n",
    "        # Free up resources that are no longer in use\n",
    "        for resource_name, resource in self.resources.items():\n",
    "            if self.current_time in resource.free_up_resources.keys():\n",
    "                resource.available += resource.free_up_resources[self.current_time]\n",
    "                resource.free_up_resources.pop(self.current_time)\n",
    "\n",
    "\n",
    "    def allocate_resources(self, activity):\n",
    "        # Check if required resources are available\n",
    "        for resource_name, resource_required in activity.resources.items():\n",
    "            resource = self.resources[resource_name]\n",
    "            if resource.available < resource_required:\n",
    "                return False\n",
    "        # Allocate resources\n",
    "        for resource_name, resource_required in activity.resources.items():\n",
    "            self.resources[resource_name].available -= resource_required\n",
    "            self.resources[resource_name].free_up_resources[self.current_time + activity.duration] += resource_required\n",
    "        return True\n",
    "\n",
    "\n",
    "    def run(self, duration):\n",
    "        while self.current_time < duration:\n",
    "            # Free up resources\n",
    "            self.free_up_resources()\n",
    "\n",
    "            for trace in self.traces:\n",
    "                # Update trace state doing state\n",
    "                self.update_trace_doing_activities_state(trace)\n",
    "\n",
    "                # Pass done traces and the traces that their start data is bigger than current time                \n",
    "                if len(trace.todo_activities) == 0 or len(trace.doing_activities) > 0 or trace.entry_time > self.current_time:\n",
    "                    continue\n",
    "\n",
    "                # Select first activity of trace\n",
    "                activity = trace.todo_activities[0]\n",
    "\n",
    "                # Allocate resources\n",
    "                if not self.allocate_resources(activity):\n",
    "                    continue\n",
    "\n",
    "                # Assign Trace Start Time\n",
    "                if len(trace.doing_activities) == 0 and len(trace.done_activities) == 0:\n",
    "                    trace.start_time = self.current_time\n",
    "\n",
    "                # Moving activity from todo to doing\n",
    "                doing_activity = trace.todo_activities.pop(0)\n",
    "                trace.doing_activities.append({'activity': doing_activity,\n",
    "                                               'start_time': self.current_time,\n",
    "                                               'end_time': self.current_time + activity.duration})\n",
    "\n",
    "            self.current_time += 1\n",
    "\n",
    "\n",
    "    def report_traces(self):\n",
    "        trace_info_list = []\n",
    "        for trace in self.traces:\n",
    "            sum_of_activity = sum(item.duration for item in trace.activities)    \n",
    "            duration = None\n",
    "            waiting_time = None\n",
    "\n",
    "            if trace.end_time:\n",
    "                duration = trace.end_time - trace.start_time\n",
    "                waiting_time = trace.end_time - trace.entry_time - sum_of_activity\n",
    "\n",
    "            trace_info_list.append([trace.variant_name,\n",
    "                                    trace.start_time,\n",
    "                                    trace.end_time,\n",
    "                                    sum_of_activity,\n",
    "                                    duration,\n",
    "                                    waiting_time])\n",
    "\n",
    "        return pd.DataFrame(trace_info_list, columns=['Variant', \n",
    "                                                      'CaseStartTime',\n",
    "                                                      'CaseEndTime',\n",
    "                                                      'TotalDurationOfActivity',\n",
    "                                                      'CaseTotalDuration',\n",
    "                                                      'WaitingTime'])\n",
    "\n",
    "\n",
    "    def create_eventlog(self):\n",
    "        eventlog = []\n",
    "        for case_ind, trace in enumerate(self.traces):\n",
    "            for activity in trace.done_activities:\n",
    "                eventlog.append([f\"Case_{case_ind+1}\",\n",
    "                                 trace.variant_name,\n",
    "                                 trace.start_time,\n",
    "                                 trace.end_time,\n",
    "                                 activity['activity'].name,\n",
    "                                 activity['start_time'],\n",
    "                                 activity['end_time']])\n",
    "\n",
    "        return pd.DataFrame(eventlog, columns=['Case',\n",
    "                                               'Variant', \n",
    "                                               'CaseStartTime',\n",
    "                                               'CaseEndTime',\n",
    "                                               'ActivityName',\n",
    "                                               'ActivityStartTime',\n",
    "                                               'ActivityEndTime'])"
   ]
  },
  {
   "cell_type": "code",
   "execution_count": 178,
   "id": "b32b7659-9fd6-4c4c-8ccc-9f179ac8a5c2",
   "metadata": {
    "tags": []
   },
   "outputs": [],
   "source": [
    "# Define resources\n",
    "resource1 = Resource(\"Resource 1\", 3)\n",
    "resource2 = Resource(\"Resource 2\", 2)\n",
    "resource3 = Resource(\"Resource 3\", 2)\n",
    "resources = {resource1, resource2, resource3}\n",
    "\n",
    "\n",
    "# Define activities\n",
    "activity1 = Activity(\"Activity 1\", 5, {\"Resource 1\": 1})\n",
    "activity2 = Activity(\"Activity 2\", 9, {\"Resource 1\": 1, \"Resource 2\": 2})\n",
    "activity3 = Activity(\"Activity 3\", 7, {\"Resource 2\": 1})\n",
    "activity4 = Activity(\"Activity 4\", 3, {\"Resource 3\": 1})\n",
    "\n",
    "\n",
    "# Define Variants\n",
    "variant1 = Variant(\"Variant 1\", [activity1, activity2, activity3])\n",
    "variant2 = Variant(\"Variant 2\", [activity3, activity2, activity4])\n",
    "variant3 = Variant(\"Variant 3\", [activity4, activity1, activity3, activity2, activity1])\n",
    "\n",
    "\n",
    "# Define Traces\n",
    "traces = [(variant1, {'Count': 10, 'Entry_Time': 0}),\n",
    "          (variant1, {'Count': 100, 'Entry_Time': 100}),\n",
    "          (variant2, {'Count': 20, 'Entry_Time': 10}),\n",
    "          (variant3, {'Count': 15, 'Entry_Time': 5}),\n",
    "         ]\n",
    "\n",
    "\n",
    "# Create and run the simulator\n",
    "simulator = Simulator(traces, resources)\n",
    "simulator.run(duration=1000)"
   ]
  },
  {
   "cell_type": "code",
   "execution_count": null,
   "id": "58f34435-1cf5-45de-a9a8-b29c44d662ed",
   "metadata": {},
   "outputs": [],
   "source": []
  },
  {
   "cell_type": "code",
   "execution_count": null,
   "id": "2cb2c2a3-528e-440d-add0-f0cb7682abaa",
   "metadata": {},
   "outputs": [],
   "source": []
  },
  {
   "cell_type": "code",
   "execution_count": 179,
   "id": "81fe79dc-a5be-4097-a1eb-fe520ba73c3c",
   "metadata": {},
   "outputs": [
    {
     "data": {
      "text/html": [
       "<div>\n",
       "<style scoped>\n",
       "    .dataframe tbody tr th:only-of-type {\n",
       "        vertical-align: middle;\n",
       "    }\n",
       "\n",
       "    .dataframe tbody tr th {\n",
       "        vertical-align: top;\n",
       "    }\n",
       "\n",
       "    .dataframe thead th {\n",
       "        text-align: right;\n",
       "    }\n",
       "</style>\n",
       "<table border=\"1\" class=\"dataframe\">\n",
       "  <thead>\n",
       "    <tr style=\"text-align: right;\">\n",
       "      <th></th>\n",
       "      <th>Variant</th>\n",
       "      <th>CaseStartTime</th>\n",
       "      <th>CaseEndTime</th>\n",
       "      <th>TotalDurationOfActivity</th>\n",
       "      <th>CaseTotalDuration</th>\n",
       "      <th>WaitingTime</th>\n",
       "    </tr>\n",
       "  </thead>\n",
       "  <tbody>\n",
       "    <tr>\n",
       "      <th>0</th>\n",
       "      <td>Variant 1</td>\n",
       "      <td>0</td>\n",
       "      <td>21.0</td>\n",
       "      <td>21</td>\n",
       "      <td>21.0</td>\n",
       "      <td>0.0</td>\n",
       "    </tr>\n",
       "    <tr>\n",
       "      <th>1</th>\n",
       "      <td>Variant 1</td>\n",
       "      <td>0</td>\n",
       "      <td>51.0</td>\n",
       "      <td>21</td>\n",
       "      <td>51.0</td>\n",
       "      <td>30.0</td>\n",
       "    </tr>\n",
       "    <tr>\n",
       "      <th>2</th>\n",
       "      <td>Variant 1</td>\n",
       "      <td>0</td>\n",
       "      <td>67.0</td>\n",
       "      <td>21</td>\n",
       "      <td>67.0</td>\n",
       "      <td>46.0</td>\n",
       "    </tr>\n",
       "    <tr>\n",
       "      <th>3</th>\n",
       "      <td>Variant 1</td>\n",
       "      <td>5</td>\n",
       "      <td>83.0</td>\n",
       "      <td>21</td>\n",
       "      <td>78.0</td>\n",
       "      <td>62.0</td>\n",
       "    </tr>\n",
       "    <tr>\n",
       "      <th>4</th>\n",
       "      <td>Variant 1</td>\n",
       "      <td>5</td>\n",
       "      <td>99.0</td>\n",
       "      <td>21</td>\n",
       "      <td>94.0</td>\n",
       "      <td>78.0</td>\n",
       "    </tr>\n",
       "    <tr>\n",
       "      <th>...</th>\n",
       "      <td>...</td>\n",
       "      <td>...</td>\n",
       "      <td>...</td>\n",
       "      <td>...</td>\n",
       "      <td>...</td>\n",
       "      <td>...</td>\n",
       "    </tr>\n",
       "    <tr>\n",
       "      <th>140</th>\n",
       "      <td>Variant 3</td>\n",
       "      <td>20</td>\n",
       "      <td>NaN</td>\n",
       "      <td>29</td>\n",
       "      <td>NaN</td>\n",
       "      <td>NaN</td>\n",
       "    </tr>\n",
       "    <tr>\n",
       "      <th>141</th>\n",
       "      <td>Variant 3</td>\n",
       "      <td>20</td>\n",
       "      <td>NaN</td>\n",
       "      <td>29</td>\n",
       "      <td>NaN</td>\n",
       "      <td>NaN</td>\n",
       "    </tr>\n",
       "    <tr>\n",
       "      <th>142</th>\n",
       "      <td>Variant 3</td>\n",
       "      <td>23</td>\n",
       "      <td>NaN</td>\n",
       "      <td>29</td>\n",
       "      <td>NaN</td>\n",
       "      <td>NaN</td>\n",
       "    </tr>\n",
       "    <tr>\n",
       "      <th>143</th>\n",
       "      <td>Variant 3</td>\n",
       "      <td>23</td>\n",
       "      <td>NaN</td>\n",
       "      <td>29</td>\n",
       "      <td>NaN</td>\n",
       "      <td>NaN</td>\n",
       "    </tr>\n",
       "    <tr>\n",
       "      <th>144</th>\n",
       "      <td>Variant 3</td>\n",
       "      <td>26</td>\n",
       "      <td>NaN</td>\n",
       "      <td>29</td>\n",
       "      <td>NaN</td>\n",
       "      <td>NaN</td>\n",
       "    </tr>\n",
       "  </tbody>\n",
       "</table>\n",
       "<p>145 rows × 6 columns</p>\n",
       "</div>"
      ],
      "text/plain": [
       "       Variant  CaseStartTime  CaseEndTime  TotalDurationOfActivity  \\\n",
       "0    Variant 1              0         21.0                       21   \n",
       "1    Variant 1              0         51.0                       21   \n",
       "2    Variant 1              0         67.0                       21   \n",
       "3    Variant 1              5         83.0                       21   \n",
       "4    Variant 1              5         99.0                       21   \n",
       "..         ...            ...          ...                      ...   \n",
       "140  Variant 3             20          NaN                       29   \n",
       "141  Variant 3             20          NaN                       29   \n",
       "142  Variant 3             23          NaN                       29   \n",
       "143  Variant 3             23          NaN                       29   \n",
       "144  Variant 3             26          NaN                       29   \n",
       "\n",
       "     CaseTotalDuration  WaitingTime  \n",
       "0                 21.0          0.0  \n",
       "1                 51.0         30.0  \n",
       "2                 67.0         46.0  \n",
       "3                 78.0         62.0  \n",
       "4                 94.0         78.0  \n",
       "..                 ...          ...  \n",
       "140                NaN          NaN  \n",
       "141                NaN          NaN  \n",
       "142                NaN          NaN  \n",
       "143                NaN          NaN  \n",
       "144                NaN          NaN  \n",
       "\n",
       "[145 rows x 6 columns]"
      ]
     },
     "execution_count": 179,
     "metadata": {},
     "output_type": "execute_result"
    }
   ],
   "source": [
    "simulator.report_traces()"
   ]
  },
  {
   "cell_type": "code",
   "execution_count": 180,
   "id": "83d348b6-c801-4432-9269-e363edc5178f",
   "metadata": {
    "tags": []
   },
   "outputs": [
    {
     "data": {
      "text/html": [
       "<div>\n",
       "<style scoped>\n",
       "    .dataframe tbody tr th:only-of-type {\n",
       "        vertical-align: middle;\n",
       "    }\n",
       "\n",
       "    .dataframe tbody tr th {\n",
       "        vertical-align: top;\n",
       "    }\n",
       "\n",
       "    .dataframe thead th {\n",
       "        text-align: right;\n",
       "    }\n",
       "</style>\n",
       "<table border=\"1\" class=\"dataframe\">\n",
       "  <thead>\n",
       "    <tr style=\"text-align: right;\">\n",
       "      <th></th>\n",
       "      <th>Case</th>\n",
       "      <th>Variant</th>\n",
       "      <th>CaseStartTime</th>\n",
       "      <th>CaseEndTime</th>\n",
       "      <th>ActivityName</th>\n",
       "      <th>ActivityStartTime</th>\n",
       "      <th>ActivityEndTime</th>\n",
       "    </tr>\n",
       "  </thead>\n",
       "  <tbody>\n",
       "    <tr>\n",
       "      <th>0</th>\n",
       "      <td>Case_1</td>\n",
       "      <td>Variant 1</td>\n",
       "      <td>0</td>\n",
       "      <td>21.0</td>\n",
       "      <td>Activity 1</td>\n",
       "      <td>0</td>\n",
       "      <td>5</td>\n",
       "    </tr>\n",
       "    <tr>\n",
       "      <th>1</th>\n",
       "      <td>Case_1</td>\n",
       "      <td>Variant 1</td>\n",
       "      <td>0</td>\n",
       "      <td>21.0</td>\n",
       "      <td>Activity 2</td>\n",
       "      <td>5</td>\n",
       "      <td>14</td>\n",
       "    </tr>\n",
       "    <tr>\n",
       "      <th>2</th>\n",
       "      <td>Case_1</td>\n",
       "      <td>Variant 1</td>\n",
       "      <td>0</td>\n",
       "      <td>21.0</td>\n",
       "      <td>Activity 3</td>\n",
       "      <td>14</td>\n",
       "      <td>21</td>\n",
       "    </tr>\n",
       "    <tr>\n",
       "      <th>3</th>\n",
       "      <td>Case_2</td>\n",
       "      <td>Variant 1</td>\n",
       "      <td>0</td>\n",
       "      <td>51.0</td>\n",
       "      <td>Activity 1</td>\n",
       "      <td>0</td>\n",
       "      <td>5</td>\n",
       "    </tr>\n",
       "    <tr>\n",
       "      <th>4</th>\n",
       "      <td>Case_2</td>\n",
       "      <td>Variant 1</td>\n",
       "      <td>0</td>\n",
       "      <td>51.0</td>\n",
       "      <td>Activity 2</td>\n",
       "      <td>35</td>\n",
       "      <td>44</td>\n",
       "    </tr>\n",
       "    <tr>\n",
       "      <th>...</th>\n",
       "      <td>...</td>\n",
       "      <td>...</td>\n",
       "      <td>...</td>\n",
       "      <td>...</td>\n",
       "      <td>...</td>\n",
       "      <td>...</td>\n",
       "      <td>...</td>\n",
       "    </tr>\n",
       "    <tr>\n",
       "      <th>288</th>\n",
       "      <td>Case_144</td>\n",
       "      <td>Variant 3</td>\n",
       "      <td>23</td>\n",
       "      <td>NaN</td>\n",
       "      <td>Activity 1</td>\n",
       "      <td>44</td>\n",
       "      <td>49</td>\n",
       "    </tr>\n",
       "    <tr>\n",
       "      <th>289</th>\n",
       "      <td>Case_144</td>\n",
       "      <td>Variant 3</td>\n",
       "      <td>23</td>\n",
       "      <td>NaN</td>\n",
       "      <td>Activity 3</td>\n",
       "      <td>392</td>\n",
       "      <td>399</td>\n",
       "    </tr>\n",
       "    <tr>\n",
       "      <th>290</th>\n",
       "      <td>Case_145</td>\n",
       "      <td>Variant 3</td>\n",
       "      <td>26</td>\n",
       "      <td>NaN</td>\n",
       "      <td>Activity 4</td>\n",
       "      <td>26</td>\n",
       "      <td>29</td>\n",
       "    </tr>\n",
       "    <tr>\n",
       "      <th>291</th>\n",
       "      <td>Case_145</td>\n",
       "      <td>Variant 3</td>\n",
       "      <td>26</td>\n",
       "      <td>NaN</td>\n",
       "      <td>Activity 1</td>\n",
       "      <td>44</td>\n",
       "      <td>49</td>\n",
       "    </tr>\n",
       "    <tr>\n",
       "      <th>292</th>\n",
       "      <td>Case_145</td>\n",
       "      <td>Variant 3</td>\n",
       "      <td>26</td>\n",
       "      <td>NaN</td>\n",
       "      <td>Activity 3</td>\n",
       "      <td>408</td>\n",
       "      <td>415</td>\n",
       "    </tr>\n",
       "  </tbody>\n",
       "</table>\n",
       "<p>293 rows × 7 columns</p>\n",
       "</div>"
      ],
      "text/plain": [
       "         Case    Variant  CaseStartTime  CaseEndTime ActivityName  \\\n",
       "0      Case_1  Variant 1              0         21.0   Activity 1   \n",
       "1      Case_1  Variant 1              0         21.0   Activity 2   \n",
       "2      Case_1  Variant 1              0         21.0   Activity 3   \n",
       "3      Case_2  Variant 1              0         51.0   Activity 1   \n",
       "4      Case_2  Variant 1              0         51.0   Activity 2   \n",
       "..        ...        ...            ...          ...          ...   \n",
       "288  Case_144  Variant 3             23          NaN   Activity 1   \n",
       "289  Case_144  Variant 3             23          NaN   Activity 3   \n",
       "290  Case_145  Variant 3             26          NaN   Activity 4   \n",
       "291  Case_145  Variant 3             26          NaN   Activity 1   \n",
       "292  Case_145  Variant 3             26          NaN   Activity 3   \n",
       "\n",
       "     ActivityStartTime  ActivityEndTime  \n",
       "0                    0                5  \n",
       "1                    5               14  \n",
       "2                   14               21  \n",
       "3                    0                5  \n",
       "4                   35               44  \n",
       "..                 ...              ...  \n",
       "288                 44               49  \n",
       "289                392              399  \n",
       "290                 26               29  \n",
       "291                 44               49  \n",
       "292                408              415  \n",
       "\n",
       "[293 rows x 7 columns]"
      ]
     },
     "execution_count": 180,
     "metadata": {},
     "output_type": "execute_result"
    }
   ],
   "source": [
    "event_log = simulator.create_eventlog()\n",
    "event_log"
   ]
  },
  {
   "cell_type": "code",
   "execution_count": null,
   "id": "8b1c43eb-14ae-4713-839a-9ab07a6b4063",
   "metadata": {},
   "outputs": [],
   "source": []
  },
  {
   "cell_type": "code",
   "execution_count": 6,
   "id": "80220abc-0cb3-43f3-9304-1af6f1615042",
   "metadata": {
    "tags": []
   },
   "outputs": [],
   "source": [
    "a = [[1, 5], 2]\n",
    "b = a"
   ]
  },
  {
   "cell_type": "code",
   "execution_count": 7,
   "id": "52eda747-61f3-4393-a99e-5602c4e53bc3",
   "metadata": {
    "tags": []
   },
   "outputs": [
    {
     "data": {
      "text/plain": [
       "[[1, 5], 2]"
      ]
     },
     "execution_count": 7,
     "metadata": {},
     "output_type": "execute_result"
    }
   ],
   "source": [
    "a"
   ]
  },
  {
   "cell_type": "code",
   "execution_count": 8,
   "id": "8c5ffc42-89d5-4b1d-8602-8136e79f18ee",
   "metadata": {},
   "outputs": [
    {
     "data": {
      "text/plain": [
       "[[1, 5], 2]"
      ]
     },
     "execution_count": 8,
     "metadata": {},
     "output_type": "execute_result"
    }
   ],
   "source": [
    "b"
   ]
  },
  {
   "cell_type": "code",
   "execution_count": 9,
   "id": "c594bad6-ac3f-4b1f-b0db-86e01e3b9891",
   "metadata": {},
   "outputs": [],
   "source": [
    "b[0].append(9)"
   ]
  },
  {
   "cell_type": "code",
   "execution_count": 10,
   "id": "60abff75-6eda-4058-a638-e0c0f9d33f72",
   "metadata": {},
   "outputs": [
    {
     "ename": "SyntaxError",
     "evalue": "illegal target for annotation (685239748.py, line 7)",
     "output_type": "error",
     "traceback": [
      "\u001b[0;36m  Cell \u001b[0;32mIn[10], line 7\u001b[0;36m\u001b[0m\n\u001b[0;31m    pd.DataFrame(): mutable\u001b[0m\n\u001b[0m    ^\u001b[0m\n\u001b[0;31mSyntaxError\u001b[0m\u001b[0;31m:\u001b[0m illegal target for annotation\n"
     ]
    }
   ],
   "source": [
    "list: mutable\n",
    "tuple: immutable\n",
    "dictionay: mutable\n",
    "set: mutable\n",
    "sting: immutable\n",
    "\n",
    "pd.DataFrame(): mutable\n"
   ]
  },
  {
   "cell_type": "code",
   "execution_count": null,
   "id": "be88d83b-85b4-4dc0-b458-bb9808ad2f1b",
   "metadata": {},
   "outputs": [],
   "source": []
  },
  {
   "cell_type": "code",
   "execution_count": null,
   "id": "e5edf148-ffff-410c-b895-805707955d9e",
   "metadata": {},
   "outputs": [],
   "source": [
    "class MyClass:\n",
    "    def __init__(self):\n",
    "        pass\n",
    "\n",
    "\n",
    "    def __len__(self):\n",
    "        print('AAAAAAA')\n",
    "        return 1\n",
    "\n",
    "\n",
    "    def __enter__():\n",
    "\n",
    "\n",
    "    def __exit__():\n",
    "\n",
    "\n",
    "    def __iter__():\n",
    "        "
   ]
  },
  {
   "cell_type": "code",
   "execution_count": null,
   "id": "ba60254c-d7f8-4823-89c3-feaa49c698a3",
   "metadata": {},
   "outputs": [],
   "source": [
    "instance1 = MyClass()"
   ]
  },
  {
   "cell_type": "code",
   "execution_count": null,
   "id": "05707af4-2b59-42c0-8f00-a217979067e5",
   "metadata": {},
   "outputs": [],
   "source": [
    "len(instance1)"
   ]
  },
  {
   "cell_type": "code",
   "execution_count": null,
   "id": "9ae952c1-2670-4efb-a5d6-2fd178c11255",
   "metadata": {},
   "outputs": [],
   "source": [
    "with pd.read_csv() as a:\n",
    "    "
   ]
  },
  {
   "cell_type": "code",
   "execution_count": null,
   "id": "7025da74-65e9-4fc7-abfc-471058867930",
   "metadata": {},
   "outputs": [],
   "source": [
    "a[0]"
   ]
  },
  {
   "cell_type": "code",
   "execution_count": null,
   "id": "7f231667-10d8-4edd-bbeb-44099c033341",
   "metadata": {
    "tags": []
   },
   "outputs": [],
   "source": [
    "class Student:\n",
    "    def __init__(self, name, fname, national_code, age, gender, city):\n",
    "        self.name = name\n",
    "        self.fname = fname\n",
    "        self.national_code = national_code\n",
    "        self.age = age\n",
    "        self.gender = gender\n",
    "        self.city = city\n",
    "\n",
    "\n",
    "    def calculate_grade(self):\n",
    "        print('Salam')\n",
    "\n",
    "\n",
    "    def say_hello():\n",
    "        print('Salam')"
   ]
  },
  {
   "cell_type": "code",
   "execution_count": null,
   "id": "5d8e2c94-650d-4f33-afd8-4cadb64213bc",
   "metadata": {
    "tags": []
   },
   "outputs": [],
   "source": [
    "student_1 = Student(name='Kourosh',\n",
    "                    fname='Hasani',\n",
    "                    national_code=615646561616,\n",
    "                    age=25,\n",
    "                    gender='male',\n",
    "                    city='Tehran'\n",
    "                    )"
   ]
  },
  {
   "cell_type": "code",
   "execution_count": null,
   "id": "1cbb11c4-5bb4-4eab-8b00-fb291056bed4",
   "metadata": {
    "tags": []
   },
   "outputs": [],
   "source": [
    "student_1.fname"
   ]
  },
  {
   "cell_type": "code",
   "execution_count": null,
   "id": "1d0a664e-3cbc-4522-a53d-533929502926",
   "metadata": {},
   "outputs": [],
   "source": []
  },
  {
   "cell_type": "code",
   "execution_count": null,
   "id": "608dfd9a-d358-484d-b457-8fb4e35f9911",
   "metadata": {},
   "outputs": [],
   "source": [
    "def calculate_sum(a, b, c):\n",
    "    print(a)\n",
    "    print(b)\n",
    "    print(c)"
   ]
  },
  {
   "cell_type": "code",
   "execution_count": null,
   "id": "52bbe836-d2f7-45c8-9873-a5be59646e9f",
   "metadata": {
    "tags": []
   },
   "outputs": [],
   "source": [
    "lst = [1, 2, 3]"
   ]
  },
  {
   "cell_type": "code",
   "execution_count": null,
   "id": "54c0cec3-ab24-4084-9a7d-c5538cbb54a3",
   "metadata": {
    "tags": []
   },
   "outputs": [],
   "source": [
    "calculate_sum(*lst)"
   ]
  },
  {
   "cell_type": "code",
   "execution_count": null,
   "id": "e11ed222-c2ce-44bd-8772-850b4a9b15c0",
   "metadata": {},
   "outputs": [],
   "source": [
    "df.groupby('case').agg(\n",
    "    \n",
    ")"
   ]
  },
  {
   "cell_type": "code",
   "execution_count": null,
   "id": "58440968-beb0-4928-b4aa-0b2a6b2cf606",
   "metadata": {},
   "outputs": [],
   "source": []
  },
  {
   "cell_type": "code",
   "execution_count": null,
   "id": "3ae6b810-7b41-4e4f-9774-d55c4d7daf40",
   "metadata": {},
   "outputs": [],
   "source": []
  },
  {
   "cell_type": "code",
   "execution_count": null,
   "id": "7c0f683a-c8b7-4f13-87ef-8dd981553c0e",
   "metadata": {},
   "outputs": [],
   "source": []
  },
  {
   "cell_type": "code",
   "execution_count": null,
   "id": "868d12db-2c72-41eb-a837-9a9d82ba3d71",
   "metadata": {},
   "outputs": [],
   "source": []
  },
  {
   "cell_type": "code",
   "execution_count": null,
   "id": "9f379481-bebb-4cc2-a6a8-3c6bdf5b78c4",
   "metadata": {},
   "outputs": [],
   "source": []
  },
  {
   "cell_type": "code",
   "execution_count": null,
   "id": "7d0e63a3-d65e-46a7-b721-91f37ff8e978",
   "metadata": {
    "tags": []
   },
   "outputs": [],
   "source": [
    "student_1.calculate_grade()    ~     Student.calculate_grade(student_1)"
   ]
  },
  {
   "cell_type": "code",
   "execution_count": null,
   "id": "3328584a-17cb-48eb-b6b2-3e4f1cef7f37",
   "metadata": {
    "tags": []
   },
   "outputs": [],
   "source": [
    "Student.say_hello()"
   ]
  },
  {
   "cell_type": "code",
   "execution_count": null,
   "id": "8cd23991-c99e-48af-9ea6-b30c86145e8d",
   "metadata": {},
   "outputs": [],
   "source": [
    "def func(a):\n",
    "    pass"
   ]
  },
  {
   "cell_type": "code",
   "execution_count": null,
   "id": "3b093e4e-1346-4ab7-823a-5c8a76852869",
   "metadata": {},
   "outputs": [],
   "source": [
    "func()"
   ]
  },
  {
   "cell_type": "code",
   "execution_count": null,
   "id": "5b253bb4-1f31-44ad-903b-de64a7bf9e53",
   "metadata": {},
   "outputs": [],
   "source": []
  },
  {
   "cell_type": "code",
   "execution_count": null,
   "id": "ad85dfc4-0068-4b77-9081-6065c7ea7763",
   "metadata": {},
   "outputs": [],
   "source": [
    "student_1   ->   (name, fmaily_name, national_code, age, gender, city, grade, ...)\n",
    "student_2   ->   (name, fmaily_name, national_code, age, gender, city, grade, ...)\n",
    "student_3   ->   (name, fmaily_name, national_code, age, gender, city, grade, ...)\n",
    "student_4   ->   (name, fmaily_name, national_code, age, gender, city, grade, ...)\n",
    "student_5   ->   (name, fmaily_name, national_code, age, gender, city, grade, ...)\n",
    "..."
   ]
  },
  {
   "cell_type": "code",
   "execution_count": null,
   "id": "63bf9995-c2ad-4ec0-962e-c25a165c517d",
   "metadata": {
    "tags": []
   },
   "outputs": [],
   "source": [
    "class Student:\n",
    "    def __init__(self, name, family_name, national_code, age):\n",
    "        self.name = name\n",
    "        self.family_name = family_name\n",
    "        self.national_code = national_code\n",
    "        self.age = age\n",
    "        \n",
    "        \n",
    "    def say_hello(self):\n",
    "        print('Hellooo')\n",
    "        \n",
    "        \n",
    "    def func():\n",
    "        pass"
   ]
  },
  {
   "cell_type": "code",
   "execution_count": null,
   "id": "e229a302-7f09-43cc-aec2-5ed870d6f6ae",
   "metadata": {
    "tags": []
   },
   "outputs": [],
   "source": [
    "student = Student(name='Kourosh', family_name='Hasani', national_code=\"00000000000\", age=30)"
   ]
  },
  {
   "cell_type": "code",
   "execution_count": null,
   "id": "22982563-e729-4082-b9aa-1d10719c53ea",
   "metadata": {
    "tags": []
   },
   "outputs": [],
   "source": [
    "student.national_code"
   ]
  },
  {
   "cell_type": "code",
   "execution_count": null,
   "id": "c7c5ada9-fbf5-4839-8e85-772754b5cd1e",
   "metadata": {
    "tags": []
   },
   "outputs": [],
   "source": [
    "student.say_hello() #     ~      Student.say_hello(student)"
   ]
  },
  {
   "cell_type": "code",
   "execution_count": null,
   "id": "54552af2-0d0d-4e15-89bf-57c82446eabd",
   "metadata": {
    "tags": []
   },
   "outputs": [],
   "source": [
    "Student.func()"
   ]
  },
  {
   "cell_type": "code",
   "execution_count": null,
   "id": "8b7eed9e-55c9-42b3-8d8f-2e8dee04f2d6",
   "metadata": {},
   "outputs": [],
   "source": []
  },
  {
   "cell_type": "code",
   "execution_count": null,
   "id": "a9ad16a3-c80c-4779-ba36-7f0869611247",
   "metadata": {},
   "outputs": [],
   "source": []
  },
  {
   "cell_type": "code",
   "execution_count": null,
   "id": "b83d46d9-20f2-4169-b8a4-60e254f2deb8",
   "metadata": {
    "tags": []
   },
   "outputs": [],
   "source": [
    "import pandas as pd"
   ]
  },
  {
   "cell_type": "code",
   "execution_count": null,
   "id": "620dfa88-4ec0-4f99-8cf9-599740060431",
   "metadata": {
    "tags": []
   },
   "outputs": [],
   "source": [
    "df = pd.DataFrame([])\n",
    "df1 = pd.DataFrame([])\n",
    "df2 = pd.DataFrame([])"
   ]
  },
  {
   "cell_type": "code",
   "execution_count": null,
   "id": "5dd4db3d-9245-44c0-a2f1-71f82b143a1c",
   "metadata": {},
   "outputs": [],
   "source": [
    "class Student:\n",
    "    def __init__(self, name, last_name, national_code, age, gender):\n",
    "        self.name = name\n",
    "        self.last_name = last_name\n",
    "        self.national_code = national_code\n",
    "        self.age = age\n",
    "        self.gender = gender\n",
    "        self.course = {}\n",
    "\n",
    "\n",
    "    def set_grade(self, course_name, grade):\n",
    "        self.course[course_name] = grade\n",
    "        print(f\"Course: {course_name}    -   Grade: {grade}\")\n",
    "        Student.graduate()\n",
    "\n",
    "\n",
    "    def __str__(self):\n",
    "        return f\"Name: {self.name}  -  Last Name: {self.last_name}  -  National Code: {self.national_code}\"\n",
    "\n",
    "\n",
    "    def __call__(self):\n",
    "        print(f\"Name: {self.name}  -  Last Name: {self.last_name}  -  National Code: {self.national_code}\")\n",
    "\n",
    "\n",
    "    def __truediv__(self, x):\n",
    "        return self.name + '_' + x.name"
   ]
  },
  {
   "cell_type": "code",
   "execution_count": null,
   "id": "b158da9b-da92-4ac4-a660-7757020a80ce",
   "metadata": {},
   "outputs": [],
   "source": []
  },
  {
   "cell_type": "code",
   "execution_count": null,
   "id": "ede5a47f-a0e4-47ff-ad87-f8ac3a8bd711",
   "metadata": {},
   "outputs": [],
   "source": []
  },
  {
   "cell_type": "code",
   "execution_count": 121,
   "id": "4be789dc-8d08-43ed-ac9f-a27d84866a72",
   "metadata": {},
   "outputs": [],
   "source": [
    "class Student:\n",
    "    def __init__(self, name, last_name):\n",
    "        self.name = name\n",
    "        self.last_name = last_name\n",
    "\n",
    "\n",
    "    def say_hello():\n",
    "        print('Hello')\n",
    "\n",
    "\n",
    "    def greeting(self):\n",
    "        Student.say_hello()\n",
    "        print(f\"My name is {self.name} {self.last_name}\")\n",
    "\n",
    "\n",
    "    def __str__(self):\n",
    "        return f\"My name is {self.name} {self.last_name}\"\n",
    "\n",
    "\n",
    "    def __len__(self):\n",
    "        return len(self.name)\n",
    "\n",
    "\n",
    "    def __call__(self):\n",
    "        print(f\"My name is {self.name} {self.last_name}\")\n",
    "\n",
    "\n",
    "    def __getitem__(self, x):\n",
    "        return self.name[x]"
   ]
  },
  {
   "cell_type": "code",
   "execution_count": 122,
   "id": "efabb8e9-c46b-4309-b939-32e88e5f3166",
   "metadata": {},
   "outputs": [
    {
     "data": {
      "text/plain": [
       "'u'"
      ]
     },
     "execution_count": 122,
     "metadata": {},
     "output_type": "execute_result"
    }
   ],
   "source": [
    "student1 = Student('Kourosh', 'Hasani')\n",
    "student2 = Student('Ali', 'Ziaei')\n",
    "\n",
    "student1[2]"
   ]
  },
  {
   "cell_type": "code",
   "execution_count": 123,
   "id": "0221a3c0-5d27-4b49-bc88-e6bb4bd75bc3",
   "metadata": {},
   "outputs": [
    {
     "data": {
      "text/plain": [
       "139793333093280"
      ]
     },
     "execution_count": 123,
     "metadata": {},
     "output_type": "execute_result"
    }
   ],
   "source": [
    "id(student1)"
   ]
  },
  {
   "cell_type": "code",
   "execution_count": 125,
   "id": "dc5d858d-dcc0-4bca-925f-aee17db56e9a",
   "metadata": {},
   "outputs": [
    {
     "data": {
      "text/plain": [
       "139793333092208"
      ]
     },
     "execution_count": 125,
     "metadata": {},
     "output_type": "execute_result"
    }
   ],
   "source": [
    "id(student2)"
   ]
  },
  {
   "cell_type": "code",
   "execution_count": null,
   "id": "63d7e2f4-5e6d-40a2-b3ab-90c43b599c6f",
   "metadata": {},
   "outputs": [],
   "source": []
  },
  {
   "cell_type": "code",
   "execution_count": 105,
   "id": "fa87f222-d5b7-409a-a665-abf128b88c27",
   "metadata": {},
   "outputs": [
    {
     "data": {
      "text/plain": [
       "19"
      ]
     },
     "execution_count": 105,
     "metadata": {},
     "output_type": "execute_result"
    }
   ],
   "source": [
    "len(student1)"
   ]
  },
  {
   "cell_type": "code",
   "execution_count": 106,
   "id": "0610523f-d768-40c4-a44f-1dec2ced6ab1",
   "metadata": {},
   "outputs": [
    {
     "name": "stdout",
     "output_type": "stream",
     "text": [
      "My name is Kouroshasdfasdfasdf Hasani\n"
     ]
    }
   ],
   "source": [
    "student1()"
   ]
  },
  {
   "cell_type": "code",
   "execution_count": null,
   "id": "a3392a17-b584-4d1c-8037-1f62370a4a67",
   "metadata": {},
   "outputs": [],
   "source": []
  },
  {
   "cell_type": "code",
   "execution_count": null,
   "id": "7dee3b5b-3ac4-4a06-81be-f9018e93a137",
   "metadata": {},
   "outputs": [],
   "source": []
  },
  {
   "cell_type": "code",
   "execution_count": null,
   "id": "38b306fd-2a87-4e1d-aaa0-de5afb8e7fc4",
   "metadata": {},
   "outputs": [],
   "source": []
  },
  {
   "cell_type": "code",
   "execution_count": null,
   "id": "57ac3ca7-cbc4-4646-b0b3-ddf90ca43c20",
   "metadata": {},
   "outputs": [],
   "source": []
  },
  {
   "cell_type": "code",
   "execution_count": 209,
   "id": "8fcd43c6-4257-4410-bdb8-fb38ea0b58db",
   "metadata": {},
   "outputs": [],
   "source": [
    "a = (1, 2, 3)\n",
    "b = a"
   ]
  },
  {
   "cell_type": "code",
   "execution_count": 210,
   "id": "9a8fb2b1-8846-46fb-9d0c-174a75830d43",
   "metadata": {},
   "outputs": [
    {
     "ename": "AttributeError",
     "evalue": "'tuple' object has no attribute 'append'",
     "output_type": "error",
     "traceback": [
      "\u001b[0;31m---------------------------------------------------------------------------\u001b[0m",
      "\u001b[0;31mAttributeError\u001b[0m                            Traceback (most recent call last)",
      "Cell \u001b[0;32mIn[210], line 1\u001b[0m\n\u001b[0;32m----> 1\u001b[0m \u001b[43mb\u001b[49m\u001b[38;5;241;43m.\u001b[39;49m\u001b[43mappend\u001b[49m(\u001b[38;5;241m4\u001b[39m)\n",
      "\u001b[0;31mAttributeError\u001b[0m: 'tuple' object has no attribute 'append'"
     ]
    }
   ],
   "source": [
    "b.append(4)"
   ]
  },
  {
   "cell_type": "code",
   "execution_count": 212,
   "id": "5ce83cae-0d33-4be5-b784-6b0abaf8cc12",
   "metadata": {},
   "outputs": [
    {
     "ename": "TypeError",
     "evalue": "unhashable type: 'list'",
     "output_type": "error",
     "traceback": [
      "\u001b[0;31m---------------------------------------------------------------------------\u001b[0m",
      "\u001b[0;31mTypeError\u001b[0m                                 Traceback (most recent call last)",
      "Cell \u001b[0;32mIn[212], line 1\u001b[0m\n\u001b[0;32m----> 1\u001b[0m \u001b[38;5;28;43mhash\u001b[39;49m\u001b[43m(\u001b[49m\u001b[43m[\u001b[49m\u001b[38;5;241;43m1\u001b[39;49m\u001b[43m,\u001b[49m\u001b[43m \u001b[49m\u001b[38;5;241;43m2\u001b[39;49m\u001b[43m]\u001b[49m\u001b[43m)\u001b[49m\n",
      "\u001b[0;31mTypeError\u001b[0m: unhashable type: 'list'"
     ]
    }
   ],
   "source": [
    "hash([1, 2])"
   ]
  },
  {
   "cell_type": "code",
   "execution_count": 213,
   "id": "cf24d508-8809-4b8c-b977-081fad4b048e",
   "metadata": {},
   "outputs": [
    {
     "data": {
      "text/plain": [
       "5"
      ]
     },
     "execution_count": 213,
     "metadata": {},
     "output_type": "execute_result"
    }
   ],
   "source": [
    "2 + 3"
   ]
  },
  {
   "cell_type": "code",
   "execution_count": 230,
   "id": "665e436d-3c21-4372-babc-7b360b5f91ba",
   "metadata": {},
   "outputs": [],
   "source": [
    "lst = [str(item) for item in range(10000000)]"
   ]
  },
  {
   "cell_type": "code",
   "execution_count": 235,
   "id": "91ae25e6-de04-458b-b925-aa6366c289af",
   "metadata": {},
   "outputs": [],
   "source": [
    "my_set = {str(item): item for item in range(10000000)}"
   ]
  },
  {
   "cell_type": "code",
   "execution_count": 233,
   "id": "c3632eac-e8e6-44ed-bdae-e02d8fa9e0a5",
   "metadata": {},
   "outputs": [
    {
     "name": "stdout",
     "output_type": "stream",
     "text": [
      "61.7 ms ± 920 μs per loop (mean ± std. dev. of 7 runs, 10 loops each)\n"
     ]
    }
   ],
   "source": [
    "%%timeit\n",
    "\"5564484\" in lst"
   ]
  },
  {
   "cell_type": "code",
   "execution_count": 236,
   "id": "98df4bcb-e97d-474e-847b-6be32c2645b0",
   "metadata": {},
   "outputs": [
    {
     "name": "stdout",
     "output_type": "stream",
     "text": [
      "25.6 ns ± 0.969 ns per loop (mean ± std. dev. of 7 runs, 10,000,000 loops each)\n"
     ]
    }
   ],
   "source": [
    "%%timeit\n",
    "\"5564484\" in my_set"
   ]
  },
  {
   "cell_type": "code",
   "execution_count": null,
   "id": "cc091ab9-abaa-4373-a6ce-bf35faa2405f",
   "metadata": {},
   "outputs": [],
   "source": [
    "mutable   ->   unhashable"
   ]
  },
  {
   "cell_type": "code",
   "execution_count": 243,
   "id": "9e4f463b-13c2-4058-9b35-ef8c0bf6bb96",
   "metadata": {},
   "outputs": [
    {
     "ename": "TypeError",
     "evalue": "unhashable type: 'set'",
     "output_type": "error",
     "traceback": [
      "\u001b[0;31m---------------------------------------------------------------------------\u001b[0m",
      "\u001b[0;31mTypeError\u001b[0m                                 Traceback (most recent call last)",
      "Cell \u001b[0;32mIn[243], line 1\u001b[0m\n\u001b[0;32m----> 1\u001b[0m {\n\u001b[1;32m      2\u001b[0m     {\u001b[38;5;241m5\u001b[39m, \u001b[38;5;241m6\u001b[39m}: \u001b[38;5;241m5\u001b[39m\n\u001b[1;32m      3\u001b[0m }\n",
      "\u001b[0;31mTypeError\u001b[0m: unhashable type: 'set'"
     ]
    }
   ],
   "source": [
    "{\n",
    "    {5, 6}: 5\n",
    "}"
   ]
  },
  {
   "cell_type": "code",
   "execution_count": null,
   "id": "b413fb2b-7172-4196-b033-33bd30d0644d",
   "metadata": {},
   "outputs": [],
   "source": []
  },
  {
   "cell_type": "code",
   "execution_count": 239,
   "id": "2dedd689-0558-4134-982c-a8868453eb5e",
   "metadata": {},
   "outputs": [
    {
     "ename": "TypeError",
     "evalue": "'str' object does not support item assignment",
     "output_type": "error",
     "traceback": [
      "\u001b[0;31m---------------------------------------------------------------------------\u001b[0m",
      "\u001b[0;31mTypeError\u001b[0m                                 Traceback (most recent call last)",
      "Cell \u001b[0;32mIn[239], line 2\u001b[0m\n\u001b[1;32m      1\u001b[0m string \u001b[38;5;241m=\u001b[39m \u001b[38;5;124m\"\u001b[39m\u001b[38;5;124mkorosh\u001b[39m\u001b[38;5;124m\"\u001b[39m\n\u001b[0;32m----> 2\u001b[0m \u001b[43mstring\u001b[49m\u001b[43m[\u001b[49m\u001b[38;5;241;43m2\u001b[39;49m\u001b[43m]\u001b[49m \u001b[38;5;241m=\u001b[39m \u001b[38;5;241m3\u001b[39m\n",
      "\u001b[0;31mTypeError\u001b[0m: 'str' object does not support item assignment"
     ]
    }
   ],
   "source": [
    "string = \"korosh\"\n",
    "string[2] = 3"
   ]
  },
  {
   "cell_type": "code",
   "execution_count": 244,
   "id": "f566477a-e719-47d7-b9f2-b78e9e48ece9",
   "metadata": {},
   "outputs": [],
   "source": [
    "myset = {1, 2, 3}"
   ]
  },
  {
   "cell_type": "code",
   "execution_count": 245,
   "id": "0268c56c-f824-4f51-be1d-b43c58afd236",
   "metadata": {},
   "outputs": [],
   "source": [
    "myset.add(4)"
   ]
  },
  {
   "cell_type": "code",
   "execution_count": 246,
   "id": "9ec7a857-7e42-40c5-923e-b7ade3f6730d",
   "metadata": {},
   "outputs": [
    {
     "data": {
      "text/plain": [
       "{1, 2, 3, 4}"
      ]
     },
     "execution_count": 246,
     "metadata": {},
     "output_type": "execute_result"
    }
   ],
   "source": [
    "myset"
   ]
  },
  {
   "cell_type": "code",
   "execution_count": null,
   "id": "12b76860-bf64-487f-836e-d4fa2fc53bb4",
   "metadata": {},
   "outputs": [],
   "source": []
  },
  {
   "cell_type": "code",
   "execution_count": 1,
   "id": "d379542c-4005-4905-821c-de42eab18361",
   "metadata": {},
   "outputs": [],
   "source": [
    "a = \"asdfjaslkdfjlasjdf;asdklf;alskdjf;asdl\""
   ]
  },
  {
   "cell_type": "code",
   "execution_count": 2,
   "id": "2f8c8b1b-b845-4b49-a374-aa5cc821784f",
   "metadata": {},
   "outputs": [
    {
     "data": {
      "text/plain": [
       "-2827926599895846315"
      ]
     },
     "execution_count": 2,
     "metadata": {},
     "output_type": "execute_result"
    }
   ],
   "source": [
    "hash(a)"
   ]
  },
  {
   "cell_type": "code",
   "execution_count": 3,
   "id": "24db5574-ad76-4622-8942-a62819909077",
   "metadata": {},
   "outputs": [
    {
     "data": {
      "text/plain": [
       "529344067295497451"
      ]
     },
     "execution_count": 3,
     "metadata": {},
     "output_type": "execute_result"
    }
   ],
   "source": [
    "-8790531718727714585"
   ]
  },
  {
   "cell_type": "code",
   "execution_count": 7,
   "id": "b1128c4a-bb1e-4daf-9c1d-caf1aaa3590a",
   "metadata": {},
   "outputs": [],
   "source": [
    "a = [1, 2, 3, 4]"
   ]
  },
  {
   "cell_type": "code",
   "execution_count": 8,
   "id": "6da727c3-a113-4823-ac23-83f3fc494b7c",
   "metadata": {},
   "outputs": [
    {
     "data": {
      "text/plain": [
       "'ebe94ffa73de030b652b2ba08359b6508042e8994628642acb80c46035f12f62'"
      ]
     },
     "execution_count": 8,
     "metadata": {},
     "output_type": "execute_result"
    }
   ],
   "source": [
    "import hashlib\n",
    "\n",
    "my_string = \"My String!\"\n",
    "\n",
    "my_string_bits  = my_string.encode('utf-8')\n",
    "\n",
    "secret_thing = hashlib.sha256(my_string_bits)\n",
    "\n",
    "secret_thing.hexdigest()"
   ]
  },
  {
   "cell_type": "code",
   "execution_count": 6,
   "id": "74942553-e3c6-43fd-b833-7d3d80a71c43",
   "metadata": {},
   "outputs": [
    {
     "data": {
      "text/plain": [
       "5"
      ]
     },
     "execution_count": 6,
     "metadata": {},
     "output_type": "execute_result"
    }
   ],
   "source": [
    "dict_[a]"
   ]
  },
  {
   "cell_type": "code",
   "execution_count": null,
   "id": "855371c0-c2a9-4f6e-867f-d5c7e9774f5f",
   "metadata": {},
   "outputs": [],
   "source": []
  }
 ],
 "metadata": {
  "kernelspec": {
   "display_name": "Python 3 (ipykernel)",
   "language": "python",
   "name": "python3"
  },
  "language_info": {
   "codemirror_mode": {
    "name": "ipython",
    "version": 3
   },
   "file_extension": ".py",
   "mimetype": "text/x-python",
   "name": "python",
   "nbconvert_exporter": "python",
   "pygments_lexer": "ipython3",
   "version": "3.10.14"
  }
 },
 "nbformat": 4,
 "nbformat_minor": 5
}
