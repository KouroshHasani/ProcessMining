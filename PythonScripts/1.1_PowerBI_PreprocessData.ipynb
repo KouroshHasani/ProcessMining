{
 "cells": [
  {
   "cell_type": "code",
   "execution_count": 1,
   "id": "0ed10c4d-0ff0-4eb4-8d5d-8b72a672bc8e",
   "metadata": {
    "tags": []
   },
   "outputs": [],
   "source": [
    "import pandas as pd\n",
    "from src import DATA_DIR"
   ]
  },
  {
   "cell_type": "markdown",
   "id": "021fbf94-cca7-4a15-845d-0d45190f4f2b",
   "metadata": {},
   "source": [
    "## Calculates TimeBetweenEvents"
   ]
  },
  {
   "cell_type": "code",
   "execution_count": 4,
   "id": "85e1f932-bae2-4df7-82df-50518215b819",
   "metadata": {
    "tags": []
   },
   "outputs": [],
   "source": [
    "dataset = pd.read_csv(DATA_DIR / \"Datasets\" / \"Purchase_Process\" / \"Purchase_Process.csv\")\n",
    "dataset = dataset.iloc[:20000, :]\n",
    "\n",
    "dataset.Start_Timestamp = pd.to_datetime(dataset.Start_Timestamp)\n",
    "\n",
    "dataset.sort_values(['Case_ID', 'Start_Timestamp'], inplace=True)\n",
    "\n",
    "dataset['End_Timestamp'] = dataset.Start_Timestamp.shift(-1)\n",
    "dataset['Shifted_CaseID'] = dataset.Case_ID.shift(-1)\n",
    "dataset['Next_Event'] = dataset.Activity.shift(-1)\n",
    "\n",
    "\n",
    "dataset['TimeBetweetEvents'] = dataset.End_Timestamp - dataset.Start_Timestamp\n",
    "dataset.TimeBetweetEvents = dataset.TimeBetweetEvents.dt.total_seconds()\n",
    "\n",
    "dataset.loc[dataset.Case_ID != dataset.Shifted_CaseID, 'TimeBetweetEvents'] = 0\n",
    "dataset.loc[dataset.Case_ID != dataset.Shifted_CaseID, 'Next_Event'] = 'End'"
   ]
  },
  {
   "cell_type": "markdown",
   "id": "5c5639ae-56c1-4e65-bfb6-24ecef966130",
   "metadata": {
    "tags": []
   },
   "source": [
    "## Generate Variants"
   ]
  },
  {
   "cell_type": "code",
   "execution_count": 7,
   "id": "9e25ce00-aba0-4b7f-88c1-e13a60939abe",
   "metadata": {
    "tags": []
   },
   "outputs": [],
   "source": [
    "dataset = pd.read_csv(DATA_DIR / \"Datasets\" / \"Purchase_Process\" / \"Purchase_Process.csv\")\n",
    "dataset.Start_Timestamp = pd.to_datetime(dataset.Start_Timestamp)\n",
    "\n",
    "dataset.sort_values(['Start_Timestamp'], inplace=True)\n",
    "\n",
    "variants = dataset.groupby('Case_ID')['Activity'].apply(tuple).reset_index()"
   ]
  },
  {
   "cell_type": "code",
   "execution_count": null,
   "id": "6050248b-714a-4055-9a4f-f0560b8c2e2e",
   "metadata": {},
   "outputs": [],
   "source": []
  }
 ],
 "metadata": {
  "kernelspec": {
   "display_name": "Python 3 (ipykernel)",
   "language": "python",
   "name": "python3"
  },
  "language_info": {
   "codemirror_mode": {
    "name": "ipython",
    "version": 3
   },
   "file_extension": ".py",
   "mimetype": "text/x-python",
   "name": "python",
   "nbconvert_exporter": "python",
   "pygments_lexer": "ipython3",
   "version": "3.8.0"
  }
 },
 "nbformat": 4,
 "nbformat_minor": 5
}
