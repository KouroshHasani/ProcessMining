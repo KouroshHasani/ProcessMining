{
 "cells": [
  {
   "cell_type": "markdown",
   "metadata": {},
   "source": [
    "![](https://pm4py.fit.fraunhofer.de/static/assets/images/pm4py-site-logo-padded.png)"
   ]
  },
  {
   "cell_type": "markdown",
   "metadata": {},
   "source": [
    "# <b>Introduction<b>"
   ]
  },
  {
   "cell_type": "markdown",
   "metadata": {},
   "source": [
    "Conformance checking is a techniques to compare a process model with an event log of the same process. The goal is to check if the event log conforms to the model, and, vice versa.\n",
    "\n",
    "In pm4py, two fundamental techniques are implemented: token-based replay and alignments."
   ]
  },
  {
   "cell_type": "markdown",
   "metadata": {},
   "source": [
    "# <b>1. Setup</b>"
   ]
  },
  {
   "cell_type": "markdown",
   "metadata": {
    "tags": []
   },
   "source": [
    "## <b>1.1. Packages</b>"
   ]
  },
  {
   "cell_type": "code",
   "execution_count": 1,
   "metadata": {
    "tags": []
   },
   "outputs": [],
   "source": [
    "# python ######################################################################\n",
    "import sys\n",
    "import os\n",
    "import datetime\n",
    "\n",
    "# basics ######################################################################\n",
    "import pandas as pd\n",
    "import numpy as np\n",
    "import matplotlib.pyplot as plt\n",
    "import seaborn as sns\n",
    "\n",
    "# widgets #####################################################################\n",
    "import ipywidgets as widgets\n",
    "from ipywidgets import interact\n",
    "\n",
    "# process mining ##############################################################\n",
    "import pm4py\n",
    "\n",
    "# object.log\n",
    "from pm4py.objects.log.util import dataframe_utils\n",
    "from pm4py.objects.log.exporter.xes import exporter as xes_exporter\n",
    "from pm4py.objects.log.importer.xes import importer as xes_importer\n",
    "\n",
    "# object.conversion\n",
    "from pm4py.objects.conversion.dfg import converter as dfg_converter\n",
    "from pm4py.objects.conversion.process_tree import converter as pt_converter\n",
    "\n",
    "# algo.discovery\n",
    "from pm4py.algo.discovery.alpha import variants\n",
    "from pm4py.algo.discovery.alpha import algorithm as alpha_miner\n",
    "from pm4py.algo.discovery.dfg import algorithm as dfg_discovery\n",
    "from pm4py.algo.discovery.heuristics import algorithm as heuristics_miner\n",
    "from pm4py.algo.discovery.inductive import algorithm as inductive_miner\n",
    "\n",
    "\n",
    "# algo.conformance\n",
    "from pm4py.algo.conformance.tokenreplay import algorithm as token_replay\n",
    "\n",
    "\n",
    "# algo.evaluation\n",
    "from pm4py.algo.evaluation.generalization import algorithm as generalization_evaluator\n",
    "from pm4py.algo.evaluation.simplicity import algorithm as simplicity_evaluator\n",
    "\n",
    "\n",
    "# vizualization\n",
    "from pm4py.visualization.petri_net import visualizer as pn_visualizer\n",
    "from pm4py.visualization.dfg import visualizer as dfg_visualization\n",
    "from pm4py.visualization.process_tree import visualizer as pt_visualizer\n",
    "from pm4py.visualization.heuristics_net import visualizer as hn_visualizer\n",
    "\n",
    "\n",
    "# util\n",
    "from pm4py.util import vis_utils\n",
    "\n",
    "\n",
    "# Define directories\n",
    "from src import DATA_DIR, IMAGE_DIR\n",
    "\n",
    "import warnings\n",
    "warnings.filterwarnings(\"ignore\")"
   ]
  },
  {
   "cell_type": "markdown",
   "metadata": {
    "tags": []
   },
   "source": [
    "<br><br>\n",
    "## <b>1.2. Setting</b>"
   ]
  },
  {
   "cell_type": "code",
   "execution_count": 2,
   "metadata": {
    "tags": []
   },
   "outputs": [],
   "source": [
    "pd.set_option('display.max_rows', 50)"
   ]
  },
  {
   "cell_type": "code",
   "execution_count": 3,
   "metadata": {
    "tags": []
   },
   "outputs": [],
   "source": [
    "sns.set_theme()"
   ]
  },
  {
   "cell_type": "markdown",
   "metadata": {
    "tags": []
   },
   "source": [
    "<br><br>\n",
    "## <b>1.3. Import Event Log</b>"
   ]
  },
  {
   "cell_type": "code",
   "execution_count": 4,
   "metadata": {
    "tags": []
   },
   "outputs": [
    {
     "data": {
      "application/vnd.jupyter.widget-view+json": {
       "model_id": "1da666e20d9f4877a02eec75372e0db4",
       "version_major": 2,
       "version_minor": 0
      },
      "text/plain": [
       "parsing log, completed traces ::   0%|          | 0/6 [00:00<?, ?it/s]"
      ]
     },
     "metadata": {},
     "output_type": "display_data"
    },
    {
     "data": {
      "text/html": [
       "<div>\n",
       "<style scoped>\n",
       "    .dataframe tbody tr th:only-of-type {\n",
       "        vertical-align: middle;\n",
       "    }\n",
       "\n",
       "    .dataframe tbody tr th {\n",
       "        vertical-align: top;\n",
       "    }\n",
       "\n",
       "    .dataframe thead th {\n",
       "        text-align: right;\n",
       "    }\n",
       "</style>\n",
       "<table border=\"1\" class=\"dataframe\">\n",
       "  <thead>\n",
       "    <tr style=\"text-align: right;\">\n",
       "      <th></th>\n",
       "      <th>case_id</th>\n",
       "      <th>activity</th>\n",
       "      <th>timestamp</th>\n",
       "      <th>costs</th>\n",
       "      <th>resource</th>\n",
       "      <th>case:concept:name</th>\n",
       "      <th>concept:name</th>\n",
       "      <th>time:timestamp</th>\n",
       "    </tr>\n",
       "  </thead>\n",
       "  <tbody>\n",
       "    <tr>\n",
       "      <th>0</th>\n",
       "      <td>3</td>\n",
       "      <td>register request</td>\n",
       "      <td>2010-12-30 13:32:00+00:00</td>\n",
       "      <td>50</td>\n",
       "      <td>Pete</td>\n",
       "      <td>3</td>\n",
       "      <td>register request</td>\n",
       "      <td>2010-12-30 13:32:00+00:00</td>\n",
       "    </tr>\n",
       "    <tr>\n",
       "      <th>1</th>\n",
       "      <td>3</td>\n",
       "      <td>examine casually</td>\n",
       "      <td>2010-12-30 14:06:00+00:00</td>\n",
       "      <td>400</td>\n",
       "      <td>Mike</td>\n",
       "      <td>3</td>\n",
       "      <td>examine casually</td>\n",
       "      <td>2010-12-30 14:06:00+00:00</td>\n",
       "    </tr>\n",
       "    <tr>\n",
       "      <th>2</th>\n",
       "      <td>3</td>\n",
       "      <td>check ticket</td>\n",
       "      <td>2010-12-30 15:34:00+00:00</td>\n",
       "      <td>100</td>\n",
       "      <td>Ellen</td>\n",
       "      <td>3</td>\n",
       "      <td>check ticket</td>\n",
       "      <td>2010-12-30 15:34:00+00:00</td>\n",
       "    </tr>\n",
       "    <tr>\n",
       "      <th>3</th>\n",
       "      <td>3</td>\n",
       "      <td>decide</td>\n",
       "      <td>2011-01-06 08:18:00+00:00</td>\n",
       "      <td>200</td>\n",
       "      <td>Sara</td>\n",
       "      <td>3</td>\n",
       "      <td>decide</td>\n",
       "      <td>2011-01-06 08:18:00+00:00</td>\n",
       "    </tr>\n",
       "    <tr>\n",
       "      <th>4</th>\n",
       "      <td>3</td>\n",
       "      <td>reinitiate request</td>\n",
       "      <td>2011-01-06 11:18:00+00:00</td>\n",
       "      <td>200</td>\n",
       "      <td>Sara</td>\n",
       "      <td>3</td>\n",
       "      <td>reinitiate request</td>\n",
       "      <td>2011-01-06 11:18:00+00:00</td>\n",
       "    </tr>\n",
       "  </tbody>\n",
       "</table>\n",
       "</div>"
      ],
      "text/plain": [
       "   case_id            activity                 timestamp  costs resource  \\\n",
       "0        3    register request 2010-12-30 13:32:00+00:00     50     Pete   \n",
       "1        3    examine casually 2010-12-30 14:06:00+00:00    400     Mike   \n",
       "2        3        check ticket 2010-12-30 15:34:00+00:00    100    Ellen   \n",
       "3        3              decide 2011-01-06 08:18:00+00:00    200     Sara   \n",
       "4        3  reinitiate request 2011-01-06 11:18:00+00:00    200     Sara   \n",
       "\n",
       "   case:concept:name        concept:name            time:timestamp  \n",
       "0                  3    register request 2010-12-30 13:32:00+00:00  \n",
       "1                  3    examine casually 2010-12-30 14:06:00+00:00  \n",
       "2                  3        check ticket 2010-12-30 15:34:00+00:00  \n",
       "3                  3              decide 2011-01-06 08:18:00+00:00  \n",
       "4                  3  reinitiate request 2011-01-06 11:18:00+00:00  "
      ]
     },
     "execution_count": 4,
     "metadata": {},
     "output_type": "execute_result"
    }
   ],
   "source": [
    "log = xes_importer.apply(os.path.join('log', DATA_DIR / 'Example/Running_Example/running-example.xes'))\n",
    "\n",
    "log_csv = pd.read_csv(DATA_DIR / 'Example/Running_Example/running-example.csv', sep=';')\n",
    "\n",
    "pm4py.format_dataframe(\n",
    "    log_csv,\n",
    "    case_id = 'case_id',\n",
    "    activity_key = 'activity',\n",
    "    timestamp_key = 'timestamp', \n",
    "    timest_format = '%Y-%m-%d %H:%M:%S%z'\n",
    ")\n",
    "\n",
    "log_csv.head()"
   ]
  },
  {
   "cell_type": "markdown",
   "metadata": {},
   "source": [
    "<br></br>\n",
    "# <b>2. Conformance checking</b>"
   ]
  },
  {
   "cell_type": "markdown",
   "metadata": {},
   "source": [
    "## <b>2.1 Token-based replay</b>\n",
    "\n",
    "Token-based replay matches a trace and a Petri net model, starting from the initial place, in order to discover which transitions are executed and in which places we have remaining or missing tokens for the given process instance.\n",
    "\n",
    "The output of the token-based replay contains for each trace of the log:\n",
    "* <b>trace_is_fit</b>: boolean value (True/False) that is true when the trace is according to the model.\n",
    "* <b>activated_transitions</b>: list of transitions activated in the model by the token-based replay.\n",
    "* <b>reached_marking</b>: marking reached at the end of the replay.\n",
    "* <b>missing_tokens</b>: number of missing tokens.\n",
    "* <b>consumed_tokens</b>: number of consumed tokens.\n",
    "* <b>remaining_tokens</b>: number of remaining tokens.\n",
    "* <b>produced_tokens</b>: number of produced tokens.\n",
    "\n",
    "For each trace, there are four values which have to be determined: <b>P</b>roduced tokens, <b>R</b>emaining tokens, <b>M</b>issing tokens, and <b>C</b>onsumed tokens. Based on that, a fomrula can be dervied, whereby a petri net (</b>n</b>) and a trace (<b>t</b>) are given as input:\n",
    "\n",
    "fitness(n, t) = 1⁄2 (1 - r ⁄ p) + 1⁄2 (1 - m ⁄ c)"
   ]
  },
  {
   "cell_type": "code",
   "execution_count": 19,
   "metadata": {
    "tags": []
   },
   "outputs": [
    {
     "data": {
      "application/vnd.jupyter.widget-view+json": {
       "model_id": "81774eb3a0cd42d69dd190dddc4b75bd",
       "version_major": 2,
       "version_minor": 0
      },
      "text/plain": [
       "replaying log with TBR, completed variants ::   0%|          | 0/6 [00:00<?, ?it/s]"
      ]
     },
     "metadata": {},
     "output_type": "display_data"
    },
    {
     "data": {
      "image/png": "[encoded data removed]",
      "text/plain": [
       "<IPython.core.display.Image object>"
      ]
     },
     "metadata": {},
     "output_type": "display_data"
    }
   ],
   "source": [
    "# Miner\n",
    "petri_net, initial_marking, final_marking = alpha_miner.apply(log)\n",
    "\n",
    "# GraphViz\n",
    "gviz = pn_visualizer.apply(petri_net, initial_marking, final_marking,\n",
    "                           variant = pn_visualizer.Variants.FREQUENCY, \n",
    "                           log = log)\n",
    "\n",
    "# View\n",
    "pn_visualizer.view(gviz)"
   ]
  },
  {
   "cell_type": "code",
   "execution_count": 24,
   "metadata": {
    "tags": []
   },
   "outputs": [
    {
     "data": {
      "application/vnd.jupyter.widget-view+json": {
       "model_id": "fa1685c2b68a4a4eb23a04de21870631",
       "version_major": 2,
       "version_minor": 0
      },
      "text/plain": [
       "replaying log with TBR, completed variants ::   0%|          | 0/6 [00:00<?, ?it/s]"
      ]
     },
     "metadata": {},
     "output_type": "display_data"
    },
    {
     "data": {
      "text/html": [
       "<div>\n",
       "<style scoped>\n",
       "    .dataframe tbody tr th:only-of-type {\n",
       "        vertical-align: middle;\n",
       "    }\n",
       "\n",
       "    .dataframe tbody tr th {\n",
       "        vertical-align: top;\n",
       "    }\n",
       "\n",
       "    .dataframe thead th {\n",
       "        text-align: right;\n",
       "    }\n",
       "</style>\n",
       "<table border=\"1\" class=\"dataframe\">\n",
       "  <thead>\n",
       "    <tr style=\"text-align: right;\">\n",
       "      <th></th>\n",
       "      <th>trace_is_fit</th>\n",
       "      <th>trace_fitness</th>\n",
       "      <th>activated_transitions</th>\n",
       "      <th>reached_marking</th>\n",
       "      <th>enabled_transitions_in_marking</th>\n",
       "      <th>transitions_with_problems</th>\n",
       "      <th>missing_tokens</th>\n",
       "      <th>consumed_tokens</th>\n",
       "      <th>remaining_tokens</th>\n",
       "      <th>produced_tokens</th>\n",
       "    </tr>\n",
       "  </thead>\n",
       "  <tbody>\n",
       "    <tr>\n",
       "      <th>0</th>\n",
       "      <td>True</td>\n",
       "      <td>1.0</td>\n",
       "      <td>[(register request, 'register request'), (exam...</td>\n",
       "      <td>{end: 1}</td>\n",
       "      <td>{}</td>\n",
       "      <td>[]</td>\n",
       "      <td>0</td>\n",
       "      <td>7</td>\n",
       "      <td>0</td>\n",
       "      <td>7</td>\n",
       "    </tr>\n",
       "    <tr>\n",
       "      <th>1</th>\n",
       "      <td>True</td>\n",
       "      <td>1.0</td>\n",
       "      <td>[(register request, 'register request'), (chec...</td>\n",
       "      <td>{end: 1}</td>\n",
       "      <td>{}</td>\n",
       "      <td>[]</td>\n",
       "      <td>0</td>\n",
       "      <td>7</td>\n",
       "      <td>0</td>\n",
       "      <td>7</td>\n",
       "    </tr>\n",
       "    <tr>\n",
       "      <th>2</th>\n",
       "      <td>True</td>\n",
       "      <td>1.0</td>\n",
       "      <td>[(register request, 'register request'), (exam...</td>\n",
       "      <td>{end: 1}</td>\n",
       "      <td>{}</td>\n",
       "      <td>[]</td>\n",
       "      <td>0</td>\n",
       "      <td>12</td>\n",
       "      <td>0</td>\n",
       "      <td>12</td>\n",
       "    </tr>\n",
       "    <tr>\n",
       "      <th>3</th>\n",
       "      <td>True</td>\n",
       "      <td>1.0</td>\n",
       "      <td>[(register request, 'register request'), (chec...</td>\n",
       "      <td>{end: 1}</td>\n",
       "      <td>{}</td>\n",
       "      <td>[]</td>\n",
       "      <td>0</td>\n",
       "      <td>7</td>\n",
       "      <td>0</td>\n",
       "      <td>7</td>\n",
       "    </tr>\n",
       "    <tr>\n",
       "      <th>4</th>\n",
       "      <td>True</td>\n",
       "      <td>1.0</td>\n",
       "      <td>[(register request, 'register request'), (exam...</td>\n",
       "      <td>{end: 1}</td>\n",
       "      <td>{}</td>\n",
       "      <td>[]</td>\n",
       "      <td>0</td>\n",
       "      <td>17</td>\n",
       "      <td>0</td>\n",
       "      <td>17</td>\n",
       "    </tr>\n",
       "    <tr>\n",
       "      <th>5</th>\n",
       "      <td>True</td>\n",
       "      <td>1.0</td>\n",
       "      <td>[(register request, 'register request'), (exam...</td>\n",
       "      <td>{end: 1}</td>\n",
       "      <td>{}</td>\n",
       "      <td>[]</td>\n",
       "      <td>0</td>\n",
       "      <td>7</td>\n",
       "      <td>0</td>\n",
       "      <td>7</td>\n",
       "    </tr>\n",
       "  </tbody>\n",
       "</table>\n",
       "</div>"
      ],
      "text/plain": [
       "   trace_is_fit  trace_fitness  \\\n",
       "0          True            1.0   \n",
       "1          True            1.0   \n",
       "2          True            1.0   \n",
       "3          True            1.0   \n",
       "4          True            1.0   \n",
       "5          True            1.0   \n",
       "\n",
       "                               activated_transitions reached_marking  \\\n",
       "0  [(register request, 'register request'), (exam...        {end: 1}   \n",
       "1  [(register request, 'register request'), (chec...        {end: 1}   \n",
       "2  [(register request, 'register request'), (exam...        {end: 1}   \n",
       "3  [(register request, 'register request'), (chec...        {end: 1}   \n",
       "4  [(register request, 'register request'), (exam...        {end: 1}   \n",
       "5  [(register request, 'register request'), (exam...        {end: 1}   \n",
       "\n",
       "  enabled_transitions_in_marking transitions_with_problems  missing_tokens  \\\n",
       "0                             {}                        []               0   \n",
       "1                             {}                        []               0   \n",
       "2                             {}                        []               0   \n",
       "3                             {}                        []               0   \n",
       "4                             {}                        []               0   \n",
       "5                             {}                        []               0   \n",
       "\n",
       "   consumed_tokens  remaining_tokens  produced_tokens  \n",
       "0                7                 0                7  \n",
       "1                7                 0                7  \n",
       "2               12                 0               12  \n",
       "3                7                 0                7  \n",
       "4               17                 0               17  \n",
       "5                7                 0                7  "
      ]
     },
     "execution_count": 24,
     "metadata": {},
     "output_type": "execute_result"
    }
   ],
   "source": [
    "# Token Replay\n",
    "replayed_traces = token_replay.apply(log, petri_net, initial_marking, final_marking)\n",
    "\n",
    "# Replayed Traces\n",
    "df_replayed_traces = pd.DataFrame(replayed_traces)\n",
    "df_replayed_traces.head(50)\n",
    "# df_replayed_traces.iloc[2, [0, 1, 2, 6, 7, 8, 9]].activated_transitions"
   ]
  },
  {
   "cell_type": "markdown",
   "metadata": {},
   "source": [
    "<br></br>\n",
    "### <b>2.1.1. Token-based parameters<b>\n",
    "    \n",
    "The token-based replay supports different parameters:\n",
    "\n",
    "Parameter |\tMeaning\n",
    "----- | -----\n",
    "**Parameters.CONSIDER_REMAINING_IN_FITNESS** | If the parameter is set to **True** (as default) trace is considered fit if it does not lead to any missing/remaining token in the model.\n",
    "**Parameters.TRY_TO_REACH_FINAL_MARKING_THROUGH_HIDDEN** | When the replay of the trace is completed, try to reach the final marking through invisible transitions (default: **True**)\n",
    "**Parameters.STOP_IMMEDIATELY_UNFIT** | Stops the replay immediately when a missing token needs to be inserted (default: **False**)\n",
    "**Parameters.WALK_THROUGH_HIDDEN_TRANS** | Enables, in general, the traversal of invisible transitions (default: **True**)\n",
    "**Parameters.CLEANING_TOKEN_FLOOD** | Limits the token flooding problem by an apposite algorithm (default: **False**)\n",
    "**Parameters.RETURN_NAMES** | Return the transitions names, not the transition object, in the list of activated transitions for a trace.\n",
    "**Parameters.ACTIVITY_KEY** | Establish the attribute of a trace to be used during the replay (default: **concept:name**), "
   ]
  },
  {
   "cell_type": "code",
   "execution_count": 128,
   "metadata": {
    "tags": []
   },
   "outputs": [
    {
     "data": {
      "application/vnd.jupyter.widget-view+json": {
       "model_id": "8af795d81de5477caca4d8017b4f415d",
       "version_major": 2,
       "version_minor": 0
      },
      "text/plain": [
       "replaying log with TBR, completed variants ::   0%|          | 0/6 [00:00<?, ?it/s]"
      ]
     },
     "metadata": {},
     "output_type": "display_data"
    },
    {
     "data": {
      "text/html": [
       "<div>\n",
       "<style scoped>\n",
       "    .dataframe tbody tr th:only-of-type {\n",
       "        vertical-align: middle;\n",
       "    }\n",
       "\n",
       "    .dataframe tbody tr th {\n",
       "        vertical-align: top;\n",
       "    }\n",
       "\n",
       "    .dataframe thead th {\n",
       "        text-align: right;\n",
       "    }\n",
       "</style>\n",
       "<table border=\"1\" class=\"dataframe\">\n",
       "  <thead>\n",
       "    <tr style=\"text-align: right;\">\n",
       "      <th></th>\n",
       "      <th>trace_is_fit</th>\n",
       "      <th>trace_fitness</th>\n",
       "      <th>activated_transitions</th>\n",
       "      <th>reached_marking</th>\n",
       "      <th>enabled_transitions_in_marking</th>\n",
       "      <th>transitions_with_problems</th>\n",
       "      <th>missing_tokens</th>\n",
       "      <th>consumed_tokens</th>\n",
       "      <th>remaining_tokens</th>\n",
       "      <th>produced_tokens</th>\n",
       "    </tr>\n",
       "  </thead>\n",
       "  <tbody>\n",
       "    <tr>\n",
       "      <th>0</th>\n",
       "      <td>True</td>\n",
       "      <td>1.0</td>\n",
       "      <td>[(register request, 'register request'), (exam...</td>\n",
       "      <td>{end: 1}</td>\n",
       "      <td>{}</td>\n",
       "      <td>[]</td>\n",
       "      <td>0</td>\n",
       "      <td>7</td>\n",
       "      <td>0</td>\n",
       "      <td>7</td>\n",
       "    </tr>\n",
       "    <tr>\n",
       "      <th>1</th>\n",
       "      <td>True</td>\n",
       "      <td>1.0</td>\n",
       "      <td>[(register request, 'register request'), (chec...</td>\n",
       "      <td>{end: 1}</td>\n",
       "      <td>{}</td>\n",
       "      <td>[]</td>\n",
       "      <td>0</td>\n",
       "      <td>7</td>\n",
       "      <td>0</td>\n",
       "      <td>7</td>\n",
       "    </tr>\n",
       "    <tr>\n",
       "      <th>2</th>\n",
       "      <td>True</td>\n",
       "      <td>1.0</td>\n",
       "      <td>[(register request, 'register request'), (exam...</td>\n",
       "      <td>{end: 1}</td>\n",
       "      <td>{}</td>\n",
       "      <td>[]</td>\n",
       "      <td>0</td>\n",
       "      <td>12</td>\n",
       "      <td>0</td>\n",
       "      <td>12</td>\n",
       "    </tr>\n",
       "    <tr>\n",
       "      <th>3</th>\n",
       "      <td>True</td>\n",
       "      <td>1.0</td>\n",
       "      <td>[(register request, 'register request'), (chec...</td>\n",
       "      <td>{end: 1}</td>\n",
       "      <td>{}</td>\n",
       "      <td>[]</td>\n",
       "      <td>0</td>\n",
       "      <td>7</td>\n",
       "      <td>0</td>\n",
       "      <td>7</td>\n",
       "    </tr>\n",
       "    <tr>\n",
       "      <th>4</th>\n",
       "      <td>True</td>\n",
       "      <td>1.0</td>\n",
       "      <td>[(register request, 'register request'), (exam...</td>\n",
       "      <td>{end: 1}</td>\n",
       "      <td>{}</td>\n",
       "      <td>[]</td>\n",
       "      <td>0</td>\n",
       "      <td>17</td>\n",
       "      <td>0</td>\n",
       "      <td>17</td>\n",
       "    </tr>\n",
       "  </tbody>\n",
       "</table>\n",
       "</div>"
      ],
      "text/plain": [
       "   trace_is_fit  trace_fitness  \\\n",
       "0          True            1.0   \n",
       "1          True            1.0   \n",
       "2          True            1.0   \n",
       "3          True            1.0   \n",
       "4          True            1.0   \n",
       "\n",
       "                               activated_transitions reached_marking  \\\n",
       "0  [(register request, 'register request'), (exam...        {end: 1}   \n",
       "1  [(register request, 'register request'), (chec...        {end: 1}   \n",
       "2  [(register request, 'register request'), (exam...        {end: 1}   \n",
       "3  [(register request, 'register request'), (chec...        {end: 1}   \n",
       "4  [(register request, 'register request'), (exam...        {end: 1}   \n",
       "\n",
       "  enabled_transitions_in_marking transitions_with_problems  missing_tokens  \\\n",
       "0                             {}                        []               0   \n",
       "1                             {}                        []               0   \n",
       "2                             {}                        []               0   \n",
       "3                             {}                        []               0   \n",
       "4                             {}                        []               0   \n",
       "\n",
       "   consumed_tokens  remaining_tokens  produced_tokens  \n",
       "0                7                 0                7  \n",
       "1                7                 0                7  \n",
       "2               12                 0               12  \n",
       "3                7                 0                7  \n",
       "4               17                 0               17  "
      ]
     },
     "execution_count": 128,
     "metadata": {},
     "output_type": "execute_result"
    }
   ],
   "source": [
    "# Parameters\n",
    "parameters = token_replay.Variants.TOKEN_REPLAY.value.Parameters\n",
    "\n",
    "# Token Replay\n",
    "replayed_traces = token_replay.apply(\n",
    "    log, petri_net, initial_marking, final_marking,\n",
    "    parameters = {\n",
    "        parameters.CONSIDER_REMAINING_IN_FITNESS: False, \n",
    "        parameters.STOP_IMMEDIATELY_UNFIT: True, \n",
    "        parameters.WALK_THROUGH_HIDDEN_TRANS: False, \n",
    "        parameters.RETURN_NAMES: False,\n",
    "    }\n",
    ")\n",
    "\n",
    "# Replayed Traces\n",
    "pd.DataFrame(replayed_traces).head()"
   ]
  },
  {
   "cell_type": "markdown",
   "metadata": {},
   "source": [
    "<br></br>\n",
    "### <b>2.1.2 Example</b>"
   ]
  },
  {
   "cell_type": "code",
   "execution_count": 27,
   "metadata": {
    "tags": []
   },
   "outputs": [],
   "source": [
    "# Create filtered/partial log: drop activity 'decide'\n",
    "filtered_log = log_csv[~log_csv.activity.isin(['decide'])]"
   ]
  },
  {
   "cell_type": "code",
   "execution_count": 28,
   "metadata": {
    "tags": []
   },
   "outputs": [],
   "source": [
    "# Miner\n",
    "net, initial_marking, final_marking = alpha_miner.apply(filtered_log, variant=variants.classic)"
   ]
  },
  {
   "cell_type": "code",
   "execution_count": 33,
   "metadata": {
    "tags": []
   },
   "outputs": [
    {
     "data": {
      "application/vnd.jupyter.widget-view+json": {
       "model_id": "d8d9c3ddc34645f6902f19566b6b326b",
       "version_major": 2,
       "version_minor": 0
      },
      "text/plain": [
       "replaying log with TBR, completed variants ::   0%|          | 0/6 [00:00<?, ?it/s]"
      ]
     },
     "metadata": {},
     "output_type": "display_data"
    },
    {
     "data": {
      "image/png": "[encoded data removed]",
      "text/plain": [
       "<IPython.core.display.Image object>"
      ]
     },
     "metadata": {},
     "output_type": "display_data"
    }
   ],
   "source": [
    "# Parameters\n",
    "parameters = {pn_visualizer.Variants.FREQUENCY.value.Parameters.FORMAT: 'png'}\n",
    "\n",
    "# GraphViz\n",
    "gviz = pn_visualizer.apply(\n",
    "    net, initial_marking, final_marking,\n",
    "    parameters = parameters, \n",
    "    variant = pn_visualizer.Variants.FREQUENCY, \n",
    "    log = filtered_log\n",
    ")\n",
    "\n",
    "# View\n",
    "pn_visualizer.view(gviz)"
   ]
  },
  {
   "cell_type": "code",
   "execution_count": 41,
   "metadata": {
    "tags": []
   },
   "outputs": [
    {
     "data": {
      "application/vnd.jupyter.widget-view+json": {
       "model_id": "f7d2641540b24750977bd9102397974b",
       "version_major": 2,
       "version_minor": 0
      },
      "text/plain": [
       "replaying log with TBR, completed variants ::   0%|          | 0/6 [00:00<?, ?it/s]"
      ]
     },
     "metadata": {},
     "output_type": "display_data"
    },
    {
     "data": {
      "text/html": [
       "<div>\n",
       "<style scoped>\n",
       "    .dataframe tbody tr th:only-of-type {\n",
       "        vertical-align: middle;\n",
       "    }\n",
       "\n",
       "    .dataframe tbody tr th {\n",
       "        vertical-align: top;\n",
       "    }\n",
       "\n",
       "    .dataframe thead th {\n",
       "        text-align: right;\n",
       "    }\n",
       "</style>\n",
       "<table border=\"1\" class=\"dataframe\">\n",
       "  <thead>\n",
       "    <tr style=\"text-align: right;\">\n",
       "      <th></th>\n",
       "      <th>trace_is_fit</th>\n",
       "      <th>trace_fitness</th>\n",
       "      <th>activated_transitions</th>\n",
       "      <th>reached_marking</th>\n",
       "      <th>enabled_transitions_in_marking</th>\n",
       "      <th>transitions_with_problems</th>\n",
       "      <th>missing_tokens</th>\n",
       "      <th>consumed_tokens</th>\n",
       "      <th>remaining_tokens</th>\n",
       "      <th>produced_tokens</th>\n",
       "    </tr>\n",
       "  </thead>\n",
       "  <tbody>\n",
       "    <tr>\n",
       "      <th>0</th>\n",
       "      <td>True</td>\n",
       "      <td>1.000000</td>\n",
       "      <td>[(register request, 'register request'), (exam...</td>\n",
       "      <td>{end: 1}</td>\n",
       "      <td>{(reinitiate request, 'reinitiate request')}</td>\n",
       "      <td>[]</td>\n",
       "      <td>0</td>\n",
       "      <td>7</td>\n",
       "      <td>0</td>\n",
       "      <td>7</td>\n",
       "    </tr>\n",
       "    <tr>\n",
       "      <th>1</th>\n",
       "      <td>False</td>\n",
       "      <td>0.928571</td>\n",
       "      <td>[(register request, 'register request'), (chec...</td>\n",
       "      <td>{({'register request', 'reinitiate request'}, ...</td>\n",
       "      <td>{(reinitiate request, 'reinitiate request')}</td>\n",
       "      <td>[]</td>\n",
       "      <td>0</td>\n",
       "      <td>6</td>\n",
       "      <td>1</td>\n",
       "      <td>7</td>\n",
       "    </tr>\n",
       "    <tr>\n",
       "      <th>2</th>\n",
       "      <td>False</td>\n",
       "      <td>0.738889</td>\n",
       "      <td>[(register request, 'register request'), (exam...</td>\n",
       "      <td>{({'register request', 'reinitiate request'}, ...</td>\n",
       "      <td>{(reinitiate request, 'reinitiate request'), (...</td>\n",
       "      <td>[(examine thoroughly, 'examine thoroughly'), (...</td>\n",
       "      <td>2</td>\n",
       "      <td>9</td>\n",
       "      <td>3</td>\n",
       "      <td>10</td>\n",
       "    </tr>\n",
       "    <tr>\n",
       "      <th>3</th>\n",
       "      <td>True</td>\n",
       "      <td>1.000000</td>\n",
       "      <td>[(register request, 'register request'), (chec...</td>\n",
       "      <td>{end: 1}</td>\n",
       "      <td>{(reinitiate request, 'reinitiate request')}</td>\n",
       "      <td>[]</td>\n",
       "      <td>0</td>\n",
       "      <td>7</td>\n",
       "      <td>0</td>\n",
       "      <td>7</td>\n",
       "    </tr>\n",
       "    <tr>\n",
       "      <th>4</th>\n",
       "      <td>False</td>\n",
       "      <td>0.442308</td>\n",
       "      <td>[(register request, 'register request'), (exam...</td>\n",
       "      <td>{({'register request', 'reinitiate request'}, ...</td>\n",
       "      <td>{(pay compensation, 'pay compensation'), (rein...</td>\n",
       "      <td>[(check ticket, 'check ticket'), (examine casu...</td>\n",
       "      <td>5</td>\n",
       "      <td>10</td>\n",
       "      <td>8</td>\n",
       "      <td>13</td>\n",
       "    </tr>\n",
       "    <tr>\n",
       "      <th>5</th>\n",
       "      <td>False</td>\n",
       "      <td>0.928571</td>\n",
       "      <td>[(register request, 'register request'), (exam...</td>\n",
       "      <td>{({'register request', 'reinitiate request'}, ...</td>\n",
       "      <td>{(reinitiate request, 'reinitiate request')}</td>\n",
       "      <td>[]</td>\n",
       "      <td>0</td>\n",
       "      <td>6</td>\n",
       "      <td>1</td>\n",
       "      <td>7</td>\n",
       "    </tr>\n",
       "  </tbody>\n",
       "</table>\n",
       "</div>"
      ],
      "text/plain": [
       "   trace_is_fit  trace_fitness  \\\n",
       "0          True       1.000000   \n",
       "1         False       0.928571   \n",
       "2         False       0.738889   \n",
       "3          True       1.000000   \n",
       "4         False       0.442308   \n",
       "5         False       0.928571   \n",
       "\n",
       "                               activated_transitions  \\\n",
       "0  [(register request, 'register request'), (exam...   \n",
       "1  [(register request, 'register request'), (chec...   \n",
       "2  [(register request, 'register request'), (exam...   \n",
       "3  [(register request, 'register request'), (chec...   \n",
       "4  [(register request, 'register request'), (exam...   \n",
       "5  [(register request, 'register request'), (exam...   \n",
       "\n",
       "                                     reached_marking  \\\n",
       "0                                           {end: 1}   \n",
       "1  {({'register request', 'reinitiate request'}, ...   \n",
       "2  {({'register request', 'reinitiate request'}, ...   \n",
       "3                                           {end: 1}   \n",
       "4  {({'register request', 'reinitiate request'}, ...   \n",
       "5  {({'register request', 'reinitiate request'}, ...   \n",
       "\n",
       "                      enabled_transitions_in_marking  \\\n",
       "0       {(reinitiate request, 'reinitiate request')}   \n",
       "1       {(reinitiate request, 'reinitiate request')}   \n",
       "2  {(reinitiate request, 'reinitiate request'), (...   \n",
       "3       {(reinitiate request, 'reinitiate request')}   \n",
       "4  {(pay compensation, 'pay compensation'), (rein...   \n",
       "5       {(reinitiate request, 'reinitiate request')}   \n",
       "\n",
       "                           transitions_with_problems  missing_tokens  \\\n",
       "0                                                 []               0   \n",
       "1                                                 []               0   \n",
       "2  [(examine thoroughly, 'examine thoroughly'), (...               2   \n",
       "3                                                 []               0   \n",
       "4  [(check ticket, 'check ticket'), (examine casu...               5   \n",
       "5                                                 []               0   \n",
       "\n",
       "   consumed_tokens  remaining_tokens  produced_tokens  \n",
       "0                7                 0                7  \n",
       "1                6                 1                7  \n",
       "2                9                 3               10  \n",
       "3                7                 0                7  \n",
       "4               10                 8               13  \n",
       "5                6                 1                7  "
      ]
     },
     "execution_count": 41,
     "metadata": {},
     "output_type": "execute_result"
    }
   ],
   "source": [
    "# Conformance checking\n",
    "replayed_traces = token_replay.apply(log, net, initial_marking, final_marking)\n",
    "\n",
    "df_replayed_traces = pd.DataFrame(replayed_traces)\n",
    "df_replayed_traces\n",
    "# df_replayed_traces.iloc[2, [1, 2, 6, 7, 8, 9]].activated_transitions"
   ]
  },
  {
   "cell_type": "code",
   "execution_count": 31,
   "metadata": {
    "tags": []
   },
   "outputs": [
    {
     "data": {
      "text/plain": [
       "0    1.000000\n",
       "1    0.928571\n",
       "2    0.738889\n",
       "3    1.000000\n",
       "4    0.442308\n",
       "5    0.928571\n",
       "dtype: float64"
      ]
     },
     "execution_count": 31,
     "metadata": {},
     "output_type": "execute_result"
    }
   ],
   "source": [
    "((1 - df_replayed_traces.remaining_tokens / df_replayed_traces.produced_tokens) + (1 - df_replayed_traces.missing_tokens / df_replayed_traces.consumed_tokens)) / 2"
   ]
  },
  {
   "cell_type": "markdown",
   "metadata": {
    "tags": []
   },
   "source": [
    "<br></br>\n",
    "### <b>2.1.3. evaluation</b>"
   ]
  },
  {
   "cell_type": "markdown",
   "metadata": {},
   "source": [
    "#### <b>2.1.3.1. Fitness</b>"
   ]
  },
  {
   "cell_type": "code",
   "execution_count": 134,
   "metadata": {
    "tags": []
   },
   "outputs": [
    {
     "data": {
      "application/vnd.jupyter.widget-view+json": {
       "model_id": "b9d8f947a3f54e5e8f97804094b269a1",
       "version_major": 2,
       "version_minor": 0
      },
      "text/plain": [
       "replaying log with TBR, completed variants ::   0%|          | 0/6 [00:00<?, ?it/s]"
      ]
     },
     "metadata": {},
     "output_type": "display_data"
    },
    {
     "data": {
      "text/plain": [
       "{'perc_fit_traces': 33.333333333333336,\n",
       " 'average_trace_fitness': 0.8397232397232398,\n",
       " 'log_fitness': 0.7947712418300654,\n",
       " 'percentage_of_fitting_traces': 33.333333333333336}"
      ]
     },
     "execution_count": 134,
     "metadata": {},
     "output_type": "execute_result"
    }
   ],
   "source": [
    "from pm4py.algo.evaluation.replay_fitness import algorithm as replay_fitness_evaluator\n",
    "\n",
    "fitness = replay_fitness_evaluator.apply(filtered_log, net, initial_marking, final_marking, variant=replay_fitness_evaluator.Variants.TOKEN_BASED)\n",
    "\n",
    "fitness"
   ]
  },
  {
   "cell_type": "code",
   "execution_count": 135,
   "metadata": {
    "tags": []
   },
   "outputs": [
    {
     "data": {
      "text/plain": [
       "0.7947712418300654"
      ]
     },
     "execution_count": 135,
     "metadata": {},
     "output_type": "execute_result"
    }
   ],
   "source": [
    "((1 - df_replayed_traces.remaining_tokens.sum() / df_replayed_traces.produced_tokens.sum()) + (1 - df_replayed_traces.missing_tokens.sum() / df_replayed_traces.consumed_tokens.sum())) / 2"
   ]
  },
  {
   "cell_type": "markdown",
   "metadata": {
    "tags": []
   },
   "source": [
    "<br></br>\n",
    "#### <b>2.1.3.2. Precision</b>\n",
    "\n",
    "* <i>Muñoz-Gama, Jorge, and Josep Carmona. \"A fresh look at precision in process conformance.\" International Conference on Business Process Management. Springer, Berlin, Heidelberg, 2010.</i>"
   ]
  },
  {
   "cell_type": "code",
   "execution_count": 136,
   "metadata": {
    "tags": []
   },
   "outputs": [
    {
     "data": {
      "application/vnd.jupyter.widget-view+json": {
       "model_id": "ed021605b41945f48919037fdb842ea9",
       "version_major": 2,
       "version_minor": 0
      },
      "text/plain": [
       "replaying log with TBR, completed variants ::   0%|          | 0/16 [00:00<?, ?it/s]"
      ]
     },
     "metadata": {},
     "output_type": "display_data"
    },
    {
     "data": {
      "text/plain": [
       "0.5666666666666667"
      ]
     },
     "execution_count": 136,
     "metadata": {},
     "output_type": "execute_result"
    }
   ],
   "source": [
    "from pm4py.algo.evaluation.precision import algorithm as precision_evaluator\n",
    "\n",
    "prec = precision_evaluator.apply(filtered_log, net, initial_marking, final_marking, variant=precision_evaluator.Variants.ETCONFORMANCE_TOKEN)\n",
    "\n",
    "prec"
   ]
  },
  {
   "cell_type": "markdown",
   "metadata": {
    "tags": []
   },
   "source": [
    "<br></br>\n",
    "#### <b>2.1.3.3. Generalization</b>\n",
    "\n",
    "* <i>Buijs, Joos CAM, Boudewijn F. van Dongen, and Wil MP van der Aalst. \"Quality dimensions in process discovery: The importance of fitness, precision, generalization and simplicity.\" International Journal of Cooperative Information Systems 23.01 (2014): 1440001.</i>"
   ]
  },
  {
   "cell_type": "code",
   "execution_count": 137,
   "metadata": {
    "tags": []
   },
   "outputs": [
    {
     "data": {
      "application/vnd.jupyter.widget-view+json": {
       "model_id": "9f252654aa3f495b89f25c72ae2fd0c8",
       "version_major": 2,
       "version_minor": 0
      },
      "text/plain": [
       "replaying log with TBR, completed variants ::   0%|          | 0/6 [00:00<?, ?it/s]"
      ]
     },
     "metadata": {},
     "output_type": "display_data"
    },
    {
     "data": {
      "text/plain": [
       "0.5058241441400625"
      ]
     },
     "execution_count": 137,
     "metadata": {},
     "output_type": "execute_result"
    }
   ],
   "source": [
    "gen = generalization_evaluator.apply(filtered_log, net, initial_marking, final_marking)\n",
    "\n",
    "gen"
   ]
  },
  {
   "cell_type": "markdown",
   "metadata": {
    "tags": []
   },
   "source": [
    "<br></br>\n",
    "#### <b>2.1.3.4. Simplicity</b>\n",
    "\n",
    "* <i>Blum, Fabian Rojas. Metrics in process discovery. Technical Report TR/DCC-2015-6, Computer Science Department, University of Chile, 2015.</i>"
   ]
  },
  {
   "cell_type": "code",
   "execution_count": 138,
   "metadata": {
    "tags": []
   },
   "outputs": [
    {
     "data": {
      "text/plain": [
       "0.7142857142857143"
      ]
     },
     "execution_count": 138,
     "metadata": {},
     "output_type": "execute_result"
    }
   ],
   "source": [
    "simp = simplicity_evaluator.apply(net)\n",
    "\n",
    "simp"
   ]
  },
  {
   "cell_type": "markdown",
   "metadata": {},
   "source": [
    "<br></br>\n",
    "# <b>Resources:</b>\n",
    "- PM4PY [documentation](https://pm4py.fit.fraunhofer.de/documentation)\n",
    "- PM4Py [documentation](http://pm4py.pads.rwth-aachen.de/documentation/) (older version)\n",
    "- Towards Data Science story [Introduction to Process Mining](https://towardsdatascience.com/introduction-to-process-mining-5f4ce985b7e5)\n",
    "- Process Mining for Python on [Youtube](https://www.youtube.com/channel/UCRcgOKrDsntrTI78RXXliuw/videos)\n",
    "- Wikipedia page [process mining](https://en.wikipedia.org/wiki/Process_mining)\n",
    "- Wikipedia page [Petri net](https://en.wikipedia.org/wiki/Petri_net)\n",
    "- Alpha Miner [video](https://www.futurelearn.com/info/courses/process-mining/0/steps/15636)\n",
    "- Heuristics Miner [video](https://www.futurelearn.com/info/courses/process-mining/0/steps/15639)\n",
    "- Inductive Miner [video](https://www.futurelearn.com/info/courses/process-mining/0/steps/15642)\n",
    "- pm4py tutorials - tutorial #8 conformance checking [video](https://www.youtube.com/watch?v=0YNvijqX3FY)\n",
    "- Workflow Net and Soundness [video](https://www.coursera.org/lecture/process-mining/2-5-workflow-nets-and-soundness-tBnqo)\n",
    "- Process Mining Manifestio ([pdf-document](https://www.win.tue.nl/ieeetfpm/downloads/Process%20Mining%20Manifesto.pdf))\n",
    "- Data Mining [Event Logs](https://data.4tu.nl/search?q=BPI)\n"
   ]
  },
  {
   "cell_type": "code",
   "execution_count": null,
   "metadata": {},
   "outputs": [],
   "source": []
  }
 ],
 "metadata": {
  "@webio": {
   "lastCommId": null,
   "lastKernelId": null
  },
  "kernelspec": {
   "display_name": "Python 3 (ipykernel)",
   "language": "python",
   "name": "python3"
  },
  "language_info": {
   "codemirror_mode": {
    "name": "ipython",
    "version": 3
   },
   "file_extension": ".py",
   "mimetype": "text/x-python",
   "name": "python",
   "nbconvert_exporter": "python",
   "pygments_lexer": "ipython3",
   "version": "3.8.0"
  }
 },
 "nbformat": 4,
 "nbformat_minor": 4
}
