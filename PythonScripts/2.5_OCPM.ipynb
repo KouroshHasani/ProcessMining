{
 "cells": [
  {
   "cell_type": "markdown",
   "id": "357b2c93-0745-4212-bdaf-ab8838452a5f",
   "metadata": {
    "tags": []
   },
   "source": [
    "![](https://pm4py.fit.fraunhofer.de/static/assets/images/pm4py-site-logo-padded.png)"
   ]
  },
  {
   "cell_type": "markdown",
   "id": "8c3ffae2-5b35-4a83-b06f-d4091260e08b",
   "metadata": {
    "tags": []
   },
   "source": [
    "# <b>Motivation</b>\n",
    "Traditional event logs, used by mainstream process mining techniques, require the events to be related to a case. A case is a set of events for a particular purpose. A case notion is a criteria to assign a case to the events.\n",
    "\n",
    "However, in real processes this leads to two problems:\n",
    "\n",
    "* If we consider the Order-to-Cash process, an order could be related to many different deliveries. If we consider the delivery as case notion, the same event of Create Order needs to be replicated in different cases (all the deliveries involving the order). This is called the <b>convergence</b> problem.\n",
    "* If we consider the Order-to-Cash process, an order could contain different order items, each one with a different lifecycle. If we consider the order as case notion, several instances of the activities for the single items may be contained in the case, and this make the frequency/performance annotation of the process problematic. This is called the <b>divergence</b> problem.\n",
    "\n",
    "<b>Object-centric event logs</b> relax the assumption that an event is related to exactly one case. Indeed, an event can be related to different objects of different object types.\n",
    "\n",
    "Essentially, we can describe the different components of an object-centric event log as:\n",
    "\n",
    "* <b>Events</b>, having an identifier, an activity, a timestamp, a list of related objects and a dictionary of other attributes.\n",
    "* <b>Objects</b>, having an identifier, a type and a dictionary of other attributes.\n",
    "* <b>Attribute names</b>, e.g. the possible keys for the attributes of the event/object attribute map.\n",
    "* <b>Object types</b>, e.g. the possible types for the objects.\n",
    "<br></br>\n"
   ]
  },
  {
   "cell_type": "markdown",
   "id": "ed54d274-6012-469b-a8bb-bb4c607c4fee",
   "metadata": {
    "tags": []
   },
   "source": [
    "# <b>Supported Formats</b>\n",
    "Several historical formats (OpenSLEX, XOC) have been proposed for the storage of object-centric event logs. In particular, the [OCEL standard](http://www.ocel-standard.org/) proposes lean and intercompatible formats for the storage of object-centric event logs. These include:\n",
    "\n",
    "* <b>XML-OCEL</b>: a storage format based on XML for object-centric event logs. An example of XML-OCEL event log is reported [here](https://github.com/pm4py/pm4py-core/blob/release/tests/input_data/ocel/example_log.xmlocel).\n",
    "* <b>JSON-OCEL</b>: a storage format based on JSON for object-centric event logs. An example of JSON-OCEL event log is reported [here](https://github.com/pm4py/pm4py-core/blob/release/tests/input_data/ocel/example_log.jsonocel).\n",
    "\n",
    "Among the commonalities of these formats, the event/object identifier is <b>ocel:id</b>, the activity identifier is <b>ocel:activity</b>, the timestamp of the event is <b>ocel:timestamp</b>, the type of the object is <b>ocel:type</b>. Moreover, the list of related objects for the events is identified by <b>ocel:omap</b>, the attribute map for the events is identified by <b>ocel:vmap</b>, the attribute map for the objects is identified by <b>ocel:ovmap</b>.\n",
    "\n",
    "Ignoring the attributes at the object level, we can also represent the object-centric event log in a CSV format (an example is reported [here](https://github.com/pm4py/pm4py-core/blob/release/tests/input_data/ocel/example_log.csv)). There, a row represent an event, where the event identifier is <b>ocel:eid</b>, and the related objects for a given type OTYPE are reported as a list under the voice <b>ocel:type:OTYPE</b>.\n",
    "<br></br>\n"
   ]
  },
  {
   "cell_type": "markdown",
   "id": "f201a600-eaa9-4eea-851e-51f26e8682e4",
   "metadata": {
    "tags": []
   },
   "source": [
    "# <b>Topics:</b>"
   ]
  },
  {
   "cell_type": "markdown",
   "id": "41ecd573-a1d5-4620-b8ae-d4e46b2758fc",
   "metadata": {
    "tags": []
   },
   "source": [
    "## <b>1. Setup</b>"
   ]
  },
  {
   "cell_type": "code",
   "execution_count": 1,
   "id": "de4da536-11d0-4f60-ace9-baf3526ce1f4",
   "metadata": {
    "tags": []
   },
   "outputs": [],
   "source": [
    "import pm4py\n",
    "from pm4py.algo.discovery.ocel.interleavings import algorithm as interleavings_discovery\n",
    "from pm4py.algo.merging.case_relations import algorithm as case_relations_merging\n",
    "from pm4py.visualization.ocel.interleavings import visualizer as interleavings_visualizer\n",
    "from pm4py.algo.discovery.ocel.link_analysis import algorithm as link_analysis\n",
    "from pm4py.algo.transformation.ocel.features.objects import algorithm\n",
    "from pm4py.algo.transformation.ocel.features.events import algorithm\n",
    "from pm4py.algo.transformation.ocel.graphs import (object_interaction_graph,\n",
    "                                                   object_descendants_graph,\n",
    "                                                   object_inheritance_graph,\n",
    "                                                   object_cobirth_graph,\n",
    "                                                   object_codeath_graph)\n",
    "\n",
    "from pm4py.objects.ocel.util import log_ocel\n",
    "\n",
    "\n",
    "import pandas as pd\n",
    "from src import SRC_DIR\n",
    "\n",
    "import warnings\n",
    "warnings.filterwarnings(\"ignore\")"
   ]
  },
  {
   "cell_type": "markdown",
   "id": "281570b7-4a17-46c3-9a36-bb4a168f1688",
   "metadata": {
    "tags": []
   },
   "source": [
    "<br></br>\n",
    "## <b>2. Importing/Export OCELs</b>"
   ]
  },
  {
   "cell_type": "code",
   "execution_count": 2,
   "id": "f1e7a713-77ab-4ad9-b66b-d76bbc01fbd6",
   "metadata": {
    "tags": []
   },
   "outputs": [],
   "source": [
    "# For all the supported formats, an OCEL event log can be read by doing:\n",
    "\n",
    "ocel = pm4py.read_ocel(str(SRC_DIR / 'Datasets' / 'Example' / 'Recruiting' / 'recruiting.jsonocel'))"
   ]
  },
  {
   "cell_type": "code",
   "execution_count": 3,
   "id": "5c573ec1-74a0-4d5f-9277-eb946afc9cdc",
   "metadata": {
    "tags": []
   },
   "outputs": [],
   "source": [
    "# An OCEL can also be exported easily by doing (ocel is assumed to be an object-centric event log):\n",
    "\n",
    "pm4py.write_ocel(ocel, str(SRC_DIR / 'Datasets' / 'Example' / 'Recruiting' / 'recruiting.jsonocel'))"
   ]
  },
  {
   "cell_type": "markdown",
   "id": "bed91754-a3ff-4a24-8e76-476d188f800a",
   "metadata": {
    "tags": []
   },
   "source": [
    "<br></br>\n",
    "## <b>3. Basic Statistics on OCELs</b>"
   ]
  },
  {
   "cell_type": "code",
   "execution_count": 5,
   "id": "0b18b9d4-bf25-4826-8d73-c76a0382a783",
   "metadata": {},
   "outputs": [
    {
     "name": "stdout",
     "output_type": "stream",
     "text": [
      "Object-Centric Event Log (number of events: 6980, number of objects: 1505, number of activities: 16, number of object types: 6, events-objects relationships: 21961)\n",
      "Activities occurrences: {'submit application': 916, 'assign recruiter': 916, 'first screening': 916, 'send rejection': 781, 'check references': 729, 'consult manager': 729, 'assign vacancy': 458, 'invite for interview': 446, 'conduct interview': 446, 'open vacancy': 140, 'close vacancy for new applications': 140, 'make job offer': 135, 'offer accepted and hired': 89, 'close vacancy (no hire)': 51, 'job offer declined': 46, 'change manager': 42}\n",
      "Object types occurrences (number of objects): {'applications': 916, 'applicants': 288, 'vacancies': 140, 'offers': 135, 'recruiters': 20, 'managers': 6}\n",
      "Please use <THIS>.get_extended_table() to get a dataframe representation of the events related to the objects.\n"
     ]
    }
   ],
   "source": [
    "# The simplest way of obtaining some statistics on OCELs is by doing the print of the OCEL object:\n",
    "\n",
    "print(ocel)"
   ]
  },
  {
   "cell_type": "code",
   "execution_count": 6,
   "id": "d0758d07-83f8-4adb-a494-9479a20caa3c",
   "metadata": {
    "tags": []
   },
   "outputs": [
    {
     "data": {
      "text/plain": [
       "['vacancies', 'managers', 'applicants', 'applications', 'recruiters', 'offers']"
      ]
     },
     "execution_count": 6,
     "metadata": {},
     "output_type": "execute_result"
    }
   ],
   "source": [
    "# The retrieval of the object types contained in the event log can be otained doing:\n",
    "\n",
    "pm4py.ocel_get_object_types(ocel)"
   ]
  },
  {
   "cell_type": "code",
   "execution_count": 16,
   "id": "3769e67f-b831-415d-a656-950f42a0476a",
   "metadata": {
    "tags": []
   },
   "outputs": [
    {
     "data": {
      "text/plain": [
       "{'applications': {'assign recruiter',\n",
       "  'assign vacancy',\n",
       "  'check references',\n",
       "  'conduct interview',\n",
       "  'consult manager',\n",
       "  'first screening',\n",
       "  'invite for interview',\n",
       "  'job offer declined',\n",
       "  'make job offer',\n",
       "  'offer accepted and hired',\n",
       "  'send rejection',\n",
       "  'submit application'},\n",
       " 'recruiters': {'assign recruiter',\n",
       "  'check references',\n",
       "  'conduct interview',\n",
       "  'consult manager',\n",
       "  'first screening',\n",
       "  'invite for interview',\n",
       "  'job offer declined',\n",
       "  'make job offer',\n",
       "  'offer accepted and hired',\n",
       "  'send rejection'},\n",
       " 'vacancies': {'assign vacancy',\n",
       "  'change manager',\n",
       "  'close vacancy (no hire)',\n",
       "  'close vacancy for new applications',\n",
       "  'conduct interview',\n",
       "  'invite for interview',\n",
       "  'job offer declined',\n",
       "  'make job offer',\n",
       "  'offer accepted and hired',\n",
       "  'open vacancy',\n",
       "  'submit application'},\n",
       " 'managers': {'change manager',\n",
       "  'conduct interview',\n",
       "  'consult manager',\n",
       "  'make job offer',\n",
       "  'open vacancy'},\n",
       " 'applicants': {'conduct interview',\n",
       "  'invite for interview',\n",
       "  'job offer declined',\n",
       "  'make job offer',\n",
       "  'offer accepted and hired',\n",
       "  'send rejection',\n",
       "  'submit application'},\n",
       " 'offers': {'job offer declined',\n",
       "  'make job offer',\n",
       "  'offer accepted and hired'}}"
      ]
     },
     "execution_count": 16,
     "metadata": {},
     "output_type": "execute_result"
    }
   ],
   "source": [
    "# The retrieval of a dictionary containing the set of activities for each object type can be obtained using the command on the right:\n",
    "\n",
    "pm4py.ocel_object_type_activities(ocel)"
   ]
  },
  {
   "cell_type": "code",
   "execution_count": 28,
   "id": "90b87b82-3830-4b00-8053-3550eb53d673",
   "metadata": {
    "tags": []
   },
   "outputs": [
    {
     "name": "stdout",
     "output_type": "stream",
     "text": [
      "('1', Counter({'vacancies': 1, 'managers': 1}))\n"
     ]
    }
   ],
   "source": [
    "# It is possible to obtain for each event identifier and object type the number of related objects to the event:\n",
    "\n",
    "for item in pm4py.ocel_objects_ot_count(ocel).items():\n",
    "    print(item)\n",
    "    break"
   ]
  },
  {
   "cell_type": "code",
   "execution_count": 20,
   "id": "617380d5-279d-49ff-9b8c-9999a1ac80bf",
   "metadata": {
    "tags": []
   },
   "outputs": [
    {
     "data": {
      "text/html": [
       "<div>\n",
       "<style scoped>\n",
       "    .dataframe tbody tr th:only-of-type {\n",
       "        vertical-align: middle;\n",
       "    }\n",
       "\n",
       "    .dataframe tbody tr th {\n",
       "        vertical-align: top;\n",
       "    }\n",
       "\n",
       "    .dataframe thead th {\n",
       "        text-align: right;\n",
       "    }\n",
       "</style>\n",
       "<table border=\"1\" class=\"dataframe\">\n",
       "  <thead>\n",
       "    <tr style=\"text-align: right;\">\n",
       "      <th></th>\n",
       "      <th>ocel:timestamp</th>\n",
       "      <th>ocel:activity</th>\n",
       "      <th>ocel:oid</th>\n",
       "    </tr>\n",
       "  </thead>\n",
       "  <tbody>\n",
       "    <tr>\n",
       "      <th>0</th>\n",
       "      <td>2019-05-20 12:26:57+00:00</td>\n",
       "      <td>{open vacancy, submit application}</td>\n",
       "      <td>{Vacancy[550001] - Manager, Application[770001...</td>\n",
       "    </tr>\n",
       "    <tr>\n",
       "      <th>1</th>\n",
       "      <td>2019-05-20 13:38:13+00:00</td>\n",
       "      <td>{submit application}</td>\n",
       "      <td>{Toon Jansen, Application[770002]}</td>\n",
       "    </tr>\n",
       "    <tr>\n",
       "      <th>2</th>\n",
       "      <td>2019-05-20 15:00:46+00:00</td>\n",
       "      <td>{submit application}</td>\n",
       "      <td>{Jorge Li, Application[770003]}</td>\n",
       "    </tr>\n",
       "    <tr>\n",
       "      <th>3</th>\n",
       "      <td>2019-05-20 15:45:06+00:00</td>\n",
       "      <td>{submit application}</td>\n",
       "      <td>{Lisa Jones, Application[770004]}</td>\n",
       "    </tr>\n",
       "    <tr>\n",
       "      <th>4</th>\n",
       "      <td>2019-05-20 17:14:31+00:00</td>\n",
       "      <td>{submit application}</td>\n",
       "      <td>{Vacancy[550001] - Manager, Pete Jansen, Appli...</td>\n",
       "    </tr>\n",
       "  </tbody>\n",
       "</table>\n",
       "</div>"
      ],
      "text/plain": [
       "             ocel:timestamp                       ocel:activity  \\\n",
       "0 2019-05-20 12:26:57+00:00  {open vacancy, submit application}   \n",
       "1 2019-05-20 13:38:13+00:00                {submit application}   \n",
       "2 2019-05-20 15:00:46+00:00                {submit application}   \n",
       "3 2019-05-20 15:45:06+00:00                {submit application}   \n",
       "4 2019-05-20 17:14:31+00:00                {submit application}   \n",
       "\n",
       "                                            ocel:oid  \n",
       "0  {Vacancy[550001] - Manager, Application[770001...  \n",
       "1                 {Toon Jansen, Application[770002]}  \n",
       "2                    {Jorge Li, Application[770003]}  \n",
       "3                  {Lisa Jones, Application[770004]}  \n",
       "4  {Vacancy[550001] - Manager, Pete Jansen, Appli...  "
      ]
     },
     "execution_count": 20,
     "metadata": {},
     "output_type": "execute_result"
    }
   ],
   "source": [
    "# The temporal summary is a table in which the different timestamps are reported along with the set of activities happening in a given time and the objects involved\n",
    "\n",
    "pm4py.ocel_temporal_summary(ocel).head(5)"
   ]
  },
  {
   "cell_type": "code",
   "execution_count": 29,
   "id": "cadbd202-21a0-4d0d-88bf-299e18a35de2",
   "metadata": {
    "tags": []
   },
   "outputs": [
    {
     "data": {
      "text/html": [
       "<div>\n",
       "<style scoped>\n",
       "    .dataframe tbody tr th:only-of-type {\n",
       "        vertical-align: middle;\n",
       "    }\n",
       "\n",
       "    .dataframe tbody tr th {\n",
       "        vertical-align: top;\n",
       "    }\n",
       "\n",
       "    .dataframe thead th {\n",
       "        text-align: right;\n",
       "    }\n",
       "</style>\n",
       "<table border=\"1\" class=\"dataframe\">\n",
       "  <thead>\n",
       "    <tr style=\"text-align: right;\">\n",
       "      <th></th>\n",
       "      <th>ocel:oid</th>\n",
       "      <th>activities_lifecycle</th>\n",
       "      <th>lifecycle_start</th>\n",
       "      <th>lifecycle_end</th>\n",
       "      <th>lifecycle_duration</th>\n",
       "      <th>interacting_objects</th>\n",
       "    </tr>\n",
       "  </thead>\n",
       "  <tbody>\n",
       "    <tr>\n",
       "      <th>0</th>\n",
       "      <td>Alexander Rinke</td>\n",
       "      <td>[open vacancy, open vacancy, open vacancy, ope...</td>\n",
       "      <td>2019-05-23 14:03:33+00:00</td>\n",
       "      <td>2020-07-30 10:30:08+00:00</td>\n",
       "      <td>37484795.0</td>\n",
       "      <td>{Vacancy[550093] - Manager, Application[770615...</td>\n",
       "    </tr>\n",
       "    <tr>\n",
       "      <th>1</th>\n",
       "      <td>Andre Brown</td>\n",
       "      <td>[submit application, send rejection, submit ap...</td>\n",
       "      <td>2019-05-31 11:10:06+00:00</td>\n",
       "      <td>2019-09-10 13:59:23+00:00</td>\n",
       "      <td>8822957.0</td>\n",
       "      <td>{Vacancy[550104] - Manager, Ed Keane, Vaishnav...</td>\n",
       "    </tr>\n",
       "    <tr>\n",
       "      <th>2</th>\n",
       "      <td>Andre Davis</td>\n",
       "      <td>[submit application, send rejection, submit ap...</td>\n",
       "      <td>2019-06-04 13:19:15+00:00</td>\n",
       "      <td>2019-10-14 15:10:25+00:00</td>\n",
       "      <td>11411470.0</td>\n",
       "      <td>{Ed Hense, Dionne Geisler, Simon Keane, Applic...</td>\n",
       "    </tr>\n",
       "    <tr>\n",
       "      <th>3</th>\n",
       "      <td>Andre Jansen</td>\n",
       "      <td>[submit application, send rejection, submit ap...</td>\n",
       "      <td>2019-06-02 16:54:01+00:00</td>\n",
       "      <td>2019-07-10 17:05:47+00:00</td>\n",
       "      <td>3283906.0</td>\n",
       "      <td>{Simon Meister, Application[770117], Vacancy[5...</td>\n",
       "    </tr>\n",
       "    <tr>\n",
       "      <th>4</th>\n",
       "      <td>Andre Johnson</td>\n",
       "      <td>[submit application, invite for interview, con...</td>\n",
       "      <td>2019-05-22 13:28:42+00:00</td>\n",
       "      <td>2019-10-10 16:23:56+00:00</td>\n",
       "      <td>12192914.0</td>\n",
       "      <td>{Ed Keane, Application[770026], Vacancy[550018...</td>\n",
       "    </tr>\n",
       "  </tbody>\n",
       "</table>\n",
       "</div>"
      ],
      "text/plain": [
       "          ocel:oid                               activities_lifecycle  \\\n",
       "0  Alexander Rinke  [open vacancy, open vacancy, open vacancy, ope...   \n",
       "1      Andre Brown  [submit application, send rejection, submit ap...   \n",
       "2      Andre Davis  [submit application, send rejection, submit ap...   \n",
       "3     Andre Jansen  [submit application, send rejection, submit ap...   \n",
       "4    Andre Johnson  [submit application, invite for interview, con...   \n",
       "\n",
       "            lifecycle_start             lifecycle_end  lifecycle_duration  \\\n",
       "0 2019-05-23 14:03:33+00:00 2020-07-30 10:30:08+00:00          37484795.0   \n",
       "1 2019-05-31 11:10:06+00:00 2019-09-10 13:59:23+00:00           8822957.0   \n",
       "2 2019-06-04 13:19:15+00:00 2019-10-14 15:10:25+00:00          11411470.0   \n",
       "3 2019-06-02 16:54:01+00:00 2019-07-10 17:05:47+00:00           3283906.0   \n",
       "4 2019-05-22 13:28:42+00:00 2019-10-10 16:23:56+00:00          12192914.0   \n",
       "\n",
       "                                 interacting_objects  \n",
       "0  {Vacancy[550093] - Manager, Application[770615...  \n",
       "1  {Vacancy[550104] - Manager, Ed Keane, Vaishnav...  \n",
       "2  {Ed Hense, Dionne Geisler, Simon Keane, Applic...  \n",
       "3  {Simon Meister, Application[770117], Vacancy[5...  \n",
       "4  {Ed Keane, Application[770026], Vacancy[550018...  "
      ]
     },
     "execution_count": 29,
     "metadata": {},
     "output_type": "execute_result"
    }
   ],
   "source": [
    "# The objects summary is a table in which the different objects occurring in the log are reported along with the list of activities of the events related to the object,\n",
    "# the start/end timestamps of the lifecycle, the duration of the lifecycle and the other objects related to the given object in the interaction graph.\n",
    "\n",
    "pm4py.ocel_objects_summary(ocel).head(5)"
   ]
  },
  {
   "cell_type": "markdown",
   "id": "14b1fb4d-65ef-4085-a117-2a29637b4576",
   "metadata": {
    "tags": []
   },
   "source": [
    "<br></br>\n",
    "## <b>4. Internal Data Structure</b>\n",
    "\n",
    "pm4py has in total three Pandas dataframes:\n",
    "\n",
    "* The <b>events</b> dataframe: this stores a row for each event. Each row contains the event identifier (<b>ocel:eid</b>), the activity (<b>ocel:activity</b>), the timestamp (<b>ocel:timestamp</b>), and the values for the other event attributes (one per column).\n",
    "* The <b>objects</b> dataframe: this stores a row for each object. Each row contains the object identifier (<b>ocel:oid</b>), the type (<b>ocel:type</b>), and the values for the object attributes (one per column).\n",
    "* The <b>relations</b> dataframe: this stores a row for every relation event->object. Each row contains the event identifier (<b>ocel:eid</b>), the object identifier (<b>ocel:oid</b>), the type of the related object (<b>ocel:type</b>).\n",
    "\n",
    "These dataframes can be accessed as properties of the OCEL object (e.g., ocel.events, ocel.objects, ocel.relations), and be obviously used for any purposes (filtering, discovery)."
   ]
  },
  {
   "cell_type": "markdown",
   "id": "06c1e924-2f19-479c-ac5f-f17e83fc00b2",
   "metadata": {
    "tags": []
   },
   "source": [
    "<br></br>\n",
    "### <b>4.1. The events:</b>"
   ]
  },
  {
   "cell_type": "code",
   "execution_count": 30,
   "id": "01872241-63c8-4131-b27f-7bec3ec15528",
   "metadata": {
    "tags": []
   },
   "outputs": [
    {
     "data": {
      "text/html": [
       "<div>\n",
       "<style scoped>\n",
       "    .dataframe tbody tr th:only-of-type {\n",
       "        vertical-align: middle;\n",
       "    }\n",
       "\n",
       "    .dataframe tbody tr th {\n",
       "        vertical-align: top;\n",
       "    }\n",
       "\n",
       "    .dataframe thead th {\n",
       "        text-align: right;\n",
       "    }\n",
       "</style>\n",
       "<table border=\"1\" class=\"dataframe\">\n",
       "  <thead>\n",
       "    <tr style=\"text-align: right;\">\n",
       "      <th></th>\n",
       "      <th>ocel:eid</th>\n",
       "      <th>ocel:timestamp</th>\n",
       "      <th>ocel:activity</th>\n",
       "    </tr>\n",
       "  </thead>\n",
       "  <tbody>\n",
       "    <tr>\n",
       "      <th>0</th>\n",
       "      <td>1</td>\n",
       "      <td>2019-05-20 12:26:57+00:00</td>\n",
       "      <td>open vacancy</td>\n",
       "    </tr>\n",
       "    <tr>\n",
       "      <th>1</th>\n",
       "      <td>2</td>\n",
       "      <td>2019-05-20 12:26:57+00:00</td>\n",
       "      <td>submit application</td>\n",
       "    </tr>\n",
       "    <tr>\n",
       "      <th>2</th>\n",
       "      <td>3</td>\n",
       "      <td>2019-05-20 13:38:13+00:00</td>\n",
       "      <td>submit application</td>\n",
       "    </tr>\n",
       "    <tr>\n",
       "      <th>3</th>\n",
       "      <td>4</td>\n",
       "      <td>2019-05-20 15:00:46+00:00</td>\n",
       "      <td>submit application</td>\n",
       "    </tr>\n",
       "    <tr>\n",
       "      <th>4</th>\n",
       "      <td>5</td>\n",
       "      <td>2019-05-20 15:45:06+00:00</td>\n",
       "      <td>submit application</td>\n",
       "    </tr>\n",
       "  </tbody>\n",
       "</table>\n",
       "</div>"
      ],
      "text/plain": [
       "  ocel:eid            ocel:timestamp       ocel:activity\n",
       "0        1 2019-05-20 12:26:57+00:00        open vacancy\n",
       "1        2 2019-05-20 12:26:57+00:00  submit application\n",
       "2        3 2019-05-20 13:38:13+00:00  submit application\n",
       "3        4 2019-05-20 15:00:46+00:00  submit application\n",
       "4        5 2019-05-20 15:45:06+00:00  submit application"
      ]
     },
     "execution_count": 30,
     "metadata": {},
     "output_type": "execute_result"
    }
   ],
   "source": [
    "ocel.events.head()"
   ]
  },
  {
   "cell_type": "markdown",
   "id": "e57e21c1-0104-447d-a10d-20eed73995d7",
   "metadata": {
    "tags": []
   },
   "source": [
    "<br></br>\n",
    "### <b>4.2. The objects:</b>"
   ]
  },
  {
   "cell_type": "code",
   "execution_count": 13,
   "id": "04182c2c-bac1-4d5e-9fdf-3aeb62f375c0",
   "metadata": {
    "tags": []
   },
   "outputs": [
    {
     "data": {
      "text/html": [
       "<div>\n",
       "<style scoped>\n",
       "    .dataframe tbody tr th:only-of-type {\n",
       "        vertical-align: middle;\n",
       "    }\n",
       "\n",
       "    .dataframe tbody tr th {\n",
       "        vertical-align: top;\n",
       "    }\n",
       "\n",
       "    .dataframe thead th {\n",
       "        text-align: right;\n",
       "    }\n",
       "</style>\n",
       "<table border=\"1\" class=\"dataframe\">\n",
       "  <thead>\n",
       "    <tr style=\"text-align: right;\">\n",
       "      <th></th>\n",
       "      <th>ocel:oid</th>\n",
       "      <th>ocel:type</th>\n",
       "    </tr>\n",
       "  </thead>\n",
       "  <tbody>\n",
       "    <tr>\n",
       "      <th>0</th>\n",
       "      <td>Vacancy[550001] - Manager</td>\n",
       "      <td>vacancies</td>\n",
       "    </tr>\n",
       "    <tr>\n",
       "      <th>1</th>\n",
       "      <td>Bastian Nominacher</td>\n",
       "      <td>managers</td>\n",
       "    </tr>\n",
       "    <tr>\n",
       "      <th>2</th>\n",
       "      <td>Stephan Taylor</td>\n",
       "      <td>applicants</td>\n",
       "    </tr>\n",
       "    <tr>\n",
       "      <th>3</th>\n",
       "      <td>Application[770001]</td>\n",
       "      <td>applications</td>\n",
       "    </tr>\n",
       "    <tr>\n",
       "      <th>4</th>\n",
       "      <td>Toon Jansen</td>\n",
       "      <td>applicants</td>\n",
       "    </tr>\n",
       "  </tbody>\n",
       "</table>\n",
       "</div>"
      ],
      "text/plain": [
       "                    ocel:oid     ocel:type\n",
       "0  Vacancy[550001] - Manager     vacancies\n",
       "1         Bastian Nominacher      managers\n",
       "2             Stephan Taylor    applicants\n",
       "3        Application[770001]  applications\n",
       "4                Toon Jansen    applicants"
      ]
     },
     "execution_count": 13,
     "metadata": {},
     "output_type": "execute_result"
    }
   ],
   "source": [
    "ocel.objects.head()"
   ]
  },
  {
   "cell_type": "markdown",
   "id": "6557c064-ee4d-497c-8f81-70b854fb1214",
   "metadata": {
    "tags": []
   },
   "source": [
    "<br></br>\n",
    "### <b>4.3. The relations:</b>"
   ]
  },
  {
   "cell_type": "code",
   "execution_count": 14,
   "id": "dffe9b9f-4627-4b3a-bbae-a7a481c01ef6",
   "metadata": {
    "tags": []
   },
   "outputs": [
    {
     "data": {
      "text/html": [
       "<div>\n",
       "<style scoped>\n",
       "    .dataframe tbody tr th:only-of-type {\n",
       "        vertical-align: middle;\n",
       "    }\n",
       "\n",
       "    .dataframe tbody tr th {\n",
       "        vertical-align: top;\n",
       "    }\n",
       "\n",
       "    .dataframe thead th {\n",
       "        text-align: right;\n",
       "    }\n",
       "</style>\n",
       "<table border=\"1\" class=\"dataframe\">\n",
       "  <thead>\n",
       "    <tr style=\"text-align: right;\">\n",
       "      <th></th>\n",
       "      <th>ocel:eid</th>\n",
       "      <th>ocel:activity</th>\n",
       "      <th>ocel:timestamp</th>\n",
       "      <th>ocel:oid</th>\n",
       "      <th>ocel:type</th>\n",
       "      <th>ocel:qualifier</th>\n",
       "    </tr>\n",
       "  </thead>\n",
       "  <tbody>\n",
       "    <tr>\n",
       "      <th>0</th>\n",
       "      <td>1</td>\n",
       "      <td>open vacancy</td>\n",
       "      <td>2019-05-20 12:26:57+00:00</td>\n",
       "      <td>Vacancy[550001] - Manager</td>\n",
       "      <td>vacancies</td>\n",
       "      <td>None</td>\n",
       "    </tr>\n",
       "    <tr>\n",
       "      <th>1</th>\n",
       "      <td>1</td>\n",
       "      <td>open vacancy</td>\n",
       "      <td>2019-05-20 12:26:57+00:00</td>\n",
       "      <td>Bastian Nominacher</td>\n",
       "      <td>managers</td>\n",
       "      <td>None</td>\n",
       "    </tr>\n",
       "    <tr>\n",
       "      <th>2</th>\n",
       "      <td>2</td>\n",
       "      <td>submit application</td>\n",
       "      <td>2019-05-20 12:26:57+00:00</td>\n",
       "      <td>Stephan Taylor</td>\n",
       "      <td>applicants</td>\n",
       "      <td>None</td>\n",
       "    </tr>\n",
       "    <tr>\n",
       "      <th>3</th>\n",
       "      <td>2</td>\n",
       "      <td>submit application</td>\n",
       "      <td>2019-05-20 12:26:57+00:00</td>\n",
       "      <td>Application[770001]</td>\n",
       "      <td>applications</td>\n",
       "      <td>None</td>\n",
       "    </tr>\n",
       "    <tr>\n",
       "      <th>4</th>\n",
       "      <td>3</td>\n",
       "      <td>submit application</td>\n",
       "      <td>2019-05-20 13:38:13+00:00</td>\n",
       "      <td>Toon Jansen</td>\n",
       "      <td>applicants</td>\n",
       "      <td>None</td>\n",
       "    </tr>\n",
       "  </tbody>\n",
       "</table>\n",
       "</div>"
      ],
      "text/plain": [
       "  ocel:eid       ocel:activity            ocel:timestamp  \\\n",
       "0        1        open vacancy 2019-05-20 12:26:57+00:00   \n",
       "1        1        open vacancy 2019-05-20 12:26:57+00:00   \n",
       "2        2  submit application 2019-05-20 12:26:57+00:00   \n",
       "3        2  submit application 2019-05-20 12:26:57+00:00   \n",
       "4        3  submit application 2019-05-20 13:38:13+00:00   \n",
       "\n",
       "                    ocel:oid     ocel:type ocel:qualifier  \n",
       "0  Vacancy[550001] - Manager     vacancies           None  \n",
       "1         Bastian Nominacher      managers           None  \n",
       "2             Stephan Taylor    applicants           None  \n",
       "3        Application[770001]  applications           None  \n",
       "4                Toon Jansen    applicants           None  "
      ]
     },
     "execution_count": 14,
     "metadata": {},
     "output_type": "execute_result"
    }
   ],
   "source": [
    "ocel.relations.head()"
   ]
  },
  {
   "cell_type": "markdown",
   "id": "cffccde0-51a1-4907-98b3-3bbca821da99",
   "metadata": {
    "tags": []
   },
   "source": [
    "<br></br>\n",
    "## <b>5. Filtering Object-Centric Event Logs</b>\n",
    "\n",
    "There are filters at three levels:\n",
    "* Filters at the <b>event level</b> (operating first at the ocel.events structure and then propagating the result to the other parts of the object-centric log).\n",
    "* Filters at the <b>object level</b> (operating first at the ocel.objects structure and then propagating the result to the other parts of the object-centric log).\n",
    "* Filters at the <b>relations level</b> (operating first at the ocel.relations structure and then propagating the result to the other parts of the object-centric log)."
   ]
  },
  {
   "cell_type": "code",
   "execution_count": 31,
   "id": "fc065bb5-1009-41a2-a247-7d99dde8ace2",
   "metadata": {
    "tags": []
   },
   "outputs": [],
   "source": [
    "ocel = pm4py.read_ocel(str(SRC_DIR / 'Datasets' / 'Example' / 'Orders' / 'example_log.jsonocel'))"
   ]
  },
  {
   "cell_type": "markdown",
   "id": "aac26914-33e3-4e56-8125-6b30f8d08c0b",
   "metadata": {
    "tags": []
   },
   "source": [
    "<br></br>\n",
    "### <b>5.1. Filter on Event Attributes:</b>"
   ]
  },
  {
   "cell_type": "code",
   "execution_count": 14,
   "id": "1741071a-5186-46ff-9dc6-ba9f4eb123b0",
   "metadata": {
    "tags": []
   },
   "outputs": [
    {
     "data": {
      "text/plain": [
       "Object-Centric Event Log (number of events: 0, number of objects: 0, number of activities: 0, number of object types: 0, events-objects relationships: 0)\n",
       "Activities occurrences: {}\n",
       "Object types occurrences (number of objects): {}\n",
       "Please use <THIS>.get_extended_table() to get a dataframe representation of the events related to the objects."
      ]
     },
     "execution_count": 14,
     "metadata": {},
     "output_type": "execute_result"
    }
   ],
   "source": [
    "# 1. Filtering on the ocel:activity (the activity) attribute is reported on the right.\n",
    "# 2. The positive boolean tells if to filter the events with an activity falling in the list or to filter the events NOT falling in the specified list (if positive is False)\n",
    "\n",
    "pm4py.filter_ocel_event_attribute(ocel, \"ocel:activity\", [\"Create Fine\", \"Send Fine\"], positive=True)"
   ]
  },
  {
   "cell_type": "markdown",
   "id": "84e670fb-d408-4595-8715-bbd640e17f95",
   "metadata": {
    "tags": []
   },
   "source": [
    "<br></br>\n",
    "### <b>5.2. Filter on Object Attributes:</b>"
   ]
  },
  {
   "cell_type": "code",
   "execution_count": 16,
   "id": "09673b92-05d1-4fce-8076-17edc564088e",
   "metadata": {
    "tags": []
   },
   "outputs": [
    {
     "data": {
      "text/plain": [
       "Object-Centric Event Log (number of events: 20, number of objects: 6, number of activities: 12, number of object types: 2, events-objects relationships: 20)\n",
       "Activities occurrences: {'Create Order': 3, 'Create Delivery': 3, 'Delivery Successful': 3, 'Invoice Sent': 2, 'Payment Reminder': 2, 'Confirm Order': 1, 'Delivery Failed': 1, 'Retry Delivery': 1, 'Pay Order': 1, 'Cancel Order': 1, 'Add Item to Order': 1, 'Send for Credit Collection': 1}\n",
       "Object types occurrences (number of objects): {'order': 3, 'delivery': 3}\n",
       "Please use <THIS>.get_extended_table() to get a dataframe representation of the events related to the objects."
      ]
     },
     "execution_count": 16,
     "metadata": {},
     "output_type": "execute_result"
    }
   ],
   "source": [
    "pm4py.filter_ocel_object_attribute(ocel, \"ocel:type\", [\"order\", \"delivery\"], positive=True)"
   ]
  },
  {
   "cell_type": "markdown",
   "id": "f63f3176-3ea3-4467-8080-4070d12283fb",
   "metadata": {
    "tags": []
   },
   "source": [
    "<br></br>\n",
    "### <b>5.3. Filter on Allowed Activities per Object Type:</b>"
   ]
  },
  {
   "cell_type": "code",
   "execution_count": 17,
   "id": "dca63d08-804a-4dcc-9adb-7f49527b6720",
   "metadata": {
    "tags": []
   },
   "outputs": [
    {
     "data": {
      "text/plain": [
       "Object-Centric Event Log (number of events: 3, number of objects: 3, number of activities: 1, number of object types: 1, events-objects relationships: 3)\n",
       "Activities occurrences: {'Create Order': 3}\n",
       "Object types occurrences (number of objects): {'order': 3}\n",
       "Please use <THIS>.get_extended_table() to get a dataframe representation of the events related to the objects."
      ]
     },
     "execution_count": 17,
     "metadata": {},
     "output_type": "execute_result"
    }
   ],
   "source": [
    "pm4py.filter_ocel_object_types_allowed_activities(ocel, {\"order\": [\"Create Order\"], \"item\": [\"Create Order\", \"Create Delivery\"]})"
   ]
  },
  {
   "cell_type": "markdown",
   "id": "57c5e872-8786-464e-97d0-607cdc64fef8",
   "metadata": {
    "tags": []
   },
   "source": [
    "<br></br>\n",
    "### <b>5.4. Filter on the Number of Objects per Type:</b>"
   ]
  },
  {
   "cell_type": "code",
   "execution_count": 25,
   "id": "7342fb0f-ca04-45c2-b0a0-85737063ef35",
   "metadata": {
    "tags": []
   },
   "outputs": [
    {
     "data": {
      "text/plain": [
       "Object-Centric Event Log (number of events: 3, number of objects: 11, number of activities: 1, number of object types: 2, events-objects relationships: 11)\n",
       "Activities occurrences: {'Create Order': 3}\n",
       "Object types occurrences (number of objects): {'element': 8, 'order': 3}\n",
       "Please use <THIS>.get_extended_table() to get a dataframe representation of the events related to the objects."
      ]
     },
     "execution_count": 25,
     "metadata": {},
     "output_type": "execute_result"
    }
   ],
   "source": [
    "pm4py.filter_ocel_object_per_type_count(ocel, {\"order\": 1, \"element\": 2})"
   ]
  },
  {
   "cell_type": "markdown",
   "id": "7422723f-c029-40aa-9f5d-41a04d19271c",
   "metadata": {
    "tags": []
   },
   "source": [
    "<br></br>\n",
    "### <b>5.5. Filter on Start/End Events per Object:</b>"
   ]
  },
  {
   "cell_type": "code",
   "execution_count": 26,
   "id": "058134f7-eda1-416c-b44b-3549d585b988",
   "metadata": {
    "tags": []
   },
   "outputs": [
    {
     "data": {
      "text/plain": [
       "Object-Centric Event Log (number of events: 3, number of objects: 3, number of activities: 3, number of object types: 1, events-objects relationships: 3)\n",
       "Activities occurrences: {'Pay Order': 1, 'Cancel Order': 1, 'Send for Credit Collection': 1}\n",
       "Object types occurrences (number of objects): {'order': 3}\n",
       "Please use <THIS>.get_extended_table() to get a dataframe representation of the events related to the objects."
      ]
     },
     "execution_count": 26,
     "metadata": {},
     "output_type": "execute_result"
    }
   ],
   "source": [
    "pm4py.filter_ocel_start_events_per_object_type(ocel, \"order\")\n",
    "pm4py.filter_ocel_end_events_per_object_type(ocel, \"order\")"
   ]
  },
  {
   "cell_type": "markdown",
   "id": "43beac14-b107-4849-8ab0-36bb1eafa2fc",
   "metadata": {
    "tags": []
   },
   "source": [
    "<br></br>\n",
    "### <b>5.6. Filter on Object Types:</b>"
   ]
  },
  {
   "cell_type": "code",
   "execution_count": 27,
   "id": "6d9dba80-55aa-41fc-92c6-93b9cfc08612",
   "metadata": {
    "tags": []
   },
   "outputs": [
    {
     "data": {
      "text/plain": [
       "Object-Centric Event Log (number of events: 18, number of objects: 12, number of activities: 12, number of object types: 2, events-objects relationships: 31)\n",
       "Activities occurrences: {'Create Order': 3, 'Create Delivery': 3, 'Invoice Sent': 2, 'Payment Reminder': 2, 'Confirm Order': 1, 'Item out of Stock': 1, 'Item back in Stock': 1, 'Pay Order': 1, 'Remove Item': 1, 'Cancel Order': 1, 'Add Item to Order': 1, 'Send for Credit Collection': 1}\n",
       "Object types occurrences (number of objects): {'element': 9, 'order': 3}\n",
       "Please use <THIS>.get_extended_table() to get a dataframe representation of the events related to the objects."
      ]
     },
     "execution_count": 27,
     "metadata": {},
     "output_type": "execute_result"
    }
   ],
   "source": [
    "pm4py.filter_ocel_object_types(ocel, ['order', 'element'])"
   ]
  },
  {
   "cell_type": "markdown",
   "id": "3eabc9ed-1ede-4e36-810e-518576cb4a14",
   "metadata": {
    "tags": []
   },
   "source": [
    "<br></br>\n",
    "### <b>5.7. Filter on Event Identifiers:</b>"
   ]
  },
  {
   "cell_type": "code",
   "execution_count": 21,
   "id": "15ea5688-dfeb-484b-9a5f-83f369ac0c4a",
   "metadata": {
    "tags": []
   },
   "outputs": [
    {
     "data": {
      "text/plain": [
       "Object-Centric Event Log (number of events: 2, number of objects: 5, number of activities: 2, number of object types: 2, events-objects relationships: 6)\n",
       "Activities occurrences: {'Create Order': 1, 'Confirm Order': 1}\n",
       "Object types occurrences (number of objects): {'element': 4, 'order': 1}\n",
       "Please use <THIS>.get_extended_table() to get a dataframe representation of the events related to the objects."
      ]
     },
     "execution_count": 21,
     "metadata": {},
     "output_type": "execute_result"
    }
   ],
   "source": [
    "pm4py.filter_ocel_events(ocel, ['e1', 'e2'])"
   ]
  },
  {
   "cell_type": "markdown",
   "id": "da3082b6-fdd3-47c1-a4f5-32b88986b942",
   "metadata": {
    "tags": []
   },
   "source": [
    "<br></br>\n",
    "## <b>6. Flattening to a Traditional Log</b>\n",
    "\n",
    "<b>Flattening</b> permits to convert an object-centric event log to a traditional event log with the specification of an object type. This allows for the application of traditional process mining techniques to the flattened log.\n",
    "\n",
    "An example in which an event log is imported, and a flattening operation is applied on the <b>order</b> object type, is the following:"
   ]
  },
  {
   "cell_type": "code",
   "execution_count": 18,
   "id": "d541cb7e-ba62-4a57-aa93-735135bb8afb",
   "metadata": {
    "tags": []
   },
   "outputs": [
    {
     "data": {
      "text/html": [
       "<div>\n",
       "<style scoped>\n",
       "    .dataframe tbody tr th:only-of-type {\n",
       "        vertical-align: middle;\n",
       "    }\n",
       "\n",
       "    .dataframe tbody tr th {\n",
       "        vertical-align: top;\n",
       "    }\n",
       "\n",
       "    .dataframe thead th {\n",
       "        text-align: right;\n",
       "    }\n",
       "</style>\n",
       "<table border=\"1\" class=\"dataframe\">\n",
       "  <thead>\n",
       "    <tr style=\"text-align: right;\">\n",
       "      <th></th>\n",
       "      <th>ocel:eid</th>\n",
       "      <th>time:timestamp</th>\n",
       "      <th>concept:name</th>\n",
       "      <th>case:concept:name</th>\n",
       "      <th>case:ocel:type</th>\n",
       "    </tr>\n",
       "  </thead>\n",
       "  <tbody>\n",
       "    <tr>\n",
       "      <th>0</th>\n",
       "      <td>2</td>\n",
       "      <td>2019-05-20 12:26:57+00:00</td>\n",
       "      <td>submit application</td>\n",
       "      <td>Application[770001]</td>\n",
       "      <td>applications</td>\n",
       "    </tr>\n",
       "    <tr>\n",
       "      <th>1</th>\n",
       "      <td>3</td>\n",
       "      <td>2019-05-20 13:38:13+00:00</td>\n",
       "      <td>submit application</td>\n",
       "      <td>Application[770002]</td>\n",
       "      <td>applications</td>\n",
       "    </tr>\n",
       "    <tr>\n",
       "      <th>2</th>\n",
       "      <td>4</td>\n",
       "      <td>2019-05-20 15:00:46+00:00</td>\n",
       "      <td>submit application</td>\n",
       "      <td>Application[770003]</td>\n",
       "      <td>applications</td>\n",
       "    </tr>\n",
       "    <tr>\n",
       "      <th>3</th>\n",
       "      <td>5</td>\n",
       "      <td>2019-05-20 15:45:06+00:00</td>\n",
       "      <td>submit application</td>\n",
       "      <td>Application[770004]</td>\n",
       "      <td>applications</td>\n",
       "    </tr>\n",
       "    <tr>\n",
       "      <th>4</th>\n",
       "      <td>6</td>\n",
       "      <td>2019-05-20 17:14:31+00:00</td>\n",
       "      <td>submit application</td>\n",
       "      <td>Application[770005]</td>\n",
       "      <td>applications</td>\n",
       "    </tr>\n",
       "  </tbody>\n",
       "</table>\n",
       "</div>"
      ],
      "text/plain": [
       "  ocel:eid            time:timestamp        concept:name    case:concept:name  \\\n",
       "0        2 2019-05-20 12:26:57+00:00  submit application  Application[770001]   \n",
       "1        3 2019-05-20 13:38:13+00:00  submit application  Application[770002]   \n",
       "2        4 2019-05-20 15:00:46+00:00  submit application  Application[770003]   \n",
       "3        5 2019-05-20 15:45:06+00:00  submit application  Application[770004]   \n",
       "4        6 2019-05-20 17:14:31+00:00  submit application  Application[770005]   \n",
       "\n",
       "  case:ocel:type  \n",
       "0   applications  \n",
       "1   applications  \n",
       "2   applications  \n",
       "3   applications  \n",
       "4   applications  "
      ]
     },
     "execution_count": 18,
     "metadata": {},
     "output_type": "execute_result"
    }
   ],
   "source": [
    "ocel = pm4py.read_ocel(str(SRC_DIR / 'Datasets' / 'Example' / 'Recruiting' / 'recruiting.jsonocel'))\n",
    "flattened_log = pm4py.ocel_flattening(ocel, \"applications\")\n",
    "flattened_log.head()"
   ]
  },
  {
   "cell_type": "markdown",
   "id": "49052207-f6ab-46c7-b0d2-13b7402e9201",
   "metadata": {},
   "source": [
    "<br></br>\n",
    "## <b>7. Timestamp-Based Interleavings</b>\n",
    "\n",
    "The situation in which an object-centric event log is produced directly at the extraction phase from the information systems is uncommon. Extractors for this settings are quite uncommon nowadays.\n",
    "\n",
    "More frequent is the situation where some event logs can be extracted from the system and then their cases are related. So we can use the classical extractors to extract the event logs, and additionally extract only the relationships between the cases.\n",
    "\n",
    "This information can be used to mine the relationships between events. In particular, the method of <b>timestamp-based interleavings</b> can be used. These consider the temporal flow between the different processes, based on the provided case relations: you can go from the left-process to the right-process, and from the right-process to the left-process.\n",
    "\n",
    "In the following, we will assume the cases to be Pandas dataframes (with the classical pm4py naming convention, e.g. <b>case:concept:name</b>, <b>concept:name</b> and <b>time:timestamp</b>) and a case relations dataframe is defined between them (with the related cases being expressed respectively as <b>case:concept:name_LEFT</b> and <b>case:concept:name_RIGHT</b>.\n",
    "\n",
    "In this example, we load two event logs, and a dataframe containing the relationships between them. Then, we apply the timestamp-based interleaved miner."
   ]
  },
  {
   "cell_type": "code",
   "execution_count": 7,
   "id": "236f0e28-3dd2-448a-a7ad-e534c845d717",
   "metadata": {
    "collapsed": true,
    "jupyter": {
     "outputs_hidden": true
    },
    "tags": []
   },
   "outputs": [
    {
     "ename": "TypeError",
     "evalue": "'<' not supported between instances of 'Timestamp' and 'str'",
     "output_type": "error",
     "traceback": [
      "\u001b[0;31m---------------------------------------------------------------------------\u001b[0m",
      "\u001b[0;31mTypeError\u001b[0m                                 Traceback (most recent call last)",
      "Cell \u001b[0;32mIn[7], line 7\u001b[0m\n\u001b[1;32m      4\u001b[0m dataframe2 \u001b[38;5;241m=\u001b[39m pm4py\u001b[38;5;241m.\u001b[39mformat_dataframe(dataframe2)\n\u001b[1;32m      5\u001b[0m case_relations \u001b[38;5;241m=\u001b[39m pd\u001b[38;5;241m.\u001b[39mread_csv(\u001b[38;5;28mstr\u001b[39m(SRC_DIR \u001b[38;5;241m/\u001b[39m \u001b[38;5;124m'\u001b[39m\u001b[38;5;124mDatasets\u001b[39m\u001b[38;5;124m'\u001b[39m \u001b[38;5;241m/\u001b[39m \u001b[38;5;124m'\u001b[39m\u001b[38;5;124mExample\u001b[39m\u001b[38;5;124m'\u001b[39m \u001b[38;5;241m/\u001b[39m \u001b[38;5;124m'\u001b[39m\u001b[38;5;124mReceipt\u001b[39m\u001b[38;5;124m'\u001b[39m \u001b[38;5;241m/\u001b[39m \u001b[38;5;124m'\u001b[39m\u001b[38;5;124mcase_relations.csv\u001b[39m\u001b[38;5;124m'\u001b[39m))\n\u001b[0;32m----> 7\u001b[0m interleavings \u001b[38;5;241m=\u001b[39m \u001b[43minterleavings_discovery\u001b[49m\u001b[38;5;241;43m.\u001b[39;49m\u001b[43mapply\u001b[49m\u001b[43m(\u001b[49m\u001b[43mdataframe1\u001b[49m\u001b[43m,\u001b[49m\u001b[43m \u001b[49m\u001b[43mdataframe2\u001b[49m\u001b[43m,\u001b[49m\u001b[43m \u001b[49m\u001b[43mcase_relations\u001b[49m\u001b[43m)\u001b[49m\n",
      "File \u001b[0;32m~/anaconda3/envs/TehranData/lib/python3.10/site-packages/pm4py/algo/discovery/ocel/interleavings/algorithm.py:52\u001b[0m, in \u001b[0;36mapply\u001b[0;34m(left_df, right_df, case_relations, variant, parameters)\u001b[0m\n\u001b[1;32m     28\u001b[0m \u001b[38;5;28;01mdef\u001b[39;00m \u001b[38;5;21mapply\u001b[39m(left_df: pd\u001b[38;5;241m.\u001b[39mDataFrame, right_df: pd\u001b[38;5;241m.\u001b[39mDataFrame, case_relations: pd\u001b[38;5;241m.\u001b[39mDataFrame, variant\u001b[38;5;241m=\u001b[39mVariants\u001b[38;5;241m.\u001b[39mTIMESTAMP_INTERLEAVINGS, parameters: Optional[Dict[Any, Any]] \u001b[38;5;241m=\u001b[39m \u001b[38;5;28;01mNone\u001b[39;00m):\n\u001b[1;32m     29\u001b[0m \u001b[38;5;250m    \u001b[39m\u001b[38;5;124;03m\"\"\"\u001b[39;00m\n\u001b[1;32m     30\u001b[0m \u001b[38;5;124;03m    Discover the interleavings between two dataframes, given also a dataframe about the relations of the cases.\u001b[39;00m\n\u001b[1;32m     31\u001b[0m \n\u001b[0;32m   (...)\u001b[0m\n\u001b[1;32m     50\u001b[0m \u001b[38;5;124;03m        Interleavings dataframe\u001b[39;00m\n\u001b[1;32m     51\u001b[0m \u001b[38;5;124;03m    \"\"\"\u001b[39;00m\n\u001b[0;32m---> 52\u001b[0m     \u001b[38;5;28;01mreturn\u001b[39;00m \u001b[43mexec_utils\u001b[49m\u001b[38;5;241;43m.\u001b[39;49m\u001b[43mget_variant\u001b[49m\u001b[43m(\u001b[49m\u001b[43mvariant\u001b[49m\u001b[43m)\u001b[49m\u001b[38;5;241;43m.\u001b[39;49m\u001b[43mapply\u001b[49m\u001b[43m(\u001b[49m\u001b[43mleft_df\u001b[49m\u001b[43m,\u001b[49m\u001b[43m \u001b[49m\u001b[43mright_df\u001b[49m\u001b[43m,\u001b[49m\u001b[43m \u001b[49m\u001b[43mcase_relations\u001b[49m\u001b[43m,\u001b[49m\u001b[43m \u001b[49m\u001b[43mparameters\u001b[49m\u001b[43m)\u001b[49m\n",
      "File \u001b[0;32m~/anaconda3/envs/TehranData/lib/python3.10/site-packages/pm4py/algo/discovery/ocel/interleavings/variants/timestamp_interleavings.py:95\u001b[0m, in \u001b[0;36mapply\u001b[0;34m(left_df, right_df, case_relations, parameters)\u001b[0m\n\u001b[1;32m     91\u001b[0m right_index \u001b[38;5;241m=\u001b[39m exec_utils\u001b[38;5;241m.\u001b[39mget_param_value(Parameters\u001b[38;5;241m.\u001b[39mRIGHT_INDEX, parameters, \u001b[38;5;124m\"\u001b[39m\u001b[38;5;124m@@right_index\u001b[39m\u001b[38;5;124m\"\u001b[39m)\n\u001b[1;32m     93\u001b[0m md \u001b[38;5;241m=\u001b[39m merge_dataframe_rel_cases\u001b[38;5;241m.\u001b[39mmerge_dataframes(left_df, right_df, case_relations, parameters\u001b[38;5;241m=\u001b[39mparameters)\n\u001b[0;32m---> 95\u001b[0m df1 \u001b[38;5;241m=\u001b[39m md[\u001b[43mmd\u001b[49m\u001b[43m[\u001b[49m\u001b[43mtimestamp_key\u001b[49m\u001b[38;5;241;43m+\u001b[39;49m\u001b[43mleft_suffix\u001b[49m\u001b[43m]\u001b[49m\u001b[43m \u001b[49m\u001b[38;5;241;43m<\u001b[39;49m\u001b[43m \u001b[49m\u001b[43mmd\u001b[49m\u001b[43m[\u001b[49m\u001b[43mtimestamp_key\u001b[49m\u001b[38;5;241;43m+\u001b[39;49m\u001b[43mright_suffix\u001b[49m\u001b[43m]\u001b[49m]\n\u001b[1;32m     96\u001b[0m df1 \u001b[38;5;241m=\u001b[39m df1[df1[timestamp_key\u001b[38;5;241m+\u001b[39mright_suffix] \u001b[38;5;241m<\u001b[39m df1[timestamp_key\u001b[38;5;241m+\u001b[39m\u001b[38;5;124m\"\u001b[39m\u001b[38;5;124m_2\u001b[39m\u001b[38;5;124m\"\u001b[39m\u001b[38;5;241m+\u001b[39mleft_suffix]]\n\u001b[1;32m     97\u001b[0m df1 \u001b[38;5;241m=\u001b[39m df1[df1[timestamp_key\u001b[38;5;241m+\u001b[39m\u001b[38;5;124m\"\u001b[39m\u001b[38;5;124m_2\u001b[39m\u001b[38;5;124m\"\u001b[39m\u001b[38;5;241m+\u001b[39mleft_suffix] \u001b[38;5;241m<\u001b[39m df1[timestamp_key\u001b[38;5;241m+\u001b[39m\u001b[38;5;124m\"\u001b[39m\u001b[38;5;124m_2\u001b[39m\u001b[38;5;124m\"\u001b[39m\u001b[38;5;241m+\u001b[39mright_suffix]]\n",
      "File \u001b[0;32m~/anaconda3/envs/TehranData/lib/python3.10/site-packages/pandas/core/ops/common.py:72\u001b[0m, in \u001b[0;36m_unpack_zerodim_and_defer.<locals>.new_method\u001b[0;34m(self, other)\u001b[0m\n\u001b[1;32m     68\u001b[0m             \u001b[38;5;28;01mreturn\u001b[39;00m \u001b[38;5;28mNotImplemented\u001b[39m\n\u001b[1;32m     70\u001b[0m other \u001b[38;5;241m=\u001b[39m item_from_zerodim(other)\n\u001b[0;32m---> 72\u001b[0m \u001b[38;5;28;01mreturn\u001b[39;00m \u001b[43mmethod\u001b[49m\u001b[43m(\u001b[49m\u001b[38;5;28;43mself\u001b[39;49m\u001b[43m,\u001b[49m\u001b[43m \u001b[49m\u001b[43mother\u001b[49m\u001b[43m)\u001b[49m\n",
      "File \u001b[0;32m~/anaconda3/envs/TehranData/lib/python3.10/site-packages/pandas/core/arraylike.py:50\u001b[0m, in \u001b[0;36mOpsMixin.__lt__\u001b[0;34m(self, other)\u001b[0m\n\u001b[1;32m     48\u001b[0m \u001b[38;5;129m@unpack_zerodim_and_defer\u001b[39m(\u001b[38;5;124m\"\u001b[39m\u001b[38;5;124m__lt__\u001b[39m\u001b[38;5;124m\"\u001b[39m)\n\u001b[1;32m     49\u001b[0m \u001b[38;5;28;01mdef\u001b[39;00m \u001b[38;5;21m__lt__\u001b[39m(\u001b[38;5;28mself\u001b[39m, other):\n\u001b[0;32m---> 50\u001b[0m     \u001b[38;5;28;01mreturn\u001b[39;00m \u001b[38;5;28;43mself\u001b[39;49m\u001b[38;5;241;43m.\u001b[39;49m\u001b[43m_cmp_method\u001b[49m\u001b[43m(\u001b[49m\u001b[43mother\u001b[49m\u001b[43m,\u001b[49m\u001b[43m \u001b[49m\u001b[43moperator\u001b[49m\u001b[38;5;241;43m.\u001b[39;49m\u001b[43mlt\u001b[49m\u001b[43m)\u001b[49m\n",
      "File \u001b[0;32m~/anaconda3/envs/TehranData/lib/python3.10/site-packages/pandas/core/series.py:6243\u001b[0m, in \u001b[0;36mSeries._cmp_method\u001b[0;34m(self, other, op)\u001b[0m\n\u001b[1;32m   6240\u001b[0m rvalues \u001b[38;5;241m=\u001b[39m extract_array(other, extract_numpy\u001b[38;5;241m=\u001b[39m\u001b[38;5;28;01mTrue\u001b[39;00m, extract_range\u001b[38;5;241m=\u001b[39m\u001b[38;5;28;01mTrue\u001b[39;00m)\n\u001b[1;32m   6242\u001b[0m \u001b[38;5;28;01mwith\u001b[39;00m np\u001b[38;5;241m.\u001b[39merrstate(\u001b[38;5;28mall\u001b[39m\u001b[38;5;241m=\u001b[39m\u001b[38;5;124m\"\u001b[39m\u001b[38;5;124mignore\u001b[39m\u001b[38;5;124m\"\u001b[39m):\n\u001b[0;32m-> 6243\u001b[0m     res_values \u001b[38;5;241m=\u001b[39m \u001b[43mops\u001b[49m\u001b[38;5;241;43m.\u001b[39;49m\u001b[43mcomparison_op\u001b[49m\u001b[43m(\u001b[49m\u001b[43mlvalues\u001b[49m\u001b[43m,\u001b[49m\u001b[43m \u001b[49m\u001b[43mrvalues\u001b[49m\u001b[43m,\u001b[49m\u001b[43m \u001b[49m\u001b[43mop\u001b[49m\u001b[43m)\u001b[49m\n\u001b[1;32m   6245\u001b[0m \u001b[38;5;28;01mreturn\u001b[39;00m \u001b[38;5;28mself\u001b[39m\u001b[38;5;241m.\u001b[39m_construct_result(res_values, name\u001b[38;5;241m=\u001b[39mres_name)\n",
      "File \u001b[0;32m~/anaconda3/envs/TehranData/lib/python3.10/site-packages/pandas/core/ops/array_ops.py:287\u001b[0m, in \u001b[0;36mcomparison_op\u001b[0;34m(left, right, op)\u001b[0m\n\u001b[1;32m    284\u001b[0m     \u001b[38;5;28;01mreturn\u001b[39;00m invalid_comparison(lvalues, rvalues, op)\n\u001b[1;32m    286\u001b[0m \u001b[38;5;28;01melif\u001b[39;00m is_object_dtype(lvalues\u001b[38;5;241m.\u001b[39mdtype) \u001b[38;5;129;01mor\u001b[39;00m \u001b[38;5;28misinstance\u001b[39m(rvalues, \u001b[38;5;28mstr\u001b[39m):\n\u001b[0;32m--> 287\u001b[0m     res_values \u001b[38;5;241m=\u001b[39m \u001b[43mcomp_method_OBJECT_ARRAY\u001b[49m\u001b[43m(\u001b[49m\u001b[43mop\u001b[49m\u001b[43m,\u001b[49m\u001b[43m \u001b[49m\u001b[43mlvalues\u001b[49m\u001b[43m,\u001b[49m\u001b[43m \u001b[49m\u001b[43mrvalues\u001b[49m\u001b[43m)\u001b[49m\n\u001b[1;32m    289\u001b[0m \u001b[38;5;28;01melse\u001b[39;00m:\n\u001b[1;32m    290\u001b[0m     res_values \u001b[38;5;241m=\u001b[39m _na_arithmetic_op(lvalues, rvalues, op, is_cmp\u001b[38;5;241m=\u001b[39m\u001b[38;5;28;01mTrue\u001b[39;00m)\n",
      "File \u001b[0;32m~/anaconda3/envs/TehranData/lib/python3.10/site-packages/pandas/core/ops/array_ops.py:73\u001b[0m, in \u001b[0;36mcomp_method_OBJECT_ARRAY\u001b[0;34m(op, x, y)\u001b[0m\n\u001b[1;32m     71\u001b[0m     \u001b[38;5;28;01mif\u001b[39;00m x\u001b[38;5;241m.\u001b[39mshape \u001b[38;5;241m!=\u001b[39m y\u001b[38;5;241m.\u001b[39mshape:\n\u001b[1;32m     72\u001b[0m         \u001b[38;5;28;01mraise\u001b[39;00m \u001b[38;5;167;01mValueError\u001b[39;00m(\u001b[38;5;124m\"\u001b[39m\u001b[38;5;124mShapes must match\u001b[39m\u001b[38;5;124m\"\u001b[39m, x\u001b[38;5;241m.\u001b[39mshape, y\u001b[38;5;241m.\u001b[39mshape)\n\u001b[0;32m---> 73\u001b[0m     result \u001b[38;5;241m=\u001b[39m \u001b[43mlibops\u001b[49m\u001b[38;5;241;43m.\u001b[39;49m\u001b[43mvec_compare\u001b[49m\u001b[43m(\u001b[49m\u001b[43mx\u001b[49m\u001b[38;5;241;43m.\u001b[39;49m\u001b[43mravel\u001b[49m\u001b[43m(\u001b[49m\u001b[43m)\u001b[49m\u001b[43m,\u001b[49m\u001b[43m \u001b[49m\u001b[43my\u001b[49m\u001b[38;5;241;43m.\u001b[39;49m\u001b[43mravel\u001b[49m\u001b[43m(\u001b[49m\u001b[43m)\u001b[49m\u001b[43m,\u001b[49m\u001b[43m \u001b[49m\u001b[43mop\u001b[49m\u001b[43m)\u001b[49m\n\u001b[1;32m     74\u001b[0m \u001b[38;5;28;01melse\u001b[39;00m:\n\u001b[1;32m     75\u001b[0m     result \u001b[38;5;241m=\u001b[39m libops\u001b[38;5;241m.\u001b[39mscalar_compare(x\u001b[38;5;241m.\u001b[39mravel(), y, op)\n",
      "File \u001b[0;32m~/anaconda3/envs/TehranData/lib/python3.10/site-packages/pandas/_libs/ops.pyx:173\u001b[0m, in \u001b[0;36mpandas._libs.ops.vec_compare\u001b[0;34m()\u001b[0m\n",
      "\u001b[0;31mTypeError\u001b[0m: '<' not supported between instances of 'Timestamp' and 'str'"
     ]
    }
   ],
   "source": [
    "dataframe1 = pd.read_csv(str(SRC_DIR / 'Datasets' / 'Example' / 'Receipt' / 'receipt_even.csv'))\n",
    "dataframe1 = pm4py.format_dataframe(dataframe1)\n",
    "dataframe2 = pd.read_csv(str(SRC_DIR / 'Datasets' / 'Example' / 'Receipt' / 'receipt_odd.csv'))\n",
    "dataframe2 = pm4py.format_dataframe(dataframe2)\n",
    "case_relations = pd.read_csv(str(SRC_DIR / 'Datasets' / 'Example' / 'Receipt' / 'case_relations.csv'))\n",
    "\n",
    "interleavings = interleavings_discovery.apply(dataframe1, dataframe2, case_relations)"
   ]
  },
  {
   "cell_type": "code",
   "execution_count": null,
   "id": "11147f14-e88f-4ba5-a3d8-51737e6b024a",
   "metadata": {},
   "outputs": [],
   "source": [
    "interleavings.head()"
   ]
  },
  {
   "cell_type": "markdown",
   "id": "88df7cbf-eea4-452a-80eb-39d8fae336c9",
   "metadata": {
    "tags": []
   },
   "source": [
    "<br></br>\n",
    "The resulting interleavings dataframe will contain several columns, including for each row (that is a couple of related events, the first belonging to the first dataframe, the second belonging to the second dataframe):\n",
    "\n",
    "* All the columns of the event (of the interleaving) of the first dataframe (with prefix <b>LEFT</b>).\n",
    "* All the columns of the event (of the interleaving) of the second dataframe (with prefix <b>RIGHT</b>).\n",
    "* The column <b>@@direction indicating the direction of the interleaving (with LR we go left-to-right so from the first dataframe to the second dataframe; with RL we go right-to-left, so from the second dataframe to the first dataframe).\n",
    "* The columns <b>@@source_activity</b> and <b>@@target_activity</b> contain respectively the source and target activity of the interleaving.\n",
    "* The columns <b>@@source_timestamp</b> and <b>@@target_timestamp</b> contain respectively the source and target timestamp of the interleaving.\n",
    "* The column <b>@@left_index</b> contains the index of the event of the first of the two dataframes.\n",
    "* The column <b>@@right_index</b> contains the index of the event of the second of the two dataframes.\n",
    "* The column <b>@@timestamp_diff</b> contains the difference between the two timestamps (can be useful to aggregate on the time)."
   ]
  },
  {
   "cell_type": "markdown",
   "id": "7c84a0e3-471b-47f7-b126-51b44a794548",
   "metadata": {},
   "source": [
    "<br></br>\n",
    "### <b>7.1. Visualization of the interleavings between the two logs</b>"
   ]
  },
  {
   "cell_type": "code",
   "execution_count": 33,
   "id": "3fea8be8-cb04-4958-a72d-a462eb5f709c",
   "metadata": {
    "collapsed": true,
    "jupyter": {
     "outputs_hidden": true
    },
    "scrolled": true,
    "tags": []
   },
   "outputs": [
    {
     "ename": "NameError",
     "evalue": "name 'interleavings' is not defined",
     "output_type": "error",
     "traceback": [
      "\u001b[0;31m---------------------------------------------------------------------------\u001b[0m",
      "\u001b[0;31mNameError\u001b[0m                                 Traceback (most recent call last)",
      "Cell \u001b[0;32mIn[33], line 2\u001b[0m\n\u001b[1;32m      1\u001b[0m \u001b[38;5;66;03m# frequency-based\u001b[39;00m\n\u001b[0;32m----> 2\u001b[0m gviz_freq \u001b[38;5;241m=\u001b[39m interleavings_visualizer\u001b[38;5;241m.\u001b[39mapply(dataframe1, dataframe2, \u001b[43minterleavings\u001b[49m, parameters\u001b[38;5;241m=\u001b[39m{\u001b[38;5;124m\"\u001b[39m\u001b[38;5;124mannotation\u001b[39m\u001b[38;5;124m\"\u001b[39m: \u001b[38;5;124m\"\u001b[39m\u001b[38;5;124mfrequency\u001b[39m\u001b[38;5;124m\"\u001b[39m, \u001b[38;5;124m\"\u001b[39m\u001b[38;5;124mformat\u001b[39m\u001b[38;5;124m\"\u001b[39m: \u001b[38;5;124m\"\u001b[39m\u001b[38;5;124msvg\u001b[39m\u001b[38;5;124m\"\u001b[39m})\n\u001b[1;32m      3\u001b[0m interleavings_visualizer\u001b[38;5;241m.\u001b[39msave(gviz_freq, output_file_path \u001b[38;5;241m=\u001b[39m SRC_DIR \u001b[38;5;241m/\u001b[39m \u001b[38;5;124m'\u001b[39m\u001b[38;5;124mImages\u001b[39m\u001b[38;5;124m'\u001b[39m \u001b[38;5;241m/\u001b[39m \u001b[38;5;124m'\u001b[39m\u001b[38;5;124mOCPM\u001b[39m\u001b[38;5;124m'\u001b[39m \u001b[38;5;241m/\u001b[39m \u001b[38;5;124m'\u001b[39m\u001b[38;5;124m1_interleavings.svg\u001b[39m\u001b[38;5;124m'\u001b[39m)\n",
      "\u001b[0;31mNameError\u001b[0m: name 'interleavings' is not defined"
     ]
    }
   ],
   "source": [
    "# frequency-based\n",
    "gviz_freq = interleavings_visualizer.apply(dataframe1, dataframe2, interleavings, parameters={\"annotation\": \"frequency\", \"format\": \"svg\"})\n",
    "interleavings_visualizer.save(gviz_freq, output_file_path = SRC_DIR / 'Images' / 'OCPM' / '1_interleavings.svg')"
   ]
  },
  {
   "cell_type": "code",
   "execution_count": null,
   "id": "f42c6e82-9c07-4a9d-b1b7-4e2b8d4156d2",
   "metadata": {
    "tags": []
   },
   "outputs": [],
   "source": [
    "# performance-based\n",
    "gviz_perf = interleavings_visualizer.apply(dataframe1, dataframe2, interleavings, parameters={\"annotation\": \"performance\", \"aggregation_measure\": \"median\", \"format\": \"png\"})\n",
    "interleavings_visualizer.save(gviz_perf, output_file_path = SRC_DIR / 'Images' / 'OCPM' / '2_interleavings.png')"
   ]
  },
  {
   "cell_type": "markdown",
   "id": "efc5797f-617f-4740-8c4a-5d008652cb61",
   "metadata": {},
   "source": [
    "\n",
    "The parameters offered by the visualization of the interleavings follows:\n",
    "\n",
    "* <b>Parameters.FORMAT</b>: the format of the visualization (svg, png).\n",
    "* <b>Parameters.BGCOLOR</b>: background color of the visualization (default: transparent).\n",
    "* <b>Parameters.RANKDIR</b>: the direction of visualization of the diagram (LR, TB).\n",
    "* <b>Parameters.ANNOTATION</b>: the annotation to be used (frequency, performance).\n",
    "* <b>Parameters.AGGREGATION_MEASURE</b>: the aggregation to be used (mean, median, min, max).\n",
    "* <b>Parameters.ACTIVITY_PERCENTAGE</b>: the percentage of activities that shall be included in the two DFGs and the interleavings visualization.\n",
    "* <b>Parameters.PATHS_PERCENTAG</b>: the percentage of paths that shall be included in the two DFGs and the interleavings visualization.\n",
    "* <b>Parameters.DEPENDENCY_THRESHOLD</b>: the dependency threshold that shall be used to filter the edges of the DFG.\n",
    "* <b>Parameters.MIN_FACT_EDGES_INTERLEAVINGS</b>: parameter that regulates the fraction of interleavings that is shown in the diagram."
   ]
  },
  {
   "cell_type": "markdown",
   "id": "c82e7d53-fb1f-4a1e-bca9-80e3e536a6c4",
   "metadata": {},
   "source": [
    "<br></br>\n",
    "## <b>8. Network Analysis</b>\n",
    "The classical social network analysis methods (such as the ones described in this page at the later sections) are based on the order of the events inside a case. For example, the Handover of Work metric considers the directly-follows relationships between resources during the work of a case. An edge is added between the two resources if such relationships occurs.\n",
    "\n",
    "Real-life scenarios may be more complicated. At first, is difficult to collect events inside the same case without having convergence/divergence issues. At second, the type of relationship may also be important. Consider for example the relationship between two resources: this may be more efficient if the activity that is executed is liked by the resources, rather than disgusted.\n",
    "\n",
    "The network analysis that we introduce in this section generalizes some existing social network analysis metrics, becoming independent from the choice of a case notion and permitting to build a multi-graph instead of a simple graph.\n",
    "\n",
    "With this, we assume events to be linked by signals. An event emits a signal (that is contained as one attribute of the event) that is assumed to be received by other events (also, this is an attribute of these events) that follow the first event in the log. So, we assume there is an OUT attribute (of the event) that is identical to the IN attribute (of the other events).\n",
    "\n",
    "When we collect this information, we can build the network analysis graph:\n",
    "\n",
    "* The source node of the relation is given by an aggregation over a node_column_source attribute.\n",
    "* The target node of the relation is given by an aggregation over a node_column_target attribute.\n",
    "* The type of edge is given by an aggregation over an edge_column attribute.\n",
    "\n",
    "The network analysis graph can either be annotated with frequency or performance information."
   ]
  },
  {
   "cell_type": "code",
   "execution_count": 27,
   "id": "7e712219-2eed-4c19-9091-d3efa914c98e",
   "metadata": {
    "tags": []
   },
   "outputs": [
    {
     "data": {
      "application/vnd.jupyter.widget-view+json": {
       "model_id": "3e8077b3620c4c2691116be490a644d7",
       "version_major": 2,
       "version_minor": 0
      },
      "text/plain": [
       "parsing log, completed traces ::   0%|          | 0/1434 [00:00<?, ?it/s]"
      ]
     },
     "metadata": {},
     "output_type": "display_data"
    }
   ],
   "source": [
    "log = pm4py.read_xes(str(SRC_DIR / 'Datasets' / \"Example/Receipt/receipt.xes\"))\n",
    "\n",
    "frequency_edges = pm4py.discover_network_analysis(log,\n",
    "                                                  out_column=\"case:concept:name\",\n",
    "                                                  in_column=\"case:concept:name\",\n",
    "                                                  node_column_source=\"org:group\",\n",
    "                                                  node_column_target=\"org:group\",\n",
    "                                                  edge_column=\"concept:name\",\n",
    "                                                  performance=False)\n",
    "\n",
    "pm4py.save_vis_network_analysis(frequency_edges, variant=\"frequency\", edge_threshold=10, file_path=SRC_DIR / 'Images' / 'OCPM/3_SNA_.svg')"
   ]
  },
  {
   "cell_type": "markdown",
   "id": "ce026506-27f5-4c50-b72e-5b8bfc855ba8",
   "metadata": {},
   "source": [
    "<br></br>\n",
    "## <b>9. OC-DFG discovery</b>\n",
    "Object-centric directly-follows multigraphs are a composition of directly-follows graphs for the single object type, which can be annotated with different metrics considering the entities of an object-centric event log (i.e., events, unique objects, total objects)."
   ]
  },
  {
   "cell_type": "code",
   "execution_count": 25,
   "id": "d1ae8bc6-123a-4919-8dfd-b3cdda66e1cc",
   "metadata": {
    "tags": []
   },
   "outputs": [],
   "source": [
    "# frequency-based \n",
    "ocel = pm4py.read_ocel(str(SRC_DIR / 'Datasets' / 'Example' / 'Orders' / 'example_log.jsonocel'))\n",
    "ocdfg = pm4py.discover_ocdfg(ocel)\n",
    "pm4py.save_vis_ocdfg(ocdfg, file_path=SRC_DIR / 'Images' / 'OCPM' / '4_DFG.svg')"
   ]
  },
  {
   "cell_type": "code",
   "execution_count": 26,
   "id": "34892607-e7c3-40b5-92ce-ee29b2a9b46e",
   "metadata": {
    "tags": []
   },
   "outputs": [],
   "source": [
    "# performance-based\n",
    "ocel = pm4py.read_ocel(str(SRC_DIR / 'Datasets' / 'Example' / 'Orders' / 'example_log.jsonocel'))\n",
    "ocdfg = pm4py.discover_ocdfg(ocel)\n",
    "pm4py.save_vis_ocdfg(ocdfg, annotation=\"performance\", performance_aggregation=\"median\", file_path=SRC_DIR / 'Images' / 'OCPM' / '5_DFG.svg')"
   ]
  },
  {
   "cell_type": "markdown",
   "id": "c558cc9e-12d9-4f86-bc27-355b8aa48992",
   "metadata": {},
   "source": [
    "<br></br>\n",
    "## <b>10. OC-PN discovery</b>\n",
    "Object-centric Petri Nets (OC-PN) are formal models, discovered on top of the object-centric event logs, using an underlying process discovery algorithm (such as the Inductive Miner). They have been described in the scientific paper:\n",
    "\n",
    "van der Aalst, Wil MP, and Alessandro Berti. \"Discovering object-centric Petri nets.\" Fundamenta informaticae 175.1-4 (2020): 1-40."
   ]
  },
  {
   "cell_type": "code",
   "execution_count": 50,
   "id": "bf404f33-6e8f-4d27-84cd-73bfae59c4aa",
   "metadata": {
    "tags": []
   },
   "outputs": [],
   "source": [
    "ocel = pm4py.read_ocel(str(SRC_DIR / 'Datasets' / 'Example/Orders/example_log.jsonocel'))\n",
    "model = pm4py.discover_oc_petri_net(ocel)\n",
    "pm4py.save_vis_ocpn(model, file_path=SRC_DIR / 'Images' / 'OCPM/6_PN.svg')"
   ]
  },
  {
   "cell_type": "code",
   "execution_count": 51,
   "id": "763aa0af-9ee8-4d0c-a669-2073a15b5e4d",
   "metadata": {
    "tags": []
   },
   "outputs": [
    {
     "data": {
      "text/plain": [
       "{('i1', 'i2'), ('i3', 'i4'), ('i3', 'i7'), ('i4', 'i7'), ('i8', 'i9')}"
      ]
     },
     "execution_count": 51,
     "metadata": {},
     "output_type": "execute_result"
    }
   ],
   "source": [
    "ocel = pm4py.read_ocel(str(SRC_DIR / 'Datasets' / 'Example/Orders/example_log.jsonocel'))\n",
    "graph = object_codeath_graph.apply(ocel)\n",
    "graph"
   ]
  },
  {
   "cell_type": "markdown",
   "id": "4e1fc199-58c1-4045-ab85-8004edfae2f5",
   "metadata": {},
   "source": [
    "<br></br><br></br>\n",
    "\n",
    "## <b>Resources</b>\n",
    "* https://pm4py.fit.fraunhofer.de/documentation#object-centric-event-logs"
   ]
  },
  {
   "cell_type": "code",
   "execution_count": null,
   "id": "c23fcfba-f114-45cb-a9db-04a4c26c50ea",
   "metadata": {},
   "outputs": [],
   "source": []
  }
 ],
 "metadata": {
  "kernelspec": {
   "display_name": "Python 3 (ipykernel)",
   "language": "python",
   "name": "python3"
  },
  "language_info": {
   "codemirror_mode": {
    "name": "ipython",
    "version": 3
   },
   "file_extension": ".py",
   "mimetype": "text/x-python",
   "name": "python",
   "nbconvert_exporter": "python",
   "pygments_lexer": "ipython3",
   "version": "3.10.14"
  }
 },
 "nbformat": 4,
 "nbformat_minor": 5
}
