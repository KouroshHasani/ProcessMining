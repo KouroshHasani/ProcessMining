{
 "cells": [
  {
   "cell_type": "markdown",
   "metadata": {},
   "source": [
    "![](https://pm4py.fit.fraunhofer.de/static/assets/images/pm4py-site-logo-padded.png)"
   ]
  },
  {
   "cell_type": "markdown",
   "metadata": {},
   "source": [
    "# <b>Introduction<b>"
   ]
  },
  {
   "cell_type": "markdown",
   "metadata": {},
   "source": [
    "<span style=\"font-size:larger;\"><b>Process:</b>\n",
    "\n",
    "By process we mean a collection of discrete events (activities) in order to achieve a certain goal.\n",
    "\n",
    "<br>\n",
    "\n",
    "<span style=\"font-size:larger;\"><b>Process mining:</b>\n",
    "\n",
    "A set of techniques used for obtaining knowledge of and extracting insights from processes by the means of analyzing the event data, generated during the execution of the process. The end goal of process mining is to discover, model, monitor, and optimize the underlying processes.\n",
    "\n",
    "<br>\n",
    "\n",
    "<span style=\"font-size:larger;\"><b>Potential benefits of process mining:</b>\n",
    "\n",
    "- Process discovery — Converting an event log into a process model.\n",
    "- Conformance checking — Investigating the differences between the model and what happens in real life. This way the companies can identify deviations from the model and determine their severity/cost.\n",
    "- Throughput analysis/bottleneck detection — Accounting for the intensity of events’ execution (measured by time spent to complete a particular event) in order to determine potential bottlenecks. This kind of analysis can be used to improve time-related KPIs by minimizing throughput/overhead time.\n",
    "\n",
    "<br>\n",
    "\n",
    "<span style=\"font-size:larger;\"><b>Event log:</b>\n",
    "\n",
    "In order to carry out process mining, a dataset must contain (at least) the following 3 types of information:\n",
    "- Case ID — A unique identifier of an entity going through the process. A common example could be the user’s unique ID, although, many possibilities are valid (it depends on the use case).\n",
    "- Event — A step of the process, any activity that is a part of the process being analyzed.\n",
    "- Timestamp — Used for performance evaluation and determining the order of events, can be the time when the user entered/exited the given event (or both actually).\n",
    "\n",
    "<br>\n",
    "\n",
    "<span style=\"font-size:larger;\"><b>Petri net:</b>\n",
    "\n",
    "A Petri net - also known as a place/transition (PT) net - consists of _places_, _transitions_, and _arcs_ (a.k.a. _flow relations_). Arcs run from a place to a transition or vice versa, never between places or between transitions. The places from which an arc runs to a transition are called the input places of the transition; the places to which arcs run from a transition are called the output places of the transition. "
   ]
  },
  {
   "cell_type": "markdown",
   "metadata": {},
   "source": [
    "# <b>1. Setup</b>"
   ]
  },
  {
   "cell_type": "markdown",
   "metadata": {},
   "source": [
    "## <b>1.1. Packages</b>"
   ]
  },
  {
   "cell_type": "code",
   "execution_count": 1,
   "metadata": {
    "tags": []
   },
   "outputs": [],
   "source": [
    "# python ######################################################################\n",
    "import sys\n",
    "import os\n",
    "import datetime\n",
    "\n",
    "# basics ######################################################################\n",
    "import pandas as pd\n",
    "import numpy as np\n",
    "import matplotlib.pyplot as plt\n",
    "import seaborn as sns\n",
    "\n",
    "# widgets #####################################################################\n",
    "import ipywidgets as widgets\n",
    "from ipywidgets import interact\n",
    "\n",
    "# process mining ##############################################################\n",
    "import pm4py\n",
    "\n",
    "# object.log\n",
    "from pm4py.objects.log.util import dataframe_utils\n",
    "from pm4py.objects.log.exporter.xes import exporter as xes_exporter\n",
    "from pm4py.objects.log.importer.xes import importer as xes_importer\n",
    "\n",
    "# object.conversion\n",
    "from pm4py.objects.conversion.dfg import converter as dfg_converter\n",
    "from pm4py.objects.conversion.process_tree import converter as pt_converter\n",
    "\n",
    "# algo.discovery\n",
    "from pm4py.algo.discovery.alpha import variants\n",
    "from pm4py.algo.discovery.alpha import algorithm as alpha_miner\n",
    "from pm4py.algo.discovery.dfg import algorithm as dfg_discovery\n",
    "from pm4py.algo.discovery.heuristics import algorithm as heuristics_miner\n",
    "from pm4py.algo.discovery.inductive import algorithm as inductive_miner\n",
    "from pm4py.algo.discovery.correlation_mining import algorithm as correlation_miner\n",
    "from pm4py.visualization.dfg import visualizer as dfg_visualizer\n",
    "\n",
    "# algo.conformance\n",
    "from pm4py.algo.conformance.tokenreplay import algorithm as token_replay\n",
    "\n",
    "# vizualization\n",
    "from pm4py.visualization.petri_net import visualizer as pn_visualizer\n",
    "from pm4py.visualization.dfg import visualizer as dfg_visualization\n",
    "from pm4py.visualization.process_tree import visualizer as pt_visualizer\n",
    "from pm4py.visualization.heuristics_net import visualizer as hn_visualizer\n",
    "\n",
    "# util\n",
    "from pm4py.util import vis_utils\n",
    "\n",
    "\n",
    "# Define directories\n",
    "from src import SRC_DIR\n",
    "\n",
    "\n",
    "import warnings\n",
    "warnings.filterwarnings(\"ignore\")"
   ]
  },
  {
   "cell_type": "markdown",
   "metadata": {},
   "source": [
    "<br></br>\n",
    "## <b>1.2. Environment and Versions</b>"
   ]
  },
  {
   "cell_type": "code",
   "execution_count": 2,
   "metadata": {
    "tags": []
   },
   "outputs": [
    {
     "name": "stdout",
     "output_type": "stream",
     "text": [
      "platform:     linux\n",
      "environment:  /home/kourosh/anaconda3/envs/Py38\n",
      "python:       3.8.0\n"
     ]
    },
    {
     "data": {
      "text/html": [
       "<div>\n",
       "<style scoped>\n",
       "    .dataframe tbody tr th:only-of-type {\n",
       "        vertical-align: middle;\n",
       "    }\n",
       "\n",
       "    .dataframe tbody tr th {\n",
       "        vertical-align: top;\n",
       "    }\n",
       "\n",
       "    .dataframe thead th {\n",
       "        text-align: right;\n",
       "    }\n",
       "</style>\n",
       "<table border=\"1\" class=\"dataframe\">\n",
       "  <thead>\n",
       "    <tr style=\"text-align: right;\">\n",
       "      <th></th>\n",
       "      <th>package</th>\n",
       "      <th>version</th>\n",
       "    </tr>\n",
       "  </thead>\n",
       "  <tbody>\n",
       "    <tr>\n",
       "      <th>0</th>\n",
       "      <td>pandas</td>\n",
       "      <td>2.0.3</td>\n",
       "    </tr>\n",
       "    <tr>\n",
       "      <th>1</th>\n",
       "      <td>numpy</td>\n",
       "      <td>1.23.5</td>\n",
       "    </tr>\n",
       "    <tr>\n",
       "      <th>2</th>\n",
       "      <td>matplotlib</td>\n",
       "      <td>3.6.3</td>\n",
       "    </tr>\n",
       "    <tr>\n",
       "      <th>3</th>\n",
       "      <td>seaborn</td>\n",
       "      <td>0.12.2</td>\n",
       "    </tr>\n",
       "    <tr>\n",
       "      <th>4</th>\n",
       "      <td>ipywidgets</td>\n",
       "      <td>8.0.6</td>\n",
       "    </tr>\n",
       "    <tr>\n",
       "      <th>5</th>\n",
       "      <td>pm4py</td>\n",
       "      <td>2.7.5</td>\n",
       "    </tr>\n",
       "  </tbody>\n",
       "</table>\n",
       "</div>"
      ],
      "text/plain": [
       "      package version\n",
       "0      pandas   2.0.3\n",
       "1      numpy   1.23.5\n",
       "2  matplotlib   3.6.3\n",
       "3     seaborn  0.12.2\n",
       "4  ipywidgets   8.0.6\n",
       "5       pm4py   2.7.5"
      ]
     },
     "execution_count": 2,
     "metadata": {},
     "output_type": "execute_result"
    }
   ],
   "source": [
    "print(f'platform:     {sys.platform}')\n",
    "print(f'environment:  {sys.prefix}')\n",
    "print(f'python:       {sys.version_info.major}.{sys.version_info.minor}.{sys.version_info.micro}')\n",
    "\n",
    "\n",
    "package_versions = [\n",
    "        ['pandas', pd.__version__], \n",
    "        ['numpy ', np.__version__], \n",
    "        ['matplotlib', sys.modules['matplotlib'].__version__], \n",
    "        ['seaborn', sns.__version__],\n",
    "        ['ipywidgets', sys.modules['ipywidgets'].__version__],\n",
    "        ['pm4py', pm4py.__version__],\n",
    "]\n",
    "\n",
    "pd.DataFrame(package_versions, columns = ['package', 'version'])"
   ]
  },
  {
   "cell_type": "markdown",
   "metadata": {
    "tags": []
   },
   "source": [
    "<br><br>\n",
    "## <b>1.3. Setting</b>"
   ]
  },
  {
   "cell_type": "code",
   "execution_count": 3,
   "metadata": {
    "tags": []
   },
   "outputs": [],
   "source": [
    "pd.set_option('display.max_rows', 50)"
   ]
  },
  {
   "cell_type": "code",
   "execution_count": 4,
   "metadata": {
    "tags": []
   },
   "outputs": [],
   "source": [
    "sns.set_theme()"
   ]
  },
  {
   "cell_type": "markdown",
   "metadata": {},
   "source": [
    "<br></br>\n",
    "## <b>1.4. Functions</b>"
   ]
  },
  {
   "cell_type": "code",
   "execution_count": 5,
   "metadata": {
    "tags": []
   },
   "outputs": [],
   "source": [
    "def dfg_performance_matrix(\n",
    "    event_log: pd.DataFrame, \n",
    "    case_var: str, \n",
    "    event_var: str, \n",
    "    timestamp_var: str, \n",
    "    duration: str ='h'\n",
    ") -> pd.DataFrame:\n",
    "    \n",
    "    \"\"\"\n",
    "    Return a directly-follows graph duration matrix based on the traces in the event log.\n",
    "    Row events (i.e. the index) are events 'from' and column events are the events 'to'.\n",
    "    By default duration is set to hours (h). Use 's' for seconds, 'D' for days and 'W' for weeks.\n",
    "    \"\"\"\n",
    "    \n",
    "    # event log\n",
    "    log = event_log[[case_var, event_var, timestamp_var]]\n",
    "    \n",
    "    # initiate matrix\n",
    "    events = log[event_var].unique()\n",
    "    matrix = pd.DataFrame(columns=events, index=events)\n",
    "    \n",
    "    # groupby case_var\n",
    "    groups = log.groupby(case_var)\n",
    "    \n",
    "    # loop through case groups\n",
    "    for group in groups:\n",
    "        event = group[1].sort_values(timestamp_var)\\\n",
    "                        .rename(columns = {event_var:'event_from', timestamp_var:'time_begin'})\n",
    "\n",
    "        event['event_to'] = event['event_from'].shift(-1)\n",
    "        event['time_end'] = event['time_begin'].shift(-1)\n",
    "        event['duration'] = (event['time_end'] - event['time_begin']) / np.timedelta64(1, duration)\n",
    "        event.dropna(inplace = True)\n",
    "        \n",
    "        # loop through traces\n",
    "        for row in event.itertuples(index = False):\n",
    "            matrix.at[row.event_from, row.event_to] = np.nansum([matrix.at[row.event_from, row.event_to], row.duration])\n",
    "    \n",
    "    return matrix.astype(float)"
   ]
  },
  {
   "cell_type": "code",
   "execution_count": 6,
   "metadata": {
    "tags": []
   },
   "outputs": [],
   "source": [
    "def dfg_frequency_matrix(\n",
    "    event_log: pd.DataFrame, \n",
    "    case_var: str, \n",
    "    event_var: str, \n",
    "    timestamp_var: str\n",
    ") -> pd.DataFrame:\n",
    "    \n",
    "    \"\"\"\n",
    "    Return a directly-follows graph frequency matrix based on the traces in the event log.\n",
    "    Row events (i.e. the index) are events 'from' and column events are the events 'to'.\n",
    "    \"\"\"\n",
    "    \n",
    "    # event log\n",
    "    log = event_log[[case_var, event_var, timestamp_var]]\n",
    "    \n",
    "    # initiate matrix\n",
    "    events = log[event_var].unique()\n",
    "    matrix = pd.DataFrame(columns=events, index=events).fillna(0)\n",
    "    \n",
    "    # groupby case_var\n",
    "    groups = log.groupby(case_var)\n",
    "    \n",
    "    # loop through case groups\n",
    "    for name, group in groups:\n",
    "        event = group.sort_values(timestamp_var)\\\n",
    "                     .drop([case_var, timestamp_var], axis = 1)\\\n",
    "                     .rename(columns = {event_var:'event_from'})\n",
    "\n",
    "        event['event_to'] = event['event_from'].shift(-1)\n",
    "        event.dropna(inplace = True)\n",
    "        \n",
    "        # loop through traces\n",
    "        for trace in event.itertuples(index = False):\n",
    "            matrix.at[trace.event_from, trace.event_to] += 1\n",
    "\n",
    "    return matrix.replace(0, np.nan)"
   ]
  },
  {
   "cell_type": "code",
   "execution_count": 7,
   "metadata": {
    "tags": []
   },
   "outputs": [
    {
     "name": "stdout",
     "output_type": "stream",
     "text": [
      "salam \n",
      " 5\n"
     ]
    }
   ],
   "source": [
    "print('salam \\n 5')"
   ]
  },
  {
   "cell_type": "code",
   "execution_count": 8,
   "metadata": {
    "tags": []
   },
   "outputs": [],
   "source": [
    "def frequency_table(dfg_frequency_matrix: pd.DataFrame) -> pd.DataFrame:\n",
    "    \n",
    "    \"\"\"\n",
    "    Returns an directly-follows graph frequency table\n",
    "    \"\"\"\n",
    "    \n",
    "    arcs = list()\n",
    "    \n",
    "    for row in dfg_frequency_matrix.index:\n",
    "        for col in dfg_frequency_matrix.columns:\n",
    "            if not np.isnan(dfg_frequency_matrix.at[row, col]):\n",
    "                arcs.append((row, col, dfg_frequency_matrix.at[row, col]))\n",
    "    \n",
    "    arc_freq = pd.DataFrame(arcs, columns = ['event_from', 'event_to', 'frequency'])\\\n",
    "    .set_index(['event_from', 'event_to'])\n",
    "    \n",
    "    return arc_freq"
   ]
  },
  {
   "cell_type": "code",
   "execution_count": 143,
   "metadata": {
    "tags": []
   },
   "outputs": [],
   "source": [
    "def activity_duration(\n",
    "    event_log: pd.DataFrame, \n",
    "    case_var: str, \n",
    "    event_var: str, \n",
    "    timestamp_var: str, \n",
    "    duration: str ='h'\n",
    ") -> pd.DataFrame:\n",
    "    \n",
    "    \"\"\"\n",
    "    Returns a dataframe with activity durations (i.e. 'arc' performance decorators).\n",
    "    By default duration is set to hours (h).\n",
    "    Use 's' for seconds, 'D' for days and 'W' for weeks.\n",
    "    \"\"\"\n",
    "    \n",
    "    event_log = event_log.rename(columns = {event_var: 'event_from',\n",
    "                                            timestamp_var: 'time_from'})\n",
    "\n",
    "    dfs = []\n",
    "    groups = event_log.groupby(case_var)\n",
    "    for name, group in groups:\n",
    "        arc = group.sort_values('time_from')\n",
    "        arc['event_to'] = arc['event_from'].shift(-1)\n",
    "        arc['time_to'] = arc['time_from'].shift(-1)\n",
    "        arc.dropna(inplace = True)\n",
    "        duration_var = f'duration ({duration})'\n",
    "        arc[duration_var] = (arc['time_to'] - arc['time_from']) / np.timedelta64(1, duration)\n",
    "        \n",
    "        dfs.append(arc[[case_var, 'event_from', 'event_to', 'time_from', 'time_to', duration_var]])\n",
    "\n",
    "    return pd.concat(dfs).set_index(case_var)"
   ]
  },
  {
   "cell_type": "markdown",
   "metadata": {},
   "source": [
    "<br></br>\n",
    "# <b>2. Data Prepatation</b>"
   ]
  },
  {
   "cell_type": "markdown",
   "metadata": {},
   "source": [
    "## <b>2.1. Read Data</b>"
   ]
  },
  {
   "cell_type": "code",
   "execution_count": 10,
   "metadata": {
    "tags": []
   },
   "outputs": [
    {
     "data": {
      "text/html": [
       "<div>\n",
       "<style scoped>\n",
       "    .dataframe tbody tr th:only-of-type {\n",
       "        vertical-align: middle;\n",
       "    }\n",
       "\n",
       "    .dataframe tbody tr th {\n",
       "        vertical-align: top;\n",
       "    }\n",
       "\n",
       "    .dataframe thead th {\n",
       "        text-align: right;\n",
       "    }\n",
       "</style>\n",
       "<table border=\"1\" class=\"dataframe\">\n",
       "  <thead>\n",
       "    <tr style=\"text-align: right;\">\n",
       "      <th></th>\n",
       "      <th>case_id</th>\n",
       "      <th>activity</th>\n",
       "      <th>timestamp</th>\n",
       "      <th>costs</th>\n",
       "      <th>resource</th>\n",
       "    </tr>\n",
       "  </thead>\n",
       "  <tbody>\n",
       "    <tr>\n",
       "      <th>0</th>\n",
       "      <td>3</td>\n",
       "      <td>register request</td>\n",
       "      <td>2010-12-30 14:32:00+01:00</td>\n",
       "      <td>50</td>\n",
       "      <td>Pete</td>\n",
       "    </tr>\n",
       "    <tr>\n",
       "      <th>1</th>\n",
       "      <td>3</td>\n",
       "      <td>examine casually</td>\n",
       "      <td>2010-12-30 15:06:00+01:00</td>\n",
       "      <td>400</td>\n",
       "      <td>Mike</td>\n",
       "    </tr>\n",
       "    <tr>\n",
       "      <th>2</th>\n",
       "      <td>3</td>\n",
       "      <td>check ticket</td>\n",
       "      <td>2010-12-30 16:34:00+01:00</td>\n",
       "      <td>100</td>\n",
       "      <td>Ellen</td>\n",
       "    </tr>\n",
       "    <tr>\n",
       "      <th>3</th>\n",
       "      <td>3</td>\n",
       "      <td>decide</td>\n",
       "      <td>2011-01-06 09:18:00+01:00</td>\n",
       "      <td>200</td>\n",
       "      <td>Sara</td>\n",
       "    </tr>\n",
       "    <tr>\n",
       "      <th>4</th>\n",
       "      <td>3</td>\n",
       "      <td>reinitiate request</td>\n",
       "      <td>2011-01-06 12:18:00+01:00</td>\n",
       "      <td>200</td>\n",
       "      <td>Sara</td>\n",
       "    </tr>\n",
       "  </tbody>\n",
       "</table>\n",
       "</div>"
      ],
      "text/plain": [
       "   case_id            activity                  timestamp  costs resource\n",
       "0        3    register request  2010-12-30 14:32:00+01:00     50     Pete\n",
       "1        3    examine casually  2010-12-30 15:06:00+01:00    400     Mike\n",
       "2        3        check ticket  2010-12-30 16:34:00+01:00    100    Ellen\n",
       "3        3              decide  2011-01-06 09:18:00+01:00    200     Sara\n",
       "4        3  reinitiate request  2011-01-06 12:18:00+01:00    200     Sara"
      ]
     },
     "execution_count": 10,
     "metadata": {},
     "output_type": "execute_result"
    }
   ],
   "source": [
    "log_csv = pd.read_csv(SRC_DIR / 'Datasets' / 'Example' / 'Running_Example' / 'running-example.csv', sep=';')\n",
    "log_csv.head()"
   ]
  },
  {
   "cell_type": "code",
   "execution_count": 11,
   "metadata": {
    "tags": []
   },
   "outputs": [
    {
     "data": {
      "text/plain": [
       "(42, 5)"
      ]
     },
     "execution_count": 11,
     "metadata": {},
     "output_type": "execute_result"
    }
   ],
   "source": [
    "log_csv.shape"
   ]
  },
  {
   "cell_type": "code",
   "execution_count": 12,
   "metadata": {
    "tags": []
   },
   "outputs": [
    {
     "data": {
      "text/plain": [
       "case_id       int64\n",
       "activity     object\n",
       "timestamp    object\n",
       "costs         int64\n",
       "resource     object\n",
       "dtype: object"
      ]
     },
     "execution_count": 12,
     "metadata": {},
     "output_type": "execute_result"
    }
   ],
   "source": [
    "log_csv.dtypes"
   ]
  },
  {
   "cell_type": "markdown",
   "metadata": {},
   "source": [
    "<br></br>\n",
    "## <b>2.2. Convert Data</b>"
   ]
  },
  {
   "cell_type": "code",
   "execution_count": 13,
   "metadata": {
    "tags": []
   },
   "outputs": [
    {
     "data": {
      "text/plain": [
       "case_id                          int64\n",
       "activity                        object\n",
       "timestamp    datetime64[ns, UTC+01:00]\n",
       "costs                            int64\n",
       "resource                        object\n",
       "dtype: object"
      ]
     },
     "execution_count": 13,
     "metadata": {},
     "output_type": "execute_result"
    }
   ],
   "source": [
    "log_csv['timestamp'] = pd.to_datetime(log_csv['timestamp'])\n",
    "log_csv.dtypes"
   ]
  },
  {
   "cell_type": "code",
   "execution_count": 14,
   "metadata": {
    "tags": []
   },
   "outputs": [
    {
     "data": {
      "text/html": [
       "<div>\n",
       "<style scoped>\n",
       "    .dataframe tbody tr th:only-of-type {\n",
       "        vertical-align: middle;\n",
       "    }\n",
       "\n",
       "    .dataframe tbody tr th {\n",
       "        vertical-align: top;\n",
       "    }\n",
       "\n",
       "    .dataframe thead th {\n",
       "        text-align: right;\n",
       "    }\n",
       "</style>\n",
       "<table border=\"1\" class=\"dataframe\">\n",
       "  <thead>\n",
       "    <tr style=\"text-align: right;\">\n",
       "      <th></th>\n",
       "      <th>case_id</th>\n",
       "      <th>activity</th>\n",
       "      <th>timestamp</th>\n",
       "      <th>costs</th>\n",
       "      <th>resource</th>\n",
       "    </tr>\n",
       "  </thead>\n",
       "  <tbody>\n",
       "    <tr>\n",
       "      <th>0</th>\n",
       "      <td>3</td>\n",
       "      <td>register request</td>\n",
       "      <td>2010-12-30 14:32:00+01:00</td>\n",
       "      <td>50</td>\n",
       "      <td>Pete</td>\n",
       "    </tr>\n",
       "    <tr>\n",
       "      <th>1</th>\n",
       "      <td>3</td>\n",
       "      <td>examine casually</td>\n",
       "      <td>2010-12-30 15:06:00+01:00</td>\n",
       "      <td>400</td>\n",
       "      <td>Mike</td>\n",
       "    </tr>\n",
       "    <tr>\n",
       "      <th>2</th>\n",
       "      <td>3</td>\n",
       "      <td>check ticket</td>\n",
       "      <td>2010-12-30 16:34:00+01:00</td>\n",
       "      <td>100</td>\n",
       "      <td>Ellen</td>\n",
       "    </tr>\n",
       "    <tr>\n",
       "      <th>3</th>\n",
       "      <td>3</td>\n",
       "      <td>decide</td>\n",
       "      <td>2011-01-06 09:18:00+01:00</td>\n",
       "      <td>200</td>\n",
       "      <td>Sara</td>\n",
       "    </tr>\n",
       "    <tr>\n",
       "      <th>4</th>\n",
       "      <td>3</td>\n",
       "      <td>reinitiate request</td>\n",
       "      <td>2011-01-06 12:18:00+01:00</td>\n",
       "      <td>200</td>\n",
       "      <td>Sara</td>\n",
       "    </tr>\n",
       "  </tbody>\n",
       "</table>\n",
       "</div>"
      ],
      "text/plain": [
       "   case_id            activity                 timestamp  costs resource\n",
       "0        3    register request 2010-12-30 14:32:00+01:00     50     Pete\n",
       "1        3    examine casually 2010-12-30 15:06:00+01:00    400     Mike\n",
       "2        3        check ticket 2010-12-30 16:34:00+01:00    100    Ellen\n",
       "3        3              decide 2011-01-06 09:18:00+01:00    200     Sara\n",
       "4        3  reinitiate request 2011-01-06 12:18:00+01:00    200     Sara"
      ]
     },
     "execution_count": 14,
     "metadata": {},
     "output_type": "execute_result"
    }
   ],
   "source": [
    "log_csv = dataframe_utils.convert_timestamp_columns_in_df(log_csv)\n",
    "log_csv.head()"
   ]
  },
  {
   "cell_type": "code",
   "execution_count": 15,
   "metadata": {
    "tags": []
   },
   "outputs": [
    {
     "data": {
      "text/plain": [
       "case_id                          int64\n",
       "activity                        object\n",
       "timestamp    datetime64[ns, UTC+01:00]\n",
       "costs                            int64\n",
       "resource                        object\n",
       "dtype: object"
      ]
     },
     "execution_count": 15,
     "metadata": {},
     "output_type": "execute_result"
    }
   ],
   "source": [
    "log_csv.dtypes"
   ]
  },
  {
   "cell_type": "markdown",
   "metadata": {},
   "source": [
    "<br></br>\n",
    "## <b>2.3. Explore Data</b>"
   ]
  },
  {
   "cell_type": "markdown",
   "metadata": {
    "tags": []
   },
   "source": [
    "### <b>2.3.1. Shape</b>"
   ]
  },
  {
   "cell_type": "code",
   "execution_count": 16,
   "metadata": {
    "tags": []
   },
   "outputs": [
    {
     "data": {
      "text/plain": [
       "(42, 5)"
      ]
     },
     "execution_count": 16,
     "metadata": {},
     "output_type": "execute_result"
    }
   ],
   "source": [
    "log_csv.shape"
   ]
  },
  {
   "cell_type": "markdown",
   "metadata": {},
   "source": [
    "<br></br>\n",
    "### <b>2.3.2. Check NA-Values</b>"
   ]
  },
  {
   "cell_type": "code",
   "execution_count": 17,
   "metadata": {
    "tags": []
   },
   "outputs": [
    {
     "data": {
      "text/plain": [
       "case_id      0\n",
       "activity     0\n",
       "timestamp    0\n",
       "costs        0\n",
       "resource     0\n",
       "dtype: int64"
      ]
     },
     "execution_count": 17,
     "metadata": {},
     "output_type": "execute_result"
    }
   ],
   "source": [
    "log_csv.isna().sum()"
   ]
  },
  {
   "cell_type": "markdown",
   "metadata": {},
   "source": [
    "<br></br>\n",
    "### <b>2.3.3. Event Log Info</b>"
   ]
  },
  {
   "cell_type": "code",
   "execution_count": 18,
   "metadata": {
    "tags": []
   },
   "outputs": [
    {
     "name": "stdout",
     "output_type": "stream",
     "text": [
      "<class 'pandas.core.frame.DataFrame'>\n",
      "RangeIndex: 42 entries, 0 to 41\n",
      "Data columns (total 5 columns):\n",
      " #   Column     Non-Null Count  Dtype                    \n",
      "---  ------     --------------  -----                    \n",
      " 0   case_id    42 non-null     int64                    \n",
      " 1   activity   42 non-null     object                   \n",
      " 2   timestamp  42 non-null     datetime64[ns, UTC+01:00]\n",
      " 3   costs      42 non-null     int64                    \n",
      " 4   resource   42 non-null     object                   \n",
      "dtypes: datetime64[ns, UTC+01:00](1), int64(2), object(2)\n",
      "memory usage: 1.8+ KB\n"
     ]
    }
   ],
   "source": [
    "log_csv.info()"
   ]
  },
  {
   "cell_type": "markdown",
   "metadata": {},
   "source": [
    "<br></br>\n",
    "### <b>2.3.4. Get Sample Data</b>"
   ]
  },
  {
   "cell_type": "code",
   "execution_count": 19,
   "metadata": {
    "tags": []
   },
   "outputs": [
    {
     "data": {
      "text/html": [
       "<div>\n",
       "<style scoped>\n",
       "    .dataframe tbody tr th:only-of-type {\n",
       "        vertical-align: middle;\n",
       "    }\n",
       "\n",
       "    .dataframe tbody tr th {\n",
       "        vertical-align: top;\n",
       "    }\n",
       "\n",
       "    .dataframe thead th {\n",
       "        text-align: right;\n",
       "    }\n",
       "</style>\n",
       "<table border=\"1\" class=\"dataframe\">\n",
       "  <thead>\n",
       "    <tr style=\"text-align: right;\">\n",
       "      <th></th>\n",
       "      <th>case_id</th>\n",
       "      <th>activity</th>\n",
       "      <th>timestamp</th>\n",
       "      <th>costs</th>\n",
       "      <th>resource</th>\n",
       "    </tr>\n",
       "  </thead>\n",
       "  <tbody>\n",
       "    <tr>\n",
       "      <th>40</th>\n",
       "      <td>4</td>\n",
       "      <td>decide</td>\n",
       "      <td>2011-01-09 12:02:00+01:00</td>\n",
       "      <td>200</td>\n",
       "      <td>Sara</td>\n",
       "    </tr>\n",
       "    <tr>\n",
       "      <th>27</th>\n",
       "      <td>5</td>\n",
       "      <td>decide</td>\n",
       "      <td>2011-01-10 13:28:00+01:00</td>\n",
       "      <td>200</td>\n",
       "      <td>Sara</td>\n",
       "    </tr>\n",
       "    <tr>\n",
       "      <th>19</th>\n",
       "      <td>6</td>\n",
       "      <td>register request</td>\n",
       "      <td>2011-01-06 15:02:00+01:00</td>\n",
       "      <td>50</td>\n",
       "      <td>Mike</td>\n",
       "    </tr>\n",
       "    <tr>\n",
       "      <th>21</th>\n",
       "      <td>6</td>\n",
       "      <td>check ticket</td>\n",
       "      <td>2011-01-07 16:22:00+01:00</td>\n",
       "      <td>100</td>\n",
       "      <td>Mike</td>\n",
       "    </tr>\n",
       "  </tbody>\n",
       "</table>\n",
       "</div>"
      ],
      "text/plain": [
       "    case_id          activity                 timestamp  costs resource\n",
       "40        4            decide 2011-01-09 12:02:00+01:00    200     Sara\n",
       "27        5            decide 2011-01-10 13:28:00+01:00    200     Sara\n",
       "19        6  register request 2011-01-06 15:02:00+01:00     50     Mike\n",
       "21        6      check ticket 2011-01-07 16:22:00+01:00    100     Mike"
      ]
     },
     "execution_count": 19,
     "metadata": {},
     "output_type": "execute_result"
    }
   ],
   "source": [
    "log_csv.sample(frac=.1)"
   ]
  },
  {
   "cell_type": "markdown",
   "metadata": {},
   "source": [
    "<br></br>\n",
    "### <b>2.3.5. Get Unique Values</b>"
   ]
  },
  {
   "cell_type": "code",
   "execution_count": 106,
   "metadata": {
    "tags": []
   },
   "outputs": [
    {
     "data": {
      "text/html": [
       "<div>\n",
       "<style scoped>\n",
       "    .dataframe tbody tr th:only-of-type {\n",
       "        vertical-align: middle;\n",
       "    }\n",
       "\n",
       "    .dataframe tbody tr th {\n",
       "        vertical-align: top;\n",
       "    }\n",
       "\n",
       "    .dataframe thead th {\n",
       "        text-align: right;\n",
       "    }\n",
       "</style>\n",
       "<table border=\"1\" class=\"dataframe\">\n",
       "  <thead>\n",
       "    <tr style=\"text-align: right;\">\n",
       "      <th></th>\n",
       "      <th>unique values</th>\n",
       "      <th>fraction</th>\n",
       "    </tr>\n",
       "    <tr>\n",
       "      <th>variable</th>\n",
       "      <th></th>\n",
       "      <th></th>\n",
       "    </tr>\n",
       "  </thead>\n",
       "  <tbody>\n",
       "    <tr>\n",
       "      <th>case_id</th>\n",
       "      <td>6</td>\n",
       "      <td>0.14</td>\n",
       "    </tr>\n",
       "    <tr>\n",
       "      <th>activity</th>\n",
       "      <td>8</td>\n",
       "      <td>0.19</td>\n",
       "    </tr>\n",
       "    <tr>\n",
       "      <th>timestamp</th>\n",
       "      <td>41</td>\n",
       "      <td>0.98</td>\n",
       "    </tr>\n",
       "    <tr>\n",
       "      <th>costs</th>\n",
       "      <td>4</td>\n",
       "      <td>0.10</td>\n",
       "    </tr>\n",
       "    <tr>\n",
       "      <th>resource</th>\n",
       "      <td>6</td>\n",
       "      <td>0.14</td>\n",
       "    </tr>\n",
       "  </tbody>\n",
       "</table>\n",
       "</div>"
      ],
      "text/plain": [
       "           unique values  fraction\n",
       "variable                          \n",
       "case_id                6      0.14\n",
       "activity               8      0.19\n",
       "timestamp             41      0.98\n",
       "costs                  4      0.10\n",
       "resource               6      0.14"
      ]
     },
     "execution_count": 106,
     "metadata": {},
     "output_type": "execute_result"
    }
   ],
   "source": [
    "pd.DataFrame(\n",
    "    {\n",
    "        'variable': log_csv.columns, \n",
    "        'unique values': [log_csv[col].nunique() for col in log_csv.columns],\n",
    "        'fraction': [round(log_csv[col].nunique() / log_csv.shape[0], 2) for col in log_csv.columns], \n",
    "    }\n",
    ").set_index('variable')"
   ]
  },
  {
   "cell_type": "markdown",
   "metadata": {},
   "source": [
    "<br></br>\n",
    "### <b>2.3.6. Visualizing Event Counts by Case ID</b>"
   ]
  },
  {
   "cell_type": "code",
   "execution_count": 107,
   "metadata": {
    "tags": []
   },
   "outputs": [
    {
     "data": {
      "image/png": "[encoded data removed]",
      "text/plain": [
       "<Figure size 640x480 with 1 Axes>"
      ]
     },
     "metadata": {},
     "output_type": "display_data"
    }
   ],
   "source": [
    "log_csv['case_id'].value_counts().plot(y='case_id', kind='barh', title='case_id')\n",
    "plt.show()"
   ]
  },
  {
   "cell_type": "markdown",
   "metadata": {},
   "source": [
    "<br></br>\n",
    "### <b>2.3.7. Visualizing Event Counts</b>"
   ]
  },
  {
   "cell_type": "code",
   "execution_count": 111,
   "metadata": {
    "tags": []
   },
   "outputs": [
    {
     "data": {
      "image/png": "[encoded data removed]",
      "text/plain": [
       "<Figure size 640x480 with 1 Axes>"
      ]
     },
     "metadata": {},
     "output_type": "display_data"
    }
   ],
   "source": [
    "log_csv['activity'].value_counts().plot(y='activity', kind='barh', title='activity')\n",
    "plt.show()"
   ]
  },
  {
   "cell_type": "markdown",
   "metadata": {
    "tags": []
   },
   "source": [
    "<br></br>\n",
    "### <b>2.3.8. Visualizing Event Counts by Resources</b>"
   ]
  },
  {
   "cell_type": "code",
   "execution_count": 112,
   "metadata": {
    "tags": []
   },
   "outputs": [
    {
     "data": {
      "image/png": "[encoded data removed]",
      "text/plain": [
       "<Figure size 640x480 with 1 Axes>"
      ]
     },
     "metadata": {},
     "output_type": "display_data"
    }
   ],
   "source": [
    "log_csv['resource'].value_counts().plot(y='resource', kind='barh', title='resource')\n",
    "plt.show()"
   ]
  },
  {
   "cell_type": "markdown",
   "metadata": {},
   "source": [
    "<br></br>\n",
    "### <b>2.3.9. Unique Timestamps</b>"
   ]
  },
  {
   "cell_type": "code",
   "execution_count": 114,
   "metadata": {
    "tags": []
   },
   "outputs": [
    {
     "data": {
      "text/plain": [
       "41"
      ]
     },
     "execution_count": 114,
     "metadata": {},
     "output_type": "execute_result"
    }
   ],
   "source": [
    "log_csv.timestamp.nunique()"
   ]
  },
  {
   "cell_type": "code",
   "execution_count": 115,
   "metadata": {
    "tags": []
   },
   "outputs": [
    {
     "data": {
      "text/html": [
       "<div>\n",
       "<style scoped>\n",
       "    .dataframe tbody tr th:only-of-type {\n",
       "        vertical-align: middle;\n",
       "    }\n",
       "\n",
       "    .dataframe tbody tr th {\n",
       "        vertical-align: top;\n",
       "    }\n",
       "\n",
       "    .dataframe thead th {\n",
       "        text-align: right;\n",
       "    }\n",
       "</style>\n",
       "<table border=\"1\" class=\"dataframe\">\n",
       "  <thead>\n",
       "    <tr style=\"text-align: right;\">\n",
       "      <th></th>\n",
       "      <th>count</th>\n",
       "    </tr>\n",
       "    <tr>\n",
       "      <th>timestamp</th>\n",
       "      <th></th>\n",
       "    </tr>\n",
       "  </thead>\n",
       "  <tbody>\n",
       "    <tr>\n",
       "      <th>2011-01-06 15:02:00+01:00</th>\n",
       "      <td>2</td>\n",
       "    </tr>\n",
       "    <tr>\n",
       "      <th>2010-12-30 14:32:00+01:00</th>\n",
       "      <td>1</td>\n",
       "    </tr>\n",
       "    <tr>\n",
       "      <th>2011-01-16 15:50:00+01:00</th>\n",
       "      <td>1</td>\n",
       "    </tr>\n",
       "    <tr>\n",
       "      <th>2011-01-16 11:47:00+01:00</th>\n",
       "      <td>1</td>\n",
       "    </tr>\n",
       "    <tr>\n",
       "      <th>2011-01-06 09:02:00+01:00</th>\n",
       "      <td>1</td>\n",
       "    </tr>\n",
       "  </tbody>\n",
       "</table>\n",
       "</div>"
      ],
      "text/plain": [
       "                           count\n",
       "timestamp                       \n",
       "2011-01-06 15:02:00+01:00      2\n",
       "2010-12-30 14:32:00+01:00      1\n",
       "2011-01-16 15:50:00+01:00      1\n",
       "2011-01-16 11:47:00+01:00      1\n",
       "2011-01-06 09:02:00+01:00      1"
      ]
     },
     "execution_count": 115,
     "metadata": {},
     "output_type": "execute_result"
    }
   ],
   "source": [
    "# Multiple occurences: timestamp\n",
    "pd.DataFrame(log_csv.timestamp.value_counts()).head(5)"
   ]
  },
  {
   "cell_type": "markdown",
   "metadata": {},
   "source": [
    "<br></br>\n",
    "### <b>2.3.10. Costs Boxplot</b>"
   ]
  },
  {
   "cell_type": "code",
   "execution_count": 116,
   "metadata": {
    "tags": []
   },
   "outputs": [
    {
     "data": {
      "image/png": "[encoded data removed]",
      "text/plain": [
       "<Figure size 640x480 with 1 Axes>"
      ]
     },
     "metadata": {},
     "output_type": "display_data"
    }
   ],
   "source": [
    "log_csv['costs'].plot(kind='box', vert=False)\n",
    "plt.show()"
   ]
  },
  {
   "cell_type": "code",
   "execution_count": null,
   "metadata": {},
   "outputs": [],
   "source": []
  },
  {
   "cell_type": "code",
   "execution_count": 140,
   "metadata": {
    "tags": []
   },
   "outputs": [
    {
     "data": {
      "text/plain": [
       "<AxesSubplot: >"
      ]
     },
     "execution_count": 140,
     "metadata": {},
     "output_type": "execute_result"
    },
    {
     "data": {
      "image/png": "[encoded data removed]",
      "text/plain": [
       "<Figure size 640x480 with 1 Axes>"
      ]
     },
     "metadata": {},
     "output_type": "display_data"
    }
   ],
   "source": [
    "case_df = log_csv.groupby('case_id').agg(CaseCostSum = ('costs', 'sum'))\n",
    "case_df['CaseCostSum'].plot(kind='box', vert=False)"
   ]
  },
  {
   "cell_type": "markdown",
   "metadata": {},
   "source": [
    "<br></br>\n",
    "### <b>2.3.11. Boxplots of Activities Duration</b>"
   ]
  },
  {
   "cell_type": "code",
   "execution_count": 150,
   "metadata": {
    "tags": []
   },
   "outputs": [
    {
     "data": {
      "image/png": "[encoded data removed]",
      "text/plain": [
       "<Figure size 640x480 with 1 Axes>"
      ]
     },
     "metadata": {},
     "output_type": "display_data"
    }
   ],
   "source": [
    "ad_df = activity_duration(log_csv, 'case_id', 'activity', 'timestamp')\n",
    "ad_df = ad_df[['event_from', 'event_to', 'duration (h)']].reset_index()\n",
    "ad_df = ad_df.pivot(columns='event_from', values='duration (h)')\n",
    "ad_df.plot(kind='box', vert=False, title='Activity duration in hours')\n",
    "plt.show()"
   ]
  },
  {
   "cell_type": "markdown",
   "metadata": {},
   "source": [
    "<br></br>\n",
    "### <b>2.3.12. Activity Timeline Per Trace</b>"
   ]
  },
  {
   "cell_type": "code",
   "execution_count": 151,
   "metadata": {
    "tags": []
   },
   "outputs": [
    {
     "data": {
      "image/png": "[encoded data removed]",
      "text/plain": [
       "<Figure size 1600x800 with 1 Axes>"
      ]
     },
     "metadata": {},
     "output_type": "display_data"
    }
   ],
   "source": [
    "# Settings\n",
    "activity = {\n",
    "    'register request': ('>', 'green'), \n",
    "    'check ticket': ('o', 'gold'), \n",
    "    'examine casually': ('v', 'orange'), \n",
    "    'examine thoroughly': ('^', 'orange'), \n",
    "    'reinitiate request': ('>', 'lightgreen'), \n",
    "    'decide': ('H', 'blue'), \n",
    "    'pay compensation': ('s', 'green'), \n",
    "    'reject request': ('s', 'red'),\n",
    "}\n",
    "\n",
    "\n",
    "# Figure\n",
    "fig, ax = plt.subplots(figsize=(16, 8))\n",
    "\n",
    "\n",
    "# Timelines\n",
    "log_csv_agg_by_case = log_csv.groupby('case_id').agg(time_start = ('timestamp', min),\n",
    "                                                     time_end = ('timestamp', max)).reset_index()\n",
    "log_csv_agg_by_case\n",
    "for timeline in log_csv_agg_by_case.itertuples(index=False):\n",
    "    plt.hlines(timeline.case_id, timeline.time_start, timeline.time_end, \n",
    "               colors = 'grey', linestyles = 'dashed')\n",
    "\n",
    "# Activities\n",
    "for act in activity.keys():\n",
    "    ax.scatter(log_csv.loc[log_csv.activity == act, 'timestamp'], \n",
    "               log_csv.loc[log_csv.activity == act, 'case_id'],\n",
    "               marker = activity[act][0],\n",
    "               color = activity[act][1], \n",
    "               s = 150, \n",
    "               alpha = .7,\n",
    "               label = act,\n",
    "               edgecolors = 'black',\n",
    "              )\n",
    "\n",
    "ax.set_title('Activity timeline per trace', fontsize=16)\n",
    "ax.set_xlabel('time')\n",
    "ax.set_ylabel('case_id (i.e. trace)')\n",
    "ax.legend()\n",
    "ax.grid(True)\n",
    "\n",
    "plt.show()"
   ]
  },
  {
   "cell_type": "markdown",
   "metadata": {},
   "source": [
    "<br></br>\n",
    "### <b>2.3.13. Frequency Table</b>"
   ]
  },
  {
   "cell_type": "code",
   "execution_count": 153,
   "metadata": {
    "tags": []
   },
   "outputs": [
    {
     "data": {
      "text/html": [
       "<div>\n",
       "<style scoped>\n",
       "    .dataframe tbody tr th:only-of-type {\n",
       "        vertical-align: middle;\n",
       "    }\n",
       "\n",
       "    .dataframe tbody tr th {\n",
       "        vertical-align: top;\n",
       "    }\n",
       "\n",
       "    .dataframe thead th {\n",
       "        text-align: right;\n",
       "    }\n",
       "</style>\n",
       "<table border=\"1\" class=\"dataframe\">\n",
       "  <thead>\n",
       "    <tr style=\"text-align: right;\">\n",
       "      <th></th>\n",
       "      <th>event_from</th>\n",
       "      <th>event_to</th>\n",
       "      <th>frequency</th>\n",
       "    </tr>\n",
       "  </thead>\n",
       "  <tbody>\n",
       "    <tr>\n",
       "      <th>0</th>\n",
       "      <td>register request</td>\n",
       "      <td>examine casually</td>\n",
       "      <td>3.0</td>\n",
       "    </tr>\n",
       "    <tr>\n",
       "      <th>1</th>\n",
       "      <td>register request</td>\n",
       "      <td>check ticket</td>\n",
       "      <td>2.0</td>\n",
       "    </tr>\n",
       "    <tr>\n",
       "      <th>2</th>\n",
       "      <td>register request</td>\n",
       "      <td>examine thoroughly</td>\n",
       "      <td>1.0</td>\n",
       "    </tr>\n",
       "    <tr>\n",
       "      <th>3</th>\n",
       "      <td>examine casually</td>\n",
       "      <td>check ticket</td>\n",
       "      <td>4.0</td>\n",
       "    </tr>\n",
       "    <tr>\n",
       "      <th>4</th>\n",
       "      <td>examine casually</td>\n",
       "      <td>decide</td>\n",
       "      <td>2.0</td>\n",
       "    </tr>\n",
       "    <tr>\n",
       "      <th>5</th>\n",
       "      <td>check ticket</td>\n",
       "      <td>examine casually</td>\n",
       "      <td>2.0</td>\n",
       "    </tr>\n",
       "    <tr>\n",
       "      <th>6</th>\n",
       "      <td>check ticket</td>\n",
       "      <td>decide</td>\n",
       "      <td>6.0</td>\n",
       "    </tr>\n",
       "    <tr>\n",
       "      <th>7</th>\n",
       "      <td>check ticket</td>\n",
       "      <td>examine thoroughly</td>\n",
       "      <td>1.0</td>\n",
       "    </tr>\n",
       "    <tr>\n",
       "      <th>8</th>\n",
       "      <td>decide</td>\n",
       "      <td>reinitiate request</td>\n",
       "      <td>3.0</td>\n",
       "    </tr>\n",
       "    <tr>\n",
       "      <th>9</th>\n",
       "      <td>decide</td>\n",
       "      <td>pay compensation</td>\n",
       "      <td>3.0</td>\n",
       "    </tr>\n",
       "    <tr>\n",
       "      <th>10</th>\n",
       "      <td>decide</td>\n",
       "      <td>reject request</td>\n",
       "      <td>3.0</td>\n",
       "    </tr>\n",
       "    <tr>\n",
       "      <th>11</th>\n",
       "      <td>reinitiate request</td>\n",
       "      <td>examine casually</td>\n",
       "      <td>1.0</td>\n",
       "    </tr>\n",
       "    <tr>\n",
       "      <th>12</th>\n",
       "      <td>reinitiate request</td>\n",
       "      <td>check ticket</td>\n",
       "      <td>1.0</td>\n",
       "    </tr>\n",
       "    <tr>\n",
       "      <th>13</th>\n",
       "      <td>reinitiate request</td>\n",
       "      <td>examine thoroughly</td>\n",
       "      <td>1.0</td>\n",
       "    </tr>\n",
       "    <tr>\n",
       "      <th>14</th>\n",
       "      <td>examine thoroughly</td>\n",
       "      <td>check ticket</td>\n",
       "      <td>2.0</td>\n",
       "    </tr>\n",
       "    <tr>\n",
       "      <th>15</th>\n",
       "      <td>examine thoroughly</td>\n",
       "      <td>decide</td>\n",
       "      <td>1.0</td>\n",
       "    </tr>\n",
       "  </tbody>\n",
       "</table>\n",
       "</div>"
      ],
      "text/plain": [
       "            event_from            event_to  frequency\n",
       "0     register request    examine casually        3.0\n",
       "1     register request        check ticket        2.0\n",
       "2     register request  examine thoroughly        1.0\n",
       "3     examine casually        check ticket        4.0\n",
       "4     examine casually              decide        2.0\n",
       "5         check ticket    examine casually        2.0\n",
       "6         check ticket              decide        6.0\n",
       "7         check ticket  examine thoroughly        1.0\n",
       "8               decide  reinitiate request        3.0\n",
       "9               decide    pay compensation        3.0\n",
       "10              decide      reject request        3.0\n",
       "11  reinitiate request    examine casually        1.0\n",
       "12  reinitiate request        check ticket        1.0\n",
       "13  reinitiate request  examine thoroughly        1.0\n",
       "14  examine thoroughly        check ticket        2.0\n",
       "15  examine thoroughly              decide        1.0"
      ]
     },
     "execution_count": 153,
     "metadata": {},
     "output_type": "execute_result"
    }
   ],
   "source": [
    "frequencey_matrix = dfg_frequency_matrix(log_csv, 'case_id', 'activity', 'timestamp')\n",
    "af_df = frequency_table(frequencey_matrix).reset_index()\n",
    "af_df"
   ]
  },
  {
   "cell_type": "markdown",
   "metadata": {
    "tags": []
   },
   "source": [
    "<br></br>\n",
    "### <b>2.3.14. Extract Activities Duration From Events</b>"
   ]
  },
  {
   "cell_type": "code",
   "execution_count": 157,
   "metadata": {
    "tags": []
   },
   "outputs": [
    {
     "data": {
      "text/html": [
       "<div>\n",
       "<style scoped>\n",
       "    .dataframe tbody tr th:only-of-type {\n",
       "        vertical-align: middle;\n",
       "    }\n",
       "\n",
       "    .dataframe tbody tr th {\n",
       "        vertical-align: top;\n",
       "    }\n",
       "\n",
       "    .dataframe thead th {\n",
       "        text-align: right;\n",
       "    }\n",
       "</style>\n",
       "<table border=\"1\" class=\"dataframe\">\n",
       "  <thead>\n",
       "    <tr style=\"text-align: right;\">\n",
       "      <th></th>\n",
       "      <th>event_from</th>\n",
       "      <th>event_to</th>\n",
       "      <th>mean_duration</th>\n",
       "    </tr>\n",
       "  </thead>\n",
       "  <tbody>\n",
       "    <tr>\n",
       "      <th>0</th>\n",
       "      <td>check ticket</td>\n",
       "      <td>decide</td>\n",
       "      <td>50.544444</td>\n",
       "    </tr>\n",
       "    <tr>\n",
       "      <th>1</th>\n",
       "      <td>check ticket</td>\n",
       "      <td>examine casually</td>\n",
       "      <td>25.675000</td>\n",
       "    </tr>\n",
       "    <tr>\n",
       "      <th>2</th>\n",
       "      <td>check ticket</td>\n",
       "      <td>examine thoroughly</td>\n",
       "      <td>26.616667</td>\n",
       "    </tr>\n",
       "    <tr>\n",
       "      <th>3</th>\n",
       "      <td>decide</td>\n",
       "      <td>pay compensation</td>\n",
       "      <td>142.822222</td>\n",
       "    </tr>\n",
       "    <tr>\n",
       "      <th>4</th>\n",
       "      <td>decide</td>\n",
       "      <td>reinitiate request</td>\n",
       "      <td>18.444444</td>\n",
       "    </tr>\n",
       "    <tr>\n",
       "      <th>5</th>\n",
       "      <td>decide</td>\n",
       "      <td>reject request</td>\n",
       "      <td>42.844444</td>\n",
       "    </tr>\n",
       "    <tr>\n",
       "      <th>6</th>\n",
       "      <td>examine casually</td>\n",
       "      <td>check ticket</td>\n",
       "      <td>13.325000</td>\n",
       "    </tr>\n",
       "    <tr>\n",
       "      <th>7</th>\n",
       "      <td>examine casually</td>\n",
       "      <td>decide</td>\n",
       "      <td>104.283333</td>\n",
       "    </tr>\n",
       "    <tr>\n",
       "      <th>8</th>\n",
       "      <td>examine thoroughly</td>\n",
       "      <td>check ticket</td>\n",
       "      <td>85.858333</td>\n",
       "    </tr>\n",
       "    <tr>\n",
       "      <th>9</th>\n",
       "      <td>examine thoroughly</td>\n",
       "      <td>decide</td>\n",
       "      <td>21.316667</td>\n",
       "    </tr>\n",
       "    <tr>\n",
       "      <th>10</th>\n",
       "      <td>register request</td>\n",
       "      <td>check ticket</td>\n",
       "      <td>10.866667</td>\n",
       "    </tr>\n",
       "    <tr>\n",
       "      <th>11</th>\n",
       "      <td>register request</td>\n",
       "      <td>examine casually</td>\n",
       "      <td>8.955556</td>\n",
       "    </tr>\n",
       "    <tr>\n",
       "      <th>12</th>\n",
       "      <td>register request</td>\n",
       "      <td>examine thoroughly</td>\n",
       "      <td>23.066667</td>\n",
       "    </tr>\n",
       "    <tr>\n",
       "      <th>13</th>\n",
       "      <td>reinitiate request</td>\n",
       "      <td>check ticket</td>\n",
       "      <td>70.250000</td>\n",
       "    </tr>\n",
       "    <tr>\n",
       "      <th>14</th>\n",
       "      <td>reinitiate request</td>\n",
       "      <td>examine casually</td>\n",
       "      <td>20.300000</td>\n",
       "    </tr>\n",
       "    <tr>\n",
       "      <th>15</th>\n",
       "      <td>reinitiate request</td>\n",
       "      <td>examine thoroughly</td>\n",
       "      <td>0.800000</td>\n",
       "    </tr>\n",
       "  </tbody>\n",
       "</table>\n",
       "</div>"
      ],
      "text/plain": [
       "            event_from            event_to  mean_duration\n",
       "0         check ticket              decide      50.544444\n",
       "1         check ticket    examine casually      25.675000\n",
       "2         check ticket  examine thoroughly      26.616667\n",
       "3               decide    pay compensation     142.822222\n",
       "4               decide  reinitiate request      18.444444\n",
       "5               decide      reject request      42.844444\n",
       "6     examine casually        check ticket      13.325000\n",
       "7     examine casually              decide     104.283333\n",
       "8   examine thoroughly        check ticket      85.858333\n",
       "9   examine thoroughly              decide      21.316667\n",
       "10    register request        check ticket      10.866667\n",
       "11    register request    examine casually       8.955556\n",
       "12    register request  examine thoroughly      23.066667\n",
       "13  reinitiate request        check ticket      70.250000\n",
       "14  reinitiate request    examine casually      20.300000\n",
       "15  reinitiate request  examine thoroughly       0.800000"
      ]
     },
     "execution_count": 157,
     "metadata": {},
     "output_type": "execute_result"
    }
   ],
   "source": [
    "ad_df = activity_duration(log_csv, 'case_id', 'activity', 'timestamp').loc[:, ['event_from', 'event_to', 'duration (h)']]\n",
    "ad_df = ad_df.groupby(by = ['event_from', 'event_to']).agg(\n",
    "    mean_duration = ('duration (h)', 'mean')\n",
    ").reset_index()\n",
    "ad_df"
   ]
  },
  {
   "cell_type": "markdown",
   "metadata": {},
   "source": [
    "<br></br>\n",
    "### <b>2.3.15. Frequency-Duration Table</b>"
   ]
  },
  {
   "cell_type": "code",
   "execution_count": 159,
   "metadata": {
    "tags": []
   },
   "outputs": [
    {
     "data": {
      "text/html": [
       "<div>\n",
       "<style scoped>\n",
       "    .dataframe tbody tr th:only-of-type {\n",
       "        vertical-align: middle;\n",
       "    }\n",
       "\n",
       "    .dataframe tbody tr th {\n",
       "        vertical-align: top;\n",
       "    }\n",
       "\n",
       "    .dataframe thead th {\n",
       "        text-align: right;\n",
       "    }\n",
       "</style>\n",
       "<table border=\"1\" class=\"dataframe\">\n",
       "  <thead>\n",
       "    <tr style=\"text-align: right;\">\n",
       "      <th></th>\n",
       "      <th>event_from</th>\n",
       "      <th>event_to</th>\n",
       "      <th>mean_duration</th>\n",
       "      <th>total_duration</th>\n",
       "      <th>std_duration</th>\n",
       "      <th>count</th>\n",
       "    </tr>\n",
       "  </thead>\n",
       "  <tbody>\n",
       "    <tr>\n",
       "      <th>0</th>\n",
       "      <td>check ticket</td>\n",
       "      <td>decide</td>\n",
       "      <td>50.544444</td>\n",
       "      <td>303.266667</td>\n",
       "      <td>57.231699</td>\n",
       "      <td>6</td>\n",
       "    </tr>\n",
       "    <tr>\n",
       "      <th>1</th>\n",
       "      <td>check ticket</td>\n",
       "      <td>examine casually</td>\n",
       "      <td>25.675000</td>\n",
       "      <td>51.350000</td>\n",
       "      <td>33.387225</td>\n",
       "      <td>2</td>\n",
       "    </tr>\n",
       "    <tr>\n",
       "      <th>2</th>\n",
       "      <td>check ticket</td>\n",
       "      <td>examine thoroughly</td>\n",
       "      <td>26.616667</td>\n",
       "      <td>26.616667</td>\n",
       "      <td>NaN</td>\n",
       "      <td>1</td>\n",
       "    </tr>\n",
       "    <tr>\n",
       "      <th>3</th>\n",
       "      <td>decide</td>\n",
       "      <td>pay compensation</td>\n",
       "      <td>142.822222</td>\n",
       "      <td>428.466667</td>\n",
       "      <td>69.121946</td>\n",
       "      <td>3</td>\n",
       "    </tr>\n",
       "    <tr>\n",
       "      <th>4</th>\n",
       "      <td>decide</td>\n",
       "      <td>reinitiate request</td>\n",
       "      <td>18.444444</td>\n",
       "      <td>55.333333</td>\n",
       "      <td>13.391885</td>\n",
       "      <td>3</td>\n",
       "    </tr>\n",
       "    <tr>\n",
       "      <th>5</th>\n",
       "      <td>decide</td>\n",
       "      <td>reject request</td>\n",
       "      <td>42.844444</td>\n",
       "      <td>128.533333</td>\n",
       "      <td>28.461950</td>\n",
       "      <td>3</td>\n",
       "    </tr>\n",
       "    <tr>\n",
       "      <th>6</th>\n",
       "      <td>examine casually</td>\n",
       "      <td>check ticket</td>\n",
       "      <td>13.325000</td>\n",
       "      <td>53.300000</td>\n",
       "      <td>13.126235</td>\n",
       "      <td>4</td>\n",
       "    </tr>\n",
       "    <tr>\n",
       "      <th>7</th>\n",
       "      <td>examine casually</td>\n",
       "      <td>decide</td>\n",
       "      <td>104.283333</td>\n",
       "      <td>208.566667</td>\n",
       "      <td>52.066629</td>\n",
       "      <td>2</td>\n",
       "    </tr>\n",
       "    <tr>\n",
       "      <th>8</th>\n",
       "      <td>examine thoroughly</td>\n",
       "      <td>check ticket</td>\n",
       "      <td>85.858333</td>\n",
       "      <td>171.716667</td>\n",
       "      <td>55.496097</td>\n",
       "      <td>2</td>\n",
       "    </tr>\n",
       "    <tr>\n",
       "      <th>9</th>\n",
       "      <td>examine thoroughly</td>\n",
       "      <td>decide</td>\n",
       "      <td>21.316667</td>\n",
       "      <td>21.316667</td>\n",
       "      <td>NaN</td>\n",
       "      <td>1</td>\n",
       "    </tr>\n",
       "    <tr>\n",
       "      <th>10</th>\n",
       "      <td>register request</td>\n",
       "      <td>check ticket</td>\n",
       "      <td>10.866667</td>\n",
       "      <td>21.733333</td>\n",
       "      <td>14.424978</td>\n",
       "      <td>2</td>\n",
       "    </tr>\n",
       "    <tr>\n",
       "      <th>11</th>\n",
       "      <td>register request</td>\n",
       "      <td>examine casually</td>\n",
       "      <td>8.955556</td>\n",
       "      <td>26.866667</td>\n",
       "      <td>14.099186</td>\n",
       "      <td>3</td>\n",
       "    </tr>\n",
       "    <tr>\n",
       "      <th>12</th>\n",
       "      <td>register request</td>\n",
       "      <td>examine thoroughly</td>\n",
       "      <td>23.066667</td>\n",
       "      <td>23.066667</td>\n",
       "      <td>NaN</td>\n",
       "      <td>1</td>\n",
       "    </tr>\n",
       "    <tr>\n",
       "      <th>13</th>\n",
       "      <td>reinitiate request</td>\n",
       "      <td>check ticket</td>\n",
       "      <td>70.250000</td>\n",
       "      <td>70.250000</td>\n",
       "      <td>NaN</td>\n",
       "      <td>1</td>\n",
       "    </tr>\n",
       "    <tr>\n",
       "      <th>14</th>\n",
       "      <td>reinitiate request</td>\n",
       "      <td>examine casually</td>\n",
       "      <td>20.300000</td>\n",
       "      <td>20.300000</td>\n",
       "      <td>NaN</td>\n",
       "      <td>1</td>\n",
       "    </tr>\n",
       "    <tr>\n",
       "      <th>15</th>\n",
       "      <td>reinitiate request</td>\n",
       "      <td>examine thoroughly</td>\n",
       "      <td>0.800000</td>\n",
       "      <td>0.800000</td>\n",
       "      <td>NaN</td>\n",
       "      <td>1</td>\n",
       "    </tr>\n",
       "  </tbody>\n",
       "</table>\n",
       "</div>"
      ],
      "text/plain": [
       "            event_from            event_to  mean_duration  total_duration  \\\n",
       "0         check ticket              decide      50.544444      303.266667   \n",
       "1         check ticket    examine casually      25.675000       51.350000   \n",
       "2         check ticket  examine thoroughly      26.616667       26.616667   \n",
       "3               decide    pay compensation     142.822222      428.466667   \n",
       "4               decide  reinitiate request      18.444444       55.333333   \n",
       "5               decide      reject request      42.844444      128.533333   \n",
       "6     examine casually        check ticket      13.325000       53.300000   \n",
       "7     examine casually              decide     104.283333      208.566667   \n",
       "8   examine thoroughly        check ticket      85.858333      171.716667   \n",
       "9   examine thoroughly              decide      21.316667       21.316667   \n",
       "10    register request        check ticket      10.866667       21.733333   \n",
       "11    register request    examine casually       8.955556       26.866667   \n",
       "12    register request  examine thoroughly      23.066667       23.066667   \n",
       "13  reinitiate request        check ticket      70.250000       70.250000   \n",
       "14  reinitiate request    examine casually      20.300000       20.300000   \n",
       "15  reinitiate request  examine thoroughly       0.800000        0.800000   \n",
       "\n",
       "    std_duration  count  \n",
       "0      57.231699      6  \n",
       "1      33.387225      2  \n",
       "2            NaN      1  \n",
       "3      69.121946      3  \n",
       "4      13.391885      3  \n",
       "5      28.461950      3  \n",
       "6      13.126235      4  \n",
       "7      52.066629      2  \n",
       "8      55.496097      2  \n",
       "9            NaN      1  \n",
       "10     14.424978      2  \n",
       "11     14.099186      3  \n",
       "12           NaN      1  \n",
       "13           NaN      1  \n",
       "14           NaN      1  \n",
       "15           NaN      1  "
      ]
     },
     "execution_count": 159,
     "metadata": {},
     "output_type": "execute_result"
    }
   ],
   "source": [
    "ad_df = activity_duration(log_csv, 'case_id', 'activity', 'timestamp').loc[:, ['event_from', 'event_to', 'duration (h)']]\n",
    "\n",
    "ad_df = ad_df.groupby(by = ['event_from', 'event_to']).agg(\n",
    "    mean_duration = ('duration (h)', 'mean'),\n",
    "    total_duration = ('duration (h)', 'sum'),\n",
    "    std_duration = ('duration (h)', 'std'),\n",
    "    count = ('event_from', 'count')\n",
    ").reset_index()\n",
    "\n",
    "# ad_df.sort_values('total_duration', ascending=False)\n",
    "ad_df"
   ]
  },
  {
   "cell_type": "markdown",
   "metadata": {},
   "source": [
    "<br></br>\n",
    "### <b>2.3.16. Frequency Table Heatmap</b>"
   ]
  },
  {
   "cell_type": "code",
   "execution_count": 162,
   "metadata": {
    "tags": []
   },
   "outputs": [
    {
     "data": {
      "image/png": "[encoded data removed]",
      "text/plain": [
       "<Figure size 800x600 with 2 Axes>"
      ]
     },
     "metadata": {},
     "output_type": "display_data"
    }
   ],
   "source": [
    "dfg_freq_matrix = dfg_frequency_matrix(log_csv, 'case_id', 'activity', 'timestamp')\n",
    "sns.set(rc={'figure.figsize':(8, 6)})\n",
    "sns.heatmap(dfg_freq_matrix, annot=True, fmt='.0f', cmap='Reds', square=True)\n",
    "plt.show()"
   ]
  },
  {
   "cell_type": "markdown",
   "metadata": {},
   "source": [
    "<br></br>\n",
    "### <b>2.3.17. Activities Duration Heatmap</b>"
   ]
  },
  {
   "cell_type": "code",
   "execution_count": 165,
   "metadata": {
    "tags": []
   },
   "outputs": [
    {
     "data": {
      "image/png": "[encoded data removed]",
      "text/plain": [
       "<Figure size 800x600 with 2 Axes>"
      ]
     },
     "metadata": {},
     "output_type": "display_data"
    }
   ],
   "source": [
    "# Directly-Follows Graph total duration heapmap (in hours)\n",
    "dfg_perf_matrix = dfg_performance_matrix(log_csv, 'case_id', 'activity', 'timestamp', duration='h')\n",
    "sns.set(rc={'figure.figsize':(8, 6)})\n",
    "sns.heatmap(dfg_perf_matrix, annot=True, fmt='.0f', cmap='BuPu', square=True)\n",
    "plt.show()"
   ]
  },
  {
   "cell_type": "markdown",
   "metadata": {
    "tags": []
   },
   "source": [
    "<br></br>\n",
    "### <b>2.3.18. Performance Spectrum</b>"
   ]
  },
  {
   "cell_type": "code",
   "execution_count": 158,
   "metadata": {
    "tags": []
   },
   "outputs": [
    {
     "data": {
      "application/vnd.jupyter.widget-view+json": {
       "model_id": "983847f3255e429abd22886f57220d81",
       "version_major": 2,
       "version_minor": 0
      },
      "text/plain": [
       "parsing log, completed traces ::   0%|          | 0/6 [00:00<?, ?it/s]"
      ]
     },
     "metadata": {},
     "output_type": "display_data"
    },
    {
     "data": {
      "image/jpeg": "[encoded data removed]",
      "text/plain": [
       "<IPython.core.display.Image object>"
      ]
     },
     "metadata": {},
     "output_type": "display_data"
    }
   ],
   "source": [
    "log = xes_importer.apply(str(DATA_DIR / 'Example/Running_Example/running-example.xes'))\n",
    "pm4py.view_performance_spectrum(log, [\"register request\", \"examine casually\", \"decide\"], format=\"jpg\")"
   ]
  },
  {
   "cell_type": "markdown",
   "metadata": {},
   "source": [
    "<br></br>\n",
    "# <b>3. Event Log</b>"
   ]
  },
  {
   "cell_type": "markdown",
   "metadata": {
    "tags": []
   },
   "source": [
    "## <b>3.1. Create pm4py Event Log Object From Pandas Dataframe<b>"
   ]
  },
  {
   "cell_type": "code",
   "execution_count": 169,
   "metadata": {
    "tags": []
   },
   "outputs": [],
   "source": [
    "event_log = pm4py.format_dataframe(\n",
    "    log_csv,\n",
    "    case_id = 'case_id',\n",
    "    activity_key = 'activity',\n",
    "    timestamp_key = 'timestamp', \n",
    "    timest_format = '%Y-%m-%d %H:%M:%S%z'\n",
    ")"
   ]
  },
  {
   "cell_type": "markdown",
   "metadata": {},
   "source": [
    "<br></br>\n",
    "## <b>3.2. View Event Log</b>"
   ]
  },
  {
   "cell_type": "code",
   "execution_count": 170,
   "metadata": {
    "tags": []
   },
   "outputs": [
    {
     "data": {
      "text/html": [
       "<div>\n",
       "<style scoped>\n",
       "    .dataframe tbody tr th:only-of-type {\n",
       "        vertical-align: middle;\n",
       "    }\n",
       "\n",
       "    .dataframe tbody tr th {\n",
       "        vertical-align: top;\n",
       "    }\n",
       "\n",
       "    .dataframe thead th {\n",
       "        text-align: right;\n",
       "    }\n",
       "</style>\n",
       "<table border=\"1\" class=\"dataframe\">\n",
       "  <thead>\n",
       "    <tr style=\"text-align: right;\">\n",
       "      <th></th>\n",
       "      <th>case_id</th>\n",
       "      <th>activity</th>\n",
       "      <th>timestamp</th>\n",
       "      <th>costs</th>\n",
       "      <th>resource</th>\n",
       "      <th>case:concept:name</th>\n",
       "      <th>concept:name</th>\n",
       "      <th>time:timestamp</th>\n",
       "      <th>@@index</th>\n",
       "      <th>@@case_index</th>\n",
       "    </tr>\n",
       "  </thead>\n",
       "  <tbody>\n",
       "    <tr>\n",
       "      <th>0</th>\n",
       "      <td>1</td>\n",
       "      <td>register request</td>\n",
       "      <td>2010-12-30 11:02:00+01:00</td>\n",
       "      <td>50</td>\n",
       "      <td>Pete</td>\n",
       "      <td>1</td>\n",
       "      <td>register request</td>\n",
       "      <td>2010-12-30 11:02:00+01:00</td>\n",
       "      <td>0</td>\n",
       "      <td>0</td>\n",
       "    </tr>\n",
       "    <tr>\n",
       "      <th>1</th>\n",
       "      <td>1</td>\n",
       "      <td>examine thoroughly</td>\n",
       "      <td>2010-12-31 10:06:00+01:00</td>\n",
       "      <td>400</td>\n",
       "      <td>Sue</td>\n",
       "      <td>1</td>\n",
       "      <td>examine thoroughly</td>\n",
       "      <td>2010-12-31 10:06:00+01:00</td>\n",
       "      <td>1</td>\n",
       "      <td>0</td>\n",
       "    </tr>\n",
       "    <tr>\n",
       "      <th>2</th>\n",
       "      <td>1</td>\n",
       "      <td>check ticket</td>\n",
       "      <td>2011-01-05 15:12:00+01:00</td>\n",
       "      <td>100</td>\n",
       "      <td>Mike</td>\n",
       "      <td>1</td>\n",
       "      <td>check ticket</td>\n",
       "      <td>2011-01-05 15:12:00+01:00</td>\n",
       "      <td>2</td>\n",
       "      <td>0</td>\n",
       "    </tr>\n",
       "    <tr>\n",
       "      <th>3</th>\n",
       "      <td>1</td>\n",
       "      <td>decide</td>\n",
       "      <td>2011-01-06 11:18:00+01:00</td>\n",
       "      <td>200</td>\n",
       "      <td>Sara</td>\n",
       "      <td>1</td>\n",
       "      <td>decide</td>\n",
       "      <td>2011-01-06 11:18:00+01:00</td>\n",
       "      <td>3</td>\n",
       "      <td>0</td>\n",
       "    </tr>\n",
       "    <tr>\n",
       "      <th>4</th>\n",
       "      <td>1</td>\n",
       "      <td>reject request</td>\n",
       "      <td>2011-01-07 14:24:00+01:00</td>\n",
       "      <td>200</td>\n",
       "      <td>Pete</td>\n",
       "      <td>1</td>\n",
       "      <td>reject request</td>\n",
       "      <td>2011-01-07 14:24:00+01:00</td>\n",
       "      <td>4</td>\n",
       "      <td>0</td>\n",
       "    </tr>\n",
       "    <tr>\n",
       "      <th>5</th>\n",
       "      <td>2</td>\n",
       "      <td>register request</td>\n",
       "      <td>2010-12-30 11:32:00+01:00</td>\n",
       "      <td>50</td>\n",
       "      <td>Mike</td>\n",
       "      <td>2</td>\n",
       "      <td>register request</td>\n",
       "      <td>2010-12-30 11:32:00+01:00</td>\n",
       "      <td>5</td>\n",
       "      <td>1</td>\n",
       "    </tr>\n",
       "    <tr>\n",
       "      <th>6</th>\n",
       "      <td>2</td>\n",
       "      <td>check ticket</td>\n",
       "      <td>2010-12-30 12:12:00+01:00</td>\n",
       "      <td>100</td>\n",
       "      <td>Mike</td>\n",
       "      <td>2</td>\n",
       "      <td>check ticket</td>\n",
       "      <td>2010-12-30 12:12:00+01:00</td>\n",
       "      <td>6</td>\n",
       "      <td>1</td>\n",
       "    </tr>\n",
       "  </tbody>\n",
       "</table>\n",
       "</div>"
      ],
      "text/plain": [
       "   case_id            activity                 timestamp  costs resource  \\\n",
       "0        1    register request 2010-12-30 11:02:00+01:00     50     Pete   \n",
       "1        1  examine thoroughly 2010-12-31 10:06:00+01:00    400      Sue   \n",
       "2        1        check ticket 2011-01-05 15:12:00+01:00    100     Mike   \n",
       "3        1              decide 2011-01-06 11:18:00+01:00    200     Sara   \n",
       "4        1      reject request 2011-01-07 14:24:00+01:00    200     Pete   \n",
       "5        2    register request 2010-12-30 11:32:00+01:00     50     Mike   \n",
       "6        2        check ticket 2010-12-30 12:12:00+01:00    100     Mike   \n",
       "\n",
       "  case:concept:name        concept:name            time:timestamp  @@index  \\\n",
       "0                 1    register request 2010-12-30 11:02:00+01:00        0   \n",
       "1                 1  examine thoroughly 2010-12-31 10:06:00+01:00        1   \n",
       "2                 1        check ticket 2011-01-05 15:12:00+01:00        2   \n",
       "3                 1              decide 2011-01-06 11:18:00+01:00        3   \n",
       "4                 1      reject request 2011-01-07 14:24:00+01:00        4   \n",
       "5                 2    register request 2010-12-30 11:32:00+01:00        5   \n",
       "6                 2        check ticket 2010-12-30 12:12:00+01:00        6   \n",
       "\n",
       "   @@case_index  \n",
       "0             0  \n",
       "1             0  \n",
       "2             0  \n",
       "3             0  \n",
       "4             0  \n",
       "5             1  \n",
       "6             1  "
      ]
     },
     "execution_count": 170,
     "metadata": {},
     "output_type": "execute_result"
    }
   ],
   "source": [
    "event_log.head(7)"
   ]
  },
  {
   "cell_type": "code",
   "execution_count": 173,
   "metadata": {
    "tags": []
   },
   "outputs": [
    {
     "name": "stdout",
     "output_type": "stream",
     "text": [
      "Start activities: {'register request': 6}\n",
      "End activities  : {'reject request': 3, 'pay compensation': 3}\n"
     ]
    }
   ],
   "source": [
    "# View Start and End activities\n",
    "\n",
    "start_activities = pm4py.get_start_activities(event_log)\n",
    "end_activities = pm4py.get_end_activities(event_log)\n",
    "\n",
    "print(f'Start activities: {start_activities}')\n",
    "print(f'End activities  : {end_activities}')"
   ]
  },
  {
   "cell_type": "markdown",
   "metadata": {},
   "source": [
    "<br></br>\n",
    "## <b>3.3. Export Event Log (to XES)</b>"
   ]
  },
  {
   "cell_type": "code",
   "execution_count": 163,
   "metadata": {
    "tags": []
   },
   "outputs": [
    {
     "data": {
      "text/plain": [
       "pandas.core.frame.DataFrame"
      ]
     },
     "execution_count": 163,
     "metadata": {},
     "output_type": "execute_result"
    }
   ],
   "source": [
    "type(event_log)"
   ]
  },
  {
   "cell_type": "code",
   "execution_count": 176,
   "metadata": {
    "tags": []
   },
   "outputs": [
    {
     "data": {
      "application/vnd.jupyter.widget-view+json": {
       "model_id": "c347f56241964f4a9b105886a7cf5391",
       "version_major": 2,
       "version_minor": 0
      },
      "text/plain": [
       "exporting log, completed traces ::   0%|          | 0/6 [00:00<?, ?it/s]"
      ]
     },
     "metadata": {},
     "output_type": "display_data"
    }
   ],
   "source": [
    "xes_exporter.apply(event_log, str(SRC_DIR / 'Datasets' / 'Example' / 'Running_Example' / 'running-example.xes'))"
   ]
  },
  {
   "cell_type": "markdown",
   "metadata": {},
   "source": [
    "<br></br>\n",
    "## <b>3.4. Import Event Log (from XES)</b>"
   ]
  },
  {
   "cell_type": "code",
   "execution_count": 178,
   "metadata": {
    "tags": []
   },
   "outputs": [
    {
     "data": {
      "application/vnd.jupyter.widget-view+json": {
       "model_id": "8b3fa114da564ce7b3aad7e2b2e88c2b",
       "version_major": 2,
       "version_minor": 0
      },
      "text/plain": [
       "parsing log, completed traces ::   0%|          | 0/6 [00:00<?, ?it/s]"
      ]
     },
     "metadata": {},
     "output_type": "display_data"
    }
   ],
   "source": [
    "log = xes_importer.apply(str(SRC_DIR / 'Datasets' / 'Example' / 'Running_Example' / 'running-example.xes'))"
   ]
  },
  {
   "cell_type": "markdown",
   "metadata": {},
   "source": [
    "<br></br>\n",
    "## <b>3.5. Explore Event Log (XES)</b>"
   ]
  },
  {
   "cell_type": "code",
   "execution_count": 179,
   "metadata": {
    "tags": []
   },
   "outputs": [
    {
     "data": {
      "text/plain": [
       "pm4py.objects.log.obj.EventLog"
      ]
     },
     "execution_count": 179,
     "metadata": {},
     "output_type": "execute_result"
    }
   ],
   "source": [
    "type(log)"
   ]
  },
  {
   "cell_type": "code",
   "execution_count": 56,
   "metadata": {
    "tags": []
   },
   "outputs": [
    {
     "data": {
      "text/plain": [
       "pm4py.objects.log.obj.Trace"
      ]
     },
     "execution_count": 56,
     "metadata": {},
     "output_type": "execute_result"
    }
   ],
   "source": [
    "type(log[0])"
   ]
  },
  {
   "cell_type": "code",
   "execution_count": 37,
   "metadata": {
    "tags": []
   },
   "outputs": [
    {
     "data": {
      "text/plain": [
       "pm4py.objects.log.obj.Event"
      ]
     },
     "execution_count": 37,
     "metadata": {},
     "output_type": "execute_result"
    }
   ],
   "source": [
    "type(log[0][0])"
   ]
  },
  {
   "cell_type": "code",
   "execution_count": 184,
   "metadata": {
    "tags": []
   },
   "outputs": [
    {
     "name": "stdout",
     "output_type": "stream",
     "text": [
      "{'attributes': {'concept:name': '1'}, 'events': [{'case_id': 1, 'activity': 'register request', 'timestamp': datetime.datetime(2010, 12, 30, 11, 2, tzinfo=datetime.timezone(datetime.timedelta(seconds=3600))), 'costs': 50, 'resource': 'Pete', 'concept:name': 'register request', 'time:timestamp': datetime.datetime(2010, 12, 30, 11, 2, tzinfo=datetime.timezone(datetime.timedelta(seconds=3600))), '@@index': 0, '@@case_index': 0}, '..', {'case_id': 1, 'activity': 'reject request', 'timestamp': datetime.datetime(2011, 1, 7, 14, 24, tzinfo=datetime.timezone(datetime.timedelta(seconds=3600))), 'costs': 200, 'resource': 'Pete', 'concept:name': 'reject request', 'time:timestamp': datetime.datetime(2011, 1, 7, 14, 24, tzinfo=datetime.timezone(datetime.timedelta(seconds=3600))), '@@index': 4, '@@case_index': 0}]}\n",
      "----------------------------------------------------------------------\n",
      "{'case_id': 1, 'activity': 'register request', 'timestamp': datetime.datetime(2010, 12, 30, 11, 2, tzinfo=datetime.timezone(datetime.timedelta(seconds=3600))), 'costs': 50, 'resource': 'Pete', 'concept:name': 'register request', 'time:timestamp': datetime.datetime(2010, 12, 30, 11, 2, tzinfo=datetime.timezone(datetime.timedelta(seconds=3600))), '@@index': 0, '@@case_index': 0}\n"
     ]
    }
   ],
   "source": [
    "for trace in log:\n",
    "    print(trace)\n",
    "    break\n",
    "\n",
    "print('-' * 70)\n",
    "    \n",
    "for event in trace:\n",
    "    print(event)    \n",
    "    break"
   ]
  },
  {
   "cell_type": "code",
   "execution_count": 185,
   "metadata": {
    "tags": []
   },
   "outputs": [
    {
     "data": {
      "text/plain": [
       "['1', '2', '3', '4', '5', '6']"
      ]
     },
     "execution_count": 185,
     "metadata": {},
     "output_type": "execute_result"
    }
   ],
   "source": [
    "# concept:name (i.e. case_id) for each trace\n",
    "[trace.attributes['concept:name'] for trace in log]"
   ]
  },
  {
   "cell_type": "code",
   "execution_count": 192,
   "metadata": {
    "tags": []
   },
   "outputs": [
    {
     "name": "stdout",
     "output_type": "stream",
     "text": [
      "== TRACE: 1 ==================================================\n",
      "  register request:    50  |   Pete  |  2010-12-30 11:02  |   0\n",
      "examine thoroughly:   400  |    Sue  |  2010-12-31 10:06  |   1\n",
      "      check ticket:   100  |   Mike  |  2011-01-05 15:12  |   2\n",
      "            decide:   200  |   Sara  |  2011-01-06 11:18  |   3\n",
      "    reject request:   200  |   Pete  |  2011-01-07 14:24  |   4\n",
      "== TRACE: 2 ==================================================\n",
      "  register request:    50  |   Mike  |  2010-12-30 11:32  |   5\n",
      "      check ticket:   100  |   Mike  |  2010-12-30 12:12  |   6\n",
      "  examine casually:   400  |   Sean  |  2010-12-30 14:16  |   7\n",
      "            decide:   200  |   Sara  |  2011-01-05 11:22  |   8\n",
      "  pay compensation:   200  |  Ellen  |  2011-01-08 12:05  |   9\n",
      "== TRACE: 3 ==================================================\n",
      "  register request:    50  |   Pete  |  2010-12-30 14:32  |  10\n",
      "  examine casually:   400  |   Mike  |  2010-12-30 15:06  |  11\n",
      "      check ticket:   100  |  Ellen  |  2010-12-30 16:34  |  12\n",
      "            decide:   200  |   Sara  |  2011-01-06 09:18  |  13\n",
      "reinitiate request:   200  |   Sara  |  2011-01-06 12:18  |  14\n",
      "examine thoroughly:   400  |   Sean  |  2011-01-06 13:06  |  15\n",
      "      check ticket:   100  |   Pete  |  2011-01-08 11:43  |  16\n",
      "            decide:   200  |   Sara  |  2011-01-09 09:55  |  17\n",
      "  pay compensation:   200  |  Ellen  |  2011-01-15 10:45  |  18\n",
      "== TRACE: 4 ==================================================\n",
      "  register request:    50  |   Pete  |  2011-01-06 15:02  |  19\n",
      "      check ticket:   100  |   Mike  |  2011-01-07 12:06  |  20\n",
      "examine thoroughly:   400  |   Sean  |  2011-01-08 14:43  |  21\n",
      "            decide:   200  |   Sara  |  2011-01-09 12:02  |  22\n",
      "    reject request:   200  |  Ellen  |  2011-01-12 15:44  |  23\n",
      "== TRACE: 5 ==================================================\n",
      "  register request:    50  |  Ellen  |  2011-01-06 09:02  |  24\n",
      "  examine casually:   400  |   Mike  |  2011-01-07 10:16  |  25\n",
      "      check ticket:   100  |   Pete  |  2011-01-08 11:22  |  26\n",
      "            decide:   200  |   Sara  |  2011-01-10 13:28  |  27\n",
      "reinitiate request:   200  |   Sara  |  2011-01-11 16:18  |  28\n",
      "      check ticket:   100  |  Ellen  |  2011-01-14 14:33  |  29\n",
      "  examine casually:   400  |   Mike  |  2011-01-16 15:50  |  30\n",
      "            decide:   200  |   Sara  |  2011-01-19 11:18  |  31\n",
      "reinitiate request:   200  |   Sara  |  2011-01-20 12:48  |  32\n",
      "  examine casually:   400  |    Sue  |  2011-01-21 09:06  |  33\n",
      "      check ticket:   100  |   Pete  |  2011-01-21 11:34  |  34\n",
      "            decide:   200  |   Sara  |  2011-01-23 13:12  |  35\n",
      "    reject request:   200  |   Mike  |  2011-01-24 14:56  |  36\n",
      "== TRACE: 6 ==================================================\n",
      "  register request:    50  |   Mike  |  2011-01-06 15:02  |  37\n",
      "  examine casually:   400  |  Ellen  |  2011-01-06 16:06  |  38\n",
      "      check ticket:   100  |   Mike  |  2011-01-07 16:22  |  39\n",
      "            decide:   200  |   Sara  |  2011-01-07 16:52  |  40\n",
      "  pay compensation:   200  |   Mike  |  2011-01-16 11:47  |  41\n"
     ]
    }
   ],
   "source": [
    "# Overview traces from XES\n",
    "for trace in log:\n",
    "    print(f\"== TRACE: {trace.attributes['concept:name']} ==================================================\")\n",
    "    for event in trace:\n",
    "        print('{:>18}:  {:>4}  |  {:>5}  |  {}  |  {:>2}'.format(\n",
    "            event.get('concept:name'), \n",
    "            event.get('costs'), \n",
    "            event.get('resource'), \n",
    "            event.get('time:timestamp').strftime('%Y-%m-%d %H:%M'), \n",
    "            event.get('@@index')\n",
    "        ))"
   ]
  },
  {
   "cell_type": "markdown",
   "metadata": {
    "tags": []
   },
   "source": [
    "<br></br>\n",
    "## <b>3.6. Filter Event Log</b>"
   ]
  },
  {
   "cell_type": "markdown",
   "metadata": {},
   "source": [
    "### <b>3.6.1. Filter on End Activity</b>"
   ]
  },
  {
   "cell_type": "code",
   "execution_count": 193,
   "metadata": {
    "tags": []
   },
   "outputs": [
    {
     "data": {
      "text/plain": [
       "[{'attributes': {'concept:name': '2'}, 'events': [{'case_id': 2, 'activity': 'register request', 'timestamp': datetime.datetime(2010, 12, 30, 11, 32, tzinfo=datetime.timezone(datetime.timedelta(seconds=3600))), 'costs': 50, 'resource': 'Mike', 'concept:name': 'register request', 'time:timestamp': datetime.datetime(2010, 12, 30, 11, 32, tzinfo=datetime.timezone(datetime.timedelta(seconds=3600))), '@@index': 5, '@@case_index': 1}, '..', {'case_id': 2, 'activity': 'pay compensation', 'timestamp': datetime.datetime(2011, 1, 8, 12, 5, tzinfo=datetime.timezone(datetime.timedelta(seconds=3600))), 'costs': 200, 'resource': 'Ellen', 'concept:name': 'pay compensation', 'time:timestamp': datetime.datetime(2011, 1, 8, 12, 5, tzinfo=datetime.timezone(datetime.timedelta(seconds=3600))), '@@index': 9, '@@case_index': 1}]}, '....', {'attributes': {'concept:name': '6'}, 'events': [{'case_id': 6, 'activity': 'register request', 'timestamp': datetime.datetime(2011, 1, 6, 15, 2, tzinfo=datetime.timezone(datetime.timedelta(seconds=3600))), 'costs': 50, 'resource': 'Mike', 'concept:name': 'register request', 'time:timestamp': datetime.datetime(2011, 1, 6, 15, 2, tzinfo=datetime.timezone(datetime.timedelta(seconds=3600))), '@@index': 37, '@@case_index': 5}, '..', {'case_id': 6, 'activity': 'pay compensation', 'timestamp': datetime.datetime(2011, 1, 16, 11, 47, tzinfo=datetime.timezone(datetime.timedelta(seconds=3600))), 'costs': 200, 'resource': 'Mike', 'concept:name': 'pay compensation', 'time:timestamp': datetime.datetime(2011, 1, 16, 11, 47, tzinfo=datetime.timezone(datetime.timedelta(seconds=3600))), '@@index': 41, '@@case_index': 5}]}]"
      ]
     },
     "execution_count": 193,
     "metadata": {},
     "output_type": "execute_result"
    }
   ],
   "source": [
    "pay_compensation = pm4py.filter_end_activities(log, {'pay compensation'})\n",
    "pay_compensation"
   ]
  },
  {
   "cell_type": "code",
   "execution_count": 154,
   "metadata": {
    "tags": []
   },
   "outputs": [
    {
     "name": "stdout",
     "output_type": "stream",
     "text": [
      "2\n",
      "3\n",
      "6\n"
     ]
    }
   ],
   "source": [
    "# Traces (i.e. case_id) that has activity 'pay compensation'\n",
    "\n",
    "for trace in pay_compensation:\n",
    "    print(trace.attributes['concept:name'])"
   ]
  },
  {
   "cell_type": "code",
   "execution_count": 42,
   "metadata": {
    "tags": []
   },
   "outputs": [
    {
     "data": {
      "text/html": [
       "<div>\n",
       "<style scoped>\n",
       "    .dataframe tbody tr th:only-of-type {\n",
       "        vertical-align: middle;\n",
       "    }\n",
       "\n",
       "    .dataframe tbody tr th {\n",
       "        vertical-align: top;\n",
       "    }\n",
       "\n",
       "    .dataframe thead th {\n",
       "        text-align: right;\n",
       "    }\n",
       "</style>\n",
       "<table border=\"1\" class=\"dataframe\">\n",
       "  <thead>\n",
       "    <tr style=\"text-align: right;\">\n",
       "      <th></th>\n",
       "      <th>case_id</th>\n",
       "      <th>activity</th>\n",
       "      <th>timestamp</th>\n",
       "      <th>costs</th>\n",
       "      <th>resource</th>\n",
       "      <th>concept:name</th>\n",
       "      <th>time:timestamp</th>\n",
       "      <th>@@index</th>\n",
       "      <th>@@case_index</th>\n",
       "      <th>case:concept:name</th>\n",
       "    </tr>\n",
       "  </thead>\n",
       "  <tbody>\n",
       "    <tr>\n",
       "      <th>0</th>\n",
       "      <td>2</td>\n",
       "      <td>register request</td>\n",
       "      <td>2010-12-30 10:32:00+00:00</td>\n",
       "      <td>50</td>\n",
       "      <td>Mike</td>\n",
       "      <td>register request</td>\n",
       "      <td>2010-12-30 10:32:00+00:00</td>\n",
       "      <td>5</td>\n",
       "      <td>1</td>\n",
       "      <td>2</td>\n",
       "    </tr>\n",
       "    <tr>\n",
       "      <th>1</th>\n",
       "      <td>2</td>\n",
       "      <td>check ticket</td>\n",
       "      <td>2010-12-30 11:12:00+00:00</td>\n",
       "      <td>100</td>\n",
       "      <td>Mike</td>\n",
       "      <td>check ticket</td>\n",
       "      <td>2010-12-30 11:12:00+00:00</td>\n",
       "      <td>6</td>\n",
       "      <td>1</td>\n",
       "      <td>2</td>\n",
       "    </tr>\n",
       "    <tr>\n",
       "      <th>2</th>\n",
       "      <td>2</td>\n",
       "      <td>examine casually</td>\n",
       "      <td>2010-12-30 13:16:00+00:00</td>\n",
       "      <td>400</td>\n",
       "      <td>Sean</td>\n",
       "      <td>examine casually</td>\n",
       "      <td>2010-12-30 13:16:00+00:00</td>\n",
       "      <td>7</td>\n",
       "      <td>1</td>\n",
       "      <td>2</td>\n",
       "    </tr>\n",
       "    <tr>\n",
       "      <th>3</th>\n",
       "      <td>2</td>\n",
       "      <td>decide</td>\n",
       "      <td>2011-01-05 10:22:00+00:00</td>\n",
       "      <td>200</td>\n",
       "      <td>Sara</td>\n",
       "      <td>decide</td>\n",
       "      <td>2011-01-05 10:22:00+00:00</td>\n",
       "      <td>8</td>\n",
       "      <td>1</td>\n",
       "      <td>2</td>\n",
       "    </tr>\n",
       "    <tr>\n",
       "      <th>4</th>\n",
       "      <td>2</td>\n",
       "      <td>pay compensation</td>\n",
       "      <td>2011-01-08 11:05:00+00:00</td>\n",
       "      <td>200</td>\n",
       "      <td>Ellen</td>\n",
       "      <td>pay compensation</td>\n",
       "      <td>2011-01-08 11:05:00+00:00</td>\n",
       "      <td>9</td>\n",
       "      <td>1</td>\n",
       "      <td>2</td>\n",
       "    </tr>\n",
       "    <tr>\n",
       "      <th>5</th>\n",
       "      <td>3</td>\n",
       "      <td>register request</td>\n",
       "      <td>2010-12-30 13:32:00+00:00</td>\n",
       "      <td>50</td>\n",
       "      <td>Pete</td>\n",
       "      <td>register request</td>\n",
       "      <td>2010-12-30 13:32:00+00:00</td>\n",
       "      <td>10</td>\n",
       "      <td>2</td>\n",
       "      <td>3</td>\n",
       "    </tr>\n",
       "    <tr>\n",
       "      <th>6</th>\n",
       "      <td>3</td>\n",
       "      <td>examine casually</td>\n",
       "      <td>2010-12-30 14:06:00+00:00</td>\n",
       "      <td>400</td>\n",
       "      <td>Mike</td>\n",
       "      <td>examine casually</td>\n",
       "      <td>2010-12-30 14:06:00+00:00</td>\n",
       "      <td>11</td>\n",
       "      <td>2</td>\n",
       "      <td>3</td>\n",
       "    </tr>\n",
       "    <tr>\n",
       "      <th>7</th>\n",
       "      <td>3</td>\n",
       "      <td>check ticket</td>\n",
       "      <td>2010-12-30 15:34:00+00:00</td>\n",
       "      <td>100</td>\n",
       "      <td>Ellen</td>\n",
       "      <td>check ticket</td>\n",
       "      <td>2010-12-30 15:34:00+00:00</td>\n",
       "      <td>12</td>\n",
       "      <td>2</td>\n",
       "      <td>3</td>\n",
       "    </tr>\n",
       "    <tr>\n",
       "      <th>8</th>\n",
       "      <td>3</td>\n",
       "      <td>decide</td>\n",
       "      <td>2011-01-06 08:18:00+00:00</td>\n",
       "      <td>200</td>\n",
       "      <td>Sara</td>\n",
       "      <td>decide</td>\n",
       "      <td>2011-01-06 08:18:00+00:00</td>\n",
       "      <td>13</td>\n",
       "      <td>2</td>\n",
       "      <td>3</td>\n",
       "    </tr>\n",
       "    <tr>\n",
       "      <th>9</th>\n",
       "      <td>3</td>\n",
       "      <td>reinitiate request</td>\n",
       "      <td>2011-01-06 11:18:00+00:00</td>\n",
       "      <td>200</td>\n",
       "      <td>Sara</td>\n",
       "      <td>reinitiate request</td>\n",
       "      <td>2011-01-06 11:18:00+00:00</td>\n",
       "      <td>14</td>\n",
       "      <td>2</td>\n",
       "      <td>3</td>\n",
       "    </tr>\n",
       "    <tr>\n",
       "      <th>10</th>\n",
       "      <td>3</td>\n",
       "      <td>examine thoroughly</td>\n",
       "      <td>2011-01-06 12:06:00+00:00</td>\n",
       "      <td>400</td>\n",
       "      <td>Sean</td>\n",
       "      <td>examine thoroughly</td>\n",
       "      <td>2011-01-06 12:06:00+00:00</td>\n",
       "      <td>15</td>\n",
       "      <td>2</td>\n",
       "      <td>3</td>\n",
       "    </tr>\n",
       "    <tr>\n",
       "      <th>11</th>\n",
       "      <td>3</td>\n",
       "      <td>check ticket</td>\n",
       "      <td>2011-01-08 10:43:00+00:00</td>\n",
       "      <td>100</td>\n",
       "      <td>Pete</td>\n",
       "      <td>check ticket</td>\n",
       "      <td>2011-01-08 10:43:00+00:00</td>\n",
       "      <td>16</td>\n",
       "      <td>2</td>\n",
       "      <td>3</td>\n",
       "    </tr>\n",
       "    <tr>\n",
       "      <th>12</th>\n",
       "      <td>3</td>\n",
       "      <td>decide</td>\n",
       "      <td>2011-01-09 08:55:00+00:00</td>\n",
       "      <td>200</td>\n",
       "      <td>Sara</td>\n",
       "      <td>decide</td>\n",
       "      <td>2011-01-09 08:55:00+00:00</td>\n",
       "      <td>17</td>\n",
       "      <td>2</td>\n",
       "      <td>3</td>\n",
       "    </tr>\n",
       "    <tr>\n",
       "      <th>13</th>\n",
       "      <td>3</td>\n",
       "      <td>pay compensation</td>\n",
       "      <td>2011-01-15 09:45:00+00:00</td>\n",
       "      <td>200</td>\n",
       "      <td>Ellen</td>\n",
       "      <td>pay compensation</td>\n",
       "      <td>2011-01-15 09:45:00+00:00</td>\n",
       "      <td>18</td>\n",
       "      <td>2</td>\n",
       "      <td>3</td>\n",
       "    </tr>\n",
       "    <tr>\n",
       "      <th>14</th>\n",
       "      <td>6</td>\n",
       "      <td>register request</td>\n",
       "      <td>2011-01-06 14:02:00+00:00</td>\n",
       "      <td>50</td>\n",
       "      <td>Mike</td>\n",
       "      <td>register request</td>\n",
       "      <td>2011-01-06 14:02:00+00:00</td>\n",
       "      <td>37</td>\n",
       "      <td>5</td>\n",
       "      <td>6</td>\n",
       "    </tr>\n",
       "    <tr>\n",
       "      <th>15</th>\n",
       "      <td>6</td>\n",
       "      <td>examine casually</td>\n",
       "      <td>2011-01-06 15:06:00+00:00</td>\n",
       "      <td>400</td>\n",
       "      <td>Ellen</td>\n",
       "      <td>examine casually</td>\n",
       "      <td>2011-01-06 15:06:00+00:00</td>\n",
       "      <td>38</td>\n",
       "      <td>5</td>\n",
       "      <td>6</td>\n",
       "    </tr>\n",
       "    <tr>\n",
       "      <th>16</th>\n",
       "      <td>6</td>\n",
       "      <td>check ticket</td>\n",
       "      <td>2011-01-07 15:22:00+00:00</td>\n",
       "      <td>100</td>\n",
       "      <td>Mike</td>\n",
       "      <td>check ticket</td>\n",
       "      <td>2011-01-07 15:22:00+00:00</td>\n",
       "      <td>39</td>\n",
       "      <td>5</td>\n",
       "      <td>6</td>\n",
       "    </tr>\n",
       "    <tr>\n",
       "      <th>17</th>\n",
       "      <td>6</td>\n",
       "      <td>decide</td>\n",
       "      <td>2011-01-07 15:52:00+00:00</td>\n",
       "      <td>200</td>\n",
       "      <td>Sara</td>\n",
       "      <td>decide</td>\n",
       "      <td>2011-01-07 15:52:00+00:00</td>\n",
       "      <td>40</td>\n",
       "      <td>5</td>\n",
       "      <td>6</td>\n",
       "    </tr>\n",
       "    <tr>\n",
       "      <th>18</th>\n",
       "      <td>6</td>\n",
       "      <td>pay compensation</td>\n",
       "      <td>2011-01-16 10:47:00+00:00</td>\n",
       "      <td>200</td>\n",
       "      <td>Mike</td>\n",
       "      <td>pay compensation</td>\n",
       "      <td>2011-01-16 10:47:00+00:00</td>\n",
       "      <td>41</td>\n",
       "      <td>5</td>\n",
       "      <td>6</td>\n",
       "    </tr>\n",
       "  </tbody>\n",
       "</table>\n",
       "</div>"
      ],
      "text/plain": [
       "    case_id            activity                 timestamp  costs resource  \\\n",
       "0         2    register request 2010-12-30 10:32:00+00:00     50     Mike   \n",
       "1         2        check ticket 2010-12-30 11:12:00+00:00    100     Mike   \n",
       "2         2    examine casually 2010-12-30 13:16:00+00:00    400     Sean   \n",
       "3         2              decide 2011-01-05 10:22:00+00:00    200     Sara   \n",
       "4         2    pay compensation 2011-01-08 11:05:00+00:00    200    Ellen   \n",
       "5         3    register request 2010-12-30 13:32:00+00:00     50     Pete   \n",
       "6         3    examine casually 2010-12-30 14:06:00+00:00    400     Mike   \n",
       "7         3        check ticket 2010-12-30 15:34:00+00:00    100    Ellen   \n",
       "8         3              decide 2011-01-06 08:18:00+00:00    200     Sara   \n",
       "9         3  reinitiate request 2011-01-06 11:18:00+00:00    200     Sara   \n",
       "10        3  examine thoroughly 2011-01-06 12:06:00+00:00    400     Sean   \n",
       "11        3        check ticket 2011-01-08 10:43:00+00:00    100     Pete   \n",
       "12        3              decide 2011-01-09 08:55:00+00:00    200     Sara   \n",
       "13        3    pay compensation 2011-01-15 09:45:00+00:00    200    Ellen   \n",
       "14        6    register request 2011-01-06 14:02:00+00:00     50     Mike   \n",
       "15        6    examine casually 2011-01-06 15:06:00+00:00    400    Ellen   \n",
       "16        6        check ticket 2011-01-07 15:22:00+00:00    100     Mike   \n",
       "17        6              decide 2011-01-07 15:52:00+00:00    200     Sara   \n",
       "18        6    pay compensation 2011-01-16 10:47:00+00:00    200     Mike   \n",
       "\n",
       "          concept:name            time:timestamp  @@index  @@case_index  \\\n",
       "0     register request 2010-12-30 10:32:00+00:00        5             1   \n",
       "1         check ticket 2010-12-30 11:12:00+00:00        6             1   \n",
       "2     examine casually 2010-12-30 13:16:00+00:00        7             1   \n",
       "3               decide 2011-01-05 10:22:00+00:00        8             1   \n",
       "4     pay compensation 2011-01-08 11:05:00+00:00        9             1   \n",
       "5     register request 2010-12-30 13:32:00+00:00       10             2   \n",
       "6     examine casually 2010-12-30 14:06:00+00:00       11             2   \n",
       "7         check ticket 2010-12-30 15:34:00+00:00       12             2   \n",
       "8               decide 2011-01-06 08:18:00+00:00       13             2   \n",
       "9   reinitiate request 2011-01-06 11:18:00+00:00       14             2   \n",
       "10  examine thoroughly 2011-01-06 12:06:00+00:00       15             2   \n",
       "11        check ticket 2011-01-08 10:43:00+00:00       16             2   \n",
       "12              decide 2011-01-09 08:55:00+00:00       17             2   \n",
       "13    pay compensation 2011-01-15 09:45:00+00:00       18             2   \n",
       "14    register request 2011-01-06 14:02:00+00:00       37             5   \n",
       "15    examine casually 2011-01-06 15:06:00+00:00       38             5   \n",
       "16        check ticket 2011-01-07 15:22:00+00:00       39             5   \n",
       "17              decide 2011-01-07 15:52:00+00:00       40             5   \n",
       "18    pay compensation 2011-01-16 10:47:00+00:00       41             5   \n",
       "\n",
       "   case:concept:name  \n",
       "0                  2  \n",
       "1                  2  \n",
       "2                  2  \n",
       "3                  2  \n",
       "4                  2  \n",
       "5                  3  \n",
       "6                  3  \n",
       "7                  3  \n",
       "8                  3  \n",
       "9                  3  \n",
       "10                 3  \n",
       "11                 3  \n",
       "12                 3  \n",
       "13                 3  \n",
       "14                 6  \n",
       "15                 6  \n",
       "16                 6  \n",
       "17                 6  \n",
       "18                 6  "
      ]
     },
     "execution_count": 42,
     "metadata": {},
     "output_type": "execute_result"
    }
   ],
   "source": [
    "# Convert Filtered Event Log to Pandas Dataframe\n",
    "\n",
    "pm4py.convert_to_dataframe(pay_compensation)"
   ]
  },
  {
   "cell_type": "markdown",
   "metadata": {},
   "source": [
    "<br></br>\n",
    "### <b>3.6.2. Filtering Traces That Have Started and Ended in Sepecific Time</b>"
   ]
  },
  {
   "cell_type": "code",
   "execution_count": 195,
   "metadata": {
    "tags": []
   },
   "outputs": [],
   "source": [
    "start_datetime = datetime.datetime(2011, 1, 1, 0, 0, 0, 0)\n",
    "end_datetime = datetime.datetime(2011, 12, 31, 23, 59, 59, 999999)\n",
    "log_2011 = pm4py.filter_time_range(log, start_datetime, end_datetime, mode='traces_contained')"
   ]
  },
  {
   "cell_type": "code",
   "execution_count": 196,
   "metadata": {
    "tags": []
   },
   "outputs": [
    {
     "name": "stdout",
     "output_type": "stream",
     "text": [
      "4\n",
      "5\n",
      "6\n"
     ]
    }
   ],
   "source": [
    "# Names of filtered case_ids (traces)\n",
    "\n",
    "for trace in log_2011:\n",
    "    print(trace.attributes['concept:name'])"
   ]
  },
  {
   "cell_type": "code",
   "execution_count": 197,
   "metadata": {
    "tags": []
   },
   "outputs": [
    {
     "data": {
      "text/html": [
       "<div>\n",
       "<style scoped>\n",
       "    .dataframe tbody tr th:only-of-type {\n",
       "        vertical-align: middle;\n",
       "    }\n",
       "\n",
       "    .dataframe tbody tr th {\n",
       "        vertical-align: top;\n",
       "    }\n",
       "\n",
       "    .dataframe thead th {\n",
       "        text-align: right;\n",
       "    }\n",
       "</style>\n",
       "<table border=\"1\" class=\"dataframe\">\n",
       "  <thead>\n",
       "    <tr style=\"text-align: right;\">\n",
       "      <th></th>\n",
       "      <th>case_id</th>\n",
       "      <th>activity</th>\n",
       "      <th>timestamp</th>\n",
       "      <th>costs</th>\n",
       "      <th>resource</th>\n",
       "      <th>concept:name</th>\n",
       "      <th>time:timestamp</th>\n",
       "      <th>@@index</th>\n",
       "      <th>@@case_index</th>\n",
       "      <th>case:concept:name</th>\n",
       "    </tr>\n",
       "  </thead>\n",
       "  <tbody>\n",
       "    <tr>\n",
       "      <th>0</th>\n",
       "      <td>4</td>\n",
       "      <td>register request</td>\n",
       "      <td>2011-01-06 14:02:00+00:00</td>\n",
       "      <td>50</td>\n",
       "      <td>Pete</td>\n",
       "      <td>register request</td>\n",
       "      <td>2011-01-06 14:02:00+00:00</td>\n",
       "      <td>19</td>\n",
       "      <td>3</td>\n",
       "      <td>4</td>\n",
       "    </tr>\n",
       "    <tr>\n",
       "      <th>1</th>\n",
       "      <td>4</td>\n",
       "      <td>check ticket</td>\n",
       "      <td>2011-01-07 11:06:00+00:00</td>\n",
       "      <td>100</td>\n",
       "      <td>Mike</td>\n",
       "      <td>check ticket</td>\n",
       "      <td>2011-01-07 11:06:00+00:00</td>\n",
       "      <td>20</td>\n",
       "      <td>3</td>\n",
       "      <td>4</td>\n",
       "    </tr>\n",
       "    <tr>\n",
       "      <th>2</th>\n",
       "      <td>4</td>\n",
       "      <td>examine thoroughly</td>\n",
       "      <td>2011-01-08 13:43:00+00:00</td>\n",
       "      <td>400</td>\n",
       "      <td>Sean</td>\n",
       "      <td>examine thoroughly</td>\n",
       "      <td>2011-01-08 13:43:00+00:00</td>\n",
       "      <td>21</td>\n",
       "      <td>3</td>\n",
       "      <td>4</td>\n",
       "    </tr>\n",
       "    <tr>\n",
       "      <th>3</th>\n",
       "      <td>4</td>\n",
       "      <td>decide</td>\n",
       "      <td>2011-01-09 11:02:00+00:00</td>\n",
       "      <td>200</td>\n",
       "      <td>Sara</td>\n",
       "      <td>decide</td>\n",
       "      <td>2011-01-09 11:02:00+00:00</td>\n",
       "      <td>22</td>\n",
       "      <td>3</td>\n",
       "      <td>4</td>\n",
       "    </tr>\n",
       "    <tr>\n",
       "      <th>4</th>\n",
       "      <td>4</td>\n",
       "      <td>reject request</td>\n",
       "      <td>2011-01-12 14:44:00+00:00</td>\n",
       "      <td>200</td>\n",
       "      <td>Ellen</td>\n",
       "      <td>reject request</td>\n",
       "      <td>2011-01-12 14:44:00+00:00</td>\n",
       "      <td>23</td>\n",
       "      <td>3</td>\n",
       "      <td>4</td>\n",
       "    </tr>\n",
       "  </tbody>\n",
       "</table>\n",
       "</div>"
      ],
      "text/plain": [
       "   case_id            activity                 timestamp  costs resource  \\\n",
       "0        4    register request 2011-01-06 14:02:00+00:00     50     Pete   \n",
       "1        4        check ticket 2011-01-07 11:06:00+00:00    100     Mike   \n",
       "2        4  examine thoroughly 2011-01-08 13:43:00+00:00    400     Sean   \n",
       "3        4              decide 2011-01-09 11:02:00+00:00    200     Sara   \n",
       "4        4      reject request 2011-01-12 14:44:00+00:00    200    Ellen   \n",
       "\n",
       "         concept:name            time:timestamp  @@index  @@case_index  \\\n",
       "0    register request 2011-01-06 14:02:00+00:00       19             3   \n",
       "1        check ticket 2011-01-07 11:06:00+00:00       20             3   \n",
       "2  examine thoroughly 2011-01-08 13:43:00+00:00       21             3   \n",
       "3              decide 2011-01-09 11:02:00+00:00       22             3   \n",
       "4      reject request 2011-01-12 14:44:00+00:00       23             3   \n",
       "\n",
       "  case:concept:name  \n",
       "0                 4  \n",
       "1                 4  \n",
       "2                 4  \n",
       "3                 4  \n",
       "4                 4  "
      ]
     },
     "execution_count": 197,
     "metadata": {},
     "output_type": "execute_result"
    }
   ],
   "source": [
    "# Convert Filtered Event Log to Pandas Dataframe\n",
    "\n",
    "pm4py.convert_to_dataframe(log_2011).head()"
   ]
  },
  {
   "cell_type": "markdown",
   "metadata": {},
   "source": [
    "<br></br>\n",
    "### <b>3.6.3. Filtering Traces That Have Rework on a Specific Event</b>"
   ]
  },
  {
   "cell_type": "code",
   "execution_count": 161,
   "metadata": {
    "tags": []
   },
   "outputs": [
    {
     "data": {
      "text/html": [
       "<div>\n",
       "<style scoped>\n",
       "    .dataframe tbody tr th:only-of-type {\n",
       "        vertical-align: middle;\n",
       "    }\n",
       "\n",
       "    .dataframe tbody tr th {\n",
       "        vertical-align: top;\n",
       "    }\n",
       "\n",
       "    .dataframe thead th {\n",
       "        text-align: right;\n",
       "    }\n",
       "</style>\n",
       "<table border=\"1\" class=\"dataframe\">\n",
       "  <thead>\n",
       "    <tr style=\"text-align: right;\">\n",
       "      <th></th>\n",
       "      <th>case_id</th>\n",
       "      <th>activity</th>\n",
       "      <th>timestamp</th>\n",
       "      <th>costs</th>\n",
       "      <th>resource</th>\n",
       "      <th>concept:name</th>\n",
       "      <th>time:timestamp</th>\n",
       "      <th>@@index</th>\n",
       "      <th>@@case_index</th>\n",
       "      <th>case:concept:name</th>\n",
       "    </tr>\n",
       "  </thead>\n",
       "  <tbody>\n",
       "    <tr>\n",
       "      <th>0</th>\n",
       "      <td>5</td>\n",
       "      <td>register request</td>\n",
       "      <td>2011-01-06 08:02:00+00:00</td>\n",
       "      <td>50</td>\n",
       "      <td>Ellen</td>\n",
       "      <td>register request</td>\n",
       "      <td>2011-01-06 08:02:00+00:00</td>\n",
       "      <td>24</td>\n",
       "      <td>4</td>\n",
       "      <td>5</td>\n",
       "    </tr>\n",
       "    <tr>\n",
       "      <th>1</th>\n",
       "      <td>5</td>\n",
       "      <td>examine casually</td>\n",
       "      <td>2011-01-07 09:16:00+00:00</td>\n",
       "      <td>400</td>\n",
       "      <td>Mike</td>\n",
       "      <td>examine casually</td>\n",
       "      <td>2011-01-07 09:16:00+00:00</td>\n",
       "      <td>25</td>\n",
       "      <td>4</td>\n",
       "      <td>5</td>\n",
       "    </tr>\n",
       "    <tr>\n",
       "      <th>2</th>\n",
       "      <td>5</td>\n",
       "      <td>check ticket</td>\n",
       "      <td>2011-01-08 10:22:00+00:00</td>\n",
       "      <td>100</td>\n",
       "      <td>Pete</td>\n",
       "      <td>check ticket</td>\n",
       "      <td>2011-01-08 10:22:00+00:00</td>\n",
       "      <td>26</td>\n",
       "      <td>4</td>\n",
       "      <td>5</td>\n",
       "    </tr>\n",
       "    <tr>\n",
       "      <th>3</th>\n",
       "      <td>5</td>\n",
       "      <td>decide</td>\n",
       "      <td>2011-01-10 12:28:00+00:00</td>\n",
       "      <td>200</td>\n",
       "      <td>Sara</td>\n",
       "      <td>decide</td>\n",
       "      <td>2011-01-10 12:28:00+00:00</td>\n",
       "      <td>27</td>\n",
       "      <td>4</td>\n",
       "      <td>5</td>\n",
       "    </tr>\n",
       "    <tr>\n",
       "      <th>4</th>\n",
       "      <td>5</td>\n",
       "      <td>reinitiate request</td>\n",
       "      <td>2011-01-11 15:18:00+00:00</td>\n",
       "      <td>200</td>\n",
       "      <td>Sara</td>\n",
       "      <td>reinitiate request</td>\n",
       "      <td>2011-01-11 15:18:00+00:00</td>\n",
       "      <td>28</td>\n",
       "      <td>4</td>\n",
       "      <td>5</td>\n",
       "    </tr>\n",
       "    <tr>\n",
       "      <th>5</th>\n",
       "      <td>5</td>\n",
       "      <td>check ticket</td>\n",
       "      <td>2011-01-14 13:33:00+00:00</td>\n",
       "      <td>100</td>\n",
       "      <td>Ellen</td>\n",
       "      <td>check ticket</td>\n",
       "      <td>2011-01-14 13:33:00+00:00</td>\n",
       "      <td>29</td>\n",
       "      <td>4</td>\n",
       "      <td>5</td>\n",
       "    </tr>\n",
       "    <tr>\n",
       "      <th>6</th>\n",
       "      <td>5</td>\n",
       "      <td>examine casually</td>\n",
       "      <td>2011-01-16 14:50:00+00:00</td>\n",
       "      <td>400</td>\n",
       "      <td>Mike</td>\n",
       "      <td>examine casually</td>\n",
       "      <td>2011-01-16 14:50:00+00:00</td>\n",
       "      <td>30</td>\n",
       "      <td>4</td>\n",
       "      <td>5</td>\n",
       "    </tr>\n",
       "    <tr>\n",
       "      <th>7</th>\n",
       "      <td>5</td>\n",
       "      <td>decide</td>\n",
       "      <td>2011-01-19 10:18:00+00:00</td>\n",
       "      <td>200</td>\n",
       "      <td>Sara</td>\n",
       "      <td>decide</td>\n",
       "      <td>2011-01-19 10:18:00+00:00</td>\n",
       "      <td>31</td>\n",
       "      <td>4</td>\n",
       "      <td>5</td>\n",
       "    </tr>\n",
       "    <tr>\n",
       "      <th>8</th>\n",
       "      <td>5</td>\n",
       "      <td>reinitiate request</td>\n",
       "      <td>2011-01-20 11:48:00+00:00</td>\n",
       "      <td>200</td>\n",
       "      <td>Sara</td>\n",
       "      <td>reinitiate request</td>\n",
       "      <td>2011-01-20 11:48:00+00:00</td>\n",
       "      <td>32</td>\n",
       "      <td>4</td>\n",
       "      <td>5</td>\n",
       "    </tr>\n",
       "    <tr>\n",
       "      <th>9</th>\n",
       "      <td>5</td>\n",
       "      <td>examine casually</td>\n",
       "      <td>2011-01-21 08:06:00+00:00</td>\n",
       "      <td>400</td>\n",
       "      <td>Sue</td>\n",
       "      <td>examine casually</td>\n",
       "      <td>2011-01-21 08:06:00+00:00</td>\n",
       "      <td>33</td>\n",
       "      <td>4</td>\n",
       "      <td>5</td>\n",
       "    </tr>\n",
       "    <tr>\n",
       "      <th>10</th>\n",
       "      <td>5</td>\n",
       "      <td>check ticket</td>\n",
       "      <td>2011-01-21 10:34:00+00:00</td>\n",
       "      <td>100</td>\n",
       "      <td>Pete</td>\n",
       "      <td>check ticket</td>\n",
       "      <td>2011-01-21 10:34:00+00:00</td>\n",
       "      <td>34</td>\n",
       "      <td>4</td>\n",
       "      <td>5</td>\n",
       "    </tr>\n",
       "    <tr>\n",
       "      <th>11</th>\n",
       "      <td>5</td>\n",
       "      <td>decide</td>\n",
       "      <td>2011-01-23 12:12:00+00:00</td>\n",
       "      <td>200</td>\n",
       "      <td>Sara</td>\n",
       "      <td>decide</td>\n",
       "      <td>2011-01-23 12:12:00+00:00</td>\n",
       "      <td>35</td>\n",
       "      <td>4</td>\n",
       "      <td>5</td>\n",
       "    </tr>\n",
       "    <tr>\n",
       "      <th>12</th>\n",
       "      <td>5</td>\n",
       "      <td>reject request</td>\n",
       "      <td>2011-01-24 13:56:00+00:00</td>\n",
       "      <td>200</td>\n",
       "      <td>Mike</td>\n",
       "      <td>reject request</td>\n",
       "      <td>2011-01-24 13:56:00+00:00</td>\n",
       "      <td>36</td>\n",
       "      <td>4</td>\n",
       "      <td>5</td>\n",
       "    </tr>\n",
       "  </tbody>\n",
       "</table>\n",
       "</div>"
      ],
      "text/plain": [
       "    case_id            activity                 timestamp  costs resource  \\\n",
       "0         5    register request 2011-01-06 08:02:00+00:00     50    Ellen   \n",
       "1         5    examine casually 2011-01-07 09:16:00+00:00    400     Mike   \n",
       "2         5        check ticket 2011-01-08 10:22:00+00:00    100     Pete   \n",
       "3         5              decide 2011-01-10 12:28:00+00:00    200     Sara   \n",
       "4         5  reinitiate request 2011-01-11 15:18:00+00:00    200     Sara   \n",
       "5         5        check ticket 2011-01-14 13:33:00+00:00    100    Ellen   \n",
       "6         5    examine casually 2011-01-16 14:50:00+00:00    400     Mike   \n",
       "7         5              decide 2011-01-19 10:18:00+00:00    200     Sara   \n",
       "8         5  reinitiate request 2011-01-20 11:48:00+00:00    200     Sara   \n",
       "9         5    examine casually 2011-01-21 08:06:00+00:00    400      Sue   \n",
       "10        5        check ticket 2011-01-21 10:34:00+00:00    100     Pete   \n",
       "11        5              decide 2011-01-23 12:12:00+00:00    200     Sara   \n",
       "12        5      reject request 2011-01-24 13:56:00+00:00    200     Mike   \n",
       "\n",
       "          concept:name            time:timestamp  @@index  @@case_index  \\\n",
       "0     register request 2011-01-06 08:02:00+00:00       24             4   \n",
       "1     examine casually 2011-01-07 09:16:00+00:00       25             4   \n",
       "2         check ticket 2011-01-08 10:22:00+00:00       26             4   \n",
       "3               decide 2011-01-10 12:28:00+00:00       27             4   \n",
       "4   reinitiate request 2011-01-11 15:18:00+00:00       28             4   \n",
       "5         check ticket 2011-01-14 13:33:00+00:00       29             4   \n",
       "6     examine casually 2011-01-16 14:50:00+00:00       30             4   \n",
       "7               decide 2011-01-19 10:18:00+00:00       31             4   \n",
       "8   reinitiate request 2011-01-20 11:48:00+00:00       32             4   \n",
       "9     examine casually 2011-01-21 08:06:00+00:00       33             4   \n",
       "10        check ticket 2011-01-21 10:34:00+00:00       34             4   \n",
       "11              decide 2011-01-23 12:12:00+00:00       35             4   \n",
       "12      reject request 2011-01-24 13:56:00+00:00       36             4   \n",
       "\n",
       "   case:concept:name  \n",
       "0                  5  \n",
       "1                  5  \n",
       "2                  5  \n",
       "3                  5  \n",
       "4                  5  \n",
       "5                  5  \n",
       "6                  5  \n",
       "7                  5  \n",
       "8                  5  \n",
       "9                  5  \n",
       "10                 5  \n",
       "11                 5  \n",
       "12                 5  "
      ]
     },
     "execution_count": 161,
     "metadata": {},
     "output_type": "execute_result"
    }
   ],
   "source": [
    "filtered_log = pm4py.filter_activities_rework(log, \"reinitiate request\", 2)\n",
    "pm4py.convert_to_dataframe(filtered_log)"
   ]
  },
  {
   "cell_type": "markdown",
   "metadata": {
    "tags": []
   },
   "source": [
    "<br></br>\n",
    "### <b>3.6.4. Case Size Filter</b>"
   ]
  },
  {
   "cell_type": "code",
   "execution_count": 162,
   "metadata": {
    "tags": []
   },
   "outputs": [
    {
     "data": {
      "text/html": [
       "<div>\n",
       "<style scoped>\n",
       "    .dataframe tbody tr th:only-of-type {\n",
       "        vertical-align: middle;\n",
       "    }\n",
       "\n",
       "    .dataframe tbody tr th {\n",
       "        vertical-align: top;\n",
       "    }\n",
       "\n",
       "    .dataframe thead th {\n",
       "        text-align: right;\n",
       "    }\n",
       "</style>\n",
       "<table border=\"1\" class=\"dataframe\">\n",
       "  <thead>\n",
       "    <tr style=\"text-align: right;\">\n",
       "      <th></th>\n",
       "      <th>case_id</th>\n",
       "      <th>activity</th>\n",
       "      <th>timestamp</th>\n",
       "      <th>costs</th>\n",
       "      <th>resource</th>\n",
       "      <th>concept:name</th>\n",
       "      <th>time:timestamp</th>\n",
       "      <th>@@index</th>\n",
       "      <th>@@case_index</th>\n",
       "      <th>case:concept:name</th>\n",
       "    </tr>\n",
       "  </thead>\n",
       "  <tbody>\n",
       "    <tr>\n",
       "      <th>0</th>\n",
       "      <td>1</td>\n",
       "      <td>register request</td>\n",
       "      <td>2010-12-30 10:02:00+00:00</td>\n",
       "      <td>50</td>\n",
       "      <td>Pete</td>\n",
       "      <td>register request</td>\n",
       "      <td>2010-12-30 10:02:00+00:00</td>\n",
       "      <td>0</td>\n",
       "      <td>0</td>\n",
       "      <td>1</td>\n",
       "    </tr>\n",
       "    <tr>\n",
       "      <th>1</th>\n",
       "      <td>1</td>\n",
       "      <td>examine thoroughly</td>\n",
       "      <td>2010-12-31 09:06:00+00:00</td>\n",
       "      <td>400</td>\n",
       "      <td>Sue</td>\n",
       "      <td>examine thoroughly</td>\n",
       "      <td>2010-12-31 09:06:00+00:00</td>\n",
       "      <td>1</td>\n",
       "      <td>0</td>\n",
       "      <td>1</td>\n",
       "    </tr>\n",
       "    <tr>\n",
       "      <th>2</th>\n",
       "      <td>1</td>\n",
       "      <td>check ticket</td>\n",
       "      <td>2011-01-05 14:12:00+00:00</td>\n",
       "      <td>100</td>\n",
       "      <td>Mike</td>\n",
       "      <td>check ticket</td>\n",
       "      <td>2011-01-05 14:12:00+00:00</td>\n",
       "      <td>2</td>\n",
       "      <td>0</td>\n",
       "      <td>1</td>\n",
       "    </tr>\n",
       "    <tr>\n",
       "      <th>3</th>\n",
       "      <td>1</td>\n",
       "      <td>decide</td>\n",
       "      <td>2011-01-06 10:18:00+00:00</td>\n",
       "      <td>200</td>\n",
       "      <td>Sara</td>\n",
       "      <td>decide</td>\n",
       "      <td>2011-01-06 10:18:00+00:00</td>\n",
       "      <td>3</td>\n",
       "      <td>0</td>\n",
       "      <td>1</td>\n",
       "    </tr>\n",
       "    <tr>\n",
       "      <th>4</th>\n",
       "      <td>1</td>\n",
       "      <td>reject request</td>\n",
       "      <td>2011-01-07 13:24:00+00:00</td>\n",
       "      <td>200</td>\n",
       "      <td>Pete</td>\n",
       "      <td>reject request</td>\n",
       "      <td>2011-01-07 13:24:00+00:00</td>\n",
       "      <td>4</td>\n",
       "      <td>0</td>\n",
       "      <td>1</td>\n",
       "    </tr>\n",
       "  </tbody>\n",
       "</table>\n",
       "</div>"
      ],
      "text/plain": [
       "   case_id            activity                 timestamp  costs resource  \\\n",
       "0        1    register request 2010-12-30 10:02:00+00:00     50     Pete   \n",
       "1        1  examine thoroughly 2010-12-31 09:06:00+00:00    400      Sue   \n",
       "2        1        check ticket 2011-01-05 14:12:00+00:00    100     Mike   \n",
       "3        1              decide 2011-01-06 10:18:00+00:00    200     Sara   \n",
       "4        1      reject request 2011-01-07 13:24:00+00:00    200     Pete   \n",
       "\n",
       "         concept:name            time:timestamp  @@index  @@case_index  \\\n",
       "0    register request 2010-12-30 10:02:00+00:00        0             0   \n",
       "1  examine thoroughly 2010-12-31 09:06:00+00:00        1             0   \n",
       "2        check ticket 2011-01-05 14:12:00+00:00        2             0   \n",
       "3              decide 2011-01-06 10:18:00+00:00        3             0   \n",
       "4      reject request 2011-01-07 13:24:00+00:00        4             0   \n",
       "\n",
       "  case:concept:name  \n",
       "0                 1  \n",
       "1                 1  \n",
       "2                 1  \n",
       "3                 1  \n",
       "4                 1  "
      ]
     },
     "execution_count": 162,
     "metadata": {},
     "output_type": "execute_result"
    }
   ],
   "source": [
    "filtered_log = pm4py.filter_case_size(log, 1, 5)\n",
    "pm4py.convert_to_dataframe(filtered_log).head()"
   ]
  },
  {
   "cell_type": "markdown",
   "metadata": {
    "tags": []
   },
   "source": [
    "<br></br>\n",
    "### <b>3.6.5. Filter on variants</b>"
   ]
  },
  {
   "cell_type": "code",
   "execution_count": 203,
   "metadata": {
    "tags": []
   },
   "outputs": [
    {
     "data": {
      "text/html": [
       "<div>\n",
       "<style scoped>\n",
       "    .dataframe tbody tr th:only-of-type {\n",
       "        vertical-align: middle;\n",
       "    }\n",
       "\n",
       "    .dataframe tbody tr th {\n",
       "        vertical-align: top;\n",
       "    }\n",
       "\n",
       "    .dataframe thead th {\n",
       "        text-align: right;\n",
       "    }\n",
       "</style>\n",
       "<table border=\"1\" class=\"dataframe\">\n",
       "  <thead>\n",
       "    <tr style=\"text-align: right;\">\n",
       "      <th></th>\n",
       "      <th>case_id</th>\n",
       "      <th>activity</th>\n",
       "      <th>timestamp</th>\n",
       "      <th>costs</th>\n",
       "      <th>resource</th>\n",
       "      <th>concept:name</th>\n",
       "      <th>time:timestamp</th>\n",
       "      <th>@@index</th>\n",
       "      <th>@@case_index</th>\n",
       "      <th>case:concept:name</th>\n",
       "    </tr>\n",
       "  </thead>\n",
       "  <tbody>\n",
       "    <tr>\n",
       "      <th>0</th>\n",
       "      <td>1</td>\n",
       "      <td>register request</td>\n",
       "      <td>2010-12-30 10:02:00+00:00</td>\n",
       "      <td>50</td>\n",
       "      <td>Pete</td>\n",
       "      <td>register request</td>\n",
       "      <td>2010-12-30 10:02:00+00:00</td>\n",
       "      <td>0</td>\n",
       "      <td>0</td>\n",
       "      <td>1</td>\n",
       "    </tr>\n",
       "    <tr>\n",
       "      <th>1</th>\n",
       "      <td>1</td>\n",
       "      <td>examine thoroughly</td>\n",
       "      <td>2010-12-31 09:06:00+00:00</td>\n",
       "      <td>400</td>\n",
       "      <td>Sue</td>\n",
       "      <td>examine thoroughly</td>\n",
       "      <td>2010-12-31 09:06:00+00:00</td>\n",
       "      <td>1</td>\n",
       "      <td>0</td>\n",
       "      <td>1</td>\n",
       "    </tr>\n",
       "    <tr>\n",
       "      <th>2</th>\n",
       "      <td>1</td>\n",
       "      <td>check ticket</td>\n",
       "      <td>2011-01-05 14:12:00+00:00</td>\n",
       "      <td>100</td>\n",
       "      <td>Mike</td>\n",
       "      <td>check ticket</td>\n",
       "      <td>2011-01-05 14:12:00+00:00</td>\n",
       "      <td>2</td>\n",
       "      <td>0</td>\n",
       "      <td>1</td>\n",
       "    </tr>\n",
       "    <tr>\n",
       "      <th>3</th>\n",
       "      <td>1</td>\n",
       "      <td>decide</td>\n",
       "      <td>2011-01-06 10:18:00+00:00</td>\n",
       "      <td>200</td>\n",
       "      <td>Sara</td>\n",
       "      <td>decide</td>\n",
       "      <td>2011-01-06 10:18:00+00:00</td>\n",
       "      <td>3</td>\n",
       "      <td>0</td>\n",
       "      <td>1</td>\n",
       "    </tr>\n",
       "    <tr>\n",
       "      <th>4</th>\n",
       "      <td>1</td>\n",
       "      <td>reject request</td>\n",
       "      <td>2011-01-07 13:24:00+00:00</td>\n",
       "      <td>200</td>\n",
       "      <td>Pete</td>\n",
       "      <td>reject request</td>\n",
       "      <td>2011-01-07 13:24:00+00:00</td>\n",
       "      <td>4</td>\n",
       "      <td>0</td>\n",
       "      <td>1</td>\n",
       "    </tr>\n",
       "    <tr>\n",
       "      <th>5</th>\n",
       "      <td>2</td>\n",
       "      <td>register request</td>\n",
       "      <td>2010-12-30 10:32:00+00:00</td>\n",
       "      <td>50</td>\n",
       "      <td>Mike</td>\n",
       "      <td>register request</td>\n",
       "      <td>2010-12-30 10:32:00+00:00</td>\n",
       "      <td>5</td>\n",
       "      <td>1</td>\n",
       "      <td>2</td>\n",
       "    </tr>\n",
       "    <tr>\n",
       "      <th>6</th>\n",
       "      <td>2</td>\n",
       "      <td>check ticket</td>\n",
       "      <td>2010-12-30 11:12:00+00:00</td>\n",
       "      <td>100</td>\n",
       "      <td>Mike</td>\n",
       "      <td>check ticket</td>\n",
       "      <td>2010-12-30 11:12:00+00:00</td>\n",
       "      <td>6</td>\n",
       "      <td>1</td>\n",
       "      <td>2</td>\n",
       "    </tr>\n",
       "    <tr>\n",
       "      <th>7</th>\n",
       "      <td>2</td>\n",
       "      <td>examine casually</td>\n",
       "      <td>2010-12-30 13:16:00+00:00</td>\n",
       "      <td>400</td>\n",
       "      <td>Sean</td>\n",
       "      <td>examine casually</td>\n",
       "      <td>2010-12-30 13:16:00+00:00</td>\n",
       "      <td>7</td>\n",
       "      <td>1</td>\n",
       "      <td>2</td>\n",
       "    </tr>\n",
       "    <tr>\n",
       "      <th>8</th>\n",
       "      <td>2</td>\n",
       "      <td>decide</td>\n",
       "      <td>2011-01-05 10:22:00+00:00</td>\n",
       "      <td>200</td>\n",
       "      <td>Sara</td>\n",
       "      <td>decide</td>\n",
       "      <td>2011-01-05 10:22:00+00:00</td>\n",
       "      <td>8</td>\n",
       "      <td>1</td>\n",
       "      <td>2</td>\n",
       "    </tr>\n",
       "    <tr>\n",
       "      <th>9</th>\n",
       "      <td>2</td>\n",
       "      <td>pay compensation</td>\n",
       "      <td>2011-01-08 11:05:00+00:00</td>\n",
       "      <td>200</td>\n",
       "      <td>Ellen</td>\n",
       "      <td>pay compensation</td>\n",
       "      <td>2011-01-08 11:05:00+00:00</td>\n",
       "      <td>9</td>\n",
       "      <td>1</td>\n",
       "      <td>2</td>\n",
       "    </tr>\n",
       "  </tbody>\n",
       "</table>\n",
       "</div>"
      ],
      "text/plain": [
       "   case_id            activity                 timestamp  costs resource  \\\n",
       "0        1    register request 2010-12-30 10:02:00+00:00     50     Pete   \n",
       "1        1  examine thoroughly 2010-12-31 09:06:00+00:00    400      Sue   \n",
       "2        1        check ticket 2011-01-05 14:12:00+00:00    100     Mike   \n",
       "3        1              decide 2011-01-06 10:18:00+00:00    200     Sara   \n",
       "4        1      reject request 2011-01-07 13:24:00+00:00    200     Pete   \n",
       "5        2    register request 2010-12-30 10:32:00+00:00     50     Mike   \n",
       "6        2        check ticket 2010-12-30 11:12:00+00:00    100     Mike   \n",
       "7        2    examine casually 2010-12-30 13:16:00+00:00    400     Sean   \n",
       "8        2              decide 2011-01-05 10:22:00+00:00    200     Sara   \n",
       "9        2    pay compensation 2011-01-08 11:05:00+00:00    200    Ellen   \n",
       "\n",
       "         concept:name            time:timestamp  @@index  @@case_index  \\\n",
       "0    register request 2010-12-30 10:02:00+00:00        0             0   \n",
       "1  examine thoroughly 2010-12-31 09:06:00+00:00        1             0   \n",
       "2        check ticket 2011-01-05 14:12:00+00:00        2             0   \n",
       "3              decide 2011-01-06 10:18:00+00:00        3             0   \n",
       "4      reject request 2011-01-07 13:24:00+00:00        4             0   \n",
       "5    register request 2010-12-30 10:32:00+00:00        5             1   \n",
       "6        check ticket 2010-12-30 11:12:00+00:00        6             1   \n",
       "7    examine casually 2010-12-30 13:16:00+00:00        7             1   \n",
       "8              decide 2011-01-05 10:22:00+00:00        8             1   \n",
       "9    pay compensation 2011-01-08 11:05:00+00:00        9             1   \n",
       "\n",
       "  case:concept:name  \n",
       "0                 1  \n",
       "1                 1  \n",
       "2                 1  \n",
       "3                 1  \n",
       "4                 1  \n",
       "5                 2  \n",
       "6                 2  \n",
       "7                 2  \n",
       "8                 2  \n",
       "9                 2  "
      ]
     },
     "execution_count": 203,
     "metadata": {},
     "output_type": "execute_result"
    }
   ],
   "source": [
    "variants = pm4py.get_variants(log)\n",
    "variant_1 = list(variants.keys())[0]\n",
    "variant_2 = list(variants.keys())[1]\n",
    "\n",
    "filtered_log = pm4py.filter_variants(log, [variant_1, variant_2])\n",
    "pm4py.convert_to_dataframe(filtered_log)"
   ]
  },
  {
   "cell_type": "markdown",
   "metadata": {},
   "source": [
    "<br></br>\n",
    "### <b>3.6.6. List of all filtering methods in pm4py</b>"
   ]
  },
  {
   "cell_type": "code",
   "execution_count": 204,
   "metadata": {
    "tags": []
   },
   "outputs": [
    {
     "data": {
      "text/plain": [
       "['filter_activities_rework',\n",
       " 'filter_activity_done_different_resources',\n",
       " 'filter_between',\n",
       " 'filter_case_performance',\n",
       " 'filter_case_size',\n",
       " 'filter_directly_follows_relation',\n",
       " 'filter_end_activities',\n",
       " 'filter_event_attribute_values',\n",
       " 'filter_eventually_follows_relation',\n",
       " 'filter_four_eyes_principle',\n",
       " 'filter_log',\n",
       " 'filter_log_relative_occurrence_event_attribute',\n",
       " 'filter_ocel_cc_object',\n",
       " 'filter_ocel_end_events_per_object_type',\n",
       " 'filter_ocel_event_attribute',\n",
       " 'filter_ocel_events',\n",
       " 'filter_ocel_events_timestamp',\n",
       " 'filter_ocel_object_attribute',\n",
       " 'filter_ocel_object_per_type_count',\n",
       " 'filter_ocel_object_types',\n",
       " 'filter_ocel_object_types_allowed_activities',\n",
       " 'filter_ocel_objects',\n",
       " 'filter_ocel_start_events_per_object_type',\n",
       " 'filter_paths_performance',\n",
       " 'filter_prefixes',\n",
       " 'filter_start_activities',\n",
       " 'filter_suffixes',\n",
       " 'filter_time_range',\n",
       " 'filter_trace',\n",
       " 'filter_trace_attribute_values',\n",
       " 'filter_variants',\n",
       " 'filter_variants_by_coverage_percentage',\n",
       " 'filter_variants_by_maximum_coverage_percentage',\n",
       " 'filter_variants_top_k',\n",
       " 'filtering']"
      ]
     },
     "execution_count": 204,
     "metadata": {},
     "output_type": "execute_result"
    }
   ],
   "source": [
    "[_ for _ in dir(pm4py) if _.startswith('filter')]"
   ]
  },
  {
   "cell_type": "markdown",
   "metadata": {},
   "source": [
    "<br></br>\n",
    "## <b>3.7. Correlation Miner</b>\n",
    "\n",
    "In Process Mining, we are used to have logs containing at least:\n",
    "\n",
    "* A case identifier\n",
    "* An activity\n",
    "* A timestamp\n",
    "\n",
    "The case identifier associates an event, happening to a system, to a particular execution of the process. This permits to apply algorithms such as process discovery, conformance checking, …\n",
    "\n",
    "However, in some systems (for example, the data collected from IoT systems), it may be difficult to associate a case identifier. On top of these logs, performing classic process mining is impossible. Correlation mining borns as a response to the challenge to extract a process model from such event logs, that permits to read useful information that is contained in the logs without a case identifier, that contains only:\n",
    "\n",
    "* An activity column\n",
    "* A timestamp column\n",
    "\n",
    "In this description, we assume there is a total order on events (that means that no events happen in the same timestamp). Situations where a total order is not defined are more complicated.\n",
    "\n",
    "\n",
    "<i><b>The Correlation Miner is an approach proposed in:</b></i>\n",
    "\n",
    "- <i>Pourmirza, Shaya, Remco Dijkman, and Paul Grefen. “Correlation miner: mining business process models and event correlations without case identifiers.” International Journal of Cooperative Information Systems 26.02 (2017): 1742002.</i>\n",
    "\n",
    "<br>"
   ]
  },
  {
   "cell_type": "code",
   "execution_count": 206,
   "metadata": {
    "tags": []
   },
   "outputs": [],
   "source": [
    "df = log_csv[[\"concept:name\", \"time:timestamp\"]]\n",
    "\n",
    "frequency_dfg, performance_dfg = correlation_miner.apply(df, parameters={\"pm4py:param:activity_key\": \"concept:name\",\n",
    "                                                                         \"pm4py:param:timestamp_key\": \"time:timestamp\"})"
   ]
  },
  {
   "cell_type": "code",
   "execution_count": 209,
   "metadata": {
    "tags": []
   },
   "outputs": [
    {
     "data": {
      "text/plain": [
       "{'check ticket': 9,\n",
       " 'decide': 9,\n",
       " 'register request': 6,\n",
       " 'examine casually': 6,\n",
       " 'reinitiate request': 3,\n",
       " 'examine thoroughly': 3,\n",
       " 'pay compensation': 3,\n",
       " 'reject request': 3}"
      ]
     },
     "execution_count": 209,
     "metadata": {},
     "output_type": "execute_result"
    }
   ],
   "source": [
    "activities_freq = dict(df[\"concept:name\"].value_counts())\n",
    "activities_freq"
   ]
  },
  {
   "cell_type": "code",
   "execution_count": 211,
   "metadata": {
    "tags": []
   },
   "outputs": [
    {
     "data": {
      "image/png": "[encoded data removed]",
      "text/plain": [
       "<IPython.core.display.Image object>"
      ]
     },
     "metadata": {},
     "output_type": "display_data"
    }
   ],
   "source": [
    "gviz_freq = dfg_visualizer.apply(frequency_dfg, variant=dfg_visualizer.Variants.FREQUENCY, activities_count=activities_freq)\n",
    "dfg_visualizer.view(gviz_freq)"
   ]
  },
  {
   "cell_type": "code",
   "execution_count": 214,
   "metadata": {
    "tags": []
   },
   "outputs": [
    {
     "data": {
      "image/png": "[encoded data removed]",
      "text/plain": [
       "<IPython.core.display.Image object>"
      ]
     },
     "metadata": {},
     "output_type": "display_data"
    }
   ],
   "source": [
    "gviz_perf = dfg_visualizer.apply(performance_dfg, variant=dfg_visualizer.Variants.PERFORMANCE, activities_count=activities_freq)\n",
    "dfg_visualizer.view(gviz_perf)"
   ]
  },
  {
   "cell_type": "markdown",
   "metadata": {},
   "source": [
    "<br></br>\n",
    "# <b>Resources:</b>\n",
    "- PM4PY [documentation](https://pm4py.fit.fraunhofer.de/documentation)\n",
    "- PM4Py [documentation](http://pm4py.pads.rwth-aachen.de/documentation/) (older version)\n",
    "- Towards Data Science story [Introduction to Process Mining](https://towardsdatascience.com/introduction-to-process-mining-5f4ce985b7e5)\n",
    "- Process Mining for Python on [Youtube](https://www.youtube.com/channel/UCRcgOKrDsntrTI78RXXliuw/videos)\n",
    "- Wikipedia page [process mining](https://en.wikipedia.org/wiki/Process_mining)\n",
    "- Wikipedia page [Petri net](https://en.wikipedia.org/wiki/Petri_net)\n",
    "- Alpha Miner [video](https://www.futurelearn.com/info/courses/process-mining/0/steps/15636)\n",
    "- Heuristics Miner [video](https://www.futurelearn.com/info/courses/process-mining/0/steps/15639)\n",
    "- Inductive Miner [video](https://www.futurelearn.com/info/courses/process-mining/0/steps/15642)\n",
    "- Workflow Net and Soundness [video](https://www.coursera.org/lecture/process-mining/2-5-workflow-nets-and-soundness-tBnqo)\n",
    "- Process Mining Manifestio ([pdf-document](https://www.win.tue.nl/ieeetfpm/downloads/Process%20Mining%20Manifesto.pdf))\n",
    "- Data Mining [Event Logs](https://data.4tu.nl/search?q=BPI)\n"
   ]
  },
  {
   "cell_type": "code",
   "execution_count": null,
   "metadata": {},
   "outputs": [],
   "source": []
  }
 ],
 "metadata": {
  "@webio": {
   "lastCommId": null,
   "lastKernelId": null
  },
  "kernelspec": {
   "display_name": "Python 3 (ipykernel)",
   "language": "python",
   "name": "python3"
  },
  "language_info": {
   "codemirror_mode": {
    "name": "ipython",
    "version": 3
   },
   "file_extension": ".py",
   "mimetype": "text/x-python",
   "name": "python",
   "nbconvert_exporter": "python",
   "pygments_lexer": "ipython3",
   "version": "3.8.0"
  }
 },
 "nbformat": 4,
 "nbformat_minor": 4
}
