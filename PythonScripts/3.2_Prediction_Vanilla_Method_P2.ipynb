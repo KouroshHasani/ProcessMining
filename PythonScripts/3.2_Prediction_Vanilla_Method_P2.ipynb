{
 "cells": [
  {
   "cell_type": "markdown",
   "id": "62d5eca2-7a3b-492c-a49a-35ac497bed53",
   "metadata": {},
   "source": [
    "# Predictive Process Mining with Vanilla Methods (2)\n",
    "\n",
    "This notebook covers advanced methods for predictive process mining. We will preprocess data, perform feature engineering, and apply different machine learning models to predict outcomes based on event log data.\n",
    "\n",
    "## 1. Import Packages"
   ]
  },
  {
   "cell_type": "code",
   "execution_count": 2,
   "id": "b85f09da-80ab-46db-a20d-5e5f66f48446",
   "metadata": {},
   "outputs": [],
   "source": [
    "import pandas as pd\n",
    "import sys\n",
    "import hashlib\n",
    "import numpy as np\n",
    "from tqdm import tqdm\n",
    "import hashlib\n",
    "\n",
    "from sklearn.linear_model import LogisticRegression\n",
    "from sklearn.metrics import classification_report, confusion_matrix\n",
    "from sklearn.model_selection import train_test_split\n",
    "from sklearn.preprocessing import StandardScaler\n",
    "from sklearn.neighbors import KNeighborsClassifier\n",
    "from sklearn.preprocessing import LabelEncoder\n",
    "from sklearn.metrics import accuracy_score\n",
    "from tensorflow.keras.layers import Dropout\n",
    "from tensorflow.keras.callbacks import EarlyStopping\n",
    "from keras.utils import to_categorical\n",
    "\n",
    "import numpy as np\n",
    "import tensorflow as tf\n",
    "from tensorflow import keras\n",
    "from tensorflow.keras import layers\n",
    "\n",
    "from src import SRC_DIR"
   ]
  },
  {
   "cell_type": "markdown",
   "id": "f6aa9e6c-9e2c-47d9-905a-d1cb678604c0",
   "metadata": {},
   "source": [
    "<br></br>\n",
    "## 2. Data Preprocessing\n",
    "\n",
    "### 2.1. Load and Preprocess Data\n",
    "\n",
    "Import the event log and target page datasets."
   ]
  },
  {
   "cell_type": "code",
   "execution_count": 65,
   "id": "ca90373c-11d0-4e68-86c2-52d831fe600f",
   "metadata": {
    "tags": []
   },
   "outputs": [
    {
     "data": {
      "text/html": [
       "<div>\n",
       "<style scoped>\n",
       "    .dataframe tbody tr th:only-of-type {\n",
       "        vertical-align: middle;\n",
       "    }\n",
       "\n",
       "    .dataframe tbody tr th {\n",
       "        vertical-align: top;\n",
       "    }\n",
       "\n",
       "    .dataframe thead th {\n",
       "        text-align: right;\n",
       "    }\n",
       "</style>\n",
       "<table border=\"1\" class=\"dataframe\">\n",
       "  <thead>\n",
       "    <tr style=\"text-align: right;\">\n",
       "      <th></th>\n",
       "      <th>User_ID</th>\n",
       "      <th>Case_Start_Date</th>\n",
       "      <th>Activity_Start_Date</th>\n",
       "      <th>Browser</th>\n",
       "      <th>Operating_System</th>\n",
       "      <th>Device</th>\n",
       "      <th>Country</th>\n",
       "      <th>Visited_Page</th>\n",
       "      <th>Time_on_Page</th>\n",
       "    </tr>\n",
       "  </thead>\n",
       "  <tbody>\n",
       "    <tr>\n",
       "      <th>0</th>\n",
       "      <td>hv5xru</td>\n",
       "      <td>12/30/2021 23:58:00</td>\n",
       "      <td>12/30/2021 23:58:00</td>\n",
       "      <td>ChromeMobile</td>\n",
       "      <td>Android</td>\n",
       "      <td>Mobile</td>\n",
       "      <td>Iran</td>\n",
       "      <td>Visited:learning.emofid.com</td>\n",
       "      <td>168</td>\n",
       "    </tr>\n",
       "    <tr>\n",
       "      <th>1</th>\n",
       "      <td>hv5xru</td>\n",
       "      <td>12/30/2021 23:58:00</td>\n",
       "      <td>12/31/2021 0:00:48</td>\n",
       "      <td>ChromeMobile</td>\n",
       "      <td>Android</td>\n",
       "      <td>Mobile</td>\n",
       "      <td>Iran</td>\n",
       "      <td>Visited:.../online-issuance-and-cancellation/</td>\n",
       "      <td>153</td>\n",
       "    </tr>\n",
       "    <tr>\n",
       "      <th>2</th>\n",
       "      <td>hv5xru</td>\n",
       "      <td>12/30/2021 23:58:00</td>\n",
       "      <td>12/31/2021 0:03:21</td>\n",
       "      <td>ChromeMobile</td>\n",
       "      <td>Android</td>\n",
       "      <td>Mobile</td>\n",
       "      <td>Iran</td>\n",
       "      <td>Visited:learning.emofid.com</td>\n",
       "      <td>5</td>\n",
       "    </tr>\n",
       "    <tr>\n",
       "      <th>3</th>\n",
       "      <td>hv5xru</td>\n",
       "      <td>12/30/2021 23:58:00</td>\n",
       "      <td>12/31/2021 0:04:07</td>\n",
       "      <td>ChromeMobile</td>\n",
       "      <td>Android</td>\n",
       "      <td>Mobile</td>\n",
       "      <td>Iran</td>\n",
       "      <td>Visited:learning.emofid.com</td>\n",
       "      <td>26</td>\n",
       "    </tr>\n",
       "    <tr>\n",
       "      <th>4</th>\n",
       "      <td>92c26h</td>\n",
       "      <td>12/30/2021 23:57:00</td>\n",
       "      <td>12/30/2021 23:57:00</td>\n",
       "      <td>Firefox</td>\n",
       "      <td>Windows</td>\n",
       "      <td>PC</td>\n",
       "      <td>Iran</td>\n",
       "      <td>Visited:learning.emofid.com</td>\n",
       "      <td>129</td>\n",
       "    </tr>\n",
       "  </tbody>\n",
       "</table>\n",
       "</div>"
      ],
      "text/plain": [
       "  User_ID      Case_Start_Date  Activity_Start_Date       Browser  \\\n",
       "0  hv5xru  12/30/2021 23:58:00  12/30/2021 23:58:00  ChromeMobile   \n",
       "1  hv5xru  12/30/2021 23:58:00   12/31/2021 0:00:48  ChromeMobile   \n",
       "2  hv5xru  12/30/2021 23:58:00   12/31/2021 0:03:21  ChromeMobile   \n",
       "3  hv5xru  12/30/2021 23:58:00   12/31/2021 0:04:07  ChromeMobile   \n",
       "4  92c26h  12/30/2021 23:57:00  12/30/2021 23:57:00       Firefox   \n",
       "\n",
       "  Operating_System  Device Country  \\\n",
       "0          Android  Mobile    Iran   \n",
       "1          Android  Mobile    Iran   \n",
       "2          Android  Mobile    Iran   \n",
       "3          Android  Mobile    Iran   \n",
       "4          Windows      PC    Iran   \n",
       "\n",
       "                                    Visited_Page  Time_on_Page  \n",
       "0                    Visited:learning.emofid.com           168  \n",
       "1  Visited:.../online-issuance-and-cancellation/           153  \n",
       "2                    Visited:learning.emofid.com             5  \n",
       "3                    Visited:learning.emofid.com            26  \n",
       "4                    Visited:learning.emofid.com           129  "
      ]
     },
     "execution_count": 65,
     "metadata": {},
     "output_type": "execute_result"
    }
   ],
   "source": [
    "# Import data and keep the target pages\n",
    "event_log = pd.read_csv(SRC_DIR / 'Datasets' / 'Real' / 'Customer_Journey' / 'Website Event Log.csv')\n",
    "target_page = pd.read_csv(SRC_DIR / 'Datasets' / 'Real' / 'Customer_Journey' / 'Target_Pages.csv')\n",
    "event_log = event_log.loc[event_log.Visited_Page.isin(target_page.Pages)].reset_index(drop=True)\n",
    "\n",
    "# Display the first few rows of the event log\n",
    "event_log.head()"
   ]
  },
  {
   "cell_type": "markdown",
   "id": "5ec5539b-3cd2-4df7-a5e1-c952aa90ba85",
   "metadata": {},
   "source": [
    "### 2.2. Create Unique User IDs\n",
    "\n",
    "Combine 'User_ID' and 'Case_Start_Date' to create unique user identifiers."
   ]
  },
  {
   "cell_type": "code",
   "execution_count": 66,
   "id": "d740ad30-0f40-4b3b-bd0a-0daf2b992ce6",
   "metadata": {
    "tags": []
   },
   "outputs": [
    {
     "data": {
      "text/html": [
       "<div>\n",
       "<style scoped>\n",
       "    .dataframe tbody tr th:only-of-type {\n",
       "        vertical-align: middle;\n",
       "    }\n",
       "\n",
       "    .dataframe tbody tr th {\n",
       "        vertical-align: top;\n",
       "    }\n",
       "\n",
       "    .dataframe thead th {\n",
       "        text-align: right;\n",
       "    }\n",
       "</style>\n",
       "<table border=\"1\" class=\"dataframe\">\n",
       "  <thead>\n",
       "    <tr style=\"text-align: right;\">\n",
       "      <th></th>\n",
       "      <th>User_ID</th>\n",
       "      <th>Case_Start_Date</th>\n",
       "      <th>Activity_Start_Date</th>\n",
       "      <th>Browser</th>\n",
       "      <th>Operating_System</th>\n",
       "      <th>Device</th>\n",
       "      <th>Country</th>\n",
       "      <th>Visited_Page</th>\n",
       "      <th>Time_on_Page</th>\n",
       "    </tr>\n",
       "  </thead>\n",
       "  <tbody>\n",
       "    <tr>\n",
       "      <th>0</th>\n",
       "      <td>4b35f33828b3a50</td>\n",
       "      <td>12/30/2021 23:58:00</td>\n",
       "      <td>12/30/2021 23:58:00</td>\n",
       "      <td>ChromeMobile</td>\n",
       "      <td>Android</td>\n",
       "      <td>Mobile</td>\n",
       "      <td>Iran</td>\n",
       "      <td>Visited:learning.emofid.com</td>\n",
       "      <td>168</td>\n",
       "    </tr>\n",
       "    <tr>\n",
       "      <th>1</th>\n",
       "      <td>4b35f33828b3a50</td>\n",
       "      <td>12/30/2021 23:58:00</td>\n",
       "      <td>12/31/2021 0:00:48</td>\n",
       "      <td>ChromeMobile</td>\n",
       "      <td>Android</td>\n",
       "      <td>Mobile</td>\n",
       "      <td>Iran</td>\n",
       "      <td>Visited:.../online-issuance-and-cancellation/</td>\n",
       "      <td>153</td>\n",
       "    </tr>\n",
       "    <tr>\n",
       "      <th>2</th>\n",
       "      <td>4b35f33828b3a50</td>\n",
       "      <td>12/30/2021 23:58:00</td>\n",
       "      <td>12/31/2021 0:03:21</td>\n",
       "      <td>ChromeMobile</td>\n",
       "      <td>Android</td>\n",
       "      <td>Mobile</td>\n",
       "      <td>Iran</td>\n",
       "      <td>Visited:learning.emofid.com</td>\n",
       "      <td>5</td>\n",
       "    </tr>\n",
       "    <tr>\n",
       "      <th>3</th>\n",
       "      <td>4b35f33828b3a50</td>\n",
       "      <td>12/30/2021 23:58:00</td>\n",
       "      <td>12/31/2021 0:04:07</td>\n",
       "      <td>ChromeMobile</td>\n",
       "      <td>Android</td>\n",
       "      <td>Mobile</td>\n",
       "      <td>Iran</td>\n",
       "      <td>Visited:learning.emofid.com</td>\n",
       "      <td>26</td>\n",
       "    </tr>\n",
       "    <tr>\n",
       "      <th>4</th>\n",
       "      <td>d8f70158d816f3f</td>\n",
       "      <td>12/30/2021 23:57:00</td>\n",
       "      <td>12/30/2021 23:57:00</td>\n",
       "      <td>Firefox</td>\n",
       "      <td>Windows</td>\n",
       "      <td>PC</td>\n",
       "      <td>Iran</td>\n",
       "      <td>Visited:learning.emofid.com</td>\n",
       "      <td>129</td>\n",
       "    </tr>\n",
       "  </tbody>\n",
       "</table>\n",
       "</div>"
      ],
      "text/plain": [
       "           User_ID      Case_Start_Date  Activity_Start_Date       Browser  \\\n",
       "0  4b35f33828b3a50  12/30/2021 23:58:00  12/30/2021 23:58:00  ChromeMobile   \n",
       "1  4b35f33828b3a50  12/30/2021 23:58:00   12/31/2021 0:00:48  ChromeMobile   \n",
       "2  4b35f33828b3a50  12/30/2021 23:58:00   12/31/2021 0:03:21  ChromeMobile   \n",
       "3  4b35f33828b3a50  12/30/2021 23:58:00   12/31/2021 0:04:07  ChromeMobile   \n",
       "4  d8f70158d816f3f  12/30/2021 23:57:00  12/30/2021 23:57:00       Firefox   \n",
       "\n",
       "  Operating_System  Device Country  \\\n",
       "0          Android  Mobile    Iran   \n",
       "1          Android  Mobile    Iran   \n",
       "2          Android  Mobile    Iran   \n",
       "3          Android  Mobile    Iran   \n",
       "4          Windows      PC    Iran   \n",
       "\n",
       "                                    Visited_Page  Time_on_Page  \n",
       "0                    Visited:learning.emofid.com           168  \n",
       "1  Visited:.../online-issuance-and-cancellation/           153  \n",
       "2                    Visited:learning.emofid.com             5  \n",
       "3                    Visited:learning.emofid.com            26  \n",
       "4                    Visited:learning.emofid.com           129  "
      ]
     },
     "execution_count": 66,
     "metadata": {},
     "output_type": "execute_result"
    }
   ],
   "source": [
    "def sha_hash(string):\n",
    "    return hashlib.sha256(string.encode('utf-8')).hexdigest()[:15]\n",
    "\n",
    "event_log.User_ID = (event_log['User_ID'] + event_log['Case_Start_Date']).apply(sha_hash)\n",
    "event_log.head()"
   ]
  },
  {
   "cell_type": "markdown",
   "id": "eb7a3b0f-3ed9-494f-901a-382479f2e9b8",
   "metadata": {},
   "source": [
    "### 2.3. Sort Data\n",
    "\n",
    "Sort the event log by 'User_ID' and 'Activity_Start_Date'."
   ]
  },
  {
   "cell_type": "code",
   "execution_count": 67,
   "id": "def7f886-2348-4589-be24-1c39543a8667",
   "metadata": {},
   "outputs": [
    {
     "data": {
      "text/html": [
       "<div>\n",
       "<style scoped>\n",
       "    .dataframe tbody tr th:only-of-type {\n",
       "        vertical-align: middle;\n",
       "    }\n",
       "\n",
       "    .dataframe tbody tr th {\n",
       "        vertical-align: top;\n",
       "    }\n",
       "\n",
       "    .dataframe thead th {\n",
       "        text-align: right;\n",
       "    }\n",
       "</style>\n",
       "<table border=\"1\" class=\"dataframe\">\n",
       "  <thead>\n",
       "    <tr style=\"text-align: right;\">\n",
       "      <th></th>\n",
       "      <th>User_ID</th>\n",
       "      <th>Case_Start_Date</th>\n",
       "      <th>Activity_Start_Date</th>\n",
       "      <th>Browser</th>\n",
       "      <th>Operating_System</th>\n",
       "      <th>Device</th>\n",
       "      <th>Country</th>\n",
       "      <th>Visited_Page</th>\n",
       "      <th>Time_on_Page</th>\n",
       "    </tr>\n",
       "  </thead>\n",
       "  <tbody>\n",
       "    <tr>\n",
       "      <th>0</th>\n",
       "      <td>000a76889a8f30c</td>\n",
       "      <td>12/6/2021 19:20:00</td>\n",
       "      <td>12/6/2021 19:32:03</td>\n",
       "      <td>MiuiBrowser</td>\n",
       "      <td>Android</td>\n",
       "      <td>Mobile</td>\n",
       "      <td>Iran</td>\n",
       "      <td>Visited:.../investment-fund/</td>\n",
       "      <td>348</td>\n",
       "    </tr>\n",
       "    <tr>\n",
       "      <th>1</th>\n",
       "      <td>000a76889a8f30c</td>\n",
       "      <td>12/6/2021 19:20:00</td>\n",
       "      <td>12/6/2021 19:38:25</td>\n",
       "      <td>MiuiBrowser</td>\n",
       "      <td>Android</td>\n",
       "      <td>Mobile</td>\n",
       "      <td>Iran</td>\n",
       "      <td>Visited:.../atlas-etf/</td>\n",
       "      <td>698</td>\n",
       "    </tr>\n",
       "    <tr>\n",
       "      <th>2</th>\n",
       "      <td>000afe30924023c</td>\n",
       "      <td>12/1/2021 10:33:00</td>\n",
       "      <td>12/1/2021 10:33:00</td>\n",
       "      <td>Chrome</td>\n",
       "      <td>Windows</td>\n",
       "      <td>PC</td>\n",
       "      <td>Iran</td>\n",
       "      <td>Visited:learning.emofid.com</td>\n",
       "      <td>7</td>\n",
       "    </tr>\n",
       "    <tr>\n",
       "      <th>3</th>\n",
       "      <td>000afe30924023c</td>\n",
       "      <td>12/1/2021 10:33:00</td>\n",
       "      <td>12/1/2021 10:33:07</td>\n",
       "      <td>Chrome</td>\n",
       "      <td>Windows</td>\n",
       "      <td>PC</td>\n",
       "      <td>Iran</td>\n",
       "      <td>Visited:learning.emofid.com</td>\n",
       "      <td>7</td>\n",
       "    </tr>\n",
       "    <tr>\n",
       "      <th>4</th>\n",
       "      <td>000afe30924023c</td>\n",
       "      <td>12/1/2021 10:33:00</td>\n",
       "      <td>12/1/2021 10:33:14</td>\n",
       "      <td>Chrome</td>\n",
       "      <td>Windows</td>\n",
       "      <td>PC</td>\n",
       "      <td>Iran</td>\n",
       "      <td>Visited:learning.emofid.com</td>\n",
       "      <td>9</td>\n",
       "    </tr>\n",
       "  </tbody>\n",
       "</table>\n",
       "</div>"
      ],
      "text/plain": [
       "           User_ID     Case_Start_Date Activity_Start_Date      Browser  \\\n",
       "0  000a76889a8f30c  12/6/2021 19:20:00  12/6/2021 19:32:03  MiuiBrowser   \n",
       "1  000a76889a8f30c  12/6/2021 19:20:00  12/6/2021 19:38:25  MiuiBrowser   \n",
       "2  000afe30924023c  12/1/2021 10:33:00  12/1/2021 10:33:00       Chrome   \n",
       "3  000afe30924023c  12/1/2021 10:33:00  12/1/2021 10:33:07       Chrome   \n",
       "4  000afe30924023c  12/1/2021 10:33:00  12/1/2021 10:33:14       Chrome   \n",
       "\n",
       "  Operating_System  Device Country                  Visited_Page  Time_on_Page  \n",
       "0          Android  Mobile    Iran  Visited:.../investment-fund/           348  \n",
       "1          Android  Mobile    Iran        Visited:.../atlas-etf/           698  \n",
       "2          Windows      PC    Iran   Visited:learning.emofid.com             7  \n",
       "3          Windows      PC    Iran   Visited:learning.emofid.com             7  \n",
       "4          Windows      PC    Iran   Visited:learning.emofid.com             9  "
      ]
     },
     "execution_count": 67,
     "metadata": {},
     "output_type": "execute_result"
    }
   ],
   "source": [
    "event_log = event_log.sort_values(['User_ID', 'Activity_Start_Date'])\n",
    "event_log.reset_index(drop=True, inplace=True)\n",
    "event_log.head()"
   ]
  },
  {
   "cell_type": "markdown",
   "id": "960aa5dd-1cc2-4e9e-ab8f-335463b8f7e3",
   "metadata": {},
   "source": [
    "<br></br>\n",
    "## 3. Feature Engineering\n",
    "\n",
    "### 3.1. Merge Refreshed Pages\n",
    "\n",
    "Combine events that represent refreshed pages.\n",
    "\n",
    "#### 3.1.1. Method 1:"
   ]
  },
  {
   "cell_type": "code",
   "execution_count": 68,
   "id": "952f43c5-0def-4b90-98ca-034dee94f2a3",
   "metadata": {
    "tags": []
   },
   "outputs": [],
   "source": [
    "# class IncorrectMethodError(Exception):\n",
    "#     def __init__(self, method):\n",
    "#         super().__init__(f\"Method should be 'even_with_odd' or 'odd_with_even', '{method}' is incorrect\")\n",
    "\n",
    "\n",
    "# def merge_refreshed_pages(event_log, method='even_with_odd') -> pd.DataFrame:\n",
    "#     if method == 'even_with_odd':\n",
    "#         chunk_1 = event_log[::2]   # 0   2   4   6   ...   40010\n",
    "#         chunk_2 = event_log[1::2]  # 1   3   5   7   ...   40011\n",
    "#     elif method == 'odd_with_even':\n",
    "#         chunk_1 = event_log[1::2]  # 1   3   5   7   ...   40011\n",
    "#         chunk_2 = event_log[2::2]  # 2   4   6   8   ...   40010\n",
    "#     else:\n",
    "#         raise IncorrectMethodError(method)\n",
    "\n",
    "#     chunk_1 = chunk_1[['User_ID', 'Visited_Page']]\n",
    "#     chunk_2 = chunk_2[['User_ID', 'Visited_Page']]\n",
    "#     chunk_2.rename(columns={'User_ID': 'User_ID_chunk2',\n",
    "#                             'Visited_Page': 'Visited_Page_chunk2'},\n",
    "#                    inplace=True)\n",
    "    \n",
    "\n",
    "#     chunk_2.index = chunk_2.index - 1\n",
    "#     merged_df = pd.concat([chunk_1, chunk_2], axis=1)\n",
    "\n",
    "#     merged_df = merged_df.loc[(merged_df.User_ID == merged_df.User_ID_chunk2) & \n",
    "#                               (merged_df.Visited_Page == merged_df.Visited_Page_chunk2)]\n",
    "\n",
    "#     index = merged_df.index\n",
    "#     index_rm = merged_df.index + 1\n",
    "\n",
    "#     event_log.loc[event_log.index.isin(index), 'Time_on_Page'] += list(event_log.loc[event_log.index.isin(index_rm)]['Time_on_Page'])\n",
    "#     event_log = event_log.loc[~event_log.index.isin(index_rm)]\n",
    "#     return event_log.reset_index(drop=True)"
   ]
  },
  {
   "cell_type": "code",
   "execution_count": 69,
   "id": "de2d3665-2dcf-4aab-9ca1-c71c7ff5afdc",
   "metadata": {
    "tags": []
   },
   "outputs": [],
   "source": [
    "# while True:\n",
    "#     event_log_len = len(event_log)\n",
    "#     event_log = merge_refreshed_pages(event_log, method='even_with_odd')\n",
    "#     event_log = merge_refreshed_pages(event_log, method='odd_with_even')\n",
    "\n",
    "#     if event_log_len == len(event_log):\n",
    "#         break\n",
    "\n",
    "# event_log.head()"
   ]
  },
  {
   "cell_type": "markdown",
   "id": "c7c3f6dc-695a-4075-a018-196ac594c74d",
   "metadata": {},
   "source": [
    "#### 3.1.2. Method 2:"
   ]
  },
  {
   "cell_type": "code",
   "execution_count": 70,
   "id": "6f2d75ca-4fdf-461b-af5e-f610d3a90ca6",
   "metadata": {},
   "outputs": [],
   "source": [
    "event_log['index'] = (event_log['User_ID'].astype(str) + event_log['Visited_Page']).apply(hash)\n",
    "\n",
    "event_log['difference'] = event_log['index'].diff().fillna(1)\n",
    "\n",
    "event_log['difference'] = event_log['difference'].replace(0, np.nan)\n",
    "\n",
    "event_log.loc[~event_log['difference'].isna(), 'difference'] += pd.to_datetime(event_log['Activity_Start_Date']).astype(int)\n",
    "\n",
    "event_log['difference'] = event_log['difference'].ffill()\n",
    "event_log = event_log.groupby(\n",
    "    ['User_ID', 'Activity_Start_Date', 'Browser', 'Operating_System', 'Device',\n",
    "     'Country', 'Visited_Page', 'difference']).agg(\n",
    "    Time_on_Page = ('Time_on_Page', 'sum')).reset_index()\n",
    "\n",
    "event_log = event_log.drop(['difference'], axis=1)"
   ]
  },
  {
   "cell_type": "markdown",
   "id": "145fbab2-f760-4ff4-9b6f-1ea33f7ee566",
   "metadata": {},
   "source": [
    "<br></br>\n",
    "### 3.2. Encode Labels\n",
    "\n",
    "Encode categorical labels into numerical values."
   ]
  },
  {
   "cell_type": "code",
   "execution_count": 71,
   "id": "90d37019-bb15-4657-808d-0ea1bf83b89a",
   "metadata": {},
   "outputs": [
    {
     "data": {
      "text/html": [
       "<div>\n",
       "<style scoped>\n",
       "    .dataframe tbody tr th:only-of-type {\n",
       "        vertical-align: middle;\n",
       "    }\n",
       "\n",
       "    .dataframe tbody tr th {\n",
       "        vertical-align: top;\n",
       "    }\n",
       "\n",
       "    .dataframe thead th {\n",
       "        text-align: right;\n",
       "    }\n",
       "</style>\n",
       "<table border=\"1\" class=\"dataframe\">\n",
       "  <thead>\n",
       "    <tr style=\"text-align: right;\">\n",
       "      <th></th>\n",
       "      <th>User_ID</th>\n",
       "      <th>Activity_Start_Date</th>\n",
       "      <th>Browser</th>\n",
       "      <th>Operating_System</th>\n",
       "      <th>Device</th>\n",
       "      <th>Country</th>\n",
       "      <th>Visited_Page</th>\n",
       "      <th>Time_on_Page</th>\n",
       "    </tr>\n",
       "  </thead>\n",
       "  <tbody>\n",
       "    <tr>\n",
       "      <th>0</th>\n",
       "      <td>U_0</td>\n",
       "      <td>12/6/2021 19:32:03</td>\n",
       "      <td>B_0</td>\n",
       "      <td>OS_0</td>\n",
       "      <td>D_0</td>\n",
       "      <td>Iran</td>\n",
       "      <td>Page_0</td>\n",
       "      <td>348</td>\n",
       "    </tr>\n",
       "    <tr>\n",
       "      <th>1</th>\n",
       "      <td>U_0</td>\n",
       "      <td>12/6/2021 19:38:25</td>\n",
       "      <td>B_0</td>\n",
       "      <td>OS_0</td>\n",
       "      <td>D_0</td>\n",
       "      <td>Iran</td>\n",
       "      <td>Page_1</td>\n",
       "      <td>698</td>\n",
       "    </tr>\n",
       "    <tr>\n",
       "      <th>2</th>\n",
       "      <td>U_1</td>\n",
       "      <td>12/1/2021 10:33:00</td>\n",
       "      <td>B_1</td>\n",
       "      <td>OS_1</td>\n",
       "      <td>D_1</td>\n",
       "      <td>Iran</td>\n",
       "      <td>Page_2</td>\n",
       "      <td>7</td>\n",
       "    </tr>\n",
       "    <tr>\n",
       "      <th>3</th>\n",
       "      <td>U_1</td>\n",
       "      <td>12/1/2021 10:33:07</td>\n",
       "      <td>B_1</td>\n",
       "      <td>OS_1</td>\n",
       "      <td>D_1</td>\n",
       "      <td>Iran</td>\n",
       "      <td>Page_2</td>\n",
       "      <td>7</td>\n",
       "    </tr>\n",
       "    <tr>\n",
       "      <th>4</th>\n",
       "      <td>U_1</td>\n",
       "      <td>12/1/2021 10:33:14</td>\n",
       "      <td>B_1</td>\n",
       "      <td>OS_1</td>\n",
       "      <td>D_1</td>\n",
       "      <td>Iran</td>\n",
       "      <td>Page_2</td>\n",
       "      <td>9</td>\n",
       "    </tr>\n",
       "  </tbody>\n",
       "</table>\n",
       "</div>"
      ],
      "text/plain": [
       "  User_ID Activity_Start_Date Browser Operating_System Device Country  \\\n",
       "0     U_0  12/6/2021 19:32:03     B_0             OS_0    D_0    Iran   \n",
       "1     U_0  12/6/2021 19:38:25     B_0             OS_0    D_0    Iran   \n",
       "2     U_1  12/1/2021 10:33:00     B_1             OS_1    D_1    Iran   \n",
       "3     U_1  12/1/2021 10:33:07     B_1             OS_1    D_1    Iran   \n",
       "4     U_1  12/1/2021 10:33:14     B_1             OS_1    D_1    Iran   \n",
       "\n",
       "  Visited_Page  Time_on_Page  \n",
       "0       Page_0           348  \n",
       "1       Page_1           698  \n",
       "2       Page_2             7  \n",
       "3       Page_2             7  \n",
       "4       Page_2             9  "
      ]
     },
     "execution_count": 71,
     "metadata": {},
     "output_type": "execute_result"
    }
   ],
   "source": [
    "# Function to create code mappings\n",
    "def create_code_mapping(column, prefix):\n",
    "    unique_items = column.unique()\n",
    "    code_map = {item: f\"{prefix}_{idx}\" for idx, item in enumerate(unique_items)}\n",
    "    return code_map\n",
    "\n",
    "# Creating code mappings for each column\n",
    "user_code = create_code_mapping(event_log['User_ID'], 'U')\n",
    "activities_code = create_code_mapping(event_log['Visited_Page'], 'Page')\n",
    "device_code = create_code_mapping(event_log['Device'], 'D')\n",
    "os_code = create_code_mapping(event_log['Operating_System'], 'OS')\n",
    "browser_code = create_code_mapping(event_log['Browser'], 'B')\n",
    "\n",
    "# Create a copy of the DataFrame for modification\n",
    "mapped_event_log = event_log.copy()\n",
    "\n",
    "# Applying the code mappings using .loc\n",
    "mapped_event_log.replace(\n",
    "    {'User_ID': user_code,\n",
    "     'Visited_Page': activities_code,\n",
    "     'Device': device_code,\n",
    "     'Operating_System': os_code,\n",
    "     'Browser': browser_code,\n",
    "    },\n",
    "    inplace=True)\n",
    "\n",
    "# Displaying the updated DataFrame\n",
    "mapped_event_log.head()"
   ]
  },
  {
   "cell_type": "markdown",
   "id": "6057b82c-9c15-4966-97f4-756a982151b3",
   "metadata": {},
   "source": [
    "<br></br>\n",
    "### 3.3. Save dataframe"
   ]
  },
  {
   "cell_type": "code",
   "execution_count": 72,
   "id": "eb4b37b2-5daa-48bf-a026-dcc977ca4ef1",
   "metadata": {},
   "outputs": [],
   "source": [
    "mapped_event_log.to_csv(SRC_DIR / 'Datasets' / 'Real' / 'Customer_Journey' / 'Website_EventLog_Preprossed_With_Python.csv', index=False)"
   ]
  },
  {
   "cell_type": "markdown",
   "id": "a6068bc7-adbf-4542-8a76-ef4da3923d12",
   "metadata": {},
   "source": [
    "<br></br>\n",
    "## 3. Model Training and Evaluation"
   ]
  },
  {
   "cell_type": "code",
   "execution_count": 73,
   "id": "6c63570c-6e6e-43cb-9209-58f910c7ec49",
   "metadata": {
    "tags": []
   },
   "outputs": [],
   "source": [
    "# Import Eventlog\n",
    "event_log = pd.read_csv(SRC_DIR / 'Datasets' / 'Real' / 'Customer_Journey' / 'Website_EventLog_Preprossed_With_Python.csv')"
   ]
  },
  {
   "cell_type": "markdown",
   "id": "c070e694-a5af-48a1-bd1e-09d83987cba7",
   "metadata": {},
   "source": [
    "<br></br>\n",
    "### 3.1. Filter data"
   ]
  },
  {
   "cell_type": "code",
   "execution_count": 74,
   "id": "83fd05d2-63c5-44eb-bc06-45555dd265e6",
   "metadata": {
    "tags": []
   },
   "outputs": [],
   "source": [
    "# Filter Activities based on duration\n",
    "event_log = event_log.loc[event_log[\"Time_on_Page\"] > 10]\n",
    "event_log = event_log.loc[event_log[\"Time_on_Page\"] <= 600]\n",
    "event_log.reset_index(drop=True, inplace=True)"
   ]
  },
  {
   "cell_type": "code",
   "execution_count": 75,
   "id": "a7a0a4b4-5dc9-4c8e-b8fd-53b2946b06fa",
   "metadata": {
    "tags": []
   },
   "outputs": [
    {
     "data": {
      "text/html": [
       "<div>\n",
       "<style scoped>\n",
       "    .dataframe tbody tr th:only-of-type {\n",
       "        vertical-align: middle;\n",
       "    }\n",
       "\n",
       "    .dataframe tbody tr th {\n",
       "        vertical-align: top;\n",
       "    }\n",
       "\n",
       "    .dataframe thead th {\n",
       "        text-align: right;\n",
       "    }\n",
       "</style>\n",
       "<table border=\"1\" class=\"dataframe\">\n",
       "  <thead>\n",
       "    <tr style=\"text-align: right;\">\n",
       "      <th></th>\n",
       "      <th>User_ID</th>\n",
       "      <th>Activity_Start_Date</th>\n",
       "      <th>Browser</th>\n",
       "      <th>Operating_System</th>\n",
       "      <th>Device</th>\n",
       "      <th>Country</th>\n",
       "      <th>Visited_Page</th>\n",
       "      <th>Time_on_Page</th>\n",
       "    </tr>\n",
       "  </thead>\n",
       "  <tbody>\n",
       "    <tr>\n",
       "      <th>0</th>\n",
       "      <td>U_1</td>\n",
       "      <td>12/1/2021 10:33:23</td>\n",
       "      <td>B_1</td>\n",
       "      <td>OS_1</td>\n",
       "      <td>D_1</td>\n",
       "      <td>Iran</td>\n",
       "      <td>Page_2</td>\n",
       "      <td>15</td>\n",
       "    </tr>\n",
       "    <tr>\n",
       "      <th>1</th>\n",
       "      <td>U_1</td>\n",
       "      <td>12/1/2021 10:33:39</td>\n",
       "      <td>B_1</td>\n",
       "      <td>OS_1</td>\n",
       "      <td>D_1</td>\n",
       "      <td>Iran</td>\n",
       "      <td>Page_4</td>\n",
       "      <td>14</td>\n",
       "    </tr>\n",
       "    <tr>\n",
       "      <th>2</th>\n",
       "      <td>U_1</td>\n",
       "      <td>12/1/2021 10:33:53</td>\n",
       "      <td>B_1</td>\n",
       "      <td>OS_1</td>\n",
       "      <td>D_1</td>\n",
       "      <td>Iran</td>\n",
       "      <td>Page_2</td>\n",
       "      <td>11</td>\n",
       "    </tr>\n",
       "    <tr>\n",
       "      <th>3</th>\n",
       "      <td>U_1</td>\n",
       "      <td>12/1/2021 10:34:04</td>\n",
       "      <td>B_1</td>\n",
       "      <td>OS_1</td>\n",
       "      <td>D_1</td>\n",
       "      <td>Iran</td>\n",
       "      <td>Page_4</td>\n",
       "      <td>46</td>\n",
       "    </tr>\n",
       "    <tr>\n",
       "      <th>4</th>\n",
       "      <td>U_1</td>\n",
       "      <td>12/1/2021 10:34:59</td>\n",
       "      <td>B_1</td>\n",
       "      <td>OS_1</td>\n",
       "      <td>D_1</td>\n",
       "      <td>Iran</td>\n",
       "      <td>Page_2</td>\n",
       "      <td>97</td>\n",
       "    </tr>\n",
       "  </tbody>\n",
       "</table>\n",
       "</div>"
      ],
      "text/plain": [
       "  User_ID Activity_Start_Date Browser Operating_System Device Country  \\\n",
       "0     U_1  12/1/2021 10:33:23     B_1             OS_1    D_1    Iran   \n",
       "1     U_1  12/1/2021 10:33:39     B_1             OS_1    D_1    Iran   \n",
       "2     U_1  12/1/2021 10:33:53     B_1             OS_1    D_1    Iran   \n",
       "3     U_1  12/1/2021 10:34:04     B_1             OS_1    D_1    Iran   \n",
       "4     U_1  12/1/2021 10:34:59     B_1             OS_1    D_1    Iran   \n",
       "\n",
       "  Visited_Page  Time_on_Page  \n",
       "0       Page_2            15  \n",
       "1       Page_4            14  \n",
       "2       Page_2            11  \n",
       "3       Page_4            46  \n",
       "4       Page_2            97  "
      ]
     },
     "execution_count": 75,
     "metadata": {},
     "output_type": "execute_result"
    }
   ],
   "source": [
    "# Filter cases with fewer than 3 page views.\n",
    "user_id_visited_pages_count = event_log.groupby('User_ID').agg(\n",
    "    Count_Page=('User_ID', 'count'))\n",
    "\n",
    "filtered_users = user_id_visited_pages_count.loc[user_id_visited_pages_count['Count_Page'] >= 3].index\n",
    "\n",
    "event_log = event_log[event_log['User_ID'].isin(filtered_users)].reset_index(drop=True)\n",
    "event_log.head()"
   ]
  },
  {
   "cell_type": "markdown",
   "id": "c8396448-7760-46c5-a880-d1d8fcc0e713",
   "metadata": {},
   "source": [
    "<br></br>\n",
    "### 3.2. Making dummy variables for Device and OS"
   ]
  },
  {
   "cell_type": "code",
   "execution_count": 76,
   "id": "3a690787-25ad-4f4f-b349-46e8218bab5c",
   "metadata": {
    "tags": []
   },
   "outputs": [
    {
     "data": {
      "text/html": [
       "<div>\n",
       "<style scoped>\n",
       "    .dataframe tbody tr th:only-of-type {\n",
       "        vertical-align: middle;\n",
       "    }\n",
       "\n",
       "    .dataframe tbody tr th {\n",
       "        vertical-align: top;\n",
       "    }\n",
       "\n",
       "    .dataframe thead th {\n",
       "        text-align: right;\n",
       "    }\n",
       "</style>\n",
       "<table border=\"1\" class=\"dataframe\">\n",
       "  <thead>\n",
       "    <tr style=\"text-align: right;\">\n",
       "      <th></th>\n",
       "      <th>User_ID</th>\n",
       "      <th>Activity_Start_Date</th>\n",
       "      <th>Browser</th>\n",
       "      <th>Country</th>\n",
       "      <th>Visited_Page</th>\n",
       "      <th>Time_on_Page</th>\n",
       "      <th>Device_D_0</th>\n",
       "      <th>Device_D_1</th>\n",
       "      <th>Device_D_2</th>\n",
       "      <th>Device_D_3</th>\n",
       "      <th>Operating_System_OS_0</th>\n",
       "      <th>Operating_System_OS_1</th>\n",
       "      <th>Operating_System_OS_2</th>\n",
       "      <th>Operating_System_OS_3</th>\n",
       "      <th>Operating_System_OS_4</th>\n",
       "      <th>Operating_System_OS_5</th>\n",
       "      <th>Operating_System_OS_6</th>\n",
       "    </tr>\n",
       "  </thead>\n",
       "  <tbody>\n",
       "    <tr>\n",
       "      <th>0</th>\n",
       "      <td>U_1</td>\n",
       "      <td>12/1/2021 10:33:23</td>\n",
       "      <td>B_1</td>\n",
       "      <td>Iran</td>\n",
       "      <td>Page_2</td>\n",
       "      <td>15</td>\n",
       "      <td>0</td>\n",
       "      <td>1</td>\n",
       "      <td>0</td>\n",
       "      <td>0</td>\n",
       "      <td>0</td>\n",
       "      <td>1</td>\n",
       "      <td>0</td>\n",
       "      <td>0</td>\n",
       "      <td>0</td>\n",
       "      <td>0</td>\n",
       "      <td>0</td>\n",
       "    </tr>\n",
       "    <tr>\n",
       "      <th>1</th>\n",
       "      <td>U_1</td>\n",
       "      <td>12/1/2021 10:33:39</td>\n",
       "      <td>B_1</td>\n",
       "      <td>Iran</td>\n",
       "      <td>Page_4</td>\n",
       "      <td>14</td>\n",
       "      <td>0</td>\n",
       "      <td>1</td>\n",
       "      <td>0</td>\n",
       "      <td>0</td>\n",
       "      <td>0</td>\n",
       "      <td>1</td>\n",
       "      <td>0</td>\n",
       "      <td>0</td>\n",
       "      <td>0</td>\n",
       "      <td>0</td>\n",
       "      <td>0</td>\n",
       "    </tr>\n",
       "    <tr>\n",
       "      <th>2</th>\n",
       "      <td>U_1</td>\n",
       "      <td>12/1/2021 10:33:53</td>\n",
       "      <td>B_1</td>\n",
       "      <td>Iran</td>\n",
       "      <td>Page_2</td>\n",
       "      <td>11</td>\n",
       "      <td>0</td>\n",
       "      <td>1</td>\n",
       "      <td>0</td>\n",
       "      <td>0</td>\n",
       "      <td>0</td>\n",
       "      <td>1</td>\n",
       "      <td>0</td>\n",
       "      <td>0</td>\n",
       "      <td>0</td>\n",
       "      <td>0</td>\n",
       "      <td>0</td>\n",
       "    </tr>\n",
       "    <tr>\n",
       "      <th>3</th>\n",
       "      <td>U_1</td>\n",
       "      <td>12/1/2021 10:34:04</td>\n",
       "      <td>B_1</td>\n",
       "      <td>Iran</td>\n",
       "      <td>Page_4</td>\n",
       "      <td>46</td>\n",
       "      <td>0</td>\n",
       "      <td>1</td>\n",
       "      <td>0</td>\n",
       "      <td>0</td>\n",
       "      <td>0</td>\n",
       "      <td>1</td>\n",
       "      <td>0</td>\n",
       "      <td>0</td>\n",
       "      <td>0</td>\n",
       "      <td>0</td>\n",
       "      <td>0</td>\n",
       "    </tr>\n",
       "    <tr>\n",
       "      <th>4</th>\n",
       "      <td>U_1</td>\n",
       "      <td>12/1/2021 10:34:59</td>\n",
       "      <td>B_1</td>\n",
       "      <td>Iran</td>\n",
       "      <td>Page_2</td>\n",
       "      <td>97</td>\n",
       "      <td>0</td>\n",
       "      <td>1</td>\n",
       "      <td>0</td>\n",
       "      <td>0</td>\n",
       "      <td>0</td>\n",
       "      <td>1</td>\n",
       "      <td>0</td>\n",
       "      <td>0</td>\n",
       "      <td>0</td>\n",
       "      <td>0</td>\n",
       "      <td>0</td>\n",
       "    </tr>\n",
       "  </tbody>\n",
       "</table>\n",
       "</div>"
      ],
      "text/plain": [
       "  User_ID Activity_Start_Date Browser Country Visited_Page  Time_on_Page  \\\n",
       "0     U_1  12/1/2021 10:33:23     B_1    Iran       Page_2            15   \n",
       "1     U_1  12/1/2021 10:33:39     B_1    Iran       Page_4            14   \n",
       "2     U_1  12/1/2021 10:33:53     B_1    Iran       Page_2            11   \n",
       "3     U_1  12/1/2021 10:34:04     B_1    Iran       Page_4            46   \n",
       "4     U_1  12/1/2021 10:34:59     B_1    Iran       Page_2            97   \n",
       "\n",
       "   Device_D_0  Device_D_1  Device_D_2  Device_D_3  Operating_System_OS_0  \\\n",
       "0           0           1           0           0                      0   \n",
       "1           0           1           0           0                      0   \n",
       "2           0           1           0           0                      0   \n",
       "3           0           1           0           0                      0   \n",
       "4           0           1           0           0                      0   \n",
       "\n",
       "   Operating_System_OS_1  Operating_System_OS_2  Operating_System_OS_3  \\\n",
       "0                      1                      0                      0   \n",
       "1                      1                      0                      0   \n",
       "2                      1                      0                      0   \n",
       "3                      1                      0                      0   \n",
       "4                      1                      0                      0   \n",
       "\n",
       "   Operating_System_OS_4  Operating_System_OS_5  Operating_System_OS_6  \n",
       "0                      0                      0                      0  \n",
       "1                      0                      0                      0  \n",
       "2                      0                      0                      0  \n",
       "3                      0                      0                      0  \n",
       "4                      0                      0                      0  "
      ]
     },
     "execution_count": 76,
     "metadata": {},
     "output_type": "execute_result"
    }
   ],
   "source": [
    "event_log = pd.get_dummies(\n",
    "    event_log,\n",
    "    columns=['Device', 'Operating_System'],\n",
    "    prefix=['Device', 'Operating_System'])\n",
    "\n",
    "event_log.head()"
   ]
  },
  {
   "cell_type": "markdown",
   "id": "779d2102-9c67-4e3c-b081-2e8394c6a1d6",
   "metadata": {},
   "source": [
    "<br></br>\n",
    "### 3.3. Reshape Eventlog"
   ]
  },
  {
   "cell_type": "code",
   "execution_count": 77,
   "id": "1eb26fa2-ee60-4cc8-bc18-b99aeea8a40d",
   "metadata": {
    "tags": []
   },
   "outputs": [
    {
     "name": "stderr",
     "output_type": "stream",
     "text": [
      "100%|███████████████████████████████████████████████████████████████████████████████████| 3972/3972 [00:04<00:00, 799.65it/s]\n"
     ]
    }
   ],
   "source": [
    "reshaped_event_log_lst = []\n",
    "\n",
    "for group_name, group in tqdm(event_log.groupby('User_ID')):\n",
    "    group.sort_values(\"Activity_Start_Date\", inplace=True)\n",
    "    group.reset_index(drop=True, inplace=True)\n",
    "\n",
    "    # Input Variables\n",
    "    prefix = [tuple(group[\"Visited_Page\"].values[:i+1]) for i in range(len(group))]\n",
    "    elapsed_time = [sum(group[\"Time_on_Page\"].values[:i+1]) for i in range(len(group))]\n",
    "    number_of_visited_page = [len(group[\"Visited_Page\"].values[:i+1]) for i in range(len(group))]\n",
    "\n",
    "    operating_systems = {}\n",
    "    devices = {}\n",
    "    for col in group.columns:\n",
    "        if 'OS_' in col:\n",
    "            operating_systems[col] = [max(group[col]) for i in range(len(group))]\n",
    "        if 'Device_' in col:\n",
    "            devices[col] = [max(group[col]) for i in range(len(group))]\n",
    "\n",
    "    # Output Variable\n",
    "    next_page = [group[\"Visited_Page\"].values[i+1] for i in range(len(group) - 1)] + [\"End\"]\n",
    "\n",
    "    reshaped_group = pd.DataFrame({\n",
    "        'Visited_Page': prefix,\n",
    "        'Elapsed_Time': elapsed_time,\n",
    "        '#Visited_Page': number_of_visited_page,\n",
    "        'Next_Page': next_page,\n",
    "        **operating_systems,\n",
    "        **devices,\n",
    "    })\n",
    "\n",
    "    reshaped_event_log_lst.append(reshaped_group)\n",
    "\n",
    "reshaped_event_log = pd.concat(reshaped_event_log_lst, axis=0)"
   ]
  },
  {
   "cell_type": "code",
   "execution_count": 88,
   "id": "cdca62aa-79b3-41f6-a1e4-81e429de0253",
   "metadata": {
    "tags": []
   },
   "outputs": [
    {
     "data": {
      "text/plain": [
       "(20599, 15)"
      ]
     },
     "execution_count": 88,
     "metadata": {},
     "output_type": "execute_result"
    }
   ],
   "source": [
    "reshaped_event_log.reset_index(drop=True, inplace=True)\n",
    "reshaped_event_log.shape"
   ]
  },
  {
   "cell_type": "markdown",
   "id": "8ef51c0e-f1c3-483a-8c2d-cb1c935c4f2d",
   "metadata": {},
   "source": [
    "<br></br>\n",
    "### 3.4. Making dummy variables for Visited Pages"
   ]
  },
  {
   "cell_type": "code",
   "execution_count": 89,
   "id": "5e035796-89ff-446c-8ce5-6d59fd9acb5a",
   "metadata": {
    "tags": []
   },
   "outputs": [
    {
     "data": {
      "text/html": [
       "<div>\n",
       "<style scoped>\n",
       "    .dataframe tbody tr th:only-of-type {\n",
       "        vertical-align: middle;\n",
       "    }\n",
       "\n",
       "    .dataframe tbody tr th {\n",
       "        vertical-align: top;\n",
       "    }\n",
       "\n",
       "    .dataframe thead th {\n",
       "        text-align: right;\n",
       "    }\n",
       "</style>\n",
       "<table border=\"1\" class=\"dataframe\">\n",
       "  <thead>\n",
       "    <tr style=\"text-align: right;\">\n",
       "      <th></th>\n",
       "      <th>Elapsed_Time</th>\n",
       "      <th>#Visited_Page</th>\n",
       "      <th>Next_Page</th>\n",
       "      <th>Operating_System_OS_0</th>\n",
       "      <th>Operating_System_OS_1</th>\n",
       "      <th>Operating_System_OS_2</th>\n",
       "      <th>Operating_System_OS_3</th>\n",
       "      <th>Operating_System_OS_4</th>\n",
       "      <th>Operating_System_OS_5</th>\n",
       "      <th>Operating_System_OS_6</th>\n",
       "      <th>...</th>\n",
       "      <th>Visited_('Page_99', 'Page_67', 'Page_100')</th>\n",
       "      <th>Visited_('Page_99', 'Page_67', 'Page_100', 'Page_115')</th>\n",
       "      <th>Visited_('Page_99', 'Page_67', 'Page_100', 'Page_115', 'Page_100')</th>\n",
       "      <th>Visited_('Page_99', 'Page_67', 'Page_100', 'Page_115', 'Page_100', 'Page_67')</th>\n",
       "      <th>Visited_('Page_99', 'Page_67', 'Page_100', 'Page_115', 'Page_100', 'Page_67', 'Page_42')</th>\n",
       "      <th>Visited_('Page_99', 'Page_83')</th>\n",
       "      <th>Visited_('Page_99', 'Page_83', 'Page_99')</th>\n",
       "      <th>Visited_('Page_99', 'Page_83', 'Page_99', 'Page_100')</th>\n",
       "      <th>Visited_('Page_99', 'Page_83', 'Page_99', 'Page_100', 'Page_115')</th>\n",
       "      <th>Visited_('Page_99', 'Page_83', 'Page_99', 'Page_100', 'Page_115', 'Page_105')</th>\n",
       "    </tr>\n",
       "  </thead>\n",
       "  <tbody>\n",
       "    <tr>\n",
       "      <th>0</th>\n",
       "      <td>15</td>\n",
       "      <td>1</td>\n",
       "      <td>Page_4</td>\n",
       "      <td>0</td>\n",
       "      <td>1</td>\n",
       "      <td>0</td>\n",
       "      <td>0</td>\n",
       "      <td>0</td>\n",
       "      <td>0</td>\n",
       "      <td>0</td>\n",
       "      <td>...</td>\n",
       "      <td>0</td>\n",
       "      <td>0</td>\n",
       "      <td>0</td>\n",
       "      <td>0</td>\n",
       "      <td>0</td>\n",
       "      <td>0</td>\n",
       "      <td>0</td>\n",
       "      <td>0</td>\n",
       "      <td>0</td>\n",
       "      <td>0</td>\n",
       "    </tr>\n",
       "    <tr>\n",
       "      <th>1</th>\n",
       "      <td>29</td>\n",
       "      <td>2</td>\n",
       "      <td>Page_2</td>\n",
       "      <td>0</td>\n",
       "      <td>1</td>\n",
       "      <td>0</td>\n",
       "      <td>0</td>\n",
       "      <td>0</td>\n",
       "      <td>0</td>\n",
       "      <td>0</td>\n",
       "      <td>...</td>\n",
       "      <td>0</td>\n",
       "      <td>0</td>\n",
       "      <td>0</td>\n",
       "      <td>0</td>\n",
       "      <td>0</td>\n",
       "      <td>0</td>\n",
       "      <td>0</td>\n",
       "      <td>0</td>\n",
       "      <td>0</td>\n",
       "      <td>0</td>\n",
       "    </tr>\n",
       "    <tr>\n",
       "      <th>2</th>\n",
       "      <td>40</td>\n",
       "      <td>3</td>\n",
       "      <td>Page_4</td>\n",
       "      <td>0</td>\n",
       "      <td>1</td>\n",
       "      <td>0</td>\n",
       "      <td>0</td>\n",
       "      <td>0</td>\n",
       "      <td>0</td>\n",
       "      <td>0</td>\n",
       "      <td>...</td>\n",
       "      <td>0</td>\n",
       "      <td>0</td>\n",
       "      <td>0</td>\n",
       "      <td>0</td>\n",
       "      <td>0</td>\n",
       "      <td>0</td>\n",
       "      <td>0</td>\n",
       "      <td>0</td>\n",
       "      <td>0</td>\n",
       "      <td>0</td>\n",
       "    </tr>\n",
       "    <tr>\n",
       "      <th>3</th>\n",
       "      <td>86</td>\n",
       "      <td>4</td>\n",
       "      <td>Page_2</td>\n",
       "      <td>0</td>\n",
       "      <td>1</td>\n",
       "      <td>0</td>\n",
       "      <td>0</td>\n",
       "      <td>0</td>\n",
       "      <td>0</td>\n",
       "      <td>0</td>\n",
       "      <td>...</td>\n",
       "      <td>0</td>\n",
       "      <td>0</td>\n",
       "      <td>0</td>\n",
       "      <td>0</td>\n",
       "      <td>0</td>\n",
       "      <td>0</td>\n",
       "      <td>0</td>\n",
       "      <td>0</td>\n",
       "      <td>0</td>\n",
       "      <td>0</td>\n",
       "    </tr>\n",
       "    <tr>\n",
       "      <th>4</th>\n",
       "      <td>183</td>\n",
       "      <td>5</td>\n",
       "      <td>End</td>\n",
       "      <td>0</td>\n",
       "      <td>1</td>\n",
       "      <td>0</td>\n",
       "      <td>0</td>\n",
       "      <td>0</td>\n",
       "      <td>0</td>\n",
       "      <td>0</td>\n",
       "      <td>...</td>\n",
       "      <td>0</td>\n",
       "      <td>0</td>\n",
       "      <td>0</td>\n",
       "      <td>0</td>\n",
       "      <td>0</td>\n",
       "      <td>0</td>\n",
       "      <td>0</td>\n",
       "      <td>0</td>\n",
       "      <td>0</td>\n",
       "      <td>0</td>\n",
       "    </tr>\n",
       "  </tbody>\n",
       "</table>\n",
       "<p>5 rows × 12201 columns</p>\n",
       "</div>"
      ],
      "text/plain": [
       "   Elapsed_Time  #Visited_Page Next_Page  Operating_System_OS_0  \\\n",
       "0            15              1    Page_4                      0   \n",
       "1            29              2    Page_2                      0   \n",
       "2            40              3    Page_4                      0   \n",
       "3            86              4    Page_2                      0   \n",
       "4           183              5       End                      0   \n",
       "\n",
       "   Operating_System_OS_1  Operating_System_OS_2  Operating_System_OS_3  \\\n",
       "0                      1                      0                      0   \n",
       "1                      1                      0                      0   \n",
       "2                      1                      0                      0   \n",
       "3                      1                      0                      0   \n",
       "4                      1                      0                      0   \n",
       "\n",
       "   Operating_System_OS_4  Operating_System_OS_5  Operating_System_OS_6  ...  \\\n",
       "0                      0                      0                      0  ...   \n",
       "1                      0                      0                      0  ...   \n",
       "2                      0                      0                      0  ...   \n",
       "3                      0                      0                      0  ...   \n",
       "4                      0                      0                      0  ...   \n",
       "\n",
       "   Visited_('Page_99', 'Page_67', 'Page_100')  \\\n",
       "0                                           0   \n",
       "1                                           0   \n",
       "2                                           0   \n",
       "3                                           0   \n",
       "4                                           0   \n",
       "\n",
       "   Visited_('Page_99', 'Page_67', 'Page_100', 'Page_115')  \\\n",
       "0                                                  0        \n",
       "1                                                  0        \n",
       "2                                                  0        \n",
       "3                                                  0        \n",
       "4                                                  0        \n",
       "\n",
       "   Visited_('Page_99', 'Page_67', 'Page_100', 'Page_115', 'Page_100')  \\\n",
       "0                                                  0                    \n",
       "1                                                  0                    \n",
       "2                                                  0                    \n",
       "3                                                  0                    \n",
       "4                                                  0                    \n",
       "\n",
       "   Visited_('Page_99', 'Page_67', 'Page_100', 'Page_115', 'Page_100', 'Page_67')  \\\n",
       "0                                                  0                               \n",
       "1                                                  0                               \n",
       "2                                                  0                               \n",
       "3                                                  0                               \n",
       "4                                                  0                               \n",
       "\n",
       "   Visited_('Page_99', 'Page_67', 'Page_100', 'Page_115', 'Page_100', 'Page_67', 'Page_42')  \\\n",
       "0                                                  0                                          \n",
       "1                                                  0                                          \n",
       "2                                                  0                                          \n",
       "3                                                  0                                          \n",
       "4                                                  0                                          \n",
       "\n",
       "   Visited_('Page_99', 'Page_83')  Visited_('Page_99', 'Page_83', 'Page_99')  \\\n",
       "0                               0                                          0   \n",
       "1                               0                                          0   \n",
       "2                               0                                          0   \n",
       "3                               0                                          0   \n",
       "4                               0                                          0   \n",
       "\n",
       "   Visited_('Page_99', 'Page_83', 'Page_99', 'Page_100')  \\\n",
       "0                                                  0       \n",
       "1                                                  0       \n",
       "2                                                  0       \n",
       "3                                                  0       \n",
       "4                                                  0       \n",
       "\n",
       "   Visited_('Page_99', 'Page_83', 'Page_99', 'Page_100', 'Page_115')  \\\n",
       "0                                                  0                   \n",
       "1                                                  0                   \n",
       "2                                                  0                   \n",
       "3                                                  0                   \n",
       "4                                                  0                   \n",
       "\n",
       "   Visited_('Page_99', 'Page_83', 'Page_99', 'Page_100', 'Page_115', 'Page_105')  \n",
       "0                                                  0                              \n",
       "1                                                  0                              \n",
       "2                                                  0                              \n",
       "3                                                  0                              \n",
       "4                                                  0                              \n",
       "\n",
       "[5 rows x 12201 columns]"
      ]
     },
     "execution_count": 89,
     "metadata": {},
     "output_type": "execute_result"
    }
   ],
   "source": [
    "reshaped_event_log = pd.get_dummies(reshaped_event_log, columns=['Visited_Page'], prefix=\"Visited\")\n",
    "\n",
    "reshaped_event_log.head()"
   ]
  },
  {
   "cell_type": "markdown",
   "id": "9825a2c3-4528-4dc4-bc54-5628e0edfec1",
   "metadata": {},
   "source": [
    "<br></br>\n",
    "### 3.5. Train Models"
   ]
  },
  {
   "cell_type": "code",
   "execution_count": 91,
   "id": "95e7b9f6-227f-4167-86de-8b784542fe45",
   "metadata": {
    "tags": []
   },
   "outputs": [
    {
     "data": {
      "text/plain": [
       "['Next_Page']"
      ]
     },
     "execution_count": 91,
     "metadata": {},
     "output_type": "execute_result"
    }
   ],
   "source": [
    "x_columns_name = [\"Elapsed_Time\", \"#Visited_Page\"] + [item for item in reshaped_event_log.columns if \"Visited_\" in item or\n",
    "                                                                                                     \"Device_\" in item or \n",
    "                                                                                                     \"OS_\" in item]\n",
    "y_column_name = [\"Next_Page\"]"
   ]
  },
  {
   "cell_type": "code",
   "execution_count": 94,
   "id": "e8fa2f67-05e7-4e16-8d82-f63ad9f841cf",
   "metadata": {
    "tags": []
   },
   "outputs": [],
   "source": [
    "x = reshaped_event_log[x_columns_name]\n",
    "y = reshaped_event_log[y_column_name]\n",
    "\n",
    "y = np.array(y).flatten()\n",
    "\n",
    "label_encoder = LabelEncoder()\n",
    "\n",
    "# Fit and transform the y array to integer labels\n",
    "y = label_encoder.fit_transform(y)\n",
    "label_mapping = dict(zip(label_encoder.classes_, label_encoder.transform(label_encoder.classes_)))\n",
    "\n",
    "# Train Test split\n",
    "x_train, x_test, y_train, y_test = train_test_split(x, y, test_size=0.2, random_state=0)\n",
    "\n",
    "scaler = StandardScaler()\n",
    "x_train = scaler.fit_transform(x_train)\n",
    "x_test = scaler.transform(x_test)"
   ]
  },
  {
   "cell_type": "markdown",
   "id": "ee33e522-f719-48c2-9ee6-547542a1b6c8",
   "metadata": {},
   "source": [
    "<br></br>\n",
    "#### <b>3.5.1. Logistic Regression</b>"
   ]
  },
  {
   "cell_type": "code",
   "execution_count": 19,
   "id": "1346f930-da88-4311-bf86-903e5358e8aa",
   "metadata": {
    "tags": []
   },
   "outputs": [
    {
     "name": "stderr",
     "output_type": "stream",
     "text": [
      "\n",
      "KeyboardInterrupt\n",
      "\n"
     ]
    }
   ],
   "source": [
    "# Fit Mode\n",
    "model = LogisticRegression(random_state=0)\n",
    "\n",
    "# model = LogisticRegression(solver='liblinear', C=0.05, multi_class='ovr', random_state=0)\n",
    "model.fit(x_train, y_train)"
   ]
  },
  {
   "cell_type": "code",
   "execution_count": null,
   "id": "6709437e-7266-4838-9116-a3f2db3db7a9",
   "metadata": {
    "tags": []
   },
   "outputs": [],
   "source": [
    "y_pred = model.predict(x_test)\n",
    "\n",
    "print(model.score(x_train, y_train))\n",
    "print(model.score(x_test, y_test))"
   ]
  },
  {
   "cell_type": "markdown",
   "id": "fd1f4945-d078-480f-8d6a-dbd759f8dcea",
   "metadata": {},
   "source": [
    "<br></br>\n",
    "#### <b>3.5.2. KNN</b>"
   ]
  },
  {
   "cell_type": "code",
   "execution_count": 95,
   "id": "2f347492-dc83-4561-ad3a-32a64683a595",
   "metadata": {
    "tags": []
   },
   "outputs": [
    {
     "data": {
      "text/html": [
       "<style>#sk-container-id-1 {color: black;background-color: white;}#sk-container-id-1 pre{padding: 0;}#sk-container-id-1 div.sk-toggleable {background-color: white;}#sk-container-id-1 label.sk-toggleable__label {cursor: pointer;display: block;width: 100%;margin-bottom: 0;padding: 0.3em;box-sizing: border-box;text-align: center;}#sk-container-id-1 label.sk-toggleable__label-arrow:before {content: \"▸\";float: left;margin-right: 0.25em;color: #696969;}#sk-container-id-1 label.sk-toggleable__label-arrow:hover:before {color: black;}#sk-container-id-1 div.sk-estimator:hover label.sk-toggleable__label-arrow:before {color: black;}#sk-container-id-1 div.sk-toggleable__content {max-height: 0;max-width: 0;overflow: hidden;text-align: left;background-color: #f0f8ff;}#sk-container-id-1 div.sk-toggleable__content pre {margin: 0.2em;color: black;border-radius: 0.25em;background-color: #f0f8ff;}#sk-container-id-1 input.sk-toggleable__control:checked~div.sk-toggleable__content {max-height: 200px;max-width: 100%;overflow: auto;}#sk-container-id-1 input.sk-toggleable__control:checked~label.sk-toggleable__label-arrow:before {content: \"▾\";}#sk-container-id-1 div.sk-estimator input.sk-toggleable__control:checked~label.sk-toggleable__label {background-color: #d4ebff;}#sk-container-id-1 div.sk-label input.sk-toggleable__control:checked~label.sk-toggleable__label {background-color: #d4ebff;}#sk-container-id-1 input.sk-hidden--visually {border: 0;clip: rect(1px 1px 1px 1px);clip: rect(1px, 1px, 1px, 1px);height: 1px;margin: -1px;overflow: hidden;padding: 0;position: absolute;width: 1px;}#sk-container-id-1 div.sk-estimator {font-family: monospace;background-color: #f0f8ff;border: 1px dotted black;border-radius: 0.25em;box-sizing: border-box;margin-bottom: 0.5em;}#sk-container-id-1 div.sk-estimator:hover {background-color: #d4ebff;}#sk-container-id-1 div.sk-parallel-item::after {content: \"\";width: 100%;border-bottom: 1px solid gray;flex-grow: 1;}#sk-container-id-1 div.sk-label:hover label.sk-toggleable__label {background-color: #d4ebff;}#sk-container-id-1 div.sk-serial::before {content: \"\";position: absolute;border-left: 1px solid gray;box-sizing: border-box;top: 0;bottom: 0;left: 50%;z-index: 0;}#sk-container-id-1 div.sk-serial {display: flex;flex-direction: column;align-items: center;background-color: white;padding-right: 0.2em;padding-left: 0.2em;position: relative;}#sk-container-id-1 div.sk-item {position: relative;z-index: 1;}#sk-container-id-1 div.sk-parallel {display: flex;align-items: stretch;justify-content: center;background-color: white;position: relative;}#sk-container-id-1 div.sk-item::before, #sk-container-id-1 div.sk-parallel-item::before {content: \"\";position: absolute;border-left: 1px solid gray;box-sizing: border-box;top: 0;bottom: 0;left: 50%;z-index: -1;}#sk-container-id-1 div.sk-parallel-item {display: flex;flex-direction: column;z-index: 1;position: relative;background-color: white;}#sk-container-id-1 div.sk-parallel-item:first-child::after {align-self: flex-end;width: 50%;}#sk-container-id-1 div.sk-parallel-item:last-child::after {align-self: flex-start;width: 50%;}#sk-container-id-1 div.sk-parallel-item:only-child::after {width: 0;}#sk-container-id-1 div.sk-dashed-wrapped {border: 1px dashed gray;margin: 0 0.4em 0.5em 0.4em;box-sizing: border-box;padding-bottom: 0.4em;background-color: white;}#sk-container-id-1 div.sk-label label {font-family: monospace;font-weight: bold;display: inline-block;line-height: 1.2em;}#sk-container-id-1 div.sk-label-container {text-align: center;}#sk-container-id-1 div.sk-container {/* jupyter's `normalize.less` sets `[hidden] { display: none; }` but bootstrap.min.css set `[hidden] { display: none !important; }` so we also need the `!important` here to be able to override the default hidden behavior on the sphinx rendered scikit-learn.org. See: https://github.com/scikit-learn/scikit-learn/issues/21755 */display: inline-block !important;position: relative;}#sk-container-id-1 div.sk-text-repr-fallback {display: none;}</style><div id=\"sk-container-id-1\" class=\"sk-top-container\"><div class=\"sk-text-repr-fallback\"><pre>KNeighborsClassifier(n_neighbors=12)</pre><b>In a Jupyter environment, please rerun this cell to show the HTML representation or trust the notebook. <br />On GitHub, the HTML representation is unable to render, please try loading this page with nbviewer.org.</b></div><div class=\"sk-container\" hidden><div class=\"sk-item\"><div class=\"sk-estimator sk-toggleable\"><input class=\"sk-toggleable__control sk-hidden--visually\" id=\"sk-estimator-id-1\" type=\"checkbox\" checked><label for=\"sk-estimator-id-1\" class=\"sk-toggleable__label sk-toggleable__label-arrow\">KNeighborsClassifier</label><div class=\"sk-toggleable__content\"><pre>KNeighborsClassifier(n_neighbors=12)</pre></div></div></div></div></div>"
      ],
      "text/plain": [
       "KNeighborsClassifier(n_neighbors=12)"
      ]
     },
     "execution_count": 95,
     "metadata": {},
     "output_type": "execute_result"
    }
   ],
   "source": [
    "knn_model = KNeighborsClassifier(n_neighbors=12)\n",
    "knn_model.fit(x_train, y_train)"
   ]
  },
  {
   "cell_type": "code",
   "execution_count": 96,
   "id": "62565bd4-a0ce-41e7-904e-e0179ec4aea5",
   "metadata": {
    "tags": []
   },
   "outputs": [
    {
     "data": {
      "text/plain": [
       "0.14660194174757282"
      ]
     },
     "execution_count": 96,
     "metadata": {},
     "output_type": "execute_result"
    }
   ],
   "source": [
    "pred = knn_model.predict(x_test)\n",
    "accuracy_score(pred, y_test)"
   ]
  },
  {
   "cell_type": "markdown",
   "id": "38b4be3a-13dc-4c9b-8c77-c11841763c50",
   "metadata": {},
   "source": [
    "<br></br>\n",
    "#### <b>3.5.3. Neural Network</b>"
   ]
  },
  {
   "cell_type": "code",
   "execution_count": 97,
   "id": "7fa34706-3363-4fb9-9027-f864f2fcc40b",
   "metadata": {
    "tags": []
   },
   "outputs": [],
   "source": [
    "# Train Test split\n",
    "x_train, x_test, y_train, y_test = train_test_split(x, y, test_size=0.2, random_state=0)\n",
    "\n",
    "y_encoded = to_categorical([*y_train, *y_test])\n",
    "\n",
    "y_train_encoded = y_encoded[:y_train.shape[0]]\n",
    "y_test_encoded = y_encoded[y_train.shape[0]:]"
   ]
  },
  {
   "cell_type": "code",
   "execution_count": 98,
   "id": "832cdb0a-382b-494a-be9d-aaa2ed194e12",
   "metadata": {
    "tags": []
   },
   "outputs": [
    {
     "name": "stdout",
     "output_type": "stream",
     "text": [
      "Epoch 1/60\n"
     ]
    },
    {
     "name": "stderr",
     "output_type": "stream",
     "text": [
      "2024-06-28 15:41:38.171456: W external/local_tsl/tsl/framework/cpu_allocator_impl.cc:83] Allocation of 643383132 exceeds 10% of free system memory.\n"
     ]
    },
    {
     "name": "stdout",
     "output_type": "stream",
     "text": [
      "\u001b[1m412/412\u001b[0m \u001b[32m━━━━━━━━━━━━━━━━━━━━\u001b[0m\u001b[37m\u001b[0m \u001b[1m4s\u001b[0m 7ms/step - accuracy: 0.1114 - loss: 5.3376 - val_accuracy: 0.2382 - val_loss: 4.7256\n",
      "Epoch 2/60\n",
      "\u001b[1m412/412\u001b[0m \u001b[32m━━━━━━━━━━━━━━━━━━━━\u001b[0m\u001b[37m\u001b[0m \u001b[1m2s\u001b[0m 6ms/step - accuracy: 0.2080 - loss: 4.6415 - val_accuracy: 0.2339 - val_loss: 4.6965\n",
      "Epoch 3/60\n",
      "\u001b[1m412/412\u001b[0m \u001b[32m━━━━━━━━━━━━━━━━━━━━\u001b[0m\u001b[37m\u001b[0m \u001b[1m2s\u001b[0m 6ms/step - accuracy: 0.2139 - loss: 4.4996 - val_accuracy: 0.2342 - val_loss: 4.4764\n",
      "Epoch 4/60\n",
      "\u001b[1m412/412\u001b[0m \u001b[32m━━━━━━━━━━━━━━━━━━━━\u001b[0m\u001b[37m\u001b[0m \u001b[1m2s\u001b[0m 6ms/step - accuracy: 0.2202 - loss: 4.4117 - val_accuracy: 0.2345 - val_loss: 4.3645\n",
      "Epoch 5/60\n",
      "\u001b[1m412/412\u001b[0m \u001b[32m━━━━━━━━━━━━━━━━━━━━\u001b[0m\u001b[37m\u001b[0m \u001b[1m2s\u001b[0m 5ms/step - accuracy: 0.2247 - loss: 4.3116 - val_accuracy: 0.2354 - val_loss: 4.4170\n",
      "Epoch 6/60\n",
      "\u001b[1m412/412\u001b[0m \u001b[32m━━━━━━━━━━━━━━━━━━━━\u001b[0m\u001b[37m\u001b[0m \u001b[1m2s\u001b[0m 6ms/step - accuracy: 0.2335 - loss: 4.1957 - val_accuracy: 0.2342 - val_loss: 4.5856\n",
      "Epoch 7/60\n",
      "\u001b[1m412/412\u001b[0m \u001b[32m━━━━━━━━━━━━━━━━━━━━\u001b[0m\u001b[37m\u001b[0m \u001b[1m2s\u001b[0m 6ms/step - accuracy: 0.2393 - loss: 4.1002 - val_accuracy: 0.2351 - val_loss: 5.1395\n",
      "Epoch 8/60\n",
      "\u001b[1m412/412\u001b[0m \u001b[32m━━━━━━━━━━━━━━━━━━━━\u001b[0m\u001b[37m\u001b[0m \u001b[1m2s\u001b[0m 6ms/step - accuracy: 0.2330 - loss: 4.0599 - val_accuracy: 0.2336 - val_loss: 5.8873\n",
      "Epoch 9/60\n",
      "\u001b[1m412/412\u001b[0m \u001b[32m━━━━━━━━━━━━━━━━━━━━\u001b[0m\u001b[37m\u001b[0m \u001b[1m3s\u001b[0m 6ms/step - accuracy: 0.2344 - loss: 4.0045 - val_accuracy: 0.2348 - val_loss: 7.3698\n",
      "Epoch 10/60\n",
      "\u001b[1m412/412\u001b[0m \u001b[32m━━━━━━━━━━━━━━━━━━━━\u001b[0m\u001b[37m\u001b[0m \u001b[1m2s\u001b[0m 6ms/step - accuracy: 0.2417 - loss: 3.9345 - val_accuracy: 0.2342 - val_loss: 8.2094\n",
      "Epoch 11/60\n",
      "\u001b[1m412/412\u001b[0m \u001b[32m━━━━━━━━━━━━━━━━━━━━\u001b[0m\u001b[37m\u001b[0m \u001b[1m2s\u001b[0m 5ms/step - accuracy: 0.2405 - loss: 3.9165 - val_accuracy: 0.2354 - val_loss: 9.2338\n",
      "Epoch 12/60\n",
      "\u001b[1m412/412\u001b[0m \u001b[32m━━━━━━━━━━━━━━━━━━━━\u001b[0m\u001b[37m\u001b[0m \u001b[1m2s\u001b[0m 6ms/step - accuracy: 0.2424 - loss: 3.8540 - val_accuracy: 0.2376 - val_loss: 11.0633\n",
      "Epoch 13/60\n",
      "\u001b[1m412/412\u001b[0m \u001b[32m━━━━━━━━━━━━━━━━━━━━\u001b[0m\u001b[37m\u001b[0m \u001b[1m2s\u001b[0m 6ms/step - accuracy: 0.2544 - loss: 3.7628 - val_accuracy: 0.2357 - val_loss: 11.6015\n",
      "Epoch 14/60\n",
      "\u001b[1m412/412\u001b[0m \u001b[32m━━━━━━━━━━━━━━━━━━━━\u001b[0m\u001b[37m\u001b[0m \u001b[1m2s\u001b[0m 6ms/step - accuracy: 0.2492 - loss: 3.7840 - val_accuracy: 0.2406 - val_loss: 13.2586\n",
      "Epoch 15/60\n",
      "\u001b[1m412/412\u001b[0m \u001b[32m━━━━━━━━━━━━━━━━━━━━\u001b[0m\u001b[37m\u001b[0m \u001b[1m2s\u001b[0m 6ms/step - accuracy: 0.2409 - loss: 3.7903 - val_accuracy: 0.2373 - val_loss: 14.9830\n",
      "Epoch 16/60\n",
      "\u001b[1m412/412\u001b[0m \u001b[32m━━━━━━━━━━━━━━━━━━━━\u001b[0m\u001b[37m\u001b[0m \u001b[1m2s\u001b[0m 5ms/step - accuracy: 0.2486 - loss: 3.6990 - val_accuracy: 0.2376 - val_loss: 17.2289\n",
      "Epoch 17/60\n",
      "\u001b[1m412/412\u001b[0m \u001b[32m━━━━━━━━━━━━━━━━━━━━\u001b[0m\u001b[37m\u001b[0m \u001b[1m2s\u001b[0m 5ms/step - accuracy: 0.2561 - loss: 3.6725 - val_accuracy: 0.2367 - val_loss: 18.3767\n",
      "Epoch 18/60\n",
      "\u001b[1m412/412\u001b[0m \u001b[32m━━━━━━━━━━━━━━━━━━━━\u001b[0m\u001b[37m\u001b[0m \u001b[1m2s\u001b[0m 6ms/step - accuracy: 0.2607 - loss: 3.6681 - val_accuracy: 0.2370 - val_loss: 20.8687\n",
      "Epoch 19/60\n",
      "\u001b[1m412/412\u001b[0m \u001b[32m━━━━━━━━━━━━━━━━━━━━\u001b[0m\u001b[37m\u001b[0m \u001b[1m2s\u001b[0m 5ms/step - accuracy: 0.2581 - loss: 3.6472 - val_accuracy: 0.2379 - val_loss: 23.1731\n",
      "Epoch 20/60\n",
      "\u001b[1m412/412\u001b[0m \u001b[32m━━━━━━━━━━━━━━━━━━━━\u001b[0m\u001b[37m\u001b[0m \u001b[1m2s\u001b[0m 6ms/step - accuracy: 0.2630 - loss: 3.6169 - val_accuracy: 0.2370 - val_loss: 25.1228\n",
      "Epoch 21/60\n",
      "\u001b[1m412/412\u001b[0m \u001b[32m━━━━━━━━━━━━━━━━━━━━\u001b[0m\u001b[37m\u001b[0m \u001b[1m2s\u001b[0m 6ms/step - accuracy: 0.2618 - loss: 3.5575 - val_accuracy: 0.2394 - val_loss: 26.6782\n",
      "Epoch 22/60\n",
      "\u001b[1m412/412\u001b[0m \u001b[32m━━━━━━━━━━━━━━━━━━━━\u001b[0m\u001b[37m\u001b[0m \u001b[1m2s\u001b[0m 6ms/step - accuracy: 0.2602 - loss: 3.5973 - val_accuracy: 0.2370 - val_loss: 29.4071\n",
      "Epoch 23/60\n",
      "\u001b[1m412/412\u001b[0m \u001b[32m━━━━━━━━━━━━━━━━━━━━\u001b[0m\u001b[37m\u001b[0m \u001b[1m2s\u001b[0m 5ms/step - accuracy: 0.2710 - loss: 3.5011 - val_accuracy: 0.2391 - val_loss: 31.7878\n",
      "Epoch 24/60\n",
      "\u001b[1m412/412\u001b[0m \u001b[32m━━━━━━━━━━━━━━━━━━━━\u001b[0m\u001b[37m\u001b[0m \u001b[1m2s\u001b[0m 6ms/step - accuracy: 0.2679 - loss: 3.4932 - val_accuracy: 0.2376 - val_loss: 34.0276\n",
      "Epoch 25/60\n",
      "\u001b[1m412/412\u001b[0m \u001b[32m━━━━━━━━━━━━━━━━━━━━\u001b[0m\u001b[37m\u001b[0m \u001b[1m2s\u001b[0m 6ms/step - accuracy: 0.2751 - loss: 3.4674 - val_accuracy: 0.2379 - val_loss: 38.3528\n",
      "Epoch 26/60\n",
      "\u001b[1m412/412\u001b[0m \u001b[32m━━━━━━━━━━━━━━━━━━━━\u001b[0m\u001b[37m\u001b[0m \u001b[1m2s\u001b[0m 6ms/step - accuracy: 0.2728 - loss: 3.4809 - val_accuracy: 0.2367 - val_loss: 40.1024\n",
      "Epoch 27/60\n",
      "\u001b[1m412/412\u001b[0m \u001b[32m━━━━━━━━━━━━━━━━━━━━\u001b[0m\u001b[37m\u001b[0m \u001b[1m2s\u001b[0m 6ms/step - accuracy: 0.2863 - loss: 3.4327 - val_accuracy: 0.2382 - val_loss: 43.7398\n",
      "Epoch 28/60\n",
      "\u001b[1m412/412\u001b[0m \u001b[32m━━━━━━━━━━━━━━━━━━━━\u001b[0m\u001b[37m\u001b[0m \u001b[1m2s\u001b[0m 6ms/step - accuracy: 0.2797 - loss: 3.4335 - val_accuracy: 0.2385 - val_loss: 41.1788\n",
      "Epoch 29/60\n",
      "\u001b[1m412/412\u001b[0m \u001b[32m━━━━━━━━━━━━━━━━━━━━\u001b[0m\u001b[37m\u001b[0m \u001b[1m3s\u001b[0m 6ms/step - accuracy: 0.2826 - loss: 3.4291 - val_accuracy: 0.2394 - val_loss: 45.1105\n",
      "Epoch 30/60\n",
      "\u001b[1m412/412\u001b[0m \u001b[32m━━━━━━━━━━━━━━━━━━━━\u001b[0m\u001b[37m\u001b[0m \u001b[1m2s\u001b[0m 6ms/step - accuracy: 0.2829 - loss: 3.4334 - val_accuracy: 0.2367 - val_loss: 48.6352\n",
      "Epoch 31/60\n",
      "\u001b[1m412/412\u001b[0m \u001b[32m━━━━━━━━━━━━━━━━━━━━\u001b[0m\u001b[37m\u001b[0m \u001b[1m2s\u001b[0m 6ms/step - accuracy: 0.2875 - loss: 3.3787 - val_accuracy: 0.2391 - val_loss: 51.0867\n",
      "Epoch 32/60\n",
      "\u001b[1m412/412\u001b[0m \u001b[32m━━━━━━━━━━━━━━━━━━━━\u001b[0m\u001b[37m\u001b[0m \u001b[1m2s\u001b[0m 6ms/step - accuracy: 0.2896 - loss: 3.3523 - val_accuracy: 0.2400 - val_loss: 54.5906\n",
      "Epoch 33/60\n",
      "\u001b[1m412/412\u001b[0m \u001b[32m━━━━━━━━━━━━━━━━━━━━\u001b[0m\u001b[37m\u001b[0m \u001b[1m2s\u001b[0m 6ms/step - accuracy: 0.2909 - loss: 3.3795 - val_accuracy: 0.2373 - val_loss: 54.7885\n",
      "Epoch 34/60\n",
      "\u001b[1m412/412\u001b[0m \u001b[32m━━━━━━━━━━━━━━━━━━━━\u001b[0m\u001b[37m\u001b[0m \u001b[1m2s\u001b[0m 5ms/step - accuracy: 0.2904 - loss: 3.3973 - val_accuracy: 0.2406 - val_loss: 51.1530\n",
      "Epoch 35/60\n",
      "\u001b[1m412/412\u001b[0m \u001b[32m━━━━━━━━━━━━━━━━━━━━\u001b[0m\u001b[37m\u001b[0m \u001b[1m2s\u001b[0m 5ms/step - accuracy: 0.2860 - loss: 3.3843 - val_accuracy: 0.2406 - val_loss: 58.9022\n",
      "Epoch 36/60\n",
      "\u001b[1m412/412\u001b[0m \u001b[32m━━━━━━━━━━━━━━━━━━━━\u001b[0m\u001b[37m\u001b[0m \u001b[1m2s\u001b[0m 5ms/step - accuracy: 0.2927 - loss: 3.3789 - val_accuracy: 0.2415 - val_loss: 55.8447\n",
      "Epoch 37/60\n",
      "\u001b[1m412/412\u001b[0m \u001b[32m━━━━━━━━━━━━━━━━━━━━\u001b[0m\u001b[37m\u001b[0m \u001b[1m2s\u001b[0m 5ms/step - accuracy: 0.2933 - loss: 3.3963 - val_accuracy: 0.2421 - val_loss: 58.4009\n",
      "Epoch 38/60\n",
      "\u001b[1m412/412\u001b[0m \u001b[32m━━━━━━━━━━━━━━━━━━━━\u001b[0m\u001b[37m\u001b[0m \u001b[1m2s\u001b[0m 5ms/step - accuracy: 0.2949 - loss: 3.3743 - val_accuracy: 0.2370 - val_loss: 61.8920\n",
      "Epoch 39/60\n",
      "\u001b[1m412/412\u001b[0m \u001b[32m━━━━━━━━━━━━━━━━━━━━\u001b[0m\u001b[37m\u001b[0m \u001b[1m2s\u001b[0m 5ms/step - accuracy: 0.2925 - loss: 3.3748 - val_accuracy: 0.2409 - val_loss: 64.5516\n",
      "Epoch 40/60\n",
      "\u001b[1m412/412\u001b[0m \u001b[32m━━━━━━━━━━━━━━━━━━━━\u001b[0m\u001b[37m\u001b[0m \u001b[1m2s\u001b[0m 5ms/step - accuracy: 0.2908 - loss: 3.3683 - val_accuracy: 0.2424 - val_loss: 61.6531\n",
      "Epoch 41/60\n",
      "\u001b[1m412/412\u001b[0m \u001b[32m━━━━━━━━━━━━━━━━━━━━\u001b[0m\u001b[37m\u001b[0m \u001b[1m2s\u001b[0m 6ms/step - accuracy: 0.2948 - loss: 3.3318 - val_accuracy: 0.2382 - val_loss: 64.6604\n",
      "Epoch 42/60\n",
      "\u001b[1m412/412\u001b[0m \u001b[32m━━━━━━━━━━━━━━━━━━━━\u001b[0m\u001b[37m\u001b[0m \u001b[1m2s\u001b[0m 6ms/step - accuracy: 0.2967 - loss: 3.3402 - val_accuracy: 0.2400 - val_loss: 68.5279\n",
      "Epoch 43/60\n",
      "\u001b[1m412/412\u001b[0m \u001b[32m━━━━━━━━━━━━━━━━━━━━\u001b[0m\u001b[37m\u001b[0m \u001b[1m2s\u001b[0m 6ms/step - accuracy: 0.2913 - loss: 3.3523 - val_accuracy: 0.2379 - val_loss: 67.9652\n",
      "Epoch 44/60\n",
      "\u001b[1m412/412\u001b[0m \u001b[32m━━━━━━━━━━━━━━━━━━━━\u001b[0m\u001b[37m\u001b[0m \u001b[1m2s\u001b[0m 6ms/step - accuracy: 0.2902 - loss: 3.3923 - val_accuracy: 0.2394 - val_loss: 75.6529\n",
      "Epoch 45/60\n",
      "\u001b[1m412/412\u001b[0m \u001b[32m━━━━━━━━━━━━━━━━━━━━\u001b[0m\u001b[37m\u001b[0m \u001b[1m2s\u001b[0m 6ms/step - accuracy: 0.2932 - loss: 3.3602 - val_accuracy: 0.2394 - val_loss: 59.5843\n",
      "Epoch 46/60\n",
      "\u001b[1m412/412\u001b[0m \u001b[32m━━━━━━━━━━━━━━━━━━━━\u001b[0m\u001b[37m\u001b[0m \u001b[1m2s\u001b[0m 5ms/step - accuracy: 0.2871 - loss: 3.4102 - val_accuracy: 0.2388 - val_loss: 44.4237\n",
      "Epoch 47/60\n",
      "\u001b[1m412/412\u001b[0m \u001b[32m━━━━━━━━━━━━━━━━━━━━\u001b[0m\u001b[37m\u001b[0m \u001b[1m2s\u001b[0m 5ms/step - accuracy: 0.2874 - loss: 3.3886 - val_accuracy: 0.2406 - val_loss: 44.9367\n",
      "Epoch 48/60\n",
      "\u001b[1m412/412\u001b[0m \u001b[32m━━━━━━━━━━━━━━━━━━━━\u001b[0m\u001b[37m\u001b[0m \u001b[1m2s\u001b[0m 6ms/step - accuracy: 0.2866 - loss: 3.4081 - val_accuracy: 0.2406 - val_loss: 48.1052\n",
      "Epoch 49/60\n",
      "\u001b[1m412/412\u001b[0m \u001b[32m━━━━━━━━━━━━━━━━━━━━\u001b[0m\u001b[37m\u001b[0m \u001b[1m2s\u001b[0m 5ms/step - accuracy: 0.2899 - loss: 3.3486 - val_accuracy: 0.2388 - val_loss: 51.5620\n",
      "Epoch 50/60\n",
      "\u001b[1m412/412\u001b[0m \u001b[32m━━━━━━━━━━━━━━━━━━━━\u001b[0m\u001b[37m\u001b[0m \u001b[1m2s\u001b[0m 5ms/step - accuracy: 0.2926 - loss: 3.3825 - val_accuracy: 0.2412 - val_loss: 52.9812\n",
      "Epoch 51/60\n",
      "\u001b[1m412/412\u001b[0m \u001b[32m━━━━━━━━━━━━━━━━━━━━\u001b[0m\u001b[37m\u001b[0m \u001b[1m2s\u001b[0m 6ms/step - accuracy: 0.2893 - loss: 3.3772 - val_accuracy: 0.2427 - val_loss: 54.1693\n",
      "Epoch 52/60\n",
      "\u001b[1m412/412\u001b[0m \u001b[32m━━━━━━━━━━━━━━━━━━━━\u001b[0m\u001b[37m\u001b[0m \u001b[1m2s\u001b[0m 6ms/step - accuracy: 0.2933 - loss: 3.3746 - val_accuracy: 0.2394 - val_loss: 56.5402\n",
      "Epoch 53/60\n",
      "\u001b[1m412/412\u001b[0m \u001b[32m━━━━━━━━━━━━━━━━━━━━\u001b[0m\u001b[37m\u001b[0m \u001b[1m2s\u001b[0m 5ms/step - accuracy: 0.2959 - loss: 3.3569 - val_accuracy: 0.2391 - val_loss: 59.9769\n",
      "Epoch 54/60\n",
      "\u001b[1m412/412\u001b[0m \u001b[32m━━━━━━━━━━━━━━━━━━━━\u001b[0m\u001b[37m\u001b[0m \u001b[1m2s\u001b[0m 6ms/step - accuracy: 0.2959 - loss: 3.3576 - val_accuracy: 0.2385 - val_loss: 66.2992\n",
      "Epoch 55/60\n",
      "\u001b[1m412/412\u001b[0m \u001b[32m━━━━━━━━━━━━━━━━━━━━\u001b[0m\u001b[37m\u001b[0m \u001b[1m2s\u001b[0m 5ms/step - accuracy: 0.2918 - loss: 3.3835 - val_accuracy: 0.2397 - val_loss: 65.3742\n",
      "Epoch 56/60\n",
      "\u001b[1m412/412\u001b[0m \u001b[32m━━━━━━━━━━━━━━━━━━━━\u001b[0m\u001b[37m\u001b[0m \u001b[1m2s\u001b[0m 5ms/step - accuracy: 0.2948 - loss: 3.3931 - val_accuracy: 0.2382 - val_loss: 52.1186\n",
      "Epoch 57/60\n",
      "\u001b[1m412/412\u001b[0m \u001b[32m━━━━━━━━━━━━━━━━━━━━\u001b[0m\u001b[37m\u001b[0m \u001b[1m2s\u001b[0m 5ms/step - accuracy: 0.2948 - loss: 3.3741 - val_accuracy: 0.2382 - val_loss: 57.2492\n",
      "Epoch 58/60\n",
      "\u001b[1m412/412\u001b[0m \u001b[32m━━━━━━━━━━━━━━━━━━━━\u001b[0m\u001b[37m\u001b[0m \u001b[1m2s\u001b[0m 6ms/step - accuracy: 0.2904 - loss: 3.3658 - val_accuracy: 0.2388 - val_loss: 64.2904\n",
      "Epoch 59/60\n",
      "\u001b[1m412/412\u001b[0m \u001b[32m━━━━━━━━━━━━━━━━━━━━\u001b[0m\u001b[37m\u001b[0m \u001b[1m2s\u001b[0m 5ms/step - accuracy: 0.3003 - loss: 3.3344 - val_accuracy: 0.2382 - val_loss: 71.5632\n",
      "Epoch 60/60\n",
      "\u001b[1m412/412\u001b[0m \u001b[32m━━━━━━━━━━━━━━━━━━━━\u001b[0m\u001b[37m\u001b[0m \u001b[1m2s\u001b[0m 5ms/step - accuracy: 0.2966 - loss: 3.3325 - val_accuracy: 0.2391 - val_loss: 69.1488\n"
     ]
    },
    {
     "data": {
      "text/plain": [
       "<keras.src.callbacks.history.History at 0x7f713cf036d0>"
      ]
     },
     "execution_count": 98,
     "metadata": {},
     "output_type": "execute_result"
    }
   ],
   "source": [
    "scaler = StandardScaler()\n",
    "x_train = scaler.fit_transform(x_train)\n",
    "x_test = scaler.transform(x_test)\n",
    "\n",
    "\n",
    "# Creating the neural network model\n",
    "model = keras.Sequential([\n",
    "    layers.Dense(32, activation='relu'),\n",
    "    Dropout(0.5),\n",
    "    layers.Dense(32, activation='relu'),\n",
    "    Dropout(0.5),\n",
    "    layers.Dense(y_encoded.shape[1], activation='softmax')\n",
    "])\n",
    "\n",
    "# Compiling the model\n",
    "model.compile(\n",
    "    optimizer='adam',\n",
    "    loss='categorical_crossentropy',\n",
    "    metrics=['accuracy'])\n",
    "\n",
    "# # Early stopping callback\n",
    "# early_stopping = EarlyStopping(patience=20, restore_best_weights=True)\n",
    "\n",
    "# Training the model\n",
    "epochs = 60\n",
    "batch_size = 32\n",
    "model.fit(x_train, y_train_encoded, epochs=epochs, batch_size=batch_size, validation_split=0.2)\n",
    "\n",
    "# # Evaluating the model on the test set\n",
    "# test_loss, test_accuracy = model.evaluate(x_test, y_test_encoded)\n",
    "# print(f\"Test Accuracy: {test_accuracy}\")"
   ]
  },
  {
   "cell_type": "code",
   "execution_count": 99,
   "id": "e4d31862-1e40-4648-983f-af29b5e642d9",
   "metadata": {
    "tags": []
   },
   "outputs": [
    {
     "data": {
      "text/html": [
       "<pre style=\"white-space:pre;overflow-x:auto;line-height:normal;font-family:Menlo,'DejaVu Sans Mono',consolas,'Courier New',monospace\"><span style=\"font-weight: bold\">Model: \"sequential\"</span>\n",
       "</pre>\n"
      ],
      "text/plain": [
       "\u001b[1mModel: \"sequential\"\u001b[0m\n"
      ]
     },
     "metadata": {},
     "output_type": "display_data"
    },
    {
     "data": {
      "text/html": [
       "<pre style=\"white-space:pre;overflow-x:auto;line-height:normal;font-family:Menlo,'DejaVu Sans Mono',consolas,'Courier New',monospace\">┏━━━━━━━━━━━━━━━━━━━━━━━━━━━━━━━━━┳━━━━━━━━━━━━━━━━━━━━━━━━┳━━━━━━━━━━━━━━━┓\n",
       "┃<span style=\"font-weight: bold\"> Layer (type)                    </span>┃<span style=\"font-weight: bold\"> Output Shape           </span>┃<span style=\"font-weight: bold\">       Param # </span>┃\n",
       "┡━━━━━━━━━━━━━━━━━━━━━━━━━━━━━━━━━╇━━━━━━━━━━━━━━━━━━━━━━━━╇━━━━━━━━━━━━━━━┩\n",
       "│ dense (<span style=\"color: #0087ff; text-decoration-color: #0087ff\">Dense</span>)                   │ (<span style=\"color: #00d7ff; text-decoration-color: #00d7ff\">None</span>, <span style=\"color: #00af00; text-decoration-color: #00af00\">32</span>)             │       <span style=\"color: #00af00; text-decoration-color: #00af00\">390,464</span> │\n",
       "├─────────────────────────────────┼────────────────────────┼───────────────┤\n",
       "│ dropout (<span style=\"color: #0087ff; text-decoration-color: #0087ff\">Dropout</span>)               │ (<span style=\"color: #00d7ff; text-decoration-color: #00d7ff\">None</span>, <span style=\"color: #00af00; text-decoration-color: #00af00\">32</span>)             │             <span style=\"color: #00af00; text-decoration-color: #00af00\">0</span> │\n",
       "├─────────────────────────────────┼────────────────────────┼───────────────┤\n",
       "│ dense_1 (<span style=\"color: #0087ff; text-decoration-color: #0087ff\">Dense</span>)                 │ (<span style=\"color: #00d7ff; text-decoration-color: #00d7ff\">None</span>, <span style=\"color: #00af00; text-decoration-color: #00af00\">32</span>)             │         <span style=\"color: #00af00; text-decoration-color: #00af00\">1,056</span> │\n",
       "├─────────────────────────────────┼────────────────────────┼───────────────┤\n",
       "│ dropout_1 (<span style=\"color: #0087ff; text-decoration-color: #0087ff\">Dropout</span>)             │ (<span style=\"color: #00d7ff; text-decoration-color: #00d7ff\">None</span>, <span style=\"color: #00af00; text-decoration-color: #00af00\">32</span>)             │             <span style=\"color: #00af00; text-decoration-color: #00af00\">0</span> │\n",
       "├─────────────────────────────────┼────────────────────────┼───────────────┤\n",
       "│ dense_2 (<span style=\"color: #0087ff; text-decoration-color: #0087ff\">Dense</span>)                 │ (<span style=\"color: #00d7ff; text-decoration-color: #00d7ff\">None</span>, <span style=\"color: #00af00; text-decoration-color: #00af00\">380</span>)            │        <span style=\"color: #00af00; text-decoration-color: #00af00\">12,540</span> │\n",
       "└─────────────────────────────────┴────────────────────────┴───────────────┘\n",
       "</pre>\n"
      ],
      "text/plain": [
       "┏━━━━━━━━━━━━━━━━━━━━━━━━━━━━━━━━━┳━━━━━━━━━━━━━━━━━━━━━━━━┳━━━━━━━━━━━━━━━┓\n",
       "┃\u001b[1m \u001b[0m\u001b[1mLayer (type)                   \u001b[0m\u001b[1m \u001b[0m┃\u001b[1m \u001b[0m\u001b[1mOutput Shape          \u001b[0m\u001b[1m \u001b[0m┃\u001b[1m \u001b[0m\u001b[1m      Param #\u001b[0m\u001b[1m \u001b[0m┃\n",
       "┡━━━━━━━━━━━━━━━━━━━━━━━━━━━━━━━━━╇━━━━━━━━━━━━━━━━━━━━━━━━╇━━━━━━━━━━━━━━━┩\n",
       "│ dense (\u001b[38;5;33mDense\u001b[0m)                   │ (\u001b[38;5;45mNone\u001b[0m, \u001b[38;5;34m32\u001b[0m)             │       \u001b[38;5;34m390,464\u001b[0m │\n",
       "├─────────────────────────────────┼────────────────────────┼───────────────┤\n",
       "│ dropout (\u001b[38;5;33mDropout\u001b[0m)               │ (\u001b[38;5;45mNone\u001b[0m, \u001b[38;5;34m32\u001b[0m)             │             \u001b[38;5;34m0\u001b[0m │\n",
       "├─────────────────────────────────┼────────────────────────┼───────────────┤\n",
       "│ dense_1 (\u001b[38;5;33mDense\u001b[0m)                 │ (\u001b[38;5;45mNone\u001b[0m, \u001b[38;5;34m32\u001b[0m)             │         \u001b[38;5;34m1,056\u001b[0m │\n",
       "├─────────────────────────────────┼────────────────────────┼───────────────┤\n",
       "│ dropout_1 (\u001b[38;5;33mDropout\u001b[0m)             │ (\u001b[38;5;45mNone\u001b[0m, \u001b[38;5;34m32\u001b[0m)             │             \u001b[38;5;34m0\u001b[0m │\n",
       "├─────────────────────────────────┼────────────────────────┼───────────────┤\n",
       "│ dense_2 (\u001b[38;5;33mDense\u001b[0m)                 │ (\u001b[38;5;45mNone\u001b[0m, \u001b[38;5;34m380\u001b[0m)            │        \u001b[38;5;34m12,540\u001b[0m │\n",
       "└─────────────────────────────────┴────────────────────────┴───────────────┘\n"
      ]
     },
     "metadata": {},
     "output_type": "display_data"
    },
    {
     "data": {
      "text/html": [
       "<pre style=\"white-space:pre;overflow-x:auto;line-height:normal;font-family:Menlo,'DejaVu Sans Mono',consolas,'Courier New',monospace\"><span style=\"font-weight: bold\"> Total params: </span><span style=\"color: #00af00; text-decoration-color: #00af00\">1,212,182</span> (4.62 MB)\n",
       "</pre>\n"
      ],
      "text/plain": [
       "\u001b[1m Total params: \u001b[0m\u001b[38;5;34m1,212,182\u001b[0m (4.62 MB)\n"
      ]
     },
     "metadata": {},
     "output_type": "display_data"
    },
    {
     "data": {
      "text/html": [
       "<pre style=\"white-space:pre;overflow-x:auto;line-height:normal;font-family:Menlo,'DejaVu Sans Mono',consolas,'Courier New',monospace\"><span style=\"font-weight: bold\"> Trainable params: </span><span style=\"color: #00af00; text-decoration-color: #00af00\">404,060</span> (1.54 MB)\n",
       "</pre>\n"
      ],
      "text/plain": [
       "\u001b[1m Trainable params: \u001b[0m\u001b[38;5;34m404,060\u001b[0m (1.54 MB)\n"
      ]
     },
     "metadata": {},
     "output_type": "display_data"
    },
    {
     "data": {
      "text/html": [
       "<pre style=\"white-space:pre;overflow-x:auto;line-height:normal;font-family:Menlo,'DejaVu Sans Mono',consolas,'Courier New',monospace\"><span style=\"font-weight: bold\"> Non-trainable params: </span><span style=\"color: #00af00; text-decoration-color: #00af00\">0</span> (0.00 B)\n",
       "</pre>\n"
      ],
      "text/plain": [
       "\u001b[1m Non-trainable params: \u001b[0m\u001b[38;5;34m0\u001b[0m (0.00 B)\n"
      ]
     },
     "metadata": {},
     "output_type": "display_data"
    },
    {
     "data": {
      "text/html": [
       "<pre style=\"white-space:pre;overflow-x:auto;line-height:normal;font-family:Menlo,'DejaVu Sans Mono',consolas,'Courier New',monospace\"><span style=\"font-weight: bold\"> Optimizer params: </span><span style=\"color: #00af00; text-decoration-color: #00af00\">808,122</span> (3.08 MB)\n",
       "</pre>\n"
      ],
      "text/plain": [
       "\u001b[1m Optimizer params: \u001b[0m\u001b[38;5;34m808,122\u001b[0m (3.08 MB)\n"
      ]
     },
     "metadata": {},
     "output_type": "display_data"
    }
   ],
   "source": [
    "model.summary()"
   ]
  },
  {
   "cell_type": "markdown",
   "id": "4c1ec352-d3e0-4af0-9437-38e25360f12f",
   "metadata": {},
   "source": [
    "<br></br>\n",
    "#### <b>3.5.4. Calculate recommendation accuracy</b>"
   ]
  },
  {
   "cell_type": "code",
   "execution_count": 102,
   "id": "9c132711-5f36-40cf-a56b-fe5c73a828b5",
   "metadata": {
    "tags": []
   },
   "outputs": [
    {
     "name": "stdout",
     "output_type": "stream",
     "text": [
      "\u001b[1m120/129\u001b[0m \u001b[32m━━━━━━━━━━━━━━━━━━\u001b[0m\u001b[37m━━\u001b[0m \u001b[1m0s\u001b[0m 1ms/step"
     ]
    },
    {
     "name": "stderr",
     "output_type": "stream",
     "text": [
      "2024-06-28 15:49:04.256113: W external/local_tsl/tsl/framework/cpu_allocator_impl.cc:83] Allocation of 201072480 exceeds 10% of free system memory.\n"
     ]
    },
    {
     "name": "stdout",
     "output_type": "stream",
     "text": [
      "\u001b[1m129/129\u001b[0m \u001b[32m━━━━━━━━━━━━━━━━━━━━\u001b[0m\u001b[37m\u001b[0m \u001b[1m0s\u001b[0m 1ms/step\n",
      "Accuracy based on recommending top five classes: 0.4303398058252427\n"
     ]
    }
   ],
   "source": [
    "def get_top_n_classes(probs, n):\n",
    "    top_n_indices = np.argsort(probs)[-n:]\n",
    "    return top_n_indices\n",
    "\n",
    "\n",
    "# Make predictions on the test set\n",
    "predictions = model.predict(x_test)\n",
    "\n",
    "# Initialize variables for accuracy calculation\n",
    "num_correct = 0\n",
    "total_samples = len(x_test)\n",
    "\n",
    "# Evaluate accuracy based on recommending the top five classes\n",
    "for i in range(total_samples):\n",
    "    true_class = y_test[i]\n",
    "    predicted_probs = predictions[i]\n",
    "    top_classes = get_top_n_classes(predicted_probs, n=5)\n",
    "    if true_class in top_classes:\n",
    "        num_correct += 1\n",
    "\n",
    "# Calculate and print the accuracy\n",
    "accuracy = num_correct / total_samples\n",
    "print(f\"Accuracy based on recommending top five classes: {accuracy}\")"
   ]
  },
  {
   "cell_type": "code",
   "execution_count": 27,
   "id": "6b47093c-fb78-4264-b78e-4adedbd2092e",
   "metadata": {},
   "outputs": [
    {
     "data": {
      "text/plain": [
       "0"
      ]
     },
     "execution_count": 27,
     "metadata": {},
     "output_type": "execute_result"
    }
   ],
   "source": [
    "true_class"
   ]
  },
  {
   "cell_type": "code",
   "execution_count": 28,
   "id": "583d4d96-8a76-40e6-a3d9-c00d32152852",
   "metadata": {
    "tags": []
   },
   "outputs": [
    {
     "data": {
      "text/plain": [
       "array([102,   2,  15, 168,   1])"
      ]
     },
     "execution_count": 28,
     "metadata": {},
     "output_type": "execute_result"
    }
   ],
   "source": [
    "top_classes"
   ]
  },
  {
   "cell_type": "code",
   "execution_count": null,
   "id": "d3b27da4-304e-4ef8-84fe-01805cc7aeaf",
   "metadata": {},
   "outputs": [],
   "source": []
  }
 ],
 "metadata": {
  "kernelspec": {
   "display_name": "Python 3 (ipykernel)",
   "language": "python",
   "name": "python3"
  },
  "language_info": {
   "codemirror_mode": {
    "name": "ipython",
    "version": 3
   },
   "file_extension": ".py",
   "mimetype": "text/x-python",
   "name": "python",
   "nbconvert_exporter": "python",
   "pygments_lexer": "ipython3",
   "version": "3.10.14"
  }
 },
 "nbformat": 4,
 "nbformat_minor": 5
}
